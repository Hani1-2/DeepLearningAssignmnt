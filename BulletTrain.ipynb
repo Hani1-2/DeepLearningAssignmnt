{
  "nbformat": 4,
  "nbformat_minor": 0,
  "metadata": {
    "colab": {
      "name": "BulletTrain.ipynb",
      "provenance": [],
      "collapsed_sections": [],
      "authorship_tag": "ABX9TyNk/FqdxH473r1ZGQEvfkao",
      "include_colab_link": true
    },
    "kernelspec": {
      "name": "python3",
      "display_name": "Python 3"
    },
    "language_info": {
      "name": "python"
    }
  },
  "cells": [
    {
      "cell_type": "markdown",
      "metadata": {
        "id": "view-in-github",
        "colab_type": "text"
      },
      "source": [
        "<a href=\"https://colab.research.google.com/github/Hani1-2/DeepLearningAssignmnt/blob/master/BulletTrain.ipynb\" target=\"_parent\"><img src=\"https://colab.research.google.com/assets/colab-badge.svg\" alt=\"Open In Colab\"/></a>"
      ]
    },
    {
      "cell_type": "code",
      "metadata": {
        "id": "d4_qoSMdiXXX"
      },
      "source": [
        "# Importing the libraries\n",
        "%matplotlib inline\n",
        "import numpy as np\n",
        "import matplotlib.pyplot as plt\n",
        "import pandas as pd\n",
        "from sklearn.compose import ColumnTransformer\n",
        "import tensorflow as tf\n",
        "from sklearn.linear_model import SGDClassifier\n",
        "from tensorflow.keras import models, layers, optimizers\n",
        "from tensorflow.keras.layers import Flatten, Dense, Dropout, BatchNormalization\n",
        "from tensorflow.keras.layers import Conv1D, MaxPool1D\n",
        "from sklearn.linear_model import LogisticRegression\n",
        "from sklearn.svm import SVC\n",
        "from sklearn.ensemble import RandomForestClassifier, VotingClassifier\n",
        "from sklearn.neighbors import KNeighborsClassifier"
      ],
      "execution_count": null,
      "outputs": []
    },
    {
      "cell_type": "code",
      "metadata": {
        "colab": {
          "resources": {
            "http://localhost:8080/nbextensions/google.colab/files.js": {
              "data": "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",
              "ok": true,
              "headers": [
                [
                  "content-type",
                  "application/javascript"
                ]
              ],
              "status": 200,
              "status_text": ""
            }
          },
          "base_uri": "https://localhost:8080/",
          "height": 73
        },
        "id": "xd93dq9fsjjl",
        "outputId": "66f85b99-8a1d-41ea-8fe7-148de6fbe76c"
      },
      "source": [
        "import io\n",
        "from google.colab import files\n",
        "uploaded = files.upload()"
      ],
      "execution_count": null,
      "outputs": [
        {
          "output_type": "display_data",
          "data": {
            "text/html": [
              "\n",
              "     <input type=\"file\" id=\"files-53af4aae-9ace-40d9-a652-33724a9895b1\" name=\"files[]\" multiple disabled\n",
              "        style=\"border:none\" />\n",
              "     <output id=\"result-53af4aae-9ace-40d9-a652-33724a9895b1\">\n",
              "      Upload widget is only available when the cell has been executed in the\n",
              "      current browser session. Please rerun this cell to enable.\n",
              "      </output>\n",
              "      <script src=\"/nbextensions/google.colab/files.js\"></script> "
            ],
            "text/plain": [
              "<IPython.core.display.HTML object>"
            ]
          },
          "metadata": {
            "tags": []
          }
        },
        {
          "output_type": "stream",
          "text": [
            "Saving bullet_train.csv to bullet_train (1).csv\n"
          ],
          "name": "stdout"
        }
      ]
    },
    {
      "cell_type": "code",
      "metadata": {
        "colab": {
          "base_uri": "https://localhost:8080/",
          "height": 340
        },
        "id": "y7Ergj-Es7fg",
        "outputId": "ad3792dd-56c1-42a0-b4b0-c9704538afe3"
      },
      "source": [
        "bullet = pd.read_csv(io.BytesIO(uploaded['bullet_train.csv']))\n",
        "bullet.head(10)"
      ],
      "execution_count": null,
      "outputs": [
        {
          "output_type": "execute_result",
          "data": {
            "text/html": [
              "<div>\n",
              "<style scoped>\n",
              "    .dataframe tbody tr th:only-of-type {\n",
              "        vertical-align: middle;\n",
              "    }\n",
              "\n",
              "    .dataframe tbody tr th {\n",
              "        vertical-align: top;\n",
              "    }\n",
              "\n",
              "    .dataframe thead th {\n",
              "        text-align: right;\n",
              "    }\n",
              "</style>\n",
              "<table border=\"1\" class=\"dataframe\">\n",
              "  <thead>\n",
              "    <tr style=\"text-align: right;\">\n",
              "      <th></th>\n",
              "      <th>Survived</th>\n",
              "      <th>Pclass</th>\n",
              "      <th>Sex</th>\n",
              "      <th>Age</th>\n",
              "      <th>SibSp</th>\n",
              "      <th>Fare</th>\n",
              "    </tr>\n",
              "  </thead>\n",
              "  <tbody>\n",
              "    <tr>\n",
              "      <th>0</th>\n",
              "      <td>0</td>\n",
              "      <td>3rd</td>\n",
              "      <td>male</td>\n",
              "      <td>22.0</td>\n",
              "      <td>1</td>\n",
              "      <td>7.2500</td>\n",
              "    </tr>\n",
              "    <tr>\n",
              "      <th>1</th>\n",
              "      <td>1</td>\n",
              "      <td>1st</td>\n",
              "      <td>female</td>\n",
              "      <td>38.0</td>\n",
              "      <td>1</td>\n",
              "      <td>71.2833</td>\n",
              "    </tr>\n",
              "    <tr>\n",
              "      <th>2</th>\n",
              "      <td>1</td>\n",
              "      <td>3rd</td>\n",
              "      <td>female</td>\n",
              "      <td>26.0</td>\n",
              "      <td>0</td>\n",
              "      <td>7.9250</td>\n",
              "    </tr>\n",
              "    <tr>\n",
              "      <th>3</th>\n",
              "      <td>1</td>\n",
              "      <td>1st</td>\n",
              "      <td>female</td>\n",
              "      <td>35.0</td>\n",
              "      <td>1</td>\n",
              "      <td>53.1000</td>\n",
              "    </tr>\n",
              "    <tr>\n",
              "      <th>4</th>\n",
              "      <td>0</td>\n",
              "      <td>3rd</td>\n",
              "      <td>male</td>\n",
              "      <td>35.0</td>\n",
              "      <td>0</td>\n",
              "      <td>8.0500</td>\n",
              "    </tr>\n",
              "    <tr>\n",
              "      <th>5</th>\n",
              "      <td>0</td>\n",
              "      <td>3rd</td>\n",
              "      <td>male</td>\n",
              "      <td>NaN</td>\n",
              "      <td>0</td>\n",
              "      <td>8.4583</td>\n",
              "    </tr>\n",
              "    <tr>\n",
              "      <th>6</th>\n",
              "      <td>0</td>\n",
              "      <td>1st</td>\n",
              "      <td>male</td>\n",
              "      <td>54.0</td>\n",
              "      <td>0</td>\n",
              "      <td>51.8625</td>\n",
              "    </tr>\n",
              "    <tr>\n",
              "      <th>7</th>\n",
              "      <td>0</td>\n",
              "      <td>3rd</td>\n",
              "      <td>male</td>\n",
              "      <td>2.0</td>\n",
              "      <td>3</td>\n",
              "      <td>21.0750</td>\n",
              "    </tr>\n",
              "    <tr>\n",
              "      <th>8</th>\n",
              "      <td>1</td>\n",
              "      <td>3rd</td>\n",
              "      <td>female</td>\n",
              "      <td>27.0</td>\n",
              "      <td>0</td>\n",
              "      <td>11.1333</td>\n",
              "    </tr>\n",
              "    <tr>\n",
              "      <th>9</th>\n",
              "      <td>1</td>\n",
              "      <td>2nd</td>\n",
              "      <td>female</td>\n",
              "      <td>14.0</td>\n",
              "      <td>1</td>\n",
              "      <td>30.0708</td>\n",
              "    </tr>\n",
              "  </tbody>\n",
              "</table>\n",
              "</div>"
            ],
            "text/plain": [
              "   Survived Pclass     Sex   Age  SibSp     Fare\n",
              "0         0    3rd    male  22.0      1   7.2500\n",
              "1         1    1st  female  38.0      1  71.2833\n",
              "2         1    3rd  female  26.0      0   7.9250\n",
              "3         1    1st  female  35.0      1  53.1000\n",
              "4         0    3rd    male  35.0      0   8.0500\n",
              "5         0    3rd    male   NaN      0   8.4583\n",
              "6         0    1st    male  54.0      0  51.8625\n",
              "7         0    3rd    male   2.0      3  21.0750\n",
              "8         1    3rd  female  27.0      0  11.1333\n",
              "9         1    2nd  female  14.0      1  30.0708"
            ]
          },
          "metadata": {
            "tags": []
          },
          "execution_count": 103
        }
      ]
    },
    {
      "cell_type": "code",
      "metadata": {
        "colab": {
          "base_uri": "https://localhost:8080/"
        },
        "id": "3a7W3z2otFWm",
        "outputId": "56510321-c5d1-4e25-93e3-8c3233b86747"
      },
      "source": [
        "bullet.shape"
      ],
      "execution_count": null,
      "outputs": [
        {
          "output_type": "execute_result",
          "data": {
            "text/plain": [
              "(891, 6)"
            ]
          },
          "metadata": {
            "tags": []
          },
          "execution_count": 104
        }
      ]
    },
    {
      "cell_type": "markdown",
      "metadata": {
        "id": "QVYubkQbtZv2"
      },
      "source": [
        "# Checking Missing Values"
      ]
    },
    {
      "cell_type": "code",
      "metadata": {
        "colab": {
          "base_uri": "https://localhost:8080/"
        },
        "id": "rk6eGFyxtYDm",
        "outputId": "3b46fc1e-d960-4f32-e074-d6508c40f27c"
      },
      "source": [
        "bullet.isna().sum()"
      ],
      "execution_count": null,
      "outputs": [
        {
          "output_type": "execute_result",
          "data": {
            "text/plain": [
              "Survived      0\n",
              "Pclass        0\n",
              "Sex           0\n",
              "Age         177\n",
              "SibSp         0\n",
              "Fare          0\n",
              "dtype: int64"
            ]
          },
          "metadata": {
            "tags": []
          },
          "execution_count": 105
        }
      ]
    },
    {
      "cell_type": "code",
      "metadata": {
        "colab": {
          "base_uri": "https://localhost:8080/"
        },
        "id": "1wJ2W-BEtPch",
        "outputId": "2120b623-0b20-4c99-9204-c2777794d743"
      },
      "source": [
        "bullet.info()"
      ],
      "execution_count": null,
      "outputs": [
        {
          "output_type": "stream",
          "text": [
            "<class 'pandas.core.frame.DataFrame'>\n",
            "RangeIndex: 891 entries, 0 to 890\n",
            "Data columns (total 6 columns):\n",
            " #   Column    Non-Null Count  Dtype  \n",
            "---  ------    --------------  -----  \n",
            " 0   Survived  891 non-null    int64  \n",
            " 1   Pclass    891 non-null    object \n",
            " 2   Sex       891 non-null    object \n",
            " 3   Age       714 non-null    float64\n",
            " 4   SibSp     891 non-null    int64  \n",
            " 5   Fare      891 non-null    float64\n",
            "dtypes: float64(2), int64(2), object(2)\n",
            "memory usage: 41.9+ KB\n"
          ],
          "name": "stdout"
        }
      ]
    },
    {
      "cell_type": "code",
      "metadata": {
        "colab": {
          "base_uri": "https://localhost:8080/"
        },
        "id": "pBEfKDNUt-sj",
        "outputId": "aa824be4-7400-4826-9bc5-17b7551fcda5"
      },
      "source": [
        "x=np.mean(bullet['Age'])\n",
        "x"
      ],
      "execution_count": null,
      "outputs": [
        {
          "output_type": "execute_result",
          "data": {
            "text/plain": [
              "29.69911764705882"
            ]
          },
          "metadata": {
            "tags": []
          },
          "execution_count": 107
        }
      ]
    },
    {
      "cell_type": "code",
      "metadata": {
        "id": "n6iAqKSYw_y0"
      },
      "source": [
        "bullet.fillna(value=x,axis=1,inplace=True)"
      ],
      "execution_count": null,
      "outputs": []
    },
    {
      "cell_type": "markdown",
      "metadata": {
        "id": "qVrqajBXxv8U"
      },
      "source": [
        "# Convert Categorical Data"
      ]
    },
    {
      "cell_type": "code",
      "metadata": {
        "id": "jh_doJAcxWQ3"
      },
      "source": [
        "from sklearn.preprocessing import LabelEncoder\n",
        "labelencoder = LabelEncoder()\n",
        "bullet['Pclass'] = labelencoder.fit_transform(bullet['Pclass'])\n",
        "bullet['Sex'] = labelencoder.fit_transform(bullet['Sex'])"
      ],
      "execution_count": null,
      "outputs": []
    },
    {
      "cell_type": "markdown",
      "metadata": {
        "id": "A24JaZ8Gy-0N"
      },
      "source": [
        "# Splitting the dataset "
      ]
    },
    {
      "cell_type": "code",
      "metadata": {
        "id": "WQ1BakjtzL6S"
      },
      "source": [
        "X = bullet.drop('Survived',axis=1).values\n",
        "y = bullet['Survived'].values"
      ],
      "execution_count": null,
      "outputs": []
    },
    {
      "cell_type": "code",
      "metadata": {
        "id": "pWeLPE9py09N"
      },
      "source": [
        "# Splitting the dataset into the Training set and Test set\n",
        "from sklearn.model_selection import train_test_split\n",
        "X_train, X_test, y_train, y_test = train_test_split(X, y, test_size = 0.3, random_state = 0)"
      ],
      "execution_count": null,
      "outputs": []
    },
    {
      "cell_type": "markdown",
      "metadata": {
        "id": "tZ1Rz4KDzzSB"
      },
      "source": [
        "# By Using Gradient Descent Classifier\n",
        "(We did'nt get much accuracy)"
      ]
    },
    {
      "cell_type": "code",
      "metadata": {
        "colab": {
          "base_uri": "https://localhost:8080/"
        },
        "id": "scZ_MTTGxiyj",
        "outputId": "2c909f47-ec45-4c84-9f21-a704395bcaa4"
      },
      "source": [
        "sgd = SGDClassifier(max_iter=5, tol=None)\n",
        "sgd.fit(X_train, y_train)\n",
        "Y_pred = sgd.predict(X_test)\n",
        "\n",
        "sc = sgd.score(X_train, y_train)\n",
        "\n",
        "acc_sgd = round(sgd.score(X_train, y_train) * 100, 2)\n",
        "acc_sgd"
      ],
      "execution_count": null,
      "outputs": [
        {
          "output_type": "execute_result",
          "data": {
            "text/plain": [
              "60.03"
            ]
          },
          "metadata": {
            "tags": []
          },
          "execution_count": 112
        }
      ]
    },
    {
      "cell_type": "markdown",
      "metadata": {
        "id": "Im-F0ifO0DMa"
      },
      "source": [
        "# By Using Random Forest Classifier\n",
        "We get good accuracy using random forest classifier"
      ]
    },
    {
      "cell_type": "code",
      "metadata": {
        "id": "pFE0gvxTxnc-"
      },
      "source": [
        "random_forest = RandomForestClassifier(n_estimators=100)\n",
        "random_forest.fit(X_train, y_train)\n",
        "\n",
        "Y_prediction = random_forest.predict(X_test)\n",
        "\n",
        "random_forest.score(X_train, y_train)\n",
        "acc_random_forest = round(random_forest.score(X_train, y_train) * 100, 2)"
      ],
      "execution_count": null,
      "outputs": []
    },
    {
      "cell_type": "code",
      "metadata": {
        "colab": {
          "base_uri": "https://localhost:8080/"
        },
        "id": "fKEBGUtNy2zo",
        "outputId": "a9b8f9b8-7d95-407c-cb4d-0158643d133f"
      },
      "source": [
        "acc_random_forest"
      ],
      "execution_count": null,
      "outputs": [
        {
          "output_type": "execute_result",
          "data": {
            "text/plain": [
              "97.91"
            ]
          },
          "metadata": {
            "tags": []
          },
          "execution_count": 98
        }
      ]
    },
    {
      "cell_type": "code",
      "metadata": {
        "id": "yLkALBZVzTGq"
      },
      "source": [
        "acc_random_forest_test = round(random_forest.score(X_test, y_test) * 100, 2)"
      ],
      "execution_count": null,
      "outputs": []
    },
    {
      "cell_type": "code",
      "metadata": {
        "colab": {
          "base_uri": "https://localhost:8080/"
        },
        "id": "akaqX9-xzbNR",
        "outputId": "490d5817-60f0-4cac-8f92-7315578635e2"
      },
      "source": [
        "acc_random_forest_test"
      ],
      "execution_count": null,
      "outputs": [
        {
          "output_type": "execute_result",
          "data": {
            "text/plain": [
              "80.6"
            ]
          },
          "metadata": {
            "tags": []
          },
          "execution_count": 101
        }
      ]
    },
    {
      "cell_type": "markdown",
      "metadata": {
        "id": "_dk6BHtP0V1W"
      },
      "source": [
        "# Using Logistic Regression\n",
        "\n",
        "\n"
      ]
    },
    {
      "cell_type": "code",
      "metadata": {
        "colab": {
          "base_uri": "https://localhost:8080/"
        },
        "id": "QqxBh7uIq0oh",
        "outputId": "66e5bc96-24a5-4db0-e8e1-e87d587abf78"
      },
      "source": [
        "logreg = LogisticRegression()\n",
        "logreg.fit(X_train, y_train)\n",
        "acc_log_train = round(logreg.score(X_train, y_train)*100,2)\n",
        "acc_log_test = round(logreg.score(X_test, y_test)*100,2)\n",
        "print(\"Training Accuracy: % {}\".format(acc_log_train))\n",
        "print(\"Testing Accuracy: % {}\".format(acc_log_test))"
      ],
      "execution_count": null,
      "outputs": [
        {
          "output_type": "stream",
          "text": [
            "Training Accuracy: % 79.45\n",
            "Testing Accuracy: % 80.22\n"
          ],
          "name": "stdout"
        }
      ]
    },
    {
      "cell_type": "markdown",
      "metadata": {
        "id": "VXgZGjuR1Yks"
      },
      "source": [
        "# Using ANN Classifier"
      ]
    },
    {
      "cell_type": "code",
      "metadata": {
        "id": "ZAPy0YkX1VFv"
      },
      "source": [
        "scaler = StandardScaler()\n",
        "x_train = scaler.fit_transform(X_train)\n",
        "x_test = scaler.transform(X_test)"
      ],
      "execution_count": null,
      "outputs": []
    },
    {
      "cell_type": "code",
      "metadata": {
        "id": "NYWYCpLgz2iH"
      },
      "source": [
        "x_train = x_train.reshape(x_train.shape[0], x_train.shape[1],1)\n",
        "x_test = x_test.reshape(x_test.shape[0], x_test.shape[1],1)"
      ],
      "execution_count": null,
      "outputs": []
    },
    {
      "cell_type": "code",
      "metadata": {
        "id": "mSTp3J880Pco"
      },
      "source": [
        "epochs = 100\n",
        "model = models.Sequential()\n",
        "model.add(Conv1D(10,2, activation='relu', input_shape = x_train[0].shape))\n",
        "model.add(BatchNormalization())\n",
        "model.add(Dropout(0.2))\n",
        "\n",
        "\n",
        "model.add(Conv1D(8,2, activation='relu'))\n",
        "model.add(BatchNormalization())\n",
        "model.add(Dropout(0.5))\n",
        "\n",
        "model.add(Flatten())\n",
        "model.add(Dense(6, activation='relu'))\n",
        "model.add(Dropout(0.5))\n",
        "\n",
        "model.add(Dense(1, activation='sigmoid')) # Binary Classification\n",
        "\n",
        "\n"
      ],
      "execution_count": null,
      "outputs": []
    },
    {
      "cell_type": "markdown",
      "metadata": {
        "id": "IrYoil281isy"
      },
      "source": [
        "Question:\n",
        "By changing layer and number of input shape we find some difference in our accuracy, \n",
        "(in execution time we find difference of miliseconds\n",
        "\n",
        "Question:\n",
        "By doing BatchNormalization we get much difference in our accuracy"
      ]
    },
    {
      "cell_type": "code",
      "metadata": {
        "id": "csMJNpQ81Jg2"
      },
      "source": [
        "model.compile(optimizer='rmsprop', loss='binary_crossentropy', metrics=['acc'])"
      ],
      "execution_count": null,
      "outputs": []
    },
    {
      "cell_type": "code",
      "metadata": {
        "colab": {
          "base_uri": "https://localhost:8080/"
        },
        "id": "zUR7IiBC0tQM",
        "outputId": "ec4fc11f-2049-4158-c004-ca161094ed5d"
      },
      "source": [
        "model.summary()"
      ],
      "execution_count": null,
      "outputs": [
        {
          "output_type": "stream",
          "text": [
            "Model: \"sequential_15\"\n",
            "_________________________________________________________________\n",
            "Layer (type)                 Output Shape              Param #   \n",
            "=================================================================\n",
            "conv1d_5 (Conv1D)            (None, 4, 10)             30        \n",
            "_________________________________________________________________\n",
            "batch_normalization_4 (Batch (None, 4, 10)             40        \n",
            "_________________________________________________________________\n",
            "dropout_6 (Dropout)          (None, 4, 10)             0         \n",
            "_________________________________________________________________\n",
            "conv1d_6 (Conv1D)            (None, 3, 8)              168       \n",
            "_________________________________________________________________\n",
            "batch_normalization_5 (Batch (None, 3, 8)              32        \n",
            "_________________________________________________________________\n",
            "dropout_7 (Dropout)          (None, 3, 8)              0         \n",
            "_________________________________________________________________\n",
            "flatten_2 (Flatten)          (None, 24)                0         \n",
            "_________________________________________________________________\n",
            "dense_17 (Dense)             (None, 6)                 150       \n",
            "_________________________________________________________________\n",
            "dropout_8 (Dropout)          (None, 6)                 0         \n",
            "_________________________________________________________________\n",
            "dense_18 (Dense)             (None, 1)                 7         \n",
            "=================================================================\n",
            "Total params: 427\n",
            "Trainable params: 391\n",
            "Non-trainable params: 36\n",
            "_________________________________________________________________\n"
          ],
          "name": "stdout"
        }
      ]
    },
    {
      "cell_type": "code",
      "metadata": {
        "colab": {
          "base_uri": "https://localhost:8080/"
        },
        "id": "7mYK_MPX1D5P",
        "outputId": "5c820d83-fc0a-4843-bd8e-9a77a11c31f7"
      },
      "source": [
        "history = model.fit(x_train, y_train, batch_size = 10 ,epochs=epochs, validation_data=(x_test, y_test), verbose=1)"
      ],
      "execution_count": null,
      "outputs": [
        {
          "output_type": "stream",
          "text": [
            "Epoch 1/100\n",
            "63/63 [==============================] - 2s 6ms/step - loss: 0.7885 - acc: 0.6101 - val_loss: 0.6608 - val_acc: 0.7201\n",
            "Epoch 2/100\n",
            "63/63 [==============================] - 0s 2ms/step - loss: 0.7527 - acc: 0.6202 - val_loss: 0.6449 - val_acc: 0.7388\n",
            "Epoch 3/100\n",
            "63/63 [==============================] - 0s 3ms/step - loss: 0.7655 - acc: 0.5694 - val_loss: 0.6304 - val_acc: 0.7388\n",
            "Epoch 4/100\n",
            "63/63 [==============================] - 0s 3ms/step - loss: 0.6620 - acc: 0.6497 - val_loss: 0.6170 - val_acc: 0.7537\n",
            "Epoch 5/100\n",
            "63/63 [==============================] - 0s 3ms/step - loss: 0.6358 - acc: 0.6616 - val_loss: 0.5926 - val_acc: 0.7724\n",
            "Epoch 6/100\n",
            "63/63 [==============================] - 0s 3ms/step - loss: 0.6525 - acc: 0.6505 - val_loss: 0.5742 - val_acc: 0.7873\n",
            "Epoch 7/100\n",
            "63/63 [==============================] - 0s 3ms/step - loss: 0.6293 - acc: 0.6760 - val_loss: 0.5579 - val_acc: 0.7873\n",
            "Epoch 8/100\n",
            "63/63 [==============================] - 0s 3ms/step - loss: 0.5930 - acc: 0.7174 - val_loss: 0.5522 - val_acc: 0.7873\n",
            "Epoch 9/100\n",
            "63/63 [==============================] - 0s 3ms/step - loss: 0.6104 - acc: 0.6927 - val_loss: 0.5382 - val_acc: 0.7873\n",
            "Epoch 10/100\n",
            "63/63 [==============================] - 0s 3ms/step - loss: 0.6285 - acc: 0.6746 - val_loss: 0.5293 - val_acc: 0.7873\n",
            "Epoch 11/100\n",
            "63/63 [==============================] - 0s 3ms/step - loss: 0.6037 - acc: 0.6840 - val_loss: 0.5209 - val_acc: 0.7873\n",
            "Epoch 12/100\n",
            "63/63 [==============================] - 0s 3ms/step - loss: 0.6072 - acc: 0.7289 - val_loss: 0.5171 - val_acc: 0.7836\n",
            "Epoch 13/100\n",
            "63/63 [==============================] - 0s 3ms/step - loss: 0.5899 - acc: 0.7217 - val_loss: 0.5215 - val_acc: 0.7799\n",
            "Epoch 14/100\n",
            "63/63 [==============================] - 0s 3ms/step - loss: 0.5875 - acc: 0.7344 - val_loss: 0.5056 - val_acc: 0.7873\n",
            "Epoch 15/100\n",
            "63/63 [==============================] - 0s 3ms/step - loss: 0.5897 - acc: 0.7234 - val_loss: 0.5014 - val_acc: 0.7910\n",
            "Epoch 16/100\n",
            "63/63 [==============================] - 0s 3ms/step - loss: 0.5872 - acc: 0.7466 - val_loss: 0.5006 - val_acc: 0.7910\n",
            "Epoch 17/100\n",
            "63/63 [==============================] - 0s 3ms/step - loss: 0.5509 - acc: 0.7460 - val_loss: 0.4908 - val_acc: 0.7873\n",
            "Epoch 18/100\n",
            "63/63 [==============================] - 0s 3ms/step - loss: 0.6149 - acc: 0.7360 - val_loss: 0.4860 - val_acc: 0.7910\n",
            "Epoch 19/100\n",
            "63/63 [==============================] - 0s 3ms/step - loss: 0.5542 - acc: 0.7450 - val_loss: 0.4839 - val_acc: 0.7836\n",
            "Epoch 20/100\n",
            "63/63 [==============================] - 0s 3ms/step - loss: 0.5586 - acc: 0.7697 - val_loss: 0.4894 - val_acc: 0.7873\n",
            "Epoch 21/100\n",
            "63/63 [==============================] - 0s 3ms/step - loss: 0.5880 - acc: 0.7507 - val_loss: 0.4846 - val_acc: 0.7836\n",
            "Epoch 22/100\n",
            "63/63 [==============================] - 0s 3ms/step - loss: 0.5935 - acc: 0.7403 - val_loss: 0.4781 - val_acc: 0.7836\n",
            "Epoch 23/100\n",
            "63/63 [==============================] - 0s 3ms/step - loss: 0.5549 - acc: 0.7521 - val_loss: 0.4707 - val_acc: 0.7873\n",
            "Epoch 24/100\n",
            "63/63 [==============================] - 0s 3ms/step - loss: 0.5455 - acc: 0.7854 - val_loss: 0.4669 - val_acc: 0.7910\n",
            "Epoch 25/100\n",
            "63/63 [==============================] - 0s 3ms/step - loss: 0.5636 - acc: 0.7377 - val_loss: 0.4651 - val_acc: 0.7910\n",
            "Epoch 26/100\n",
            "63/63 [==============================] - 0s 3ms/step - loss: 0.5532 - acc: 0.7324 - val_loss: 0.4597 - val_acc: 0.7910\n",
            "Epoch 27/100\n",
            "63/63 [==============================] - 0s 3ms/step - loss: 0.5595 - acc: 0.7314 - val_loss: 0.4527 - val_acc: 0.7910\n",
            "Epoch 28/100\n",
            "63/63 [==============================] - 0s 3ms/step - loss: 0.5027 - acc: 0.7812 - val_loss: 0.4513 - val_acc: 0.7985\n",
            "Epoch 29/100\n",
            "63/63 [==============================] - 0s 3ms/step - loss: 0.5406 - acc: 0.7693 - val_loss: 0.4496 - val_acc: 0.7948\n",
            "Epoch 30/100\n",
            "63/63 [==============================] - 0s 3ms/step - loss: 0.5296 - acc: 0.7505 - val_loss: 0.4433 - val_acc: 0.7985\n",
            "Epoch 31/100\n",
            "63/63 [==============================] - 0s 3ms/step - loss: 0.5595 - acc: 0.7680 - val_loss: 0.4422 - val_acc: 0.8022\n",
            "Epoch 32/100\n",
            "63/63 [==============================] - 0s 3ms/step - loss: 0.5673 - acc: 0.7643 - val_loss: 0.4419 - val_acc: 0.8022\n",
            "Epoch 33/100\n",
            "63/63 [==============================] - 0s 3ms/step - loss: 0.5445 - acc: 0.7681 - val_loss: 0.4396 - val_acc: 0.8022\n",
            "Epoch 34/100\n",
            "63/63 [==============================] - 0s 3ms/step - loss: 0.5711 - acc: 0.7424 - val_loss: 0.4399 - val_acc: 0.8022\n",
            "Epoch 35/100\n",
            "63/63 [==============================] - 0s 3ms/step - loss: 0.5451 - acc: 0.7556 - val_loss: 0.4386 - val_acc: 0.8022\n",
            "Epoch 36/100\n",
            "63/63 [==============================] - 0s 3ms/step - loss: 0.5434 - acc: 0.7556 - val_loss: 0.4385 - val_acc: 0.8060\n",
            "Epoch 37/100\n",
            "63/63 [==============================] - 0s 3ms/step - loss: 0.5428 - acc: 0.7676 - val_loss: 0.4368 - val_acc: 0.8060\n",
            "Epoch 38/100\n",
            "63/63 [==============================] - 0s 3ms/step - loss: 0.5539 - acc: 0.7870 - val_loss: 0.4374 - val_acc: 0.8022\n",
            "Epoch 39/100\n",
            "63/63 [==============================] - 0s 3ms/step - loss: 0.5692 - acc: 0.7113 - val_loss: 0.4334 - val_acc: 0.8060\n",
            "Epoch 40/100\n",
            "63/63 [==============================] - 0s 3ms/step - loss: 0.5017 - acc: 0.7624 - val_loss: 0.4323 - val_acc: 0.8134\n",
            "Epoch 41/100\n",
            "63/63 [==============================] - 0s 3ms/step - loss: 0.5390 - acc: 0.7502 - val_loss: 0.4332 - val_acc: 0.8097\n",
            "Epoch 42/100\n",
            "63/63 [==============================] - 0s 3ms/step - loss: 0.5478 - acc: 0.7399 - val_loss: 0.4363 - val_acc: 0.8097\n",
            "Epoch 43/100\n",
            "63/63 [==============================] - 0s 3ms/step - loss: 0.5291 - acc: 0.7467 - val_loss: 0.4351 - val_acc: 0.8097\n",
            "Epoch 44/100\n",
            "63/63 [==============================] - 0s 3ms/step - loss: 0.5370 - acc: 0.7436 - val_loss: 0.4325 - val_acc: 0.8097\n",
            "Epoch 45/100\n",
            "63/63 [==============================] - 0s 3ms/step - loss: 0.5673 - acc: 0.7460 - val_loss: 0.4326 - val_acc: 0.8060\n",
            "Epoch 46/100\n",
            "63/63 [==============================] - 0s 3ms/step - loss: 0.5259 - acc: 0.7593 - val_loss: 0.4314 - val_acc: 0.8060\n",
            "Epoch 47/100\n",
            "63/63 [==============================] - 0s 3ms/step - loss: 0.5357 - acc: 0.7745 - val_loss: 0.4338 - val_acc: 0.8022\n",
            "Epoch 48/100\n",
            "63/63 [==============================] - 0s 3ms/step - loss: 0.5558 - acc: 0.7774 - val_loss: 0.4360 - val_acc: 0.8022\n",
            "Epoch 49/100\n",
            "63/63 [==============================] - 0s 3ms/step - loss: 0.5120 - acc: 0.7744 - val_loss: 0.4383 - val_acc: 0.8022\n",
            "Epoch 50/100\n",
            "63/63 [==============================] - 0s 3ms/step - loss: 0.5315 - acc: 0.8038 - val_loss: 0.4335 - val_acc: 0.8022\n",
            "Epoch 51/100\n",
            "63/63 [==============================] - 0s 3ms/step - loss: 0.5224 - acc: 0.7727 - val_loss: 0.4339 - val_acc: 0.8022\n",
            "Epoch 52/100\n",
            "63/63 [==============================] - 0s 3ms/step - loss: 0.5235 - acc: 0.7603 - val_loss: 0.4326 - val_acc: 0.8022\n",
            "Epoch 53/100\n",
            "63/63 [==============================] - 0s 3ms/step - loss: 0.5307 - acc: 0.7907 - val_loss: 0.4311 - val_acc: 0.8060\n",
            "Epoch 54/100\n",
            "63/63 [==============================] - 0s 3ms/step - loss: 0.5129 - acc: 0.7793 - val_loss: 0.4251 - val_acc: 0.8060\n",
            "Epoch 55/100\n",
            "63/63 [==============================] - 0s 3ms/step - loss: 0.5351 - acc: 0.7716 - val_loss: 0.4270 - val_acc: 0.8022\n",
            "Epoch 56/100\n",
            "63/63 [==============================] - 0s 3ms/step - loss: 0.5504 - acc: 0.7746 - val_loss: 0.4269 - val_acc: 0.8060\n",
            "Epoch 57/100\n",
            "63/63 [==============================] - 0s 3ms/step - loss: 0.5259 - acc: 0.7847 - val_loss: 0.4302 - val_acc: 0.8060\n",
            "Epoch 58/100\n",
            "63/63 [==============================] - 0s 3ms/step - loss: 0.5055 - acc: 0.7639 - val_loss: 0.4304 - val_acc: 0.8097\n",
            "Epoch 59/100\n",
            "63/63 [==============================] - 0s 3ms/step - loss: 0.4746 - acc: 0.8092 - val_loss: 0.4288 - val_acc: 0.8060\n",
            "Epoch 60/100\n",
            "63/63 [==============================] - 0s 3ms/step - loss: 0.5030 - acc: 0.8035 - val_loss: 0.4290 - val_acc: 0.8060\n",
            "Epoch 61/100\n",
            "63/63 [==============================] - 0s 3ms/step - loss: 0.5064 - acc: 0.7853 - val_loss: 0.4304 - val_acc: 0.8060\n",
            "Epoch 62/100\n",
            "63/63 [==============================] - 0s 3ms/step - loss: 0.5390 - acc: 0.7757 - val_loss: 0.4338 - val_acc: 0.8060\n",
            "Epoch 63/100\n",
            "63/63 [==============================] - 0s 3ms/step - loss: 0.5566 - acc: 0.7596 - val_loss: 0.4353 - val_acc: 0.8097\n",
            "Epoch 64/100\n",
            "63/63 [==============================] - 0s 3ms/step - loss: 0.5018 - acc: 0.7924 - val_loss: 0.4326 - val_acc: 0.8060\n",
            "Epoch 65/100\n",
            "63/63 [==============================] - 0s 3ms/step - loss: 0.5050 - acc: 0.7738 - val_loss: 0.4228 - val_acc: 0.8060\n",
            "Epoch 66/100\n",
            "63/63 [==============================] - 0s 3ms/step - loss: 0.5033 - acc: 0.7958 - val_loss: 0.4231 - val_acc: 0.8060\n",
            "Epoch 67/100\n",
            "63/63 [==============================] - 0s 3ms/step - loss: 0.5054 - acc: 0.7591 - val_loss: 0.4216 - val_acc: 0.8097\n",
            "Epoch 68/100\n",
            "63/63 [==============================] - 0s 3ms/step - loss: 0.5084 - acc: 0.8072 - val_loss: 0.4250 - val_acc: 0.8097\n",
            "Epoch 69/100\n",
            "63/63 [==============================] - 0s 3ms/step - loss: 0.5612 - acc: 0.7747 - val_loss: 0.4226 - val_acc: 0.8060\n",
            "Epoch 70/100\n",
            "63/63 [==============================] - 0s 3ms/step - loss: 0.5451 - acc: 0.7498 - val_loss: 0.4217 - val_acc: 0.8060\n",
            "Epoch 71/100\n",
            "63/63 [==============================] - 0s 3ms/step - loss: 0.5118 - acc: 0.7728 - val_loss: 0.4262 - val_acc: 0.8060\n",
            "Epoch 72/100\n",
            "63/63 [==============================] - 0s 3ms/step - loss: 0.6028 - acc: 0.7309 - val_loss: 0.4269 - val_acc: 0.8060\n",
            "Epoch 73/100\n",
            "63/63 [==============================] - 0s 3ms/step - loss: 0.5014 - acc: 0.7803 - val_loss: 0.4253 - val_acc: 0.8060\n",
            "Epoch 74/100\n",
            "63/63 [==============================] - 0s 3ms/step - loss: 0.5396 - acc: 0.7679 - val_loss: 0.4270 - val_acc: 0.8060\n",
            "Epoch 75/100\n",
            "63/63 [==============================] - 0s 3ms/step - loss: 0.5602 - acc: 0.7494 - val_loss: 0.4267 - val_acc: 0.8097\n",
            "Epoch 76/100\n",
            "63/63 [==============================] - 0s 3ms/step - loss: 0.5439 - acc: 0.7794 - val_loss: 0.4272 - val_acc: 0.8022\n",
            "Epoch 77/100\n",
            "63/63 [==============================] - 0s 3ms/step - loss: 0.5366 - acc: 0.7614 - val_loss: 0.4282 - val_acc: 0.8022\n",
            "Epoch 78/100\n",
            "63/63 [==============================] - 0s 3ms/step - loss: 0.5158 - acc: 0.7676 - val_loss: 0.4260 - val_acc: 0.8097\n",
            "Epoch 79/100\n",
            "63/63 [==============================] - 0s 3ms/step - loss: 0.4736 - acc: 0.8214 - val_loss: 0.4256 - val_acc: 0.8134\n",
            "Epoch 80/100\n",
            "63/63 [==============================] - 0s 3ms/step - loss: 0.5439 - acc: 0.7853 - val_loss: 0.4284 - val_acc: 0.8097\n",
            "Epoch 81/100\n",
            "63/63 [==============================] - 0s 3ms/step - loss: 0.5170 - acc: 0.7727 - val_loss: 0.4298 - val_acc: 0.8097\n",
            "Epoch 82/100\n",
            "63/63 [==============================] - 0s 3ms/step - loss: 0.5121 - acc: 0.7603 - val_loss: 0.4263 - val_acc: 0.8134\n",
            "Epoch 83/100\n",
            "63/63 [==============================] - 0s 3ms/step - loss: 0.4944 - acc: 0.8024 - val_loss: 0.4214 - val_acc: 0.8060\n",
            "Epoch 84/100\n",
            "63/63 [==============================] - 0s 3ms/step - loss: 0.4992 - acc: 0.7754 - val_loss: 0.4206 - val_acc: 0.8097\n",
            "Epoch 85/100\n",
            "63/63 [==============================] - 0s 3ms/step - loss: 0.5532 - acc: 0.7764 - val_loss: 0.4205 - val_acc: 0.8022\n",
            "Epoch 86/100\n",
            "63/63 [==============================] - 0s 3ms/step - loss: 0.5362 - acc: 0.7538 - val_loss: 0.4223 - val_acc: 0.8022\n",
            "Epoch 87/100\n",
            "63/63 [==============================] - 0s 3ms/step - loss: 0.4945 - acc: 0.8029 - val_loss: 0.4192 - val_acc: 0.8022\n",
            "Epoch 88/100\n",
            "63/63 [==============================] - 0s 3ms/step - loss: 0.5003 - acc: 0.8065 - val_loss: 0.4212 - val_acc: 0.8022\n",
            "Epoch 89/100\n",
            "63/63 [==============================] - 0s 3ms/step - loss: 0.5088 - acc: 0.7876 - val_loss: 0.4257 - val_acc: 0.8134\n",
            "Epoch 90/100\n",
            "63/63 [==============================] - 0s 3ms/step - loss: 0.5419 - acc: 0.7614 - val_loss: 0.4247 - val_acc: 0.8060\n",
            "Epoch 91/100\n",
            "63/63 [==============================] - 0s 3ms/step - loss: 0.5162 - acc: 0.7811 - val_loss: 0.4189 - val_acc: 0.8060\n",
            "Epoch 92/100\n",
            "63/63 [==============================] - 0s 3ms/step - loss: 0.5168 - acc: 0.8002 - val_loss: 0.4196 - val_acc: 0.8060\n",
            "Epoch 93/100\n",
            "63/63 [==============================] - 0s 3ms/step - loss: 0.5127 - acc: 0.7401 - val_loss: 0.4234 - val_acc: 0.8097\n",
            "Epoch 94/100\n",
            "63/63 [==============================] - 0s 3ms/step - loss: 0.5771 - acc: 0.7429 - val_loss: 0.4234 - val_acc: 0.8097\n",
            "Epoch 95/100\n",
            "63/63 [==============================] - 0s 3ms/step - loss: 0.5049 - acc: 0.7969 - val_loss: 0.4204 - val_acc: 0.8060\n",
            "Epoch 96/100\n",
            "63/63 [==============================] - 0s 3ms/step - loss: 0.5243 - acc: 0.8036 - val_loss: 0.4248 - val_acc: 0.8022\n",
            "Epoch 97/100\n",
            "63/63 [==============================] - 0s 3ms/step - loss: 0.4689 - acc: 0.8258 - val_loss: 0.4269 - val_acc: 0.8060\n",
            "Epoch 98/100\n",
            "63/63 [==============================] - 0s 3ms/step - loss: 0.5527 - acc: 0.7660 - val_loss: 0.4326 - val_acc: 0.8060\n",
            "Epoch 99/100\n",
            "63/63 [==============================] - 0s 3ms/step - loss: 0.5098 - acc: 0.7851 - val_loss: 0.4294 - val_acc: 0.8060\n",
            "Epoch 100/100\n",
            "63/63 [==============================] - 0s 3ms/step - loss: 0.5376 - acc: 0.7889 - val_loss: 0.4221 - val_acc: 0.7985\n"
          ],
          "name": "stdout"
        }
      ]
    },
    {
      "cell_type": "markdown",
      "metadata": {
        "id": "bw1JGEXn2NU8"
      },
      "source": [
        "Question: 4\n",
        "About at 79 epochs (accuracy 82)  our model stop improving\n",
        "\n",
        "Question 5\n",
        "Batch size is basically how much our data is going to train on our model at a time. We use batch size =10 to train our model"
      ]
    },
    {
      "cell_type": "code",
      "metadata": {
        "id": "ItsProqPYYL2"
      },
      "source": [
        ""
      ],
      "execution_count": null,
      "outputs": []
    },
    {
      "cell_type": "code",
      "metadata": {
        "id": "JRRjL4MCZFLZ"
      },
      "source": [
        ""
      ],
      "execution_count": null,
      "outputs": []
    }
  ]
}