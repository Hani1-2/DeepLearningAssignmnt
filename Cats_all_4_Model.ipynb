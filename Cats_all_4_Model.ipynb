{
  "nbformat": 4,
  "nbformat_minor": 0,
  "metadata": {
    "colab": {
      "provenance": [],
      "authorship_tag": "ABX9TyPRFhRqoGkcg1Js6/QKjrB3",
      "include_colab_link": true
    },
    "kernelspec": {
      "name": "python3",
      "display_name": "Python 3"
    },
    "language_info": {
      "name": "python"
    }
  },
  "cells": [
    {
      "cell_type": "markdown",
      "metadata": {
        "id": "view-in-github",
        "colab_type": "text"
      },
      "source": [
        "<a href=\"https://colab.research.google.com/github/Hani1-2/DeepLearningAssignmnt/blob/master/Cats_all_4_Model.ipynb\" target=\"_parent\"><img src=\"https://colab.research.google.com/assets/colab-badge.svg\" alt=\"Open In Colab\"/></a>"
      ]
    },
    {
      "cell_type": "code",
      "execution_count": 1,
      "metadata": {
        "id": "H0R844fwqtGb"
      },
      "outputs": [],
      "source": [
        "import pandas as pd\n",
        "import matplotlib.pyplot as plt\n",
        "from sklearn.metrics import mean_squared_error, r2_score\n",
        "import statsmodels.api as sm\n",
        "import numpy as np"
      ]
    },
    {
      "cell_type": "markdown",
      "source": [
        "## Data Preparation"
      ],
      "metadata": {
        "id": "XElKiM8ShDK7"
      }
    },
    {
      "cell_type": "code",
      "source": [
        "data=pd.read_excel(\"FitBark_structured_clean.xlsx\")\n",
        "data.head()"
      ],
      "metadata": {
        "colab": {
          "base_uri": "https://localhost:8080/",
          "height": 386
        },
        "id": "BlJd9h2nscDH",
        "outputId": "da385873-167c-48c0-8f36-94548d6c175c"
      },
      "execution_count": 2,
      "outputs": [
        {
          "output_type": "execute_result",
          "data": {
            "text/plain": [
              "   DateNumber       Date        Day  Cat.Id  Household.Id Name    Breed  Age  \\\n",
              "0       44468 2021-09-29  Wednesday       1             1  Tia  Burmese  1.0   \n",
              "1       44469 2021-09-30   Thursday       1             1  Tia  Burmese  1.0   \n",
              "2       44470 2021-10-01     Friday       1             1  Tia  Burmese  1.0   \n",
              "3       44471 2021-10-02   Saturday       1             1  Tia  Burmese  1.0   \n",
              "4       44473 2021-10-04     Monday       1             1  Tia  Burmese  1.0   \n",
              "\n",
              "  Gender  Other.Cats  ...  Health.Index  Calories  Sleep.score   kms  \\\n",
              "0      F           0  ...          74.0       305           85  4.39   \n",
              "1      F           0  ...          75.0       282           68  3.80   \n",
              "2      F           0  ...          73.0       283           69  3.83   \n",
              "3      F           0  ...          74.0       280           78  3.77   \n",
              "4      F           0  ...          74.0       293           65  4.10   \n",
              "\n",
              "   Activity.Index  Play  Active  Rest  Notes  Activity.Total  \n",
              "0           124.0    43     591   806    NaN            1440  \n",
              "1           101.0    40     603   797    NaN            1440  \n",
              "2           102.0    25     647   768    NaN            1440  \n",
              "3            99.0    30     637   773    NaN            1440  \n",
              "4           108.0    36     606   798    NaN            1440  \n",
              "\n",
              "[5 rows x 23 columns]"
            ],
            "text/html": [
              "\n",
              "  <div id=\"df-3aa9114e-d1bd-4276-b9b9-7ba8e2d1600d\">\n",
              "    <div class=\"colab-df-container\">\n",
              "      <div>\n",
              "<style scoped>\n",
              "    .dataframe tbody tr th:only-of-type {\n",
              "        vertical-align: middle;\n",
              "    }\n",
              "\n",
              "    .dataframe tbody tr th {\n",
              "        vertical-align: top;\n",
              "    }\n",
              "\n",
              "    .dataframe thead th {\n",
              "        text-align: right;\n",
              "    }\n",
              "</style>\n",
              "<table border=\"1\" class=\"dataframe\">\n",
              "  <thead>\n",
              "    <tr style=\"text-align: right;\">\n",
              "      <th></th>\n",
              "      <th>DateNumber</th>\n",
              "      <th>Date</th>\n",
              "      <th>Day</th>\n",
              "      <th>Cat.Id</th>\n",
              "      <th>Household.Id</th>\n",
              "      <th>Name</th>\n",
              "      <th>Breed</th>\n",
              "      <th>Age</th>\n",
              "      <th>Gender</th>\n",
              "      <th>Other.Cats</th>\n",
              "      <th>...</th>\n",
              "      <th>Health.Index</th>\n",
              "      <th>Calories</th>\n",
              "      <th>Sleep.score</th>\n",
              "      <th>kms</th>\n",
              "      <th>Activity.Index</th>\n",
              "      <th>Play</th>\n",
              "      <th>Active</th>\n",
              "      <th>Rest</th>\n",
              "      <th>Notes</th>\n",
              "      <th>Activity.Total</th>\n",
              "    </tr>\n",
              "  </thead>\n",
              "  <tbody>\n",
              "    <tr>\n",
              "      <th>0</th>\n",
              "      <td>44468</td>\n",
              "      <td>2021-09-29</td>\n",
              "      <td>Wednesday</td>\n",
              "      <td>1</td>\n",
              "      <td>1</td>\n",
              "      <td>Tia</td>\n",
              "      <td>Burmese</td>\n",
              "      <td>1.0</td>\n",
              "      <td>F</td>\n",
              "      <td>0</td>\n",
              "      <td>...</td>\n",
              "      <td>74.0</td>\n",
              "      <td>305</td>\n",
              "      <td>85</td>\n",
              "      <td>4.39</td>\n",
              "      <td>124.0</td>\n",
              "      <td>43</td>\n",
              "      <td>591</td>\n",
              "      <td>806</td>\n",
              "      <td>NaN</td>\n",
              "      <td>1440</td>\n",
              "    </tr>\n",
              "    <tr>\n",
              "      <th>1</th>\n",
              "      <td>44469</td>\n",
              "      <td>2021-09-30</td>\n",
              "      <td>Thursday</td>\n",
              "      <td>1</td>\n",
              "      <td>1</td>\n",
              "      <td>Tia</td>\n",
              "      <td>Burmese</td>\n",
              "      <td>1.0</td>\n",
              "      <td>F</td>\n",
              "      <td>0</td>\n",
              "      <td>...</td>\n",
              "      <td>75.0</td>\n",
              "      <td>282</td>\n",
              "      <td>68</td>\n",
              "      <td>3.80</td>\n",
              "      <td>101.0</td>\n",
              "      <td>40</td>\n",
              "      <td>603</td>\n",
              "      <td>797</td>\n",
              "      <td>NaN</td>\n",
              "      <td>1440</td>\n",
              "    </tr>\n",
              "    <tr>\n",
              "      <th>2</th>\n",
              "      <td>44470</td>\n",
              "      <td>2021-10-01</td>\n",
              "      <td>Friday</td>\n",
              "      <td>1</td>\n",
              "      <td>1</td>\n",
              "      <td>Tia</td>\n",
              "      <td>Burmese</td>\n",
              "      <td>1.0</td>\n",
              "      <td>F</td>\n",
              "      <td>0</td>\n",
              "      <td>...</td>\n",
              "      <td>73.0</td>\n",
              "      <td>283</td>\n",
              "      <td>69</td>\n",
              "      <td>3.83</td>\n",
              "      <td>102.0</td>\n",
              "      <td>25</td>\n",
              "      <td>647</td>\n",
              "      <td>768</td>\n",
              "      <td>NaN</td>\n",
              "      <td>1440</td>\n",
              "    </tr>\n",
              "    <tr>\n",
              "      <th>3</th>\n",
              "      <td>44471</td>\n",
              "      <td>2021-10-02</td>\n",
              "      <td>Saturday</td>\n",
              "      <td>1</td>\n",
              "      <td>1</td>\n",
              "      <td>Tia</td>\n",
              "      <td>Burmese</td>\n",
              "      <td>1.0</td>\n",
              "      <td>F</td>\n",
              "      <td>0</td>\n",
              "      <td>...</td>\n",
              "      <td>74.0</td>\n",
              "      <td>280</td>\n",
              "      <td>78</td>\n",
              "      <td>3.77</td>\n",
              "      <td>99.0</td>\n",
              "      <td>30</td>\n",
              "      <td>637</td>\n",
              "      <td>773</td>\n",
              "      <td>NaN</td>\n",
              "      <td>1440</td>\n",
              "    </tr>\n",
              "    <tr>\n",
              "      <th>4</th>\n",
              "      <td>44473</td>\n",
              "      <td>2021-10-04</td>\n",
              "      <td>Monday</td>\n",
              "      <td>1</td>\n",
              "      <td>1</td>\n",
              "      <td>Tia</td>\n",
              "      <td>Burmese</td>\n",
              "      <td>1.0</td>\n",
              "      <td>F</td>\n",
              "      <td>0</td>\n",
              "      <td>...</td>\n",
              "      <td>74.0</td>\n",
              "      <td>293</td>\n",
              "      <td>65</td>\n",
              "      <td>4.10</td>\n",
              "      <td>108.0</td>\n",
              "      <td>36</td>\n",
              "      <td>606</td>\n",
              "      <td>798</td>\n",
              "      <td>NaN</td>\n",
              "      <td>1440</td>\n",
              "    </tr>\n",
              "  </tbody>\n",
              "</table>\n",
              "<p>5 rows × 23 columns</p>\n",
              "</div>\n",
              "      <button class=\"colab-df-convert\" onclick=\"convertToInteractive('df-3aa9114e-d1bd-4276-b9b9-7ba8e2d1600d')\"\n",
              "              title=\"Convert this dataframe to an interactive table.\"\n",
              "              style=\"display:none;\">\n",
              "        \n",
              "  <svg xmlns=\"http://www.w3.org/2000/svg\" height=\"24px\"viewBox=\"0 0 24 24\"\n",
              "       width=\"24px\">\n",
              "    <path d=\"M0 0h24v24H0V0z\" fill=\"none\"/>\n",
              "    <path d=\"M18.56 5.44l.94 2.06.94-2.06 2.06-.94-2.06-.94-.94-2.06-.94 2.06-2.06.94zm-11 1L8.5 8.5l.94-2.06 2.06-.94-2.06-.94L8.5 2.5l-.94 2.06-2.06.94zm10 10l.94 2.06.94-2.06 2.06-.94-2.06-.94-.94-2.06-.94 2.06-2.06.94z\"/><path d=\"M17.41 7.96l-1.37-1.37c-.4-.4-.92-.59-1.43-.59-.52 0-1.04.2-1.43.59L10.3 9.45l-7.72 7.72c-.78.78-.78 2.05 0 2.83L4 21.41c.39.39.9.59 1.41.59.51 0 1.02-.2 1.41-.59l7.78-7.78 2.81-2.81c.8-.78.8-2.07 0-2.86zM5.41 20L4 18.59l7.72-7.72 1.47 1.35L5.41 20z\"/>\n",
              "  </svg>\n",
              "      </button>\n",
              "      \n",
              "  <style>\n",
              "    .colab-df-container {\n",
              "      display:flex;\n",
              "      flex-wrap:wrap;\n",
              "      gap: 12px;\n",
              "    }\n",
              "\n",
              "    .colab-df-convert {\n",
              "      background-color: #E8F0FE;\n",
              "      border: none;\n",
              "      border-radius: 50%;\n",
              "      cursor: pointer;\n",
              "      display: none;\n",
              "      fill: #1967D2;\n",
              "      height: 32px;\n",
              "      padding: 0 0 0 0;\n",
              "      width: 32px;\n",
              "    }\n",
              "\n",
              "    .colab-df-convert:hover {\n",
              "      background-color: #E2EBFA;\n",
              "      box-shadow: 0px 1px 2px rgba(60, 64, 67, 0.3), 0px 1px 3px 1px rgba(60, 64, 67, 0.15);\n",
              "      fill: #174EA6;\n",
              "    }\n",
              "\n",
              "    [theme=dark] .colab-df-convert {\n",
              "      background-color: #3B4455;\n",
              "      fill: #D2E3FC;\n",
              "    }\n",
              "\n",
              "    [theme=dark] .colab-df-convert:hover {\n",
              "      background-color: #434B5C;\n",
              "      box-shadow: 0px 1px 3px 1px rgba(0, 0, 0, 0.15);\n",
              "      filter: drop-shadow(0px 1px 2px rgba(0, 0, 0, 0.3));\n",
              "      fill: #FFFFFF;\n",
              "    }\n",
              "  </style>\n",
              "\n",
              "      <script>\n",
              "        const buttonEl =\n",
              "          document.querySelector('#df-3aa9114e-d1bd-4276-b9b9-7ba8e2d1600d button.colab-df-convert');\n",
              "        buttonEl.style.display =\n",
              "          google.colab.kernel.accessAllowed ? 'block' : 'none';\n",
              "\n",
              "        async function convertToInteractive(key) {\n",
              "          const element = document.querySelector('#df-3aa9114e-d1bd-4276-b9b9-7ba8e2d1600d');\n",
              "          const dataTable =\n",
              "            await google.colab.kernel.invokeFunction('convertToInteractive',\n",
              "                                                     [key], {});\n",
              "          if (!dataTable) return;\n",
              "\n",
              "          const docLinkHtml = 'Like what you see? Visit the ' +\n",
              "            '<a target=\"_blank\" href=https://colab.research.google.com/notebooks/data_table.ipynb>data table notebook</a>'\n",
              "            + ' to learn more about interactive tables.';\n",
              "          element.innerHTML = '';\n",
              "          dataTable['output_type'] = 'display_data';\n",
              "          await google.colab.output.renderOutput(dataTable, element);\n",
              "          const docLink = document.createElement('div');\n",
              "          docLink.innerHTML = docLinkHtml;\n",
              "          element.appendChild(docLink);\n",
              "        }\n",
              "      </script>\n",
              "    </div>\n",
              "  </div>\n",
              "  "
            ]
          },
          "metadata": {},
          "execution_count": 2
        }
      ]
    },
    {
      "cell_type": "code",
      "source": [
        "data.isnull().sum()"
      ],
      "metadata": {
        "colab": {
          "base_uri": "https://localhost:8080/"
        },
        "id": "PS0sVJuasnjr",
        "outputId": "9442e7a5-c8a4-4dd5-e03f-62815ff875a4"
      },
      "execution_count": 3,
      "outputs": [
        {
          "output_type": "execute_result",
          "data": {
            "text/plain": [
              "DateNumber                0\n",
              "Date                      0\n",
              "Day                       0\n",
              "Cat.Id                    0\n",
              "Household.Id              0\n",
              "Name                      0\n",
              "Breed                     0\n",
              "Age                     106\n",
              "Gender                    0\n",
              "Other.Cats                0\n",
              "Desexed                   0\n",
              "Microchipped           2731\n",
              "Overall.Bark.points       0\n",
              "Health.Index             42\n",
              "Calories                  0\n",
              "Sleep.score               0\n",
              "kms                       0\n",
              "Activity.Index           68\n",
              "Play                      0\n",
              "Active                    0\n",
              "Rest                      0\n",
              "Notes                  2711\n",
              "Activity.Total            0\n",
              "dtype: int64"
            ]
          },
          "metadata": {},
          "execution_count": 3
        }
      ]
    },
    {
      "cell_type": "code",
      "source": [
        "# Checking Categorical Features in dataset and counting it \n",
        "\n",
        "cat_features = [columns_name for columns_name in data.columns if data[columns_name].dtype == \"O\"]\n",
        "print(\"Number of Categorical Features we have in data is : {}  \".format(len(cat_features)))\n",
        "print(\"Here is Listed features {} \".format(cat_features))\n",
        "missing_cat = data[cat_features].isnull().sum() # Total missing values \n",
        "print(missing_cat)"
      ],
      "metadata": {
        "colab": {
          "base_uri": "https://localhost:8080/"
        },
        "id": "ryU1H1ZUstQC",
        "outputId": "ff59a6c5-862d-4026-cceb-37e0b4329530"
      },
      "execution_count": 4,
      "outputs": [
        {
          "output_type": "stream",
          "name": "stdout",
          "text": [
            "Number of Categorical Features we have in data is : 5  \n",
            "Here is Listed features ['Day', 'Name', 'Breed', 'Gender', 'Notes'] \n",
            "Day          0\n",
            "Name         0\n",
            "Breed        0\n",
            "Gender       0\n",
            "Notes     2711\n",
            "dtype: int64\n"
          ]
        }
      ]
    },
    {
      "cell_type": "code",
      "source": [
        "cat_features_with_null = [features for features in cat_features if data[features].isnull().sum()]  # list will return with categorical features\n",
        "for each_feature in cat_features_with_null:\n",
        "  data[each_feature] = data[each_feature].fillna(data[each_feature].mode()[0])"
      ],
      "metadata": {
        "id": "LsQ-ZCzxs_Rf"
      },
      "execution_count": 5,
      "outputs": []
    },
    {
      "cell_type": "code",
      "source": [
        "# Checking Numerical Features in dataset and counting it \n",
        "\n",
        "num_features = [columns_name for columns_name in data.columns if data[columns_name].dtype != \"O\"]\n",
        "print(\"Number of Numerical Features we have in data is : {}  \".format(len(num_features)))\n",
        "print(\"Here is the Listed Numerical features {} \".format(num_features))\n",
        "missing_num = data[num_features].isnull().sum()    # counting missing values in each  num_feature \n",
        "missing_num"
      ],
      "metadata": {
        "colab": {
          "base_uri": "https://localhost:8080/"
        },
        "id": "uRiKU7ootC4n",
        "outputId": "72e6a3b7-59be-47bb-e687-fe5ff148b312"
      },
      "execution_count": 6,
      "outputs": [
        {
          "output_type": "stream",
          "name": "stdout",
          "text": [
            "Number of Numerical Features we have in data is : 18  \n",
            "Here is the Listed Numerical features ['DateNumber', 'Date', 'Cat.Id', 'Household.Id', 'Age', 'Other.Cats', 'Desexed', 'Microchipped', 'Overall.Bark.points', 'Health.Index', 'Calories', 'Sleep.score', 'kms', 'Activity.Index', 'Play', 'Active', 'Rest', 'Activity.Total'] \n"
          ]
        },
        {
          "output_type": "execute_result",
          "data": {
            "text/plain": [
              "DateNumber                0\n",
              "Date                      0\n",
              "Cat.Id                    0\n",
              "Household.Id              0\n",
              "Age                     106\n",
              "Other.Cats                0\n",
              "Desexed                   0\n",
              "Microchipped           2731\n",
              "Overall.Bark.points       0\n",
              "Health.Index             42\n",
              "Calories                  0\n",
              "Sleep.score               0\n",
              "kms                       0\n",
              "Activity.Index           68\n",
              "Play                      0\n",
              "Active                    0\n",
              "Rest                      0\n",
              "Activity.Total            0\n",
              "dtype: int64"
            ]
          },
          "metadata": {},
          "execution_count": 6
        }
      ]
    },
    {
      "cell_type": "markdown",
      "source": [
        "## Numerical Feature missing values"
      ],
      "metadata": {
        "id": "OckHGrq7hSGn"
      }
    },
    {
      "cell_type": "code",
      "source": [
        "import matplotlib.pyplot as plt\n",
        "plt.figure(figsize=(14,6))\n",
        "plt.bar(missing_num.index,missing_num.values)    # ploting missing values \n",
        "plt.xticks(rotation=70)\n"
      ],
      "metadata": {
        "colab": {
          "base_uri": "https://localhost:8080/",
          "height": 492
        },
        "id": "EkFmoItotEjC",
        "outputId": "1a28dbd3-5fd2-412f-b2a9-dec8cd8b6634"
      },
      "execution_count": 7,
      "outputs": [
        {
          "output_type": "execute_result",
          "data": {
            "text/plain": [
              "([0, 1, 2, 3, 4, 5, 6, 7, 8, 9, 10, 11, 12, 13, 14, 15, 16, 17],\n",
              " <a list of 18 Text major ticklabel objects>)"
            ]
          },
          "metadata": {},
          "execution_count": 7
        },
        {
          "output_type": "display_data",
          "data": {
            "text/plain": [
              "<Figure size 1008x432 with 1 Axes>"
            ],
            "image/png": "[encoded data removed]"
          },
          "metadata": {
            "needs_background": "light"
          }
        }
      ]
    },
    {
      "cell_type": "code",
      "source": [
        "for features in num_features:\n",
        "  data[features] = data[features].fillna(data[features].mean())   # all missing values "
      ],
      "metadata": {
        "id": "Xbpb_YXUtKQF"
      },
      "execution_count": 8,
      "outputs": []
    },
    {
      "cell_type": "code",
      "source": [
        "data.shape"
      ],
      "metadata": {
        "colab": {
          "base_uri": "https://localhost:8080/"
        },
        "id": "no3il5QStNPs",
        "outputId": "5446397e-b492-4b70-c6df-546f92a57e70"
      },
      "execution_count": 9,
      "outputs": [
        {
          "output_type": "execute_result",
          "data": {
            "text/plain": [
              "(2757, 23)"
            ]
          },
          "metadata": {},
          "execution_count": 9
        }
      ]
    },
    {
      "cell_type": "code",
      "source": [
        "col = data.columns\n",
        "col  = np.array(col)\n",
        "print(type(col))"
      ],
      "metadata": {
        "colab": {
          "base_uri": "https://localhost:8080/"
        },
        "id": "4iGftklBtOx1",
        "outputId": "5a1ab4dc-c322-4c37-b226-0c8eefc3f5cd"
      },
      "execution_count": 10,
      "outputs": [
        {
          "output_type": "stream",
          "name": "stdout",
          "text": [
            "<class 'numpy.ndarray'>\n"
          ]
        }
      ]
    },
    {
      "cell_type": "code",
      "source": [
        "data.isnull().sum() # now no null values"
      ],
      "metadata": {
        "colab": {
          "base_uri": "https://localhost:8080/"
        },
        "id": "JzSPmH7_tQe9",
        "outputId": "66cf5f86-6a64-4cb9-81b2-5b0bc7321be6"
      },
      "execution_count": 11,
      "outputs": [
        {
          "output_type": "execute_result",
          "data": {
            "text/plain": [
              "DateNumber             0\n",
              "Date                   0\n",
              "Day                    0\n",
              "Cat.Id                 0\n",
              "Household.Id           0\n",
              "Name                   0\n",
              "Breed                  0\n",
              "Age                    0\n",
              "Gender                 0\n",
              "Other.Cats             0\n",
              "Desexed                0\n",
              "Microchipped           0\n",
              "Overall.Bark.points    0\n",
              "Health.Index           0\n",
              "Calories               0\n",
              "Sleep.score            0\n",
              "kms                    0\n",
              "Activity.Index         0\n",
              "Play                   0\n",
              "Active                 0\n",
              "Rest                   0\n",
              "Notes                  0\n",
              "Activity.Total         0\n",
              "dtype: int64"
            ]
          },
          "metadata": {},
          "execution_count": 11
        }
      ]
    },
    {
      "cell_type": "markdown",
      "source": [
        "## For Feature Selection"
      ],
      "metadata": {
        "id": "E0tLK7ootYpe"
      }
    },
    {
      "cell_type": "code",
      "source": [
        "numerical_data = data[['DateNumber', 'Date', 'Cat.Id', 'Household.Id', 'Age', 'Other.Cats', 'Desexed', 'Microchipped', 'Overall.Bark.points', 'Health.Index', 'Calories', 'Sleep.score', 'kms', 'Activity.Index', 'Play', 'Active', 'Rest', 'Activity.Total']]"
      ],
      "metadata": {
        "id": "JywT8XjtuVCb"
      },
      "execution_count": 25,
      "outputs": []
    },
    {
      "cell_type": "code",
      "source": [
        "numerical_data.drop(['DateNumber','Date'],axis=1,inplace=True)"
      ],
      "metadata": {
        "colab": {
          "base_uri": "https://localhost:8080/"
        },
        "id": "GLEd4jlm7hS3",
        "outputId": "e3e39746-a103-45b5-b5ab-e6e4a20ca8c1"
      },
      "execution_count": 26,
      "outputs": [
        {
          "output_type": "stream",
          "name": "stderr",
          "text": [
            "/usr/local/lib/python3.7/dist-packages/pandas/core/frame.py:4913: SettingWithCopyWarning: \n",
            "A value is trying to be set on a copy of a slice from a DataFrame\n",
            "\n",
            "See the caveats in the documentation: https://pandas.pydata.org/pandas-docs/stable/user_guide/indexing.html#returning-a-view-versus-a-copy\n",
            "  errors=errors,\n"
          ]
        }
      ]
    },
    {
      "cell_type": "code",
      "source": [
        "hi_mean = np.mean(data['Health.Index'])\n",
        "hi_mean"
      ],
      "metadata": {
        "colab": {
          "base_uri": "https://localhost:8080/"
        },
        "id": "Z2cPARsoqTcB",
        "outputId": "61482d46-c901-467e-e4a2-c69fd3f1b49a"
      },
      "execution_count": 27,
      "outputs": [
        {
          "output_type": "execute_result",
          "data": {
            "text/plain": [
              "67.32633517495395"
            ]
          },
          "metadata": {},
          "execution_count": 27
        }
      ]
    },
    {
      "cell_type": "code",
      "source": [
        "# here we are defining a function \n",
        "def encode_cat(feature):   # function will take feature \n",
        "  mapping_dic = {}         # empty dic \n",
        "  unique_val = list(data[feature].unique())    # extract particular feature from data and convert into list \n",
        "  for idx in range(len(unique_val)):      #loop will run till the len of list \n",
        "    mapping_dic[unique_val[idx]] = idx    # assign the index to the index of the list \n",
        "  return mapping_dic       # return the feature "
      ],
      "metadata": {
        "id": "CGS_EpTIrOcK"
      },
      "execution_count": 28,
      "outputs": []
    },
    {
      "cell_type": "code",
      "source": [
        "for i in cat_features:   # we have the list of categorical features \n",
        "  data[i].replace(encode_cat(i), inplace = True)  \n",
        "  # print(data.head())"
      ],
      "metadata": {
        "id": "CBMA0cYfrVPH"
      },
      "execution_count": 29,
      "outputs": []
    },
    {
      "cell_type": "code",
      "source": [
        "# first separate target variable\n",
        "y = numerical_data[['Health.Index']]\n",
        "numerical_data.drop(['Health.Index'],axis=1,inplace=True)"
      ],
      "metadata": {
        "id": "nG0hBbbMrkIS"
      },
      "execution_count": 30,
      "outputs": []
    },
    {
      "cell_type": "markdown",
      "source": [
        "## Finding p-values of every feature against our target variable (HI)"
      ],
      "metadata": {
        "id": "10H8-FkEhpCY"
      }
    },
    {
      "cell_type": "code",
      "source": [
        "import statsmodels.api as sm"
      ],
      "metadata": {
        "id": "AFQSEdXTrwdH"
      },
      "execution_count": 34,
      "outputs": []
    },
    {
      "cell_type": "code",
      "source": [
        "col = numerical_data.columns\n",
        "len(col)"
      ],
      "metadata": {
        "id": "ZSq68bw89eSc",
        "colab": {
          "base_uri": "https://localhost:8080/"
        },
        "outputId": "fd021908-9b70-4f89-8afb-b0ed58cca0cb"
      },
      "execution_count": 36,
      "outputs": [
        {
          "output_type": "execute_result",
          "data": {
            "text/plain": [
              "15"
            ]
          },
          "metadata": {},
          "execution_count": 36
        }
      ]
    },
    {
      "cell_type": "code",
      "source": [
        "from sklearn.model_selection import train_test_split\n",
        "import numpy as np\n",
        "# If p-value < 0.05 -->Significant\n",
        "# If p-value > 0.05 -->Not Significant\n",
        "y = np.asarray(y)\n",
        "numerical_data = np.asarray(numerical_data)\n",
        "X_train,X_test, Y_train, Y_test = train_test_split(numerical_data, y, test_size = .2, random_state = 10)"
      ],
      "metadata": {
        "id": "olkCTwO2ubw3"
      },
      "execution_count": 37,
      "outputs": []
    },
    {
      "cell_type": "code",
      "source": [
        "x_incl_cons = sm.add_constant(X_train)\n",
        "model = sm.OLS(Y_train, x_incl_cons)  #ordinary least square\n",
        "results = model.fit()  #regresssion results\n",
        "# results.params\n",
        "# results.pvalues\n",
        "df = pd.DataFrame({'column': col , 'pvalue': np.round(results.pvalues,3)})\n",
        "df"
      ],
      "metadata": {
        "colab": {
          "base_uri": "https://localhost:8080/",
          "height": 520
        },
        "id": "Eg7Gjo7Cieu7",
        "outputId": "ce3cda7a-b3b3-415d-fc9b-3c433a5d3980"
      },
      "execution_count": 43,
      "outputs": [
        {
          "output_type": "execute_result",
          "data": {
            "text/plain": [
              "                 column  pvalue\n",
              "0                Cat.Id   0.000\n",
              "1          Household.Id   0.000\n",
              "2                   Age   0.422\n",
              "3            Other.Cats   0.059\n",
              "4               Desexed   0.000\n",
              "5          Microchipped   0.000\n",
              "6   Overall.Bark.points   0.000\n",
              "7              Calories   0.834\n",
              "8           Sleep.score   0.068\n",
              "9                   kms   0.000\n",
              "10       Activity.Index   0.000\n",
              "11                 Play   0.000\n",
              "12               Active   0.000\n",
              "13                 Rest   0.000\n",
              "14       Activity.Total   0.323"
            ],
            "text/html": [
              "\n",
              "  <div id=\"df-0f5f5290-66d7-4f10-871d-2acef564d57f\">\n",
              "    <div class=\"colab-df-container\">\n",
              "      <div>\n",
              "<style scoped>\n",
              "    .dataframe tbody tr th:only-of-type {\n",
              "        vertical-align: middle;\n",
              "    }\n",
              "\n",
              "    .dataframe tbody tr th {\n",
              "        vertical-align: top;\n",
              "    }\n",
              "\n",
              "    .dataframe thead th {\n",
              "        text-align: right;\n",
              "    }\n",
              "</style>\n",
              "<table border=\"1\" class=\"dataframe\">\n",
              "  <thead>\n",
              "    <tr style=\"text-align: right;\">\n",
              "      <th></th>\n",
              "      <th>column</th>\n",
              "      <th>pvalue</th>\n",
              "    </tr>\n",
              "  </thead>\n",
              "  <tbody>\n",
              "    <tr>\n",
              "      <th>0</th>\n",
              "      <td>Cat.Id</td>\n",
              "      <td>0.000</td>\n",
              "    </tr>\n",
              "    <tr>\n",
              "      <th>1</th>\n",
              "      <td>Household.Id</td>\n",
              "      <td>0.000</td>\n",
              "    </tr>\n",
              "    <tr>\n",
              "      <th>2</th>\n",
              "      <td>Age</td>\n",
              "      <td>0.422</td>\n",
              "    </tr>\n",
              "    <tr>\n",
              "      <th>3</th>\n",
              "      <td>Other.Cats</td>\n",
              "      <td>0.059</td>\n",
              "    </tr>\n",
              "    <tr>\n",
              "      <th>4</th>\n",
              "      <td>Desexed</td>\n",
              "      <td>0.000</td>\n",
              "    </tr>\n",
              "    <tr>\n",
              "      <th>5</th>\n",
              "      <td>Microchipped</td>\n",
              "      <td>0.000</td>\n",
              "    </tr>\n",
              "    <tr>\n",
              "      <th>6</th>\n",
              "      <td>Overall.Bark.points</td>\n",
              "      <td>0.000</td>\n",
              "    </tr>\n",
              "    <tr>\n",
              "      <th>7</th>\n",
              "      <td>Calories</td>\n",
              "      <td>0.834</td>\n",
              "    </tr>\n",
              "    <tr>\n",
              "      <th>8</th>\n",
              "      <td>Sleep.score</td>\n",
              "      <td>0.068</td>\n",
              "    </tr>\n",
              "    <tr>\n",
              "      <th>9</th>\n",
              "      <td>kms</td>\n",
              "      <td>0.000</td>\n",
              "    </tr>\n",
              "    <tr>\n",
              "      <th>10</th>\n",
              "      <td>Activity.Index</td>\n",
              "      <td>0.000</td>\n",
              "    </tr>\n",
              "    <tr>\n",
              "      <th>11</th>\n",
              "      <td>Play</td>\n",
              "      <td>0.000</td>\n",
              "    </tr>\n",
              "    <tr>\n",
              "      <th>12</th>\n",
              "      <td>Active</td>\n",
              "      <td>0.000</td>\n",
              "    </tr>\n",
              "    <tr>\n",
              "      <th>13</th>\n",
              "      <td>Rest</td>\n",
              "      <td>0.000</td>\n",
              "    </tr>\n",
              "    <tr>\n",
              "      <th>14</th>\n",
              "      <td>Activity.Total</td>\n",
              "      <td>0.323</td>\n",
              "    </tr>\n",
              "  </tbody>\n",
              "</table>\n",
              "</div>\n",
              "      <button class=\"colab-df-convert\" onclick=\"convertToInteractive('df-0f5f5290-66d7-4f10-871d-2acef564d57f')\"\n",
              "              title=\"Convert this dataframe to an interactive table.\"\n",
              "              style=\"display:none;\">\n",
              "        \n",
              "  <svg xmlns=\"http://www.w3.org/2000/svg\" height=\"24px\"viewBox=\"0 0 24 24\"\n",
              "       width=\"24px\">\n",
              "    <path d=\"M0 0h24v24H0V0z\" fill=\"none\"/>\n",
              "    <path d=\"M18.56 5.44l.94 2.06.94-2.06 2.06-.94-2.06-.94-.94-2.06-.94 2.06-2.06.94zm-11 1L8.5 8.5l.94-2.06 2.06-.94-2.06-.94L8.5 2.5l-.94 2.06-2.06.94zm10 10l.94 2.06.94-2.06 2.06-.94-2.06-.94-.94-2.06-.94 2.06-2.06.94z\"/><path d=\"M17.41 7.96l-1.37-1.37c-.4-.4-.92-.59-1.43-.59-.52 0-1.04.2-1.43.59L10.3 9.45l-7.72 7.72c-.78.78-.78 2.05 0 2.83L4 21.41c.39.39.9.59 1.41.59.51 0 1.02-.2 1.41-.59l7.78-7.78 2.81-2.81c.8-.78.8-2.07 0-2.86zM5.41 20L4 18.59l7.72-7.72 1.47 1.35L5.41 20z\"/>\n",
              "  </svg>\n",
              "      </button>\n",
              "      \n",
              "  <style>\n",
              "    .colab-df-container {\n",
              "      display:flex;\n",
              "      flex-wrap:wrap;\n",
              "      gap: 12px;\n",
              "    }\n",
              "\n",
              "    .colab-df-convert {\n",
              "      background-color: #E8F0FE;\n",
              "      border: none;\n",
              "      border-radius: 50%;\n",
              "      cursor: pointer;\n",
              "      display: none;\n",
              "      fill: #1967D2;\n",
              "      height: 32px;\n",
              "      padding: 0 0 0 0;\n",
              "      width: 32px;\n",
              "    }\n",
              "\n",
              "    .colab-df-convert:hover {\n",
              "      background-color: #E2EBFA;\n",
              "      box-shadow: 0px 1px 2px rgba(60, 64, 67, 0.3), 0px 1px 3px 1px rgba(60, 64, 67, 0.15);\n",
              "      fill: #174EA6;\n",
              "    }\n",
              "\n",
              "    [theme=dark] .colab-df-convert {\n",
              "      background-color: #3B4455;\n",
              "      fill: #D2E3FC;\n",
              "    }\n",
              "\n",
              "    [theme=dark] .colab-df-convert:hover {\n",
              "      background-color: #434B5C;\n",
              "      box-shadow: 0px 1px 3px 1px rgba(0, 0, 0, 0.15);\n",
              "      filter: drop-shadow(0px 1px 2px rgba(0, 0, 0, 0.3));\n",
              "      fill: #FFFFFF;\n",
              "    }\n",
              "  </style>\n",
              "\n",
              "      <script>\n",
              "        const buttonEl =\n",
              "          document.querySelector('#df-0f5f5290-66d7-4f10-871d-2acef564d57f button.colab-df-convert');\n",
              "        buttonEl.style.display =\n",
              "          google.colab.kernel.accessAllowed ? 'block' : 'none';\n",
              "\n",
              "        async function convertToInteractive(key) {\n",
              "          const element = document.querySelector('#df-0f5f5290-66d7-4f10-871d-2acef564d57f');\n",
              "          const dataTable =\n",
              "            await google.colab.kernel.invokeFunction('convertToInteractive',\n",
              "                                                     [key], {});\n",
              "          if (!dataTable) return;\n",
              "\n",
              "          const docLinkHtml = 'Like what you see? Visit the ' +\n",
              "            '<a target=\"_blank\" href=https://colab.research.google.com/notebooks/data_table.ipynb>data table notebook</a>'\n",
              "            + ' to learn more about interactive tables.';\n",
              "          element.innerHTML = '';\n",
              "          dataTable['output_type'] = 'display_data';\n",
              "          await google.colab.output.renderOutput(dataTable, element);\n",
              "          const docLink = document.createElement('div');\n",
              "          docLink.innerHTML = docLinkHtml;\n",
              "          element.appendChild(docLink);\n",
              "        }\n",
              "      </script>\n",
              "    </div>\n",
              "  </div>\n",
              "  "
            ]
          },
          "metadata": {},
          "execution_count": 43
        }
      ]
    },
    {
      "cell_type": "code",
      "source": [
        "new_df = df[df.iloc[:, 1] <=0.05]\n",
        "sig_col = new_df['column']\n",
        "list(sig_col)"
      ],
      "metadata": {
        "colab": {
          "base_uri": "https://localhost:8080/"
        },
        "id": "ATCDO2jurxUi",
        "outputId": "867de431-ce14-4de8-a011-9897b0d98e83"
      },
      "execution_count": 41,
      "outputs": [
        {
          "output_type": "execute_result",
          "data": {
            "text/plain": [
              "['Cat.Id',\n",
              " 'Household.Id',\n",
              " 'Desexed',\n",
              " 'Microchipped',\n",
              " 'Overall.Bark.points',\n",
              " 'kms',\n",
              " 'Activity.Index',\n",
              " 'Play',\n",
              " 'Active',\n",
              " 'Rest']"
            ]
          },
          "metadata": {},
          "execution_count": 41
        }
      ]
    },
    {
      "cell_type": "markdown",
      "source": [
        "## Now again select only those features whihc pass our hypotheseis p-value test"
      ],
      "metadata": {
        "id": "isRSs-L-wVF6"
      }
    },
    {
      "cell_type": "code",
      "source": [
        "data.head()"
      ],
      "metadata": {
        "colab": {
          "base_uri": "https://localhost:8080/",
          "height": 386
        },
        "id": "PVTwRI3k-CZA",
        "outputId": "2b6f1634-8b05-4a1f-f7ed-4cdd97758d14"
      },
      "execution_count": 42,
      "outputs": [
        {
          "output_type": "execute_result",
          "data": {
            "text/plain": [
              "   DateNumber       Date  Day  Cat.Id  Household.Id  Name  Breed  Age  Gender  \\\n",
              "0       44468 2021-09-29    0       1             1     0      0  1.0       0   \n",
              "1       44469 2021-09-30    1       1             1     0      0  1.0       0   \n",
              "2       44470 2021-10-01    2       1             1     0      0  1.0       0   \n",
              "3       44471 2021-10-02    3       1             1     0      0  1.0       0   \n",
              "4       44473 2021-10-04    4       1             1     0      0  1.0       0   \n",
              "\n",
              "   Other.Cats  ...  Health.Index  Calories  Sleep.score   kms  Activity.Index  \\\n",
              "0           0  ...          74.0       305           85  4.39           124.0   \n",
              "1           0  ...          75.0       282           68  3.80           101.0   \n",
              "2           0  ...          73.0       283           69  3.83           102.0   \n",
              "3           0  ...          74.0       280           78  3.77            99.0   \n",
              "4           0  ...          74.0       293           65  4.10           108.0   \n",
              "\n",
              "   Play  Active  Rest  Notes  Activity.Total  \n",
              "0    43     591   806      0            1440  \n",
              "1    40     603   797      0            1440  \n",
              "2    25     647   768      0            1440  \n",
              "3    30     637   773      0            1440  \n",
              "4    36     606   798      0            1440  \n",
              "\n",
              "[5 rows x 23 columns]"
            ],
            "text/html": [
              "\n",
              "  <div id=\"df-67d090c8-4c92-4753-8a75-d9295c41c90e\">\n",
              "    <div class=\"colab-df-container\">\n",
              "      <div>\n",
              "<style scoped>\n",
              "    .dataframe tbody tr th:only-of-type {\n",
              "        vertical-align: middle;\n",
              "    }\n",
              "\n",
              "    .dataframe tbody tr th {\n",
              "        vertical-align: top;\n",
              "    }\n",
              "\n",
              "    .dataframe thead th {\n",
              "        text-align: right;\n",
              "    }\n",
              "</style>\n",
              "<table border=\"1\" class=\"dataframe\">\n",
              "  <thead>\n",
              "    <tr style=\"text-align: right;\">\n",
              "      <th></th>\n",
              "      <th>DateNumber</th>\n",
              "      <th>Date</th>\n",
              "      <th>Day</th>\n",
              "      <th>Cat.Id</th>\n",
              "      <th>Household.Id</th>\n",
              "      <th>Name</th>\n",
              "      <th>Breed</th>\n",
              "      <th>Age</th>\n",
              "      <th>Gender</th>\n",
              "      <th>Other.Cats</th>\n",
              "      <th>...</th>\n",
              "      <th>Health.Index</th>\n",
              "      <th>Calories</th>\n",
              "      <th>Sleep.score</th>\n",
              "      <th>kms</th>\n",
              "      <th>Activity.Index</th>\n",
              "      <th>Play</th>\n",
              "      <th>Active</th>\n",
              "      <th>Rest</th>\n",
              "      <th>Notes</th>\n",
              "      <th>Activity.Total</th>\n",
              "    </tr>\n",
              "  </thead>\n",
              "  <tbody>\n",
              "    <tr>\n",
              "      <th>0</th>\n",
              "      <td>44468</td>\n",
              "      <td>2021-09-29</td>\n",
              "      <td>0</td>\n",
              "      <td>1</td>\n",
              "      <td>1</td>\n",
              "      <td>0</td>\n",
              "      <td>0</td>\n",
              "      <td>1.0</td>\n",
              "      <td>0</td>\n",
              "      <td>0</td>\n",
              "      <td>...</td>\n",
              "      <td>74.0</td>\n",
              "      <td>305</td>\n",
              "      <td>85</td>\n",
              "      <td>4.39</td>\n",
              "      <td>124.0</td>\n",
              "      <td>43</td>\n",
              "      <td>591</td>\n",
              "      <td>806</td>\n",
              "      <td>0</td>\n",
              "      <td>1440</td>\n",
              "    </tr>\n",
              "    <tr>\n",
              "      <th>1</th>\n",
              "      <td>44469</td>\n",
              "      <td>2021-09-30</td>\n",
              "      <td>1</td>\n",
              "      <td>1</td>\n",
              "      <td>1</td>\n",
              "      <td>0</td>\n",
              "      <td>0</td>\n",
              "      <td>1.0</td>\n",
              "      <td>0</td>\n",
              "      <td>0</td>\n",
              "      <td>...</td>\n",
              "      <td>75.0</td>\n",
              "      <td>282</td>\n",
              "      <td>68</td>\n",
              "      <td>3.80</td>\n",
              "      <td>101.0</td>\n",
              "      <td>40</td>\n",
              "      <td>603</td>\n",
              "      <td>797</td>\n",
              "      <td>0</td>\n",
              "      <td>1440</td>\n",
              "    </tr>\n",
              "    <tr>\n",
              "      <th>2</th>\n",
              "      <td>44470</td>\n",
              "      <td>2021-10-01</td>\n",
              "      <td>2</td>\n",
              "      <td>1</td>\n",
              "      <td>1</td>\n",
              "      <td>0</td>\n",
              "      <td>0</td>\n",
              "      <td>1.0</td>\n",
              "      <td>0</td>\n",
              "      <td>0</td>\n",
              "      <td>...</td>\n",
              "      <td>73.0</td>\n",
              "      <td>283</td>\n",
              "      <td>69</td>\n",
              "      <td>3.83</td>\n",
              "      <td>102.0</td>\n",
              "      <td>25</td>\n",
              "      <td>647</td>\n",
              "      <td>768</td>\n",
              "      <td>0</td>\n",
              "      <td>1440</td>\n",
              "    </tr>\n",
              "    <tr>\n",
              "      <th>3</th>\n",
              "      <td>44471</td>\n",
              "      <td>2021-10-02</td>\n",
              "      <td>3</td>\n",
              "      <td>1</td>\n",
              "      <td>1</td>\n",
              "      <td>0</td>\n",
              "      <td>0</td>\n",
              "      <td>1.0</td>\n",
              "      <td>0</td>\n",
              "      <td>0</td>\n",
              "      <td>...</td>\n",
              "      <td>74.0</td>\n",
              "      <td>280</td>\n",
              "      <td>78</td>\n",
              "      <td>3.77</td>\n",
              "      <td>99.0</td>\n",
              "      <td>30</td>\n",
              "      <td>637</td>\n",
              "      <td>773</td>\n",
              "      <td>0</td>\n",
              "      <td>1440</td>\n",
              "    </tr>\n",
              "    <tr>\n",
              "      <th>4</th>\n",
              "      <td>44473</td>\n",
              "      <td>2021-10-04</td>\n",
              "      <td>4</td>\n",
              "      <td>1</td>\n",
              "      <td>1</td>\n",
              "      <td>0</td>\n",
              "      <td>0</td>\n",
              "      <td>1.0</td>\n",
              "      <td>0</td>\n",
              "      <td>0</td>\n",
              "      <td>...</td>\n",
              "      <td>74.0</td>\n",
              "      <td>293</td>\n",
              "      <td>65</td>\n",
              "      <td>4.10</td>\n",
              "      <td>108.0</td>\n",
              "      <td>36</td>\n",
              "      <td>606</td>\n",
              "      <td>798</td>\n",
              "      <td>0</td>\n",
              "      <td>1440</td>\n",
              "    </tr>\n",
              "  </tbody>\n",
              "</table>\n",
              "<p>5 rows × 23 columns</p>\n",
              "</div>\n",
              "      <button class=\"colab-df-convert\" onclick=\"convertToInteractive('df-67d090c8-4c92-4753-8a75-d9295c41c90e')\"\n",
              "              title=\"Convert this dataframe to an interactive table.\"\n",
              "              style=\"display:none;\">\n",
              "        \n",
              "  <svg xmlns=\"http://www.w3.org/2000/svg\" height=\"24px\"viewBox=\"0 0 24 24\"\n",
              "       width=\"24px\">\n",
              "    <path d=\"M0 0h24v24H0V0z\" fill=\"none\"/>\n",
              "    <path d=\"M18.56 5.44l.94 2.06.94-2.06 2.06-.94-2.06-.94-.94-2.06-.94 2.06-2.06.94zm-11 1L8.5 8.5l.94-2.06 2.06-.94-2.06-.94L8.5 2.5l-.94 2.06-2.06.94zm10 10l.94 2.06.94-2.06 2.06-.94-2.06-.94-.94-2.06-.94 2.06-2.06.94z\"/><path d=\"M17.41 7.96l-1.37-1.37c-.4-.4-.92-.59-1.43-.59-.52 0-1.04.2-1.43.59L10.3 9.45l-7.72 7.72c-.78.78-.78 2.05 0 2.83L4 21.41c.39.39.9.59 1.41.59.51 0 1.02-.2 1.41-.59l7.78-7.78 2.81-2.81c.8-.78.8-2.07 0-2.86zM5.41 20L4 18.59l7.72-7.72 1.47 1.35L5.41 20z\"/>\n",
              "  </svg>\n",
              "      </button>\n",
              "      \n",
              "  <style>\n",
              "    .colab-df-container {\n",
              "      display:flex;\n",
              "      flex-wrap:wrap;\n",
              "      gap: 12px;\n",
              "    }\n",
              "\n",
              "    .colab-df-convert {\n",
              "      background-color: #E8F0FE;\n",
              "      border: none;\n",
              "      border-radius: 50%;\n",
              "      cursor: pointer;\n",
              "      display: none;\n",
              "      fill: #1967D2;\n",
              "      height: 32px;\n",
              "      padding: 0 0 0 0;\n",
              "      width: 32px;\n",
              "    }\n",
              "\n",
              "    .colab-df-convert:hover {\n",
              "      background-color: #E2EBFA;\n",
              "      box-shadow: 0px 1px 2px rgba(60, 64, 67, 0.3), 0px 1px 3px 1px rgba(60, 64, 67, 0.15);\n",
              "      fill: #174EA6;\n",
              "    }\n",
              "\n",
              "    [theme=dark] .colab-df-convert {\n",
              "      background-color: #3B4455;\n",
              "      fill: #D2E3FC;\n",
              "    }\n",
              "\n",
              "    [theme=dark] .colab-df-convert:hover {\n",
              "      background-color: #434B5C;\n",
              "      box-shadow: 0px 1px 3px 1px rgba(0, 0, 0, 0.15);\n",
              "      filter: drop-shadow(0px 1px 2px rgba(0, 0, 0, 0.3));\n",
              "      fill: #FFFFFF;\n",
              "    }\n",
              "  </style>\n",
              "\n",
              "      <script>\n",
              "        const buttonEl =\n",
              "          document.querySelector('#df-67d090c8-4c92-4753-8a75-d9295c41c90e button.colab-df-convert');\n",
              "        buttonEl.style.display =\n",
              "          google.colab.kernel.accessAllowed ? 'block' : 'none';\n",
              "\n",
              "        async function convertToInteractive(key) {\n",
              "          const element = document.querySelector('#df-67d090c8-4c92-4753-8a75-d9295c41c90e');\n",
              "          const dataTable =\n",
              "            await google.colab.kernel.invokeFunction('convertToInteractive',\n",
              "                                                     [key], {});\n",
              "          if (!dataTable) return;\n",
              "\n",
              "          const docLinkHtml = 'Like what you see? Visit the ' +\n",
              "            '<a target=\"_blank\" href=https://colab.research.google.com/notebooks/data_table.ipynb>data table notebook</a>'\n",
              "            + ' to learn more about interactive tables.';\n",
              "          element.innerHTML = '';\n",
              "          dataTable['output_type'] = 'display_data';\n",
              "          await google.colab.output.renderOutput(dataTable, element);\n",
              "          const docLink = document.createElement('div');\n",
              "          docLink.innerHTML = docLinkHtml;\n",
              "          element.appendChild(docLink);\n",
              "        }\n",
              "      </script>\n",
              "    </div>\n",
              "  </div>\n",
              "  "
            ]
          },
          "metadata": {},
          "execution_count": 42
        }
      ]
    },
    {
      "cell_type": "code",
      "source": [
        "final_feature = data[['Cat.Id',\n",
        " 'Household.Id',\n",
        " 'Desexed',\n",
        " 'Microchipped',\n",
        " 'Overall.Bark.points',\n",
        " 'kms',\n",
        " 'Activity.Index',\n",
        " 'Play',\n",
        " 'Active',\n",
        " 'Rest']]"
      ],
      "metadata": {
        "id": "enGA9QvHwSKp"
      },
      "execution_count": 44,
      "outputs": []
    },
    {
      "cell_type": "markdown",
      "source": [
        "## Now create target column for our Health Index"
      ],
      "metadata": {
        "id": "izH_JR8ji-l_"
      }
    },
    {
      "cell_type": "code",
      "source": [
        "def cat_health(row):\n",
        "  if row['Health.Index'] <= hi_mean:\n",
        "    return \"Unhealthy \"\n",
        "  if row['Health.Index'] > hi_mean:\n",
        "    return \"Healthy\""
      ],
      "metadata": {
        "id": "iKN4JMnujREW"
      },
      "execution_count": 60,
      "outputs": []
    },
    {
      "cell_type": "code",
      "source": [
        "data['Target'] = data.apply(lambda row: cat_health(row), axis=1)\n",
        "data.head()"
      ],
      "metadata": {
        "colab": {
          "base_uri": "https://localhost:8080/",
          "height": 386
        },
        "id": "vNMDET-Ci4FM",
        "outputId": "8b6b43cf-fb88-44ad-c4d3-b743b028e73a"
      },
      "execution_count": 61,
      "outputs": [
        {
          "output_type": "execute_result",
          "data": {
            "text/plain": [
              "   DateNumber       Date  Day  Cat.Id  Household.Id  Name  Breed  Age  Gender  \\\n",
              "0       44468 2021-09-29    0       1             1     0      0  1.0       0   \n",
              "1       44469 2021-09-30    1       1             1     0      0  1.0       0   \n",
              "2       44470 2021-10-01    2       1             1     0      0  1.0       0   \n",
              "3       44471 2021-10-02    3       1             1     0      0  1.0       0   \n",
              "4       44473 2021-10-04    4       1             1     0      0  1.0       0   \n",
              "\n",
              "   Other.Cats  ...  Calories  Sleep.score   kms  Activity.Index  Play  Active  \\\n",
              "0           0  ...       305           85  4.39           124.0    43     591   \n",
              "1           0  ...       282           68  3.80           101.0    40     603   \n",
              "2           0  ...       283           69  3.83           102.0    25     647   \n",
              "3           0  ...       280           78  3.77            99.0    30     637   \n",
              "4           0  ...       293           65  4.10           108.0    36     606   \n",
              "\n",
              "   Rest  Notes  Activity.Total   Target  \n",
              "0   806      0            1440  Healthy  \n",
              "1   797      0            1440  Healthy  \n",
              "2   768      0            1440  Healthy  \n",
              "3   773      0            1440  Healthy  \n",
              "4   798      0            1440  Healthy  \n",
              "\n",
              "[5 rows x 24 columns]"
            ],
            "text/html": [
              "\n",
              "  <div id=\"df-271ba853-5879-4787-b6b1-ef04ff0eb497\">\n",
              "    <div class=\"colab-df-container\">\n",
              "      <div>\n",
              "<style scoped>\n",
              "    .dataframe tbody tr th:only-of-type {\n",
              "        vertical-align: middle;\n",
              "    }\n",
              "\n",
              "    .dataframe tbody tr th {\n",
              "        vertical-align: top;\n",
              "    }\n",
              "\n",
              "    .dataframe thead th {\n",
              "        text-align: right;\n",
              "    }\n",
              "</style>\n",
              "<table border=\"1\" class=\"dataframe\">\n",
              "  <thead>\n",
              "    <tr style=\"text-align: right;\">\n",
              "      <th></th>\n",
              "      <th>DateNumber</th>\n",
              "      <th>Date</th>\n",
              "      <th>Day</th>\n",
              "      <th>Cat.Id</th>\n",
              "      <th>Household.Id</th>\n",
              "      <th>Name</th>\n",
              "      <th>Breed</th>\n",
              "      <th>Age</th>\n",
              "      <th>Gender</th>\n",
              "      <th>Other.Cats</th>\n",
              "      <th>...</th>\n",
              "      <th>Calories</th>\n",
              "      <th>Sleep.score</th>\n",
              "      <th>kms</th>\n",
              "      <th>Activity.Index</th>\n",
              "      <th>Play</th>\n",
              "      <th>Active</th>\n",
              "      <th>Rest</th>\n",
              "      <th>Notes</th>\n",
              "      <th>Activity.Total</th>\n",
              "      <th>Target</th>\n",
              "    </tr>\n",
              "  </thead>\n",
              "  <tbody>\n",
              "    <tr>\n",
              "      <th>0</th>\n",
              "      <td>44468</td>\n",
              "      <td>2021-09-29</td>\n",
              "      <td>0</td>\n",
              "      <td>1</td>\n",
              "      <td>1</td>\n",
              "      <td>0</td>\n",
              "      <td>0</td>\n",
              "      <td>1.0</td>\n",
              "      <td>0</td>\n",
              "      <td>0</td>\n",
              "      <td>...</td>\n",
              "      <td>305</td>\n",
              "      <td>85</td>\n",
              "      <td>4.39</td>\n",
              "      <td>124.0</td>\n",
              "      <td>43</td>\n",
              "      <td>591</td>\n",
              "      <td>806</td>\n",
              "      <td>0</td>\n",
              "      <td>1440</td>\n",
              "      <td>Healthy</td>\n",
              "    </tr>\n",
              "    <tr>\n",
              "      <th>1</th>\n",
              "      <td>44469</td>\n",
              "      <td>2021-09-30</td>\n",
              "      <td>1</td>\n",
              "      <td>1</td>\n",
              "      <td>1</td>\n",
              "      <td>0</td>\n",
              "      <td>0</td>\n",
              "      <td>1.0</td>\n",
              "      <td>0</td>\n",
              "      <td>0</td>\n",
              "      <td>...</td>\n",
              "      <td>282</td>\n",
              "      <td>68</td>\n",
              "      <td>3.80</td>\n",
              "      <td>101.0</td>\n",
              "      <td>40</td>\n",
              "      <td>603</td>\n",
              "      <td>797</td>\n",
              "      <td>0</td>\n",
              "      <td>1440</td>\n",
              "      <td>Healthy</td>\n",
              "    </tr>\n",
              "    <tr>\n",
              "      <th>2</th>\n",
              "      <td>44470</td>\n",
              "      <td>2021-10-01</td>\n",
              "      <td>2</td>\n",
              "      <td>1</td>\n",
              "      <td>1</td>\n",
              "      <td>0</td>\n",
              "      <td>0</td>\n",
              "      <td>1.0</td>\n",
              "      <td>0</td>\n",
              "      <td>0</td>\n",
              "      <td>...</td>\n",
              "      <td>283</td>\n",
              "      <td>69</td>\n",
              "      <td>3.83</td>\n",
              "      <td>102.0</td>\n",
              "      <td>25</td>\n",
              "      <td>647</td>\n",
              "      <td>768</td>\n",
              "      <td>0</td>\n",
              "      <td>1440</td>\n",
              "      <td>Healthy</td>\n",
              "    </tr>\n",
              "    <tr>\n",
              "      <th>3</th>\n",
              "      <td>44471</td>\n",
              "      <td>2021-10-02</td>\n",
              "      <td>3</td>\n",
              "      <td>1</td>\n",
              "      <td>1</td>\n",
              "      <td>0</td>\n",
              "      <td>0</td>\n",
              "      <td>1.0</td>\n",
              "      <td>0</td>\n",
              "      <td>0</td>\n",
              "      <td>...</td>\n",
              "      <td>280</td>\n",
              "      <td>78</td>\n",
              "      <td>3.77</td>\n",
              "      <td>99.0</td>\n",
              "      <td>30</td>\n",
              "      <td>637</td>\n",
              "      <td>773</td>\n",
              "      <td>0</td>\n",
              "      <td>1440</td>\n",
              "      <td>Healthy</td>\n",
              "    </tr>\n",
              "    <tr>\n",
              "      <th>4</th>\n",
              "      <td>44473</td>\n",
              "      <td>2021-10-04</td>\n",
              "      <td>4</td>\n",
              "      <td>1</td>\n",
              "      <td>1</td>\n",
              "      <td>0</td>\n",
              "      <td>0</td>\n",
              "      <td>1.0</td>\n",
              "      <td>0</td>\n",
              "      <td>0</td>\n",
              "      <td>...</td>\n",
              "      <td>293</td>\n",
              "      <td>65</td>\n",
              "      <td>4.10</td>\n",
              "      <td>108.0</td>\n",
              "      <td>36</td>\n",
              "      <td>606</td>\n",
              "      <td>798</td>\n",
              "      <td>0</td>\n",
              "      <td>1440</td>\n",
              "      <td>Healthy</td>\n",
              "    </tr>\n",
              "  </tbody>\n",
              "</table>\n",
              "<p>5 rows × 24 columns</p>\n",
              "</div>\n",
              "      <button class=\"colab-df-convert\" onclick=\"convertToInteractive('df-271ba853-5879-4787-b6b1-ef04ff0eb497')\"\n",
              "              title=\"Convert this dataframe to an interactive table.\"\n",
              "              style=\"display:none;\">\n",
              "        \n",
              "  <svg xmlns=\"http://www.w3.org/2000/svg\" height=\"24px\"viewBox=\"0 0 24 24\"\n",
              "       width=\"24px\">\n",
              "    <path d=\"M0 0h24v24H0V0z\" fill=\"none\"/>\n",
              "    <path d=\"M18.56 5.44l.94 2.06.94-2.06 2.06-.94-2.06-.94-.94-2.06-.94 2.06-2.06.94zm-11 1L8.5 8.5l.94-2.06 2.06-.94-2.06-.94L8.5 2.5l-.94 2.06-2.06.94zm10 10l.94 2.06.94-2.06 2.06-.94-2.06-.94-.94-2.06-.94 2.06-2.06.94z\"/><path d=\"M17.41 7.96l-1.37-1.37c-.4-.4-.92-.59-1.43-.59-.52 0-1.04.2-1.43.59L10.3 9.45l-7.72 7.72c-.78.78-.78 2.05 0 2.83L4 21.41c.39.39.9.59 1.41.59.51 0 1.02-.2 1.41-.59l7.78-7.78 2.81-2.81c.8-.78.8-2.07 0-2.86zM5.41 20L4 18.59l7.72-7.72 1.47 1.35L5.41 20z\"/>\n",
              "  </svg>\n",
              "      </button>\n",
              "      \n",
              "  <style>\n",
              "    .colab-df-container {\n",
              "      display:flex;\n",
              "      flex-wrap:wrap;\n",
              "      gap: 12px;\n",
              "    }\n",
              "\n",
              "    .colab-df-convert {\n",
              "      background-color: #E8F0FE;\n",
              "      border: none;\n",
              "      border-radius: 50%;\n",
              "      cursor: pointer;\n",
              "      display: none;\n",
              "      fill: #1967D2;\n",
              "      height: 32px;\n",
              "      padding: 0 0 0 0;\n",
              "      width: 32px;\n",
              "    }\n",
              "\n",
              "    .colab-df-convert:hover {\n",
              "      background-color: #E2EBFA;\n",
              "      box-shadow: 0px 1px 2px rgba(60, 64, 67, 0.3), 0px 1px 3px 1px rgba(60, 64, 67, 0.15);\n",
              "      fill: #174EA6;\n",
              "    }\n",
              "\n",
              "    [theme=dark] .colab-df-convert {\n",
              "      background-color: #3B4455;\n",
              "      fill: #D2E3FC;\n",
              "    }\n",
              "\n",
              "    [theme=dark] .colab-df-convert:hover {\n",
              "      background-color: #434B5C;\n",
              "      box-shadow: 0px 1px 3px 1px rgba(0, 0, 0, 0.15);\n",
              "      filter: drop-shadow(0px 1px 2px rgba(0, 0, 0, 0.3));\n",
              "      fill: #FFFFFF;\n",
              "    }\n",
              "  </style>\n",
              "\n",
              "      <script>\n",
              "        const buttonEl =\n",
              "          document.querySelector('#df-271ba853-5879-4787-b6b1-ef04ff0eb497 button.colab-df-convert');\n",
              "        buttonEl.style.display =\n",
              "          google.colab.kernel.accessAllowed ? 'block' : 'none';\n",
              "\n",
              "        async function convertToInteractive(key) {\n",
              "          const element = document.querySelector('#df-271ba853-5879-4787-b6b1-ef04ff0eb497');\n",
              "          const dataTable =\n",
              "            await google.colab.kernel.invokeFunction('convertToInteractive',\n",
              "                                                     [key], {});\n",
              "          if (!dataTable) return;\n",
              "\n",
              "          const docLinkHtml = 'Like what you see? Visit the ' +\n",
              "            '<a target=\"_blank\" href=https://colab.research.google.com/notebooks/data_table.ipynb>data table notebook</a>'\n",
              "            + ' to learn more about interactive tables.';\n",
              "          element.innerHTML = '';\n",
              "          dataTable['output_type'] = 'display_data';\n",
              "          await google.colab.output.renderOutput(dataTable, element);\n",
              "          const docLink = document.createElement('div');\n",
              "          docLink.innerHTML = docLinkHtml;\n",
              "          element.appendChild(docLink);\n",
              "        }\n",
              "      </script>\n",
              "    </div>\n",
              "  </div>\n",
              "  "
            ]
          },
          "metadata": {},
          "execution_count": 61
        }
      ]
    },
    {
      "cell_type": "markdown",
      "source": [
        "# Encoding and Preparing Dataset for Binary Classification"
      ],
      "metadata": {
        "id": "F0BaG2r7jxL3"
      }
    },
    {
      "cell_type": "code",
      "source": [
        "# Checking Categorical Features in dataset and counting it \n",
        "\n",
        "cat_features = [columns_name for columns_name in data.columns if data[columns_name].dtype == \"O\"]\n",
        "print(\"Number of Categorical Features we have in data is : {}  \".format(len(cat_features)))\n",
        "print(\"Here is Listed features {} \".format(cat_features))\n",
        "missing_cat = data[cat_features].isnull().sum() # Total missing values \n",
        "print(missing_cat)\n",
        "for i in cat_features:   # we have the list of categorical features \n",
        "  data[i].replace(encode_cat(i), inplace = True)  \n",
        "  # print(data.head())"
      ],
      "metadata": {
        "colab": {
          "base_uri": "https://localhost:8080/"
        },
        "id": "MHO_BJvgj4pH",
        "outputId": "bb61329e-e33e-4973-c690-103632b4cab9"
      },
      "execution_count": 62,
      "outputs": [
        {
          "output_type": "stream",
          "name": "stdout",
          "text": [
            "Number of Categorical Features we have in data is : 1  \n",
            "Here is Listed features ['Target'] \n",
            "Target    0\n",
            "dtype: int64\n"
          ]
        }
      ]
    },
    {
      "cell_type": "code",
      "source": [
        "final_data = data[['Cat.Id',\n",
        " 'Household.Id',\n",
        " 'Desexed',\n",
        " 'Microchipped',\n",
        " 'Overall.Bark.points',\n",
        " 'kms',\n",
        " 'Activity.Index',\n",
        " 'Play',\n",
        " 'Active',\n",
        " 'Rest','Target']]\n",
        "final_data.head()"
      ],
      "metadata": {
        "colab": {
          "base_uri": "https://localhost:8080/",
          "height": 206
        },
        "id": "9aEU_HxMj4m7",
        "outputId": "2012cac4-ca6e-4f85-a123-5e18e4e7e5e8"
      },
      "execution_count": 63,
      "outputs": [
        {
          "output_type": "execute_result",
          "data": {
            "text/plain": [
              "   Cat.Id  Household.Id  Desexed  Microchipped  Overall.Bark.points   kms  \\\n",
              "0       1             1        1           1.0                 6595  4.39   \n",
              "1       1             1        1           1.0                 5707  3.80   \n",
              "2       1             1        1           1.0                 5761  3.83   \n",
              "3       1             1        1           1.0                 5650  3.77   \n",
              "4       1             1        1           1.0                 6161  4.10   \n",
              "\n",
              "   Activity.Index  Play  Active  Rest  Target  \n",
              "0           124.0    43     591   806       0  \n",
              "1           101.0    40     603   797       0  \n",
              "2           102.0    25     647   768       0  \n",
              "3            99.0    30     637   773       0  \n",
              "4           108.0    36     606   798       0  "
            ],
            "text/html": [
              "\n",
              "  <div id=\"df-da90f46d-295a-4ba0-a3f5-1b46b6d0c2ae\">\n",
              "    <div class=\"colab-df-container\">\n",
              "      <div>\n",
              "<style scoped>\n",
              "    .dataframe tbody tr th:only-of-type {\n",
              "        vertical-align: middle;\n",
              "    }\n",
              "\n",
              "    .dataframe tbody tr th {\n",
              "        vertical-align: top;\n",
              "    }\n",
              "\n",
              "    .dataframe thead th {\n",
              "        text-align: right;\n",
              "    }\n",
              "</style>\n",
              "<table border=\"1\" class=\"dataframe\">\n",
              "  <thead>\n",
              "    <tr style=\"text-align: right;\">\n",
              "      <th></th>\n",
              "      <th>Cat.Id</th>\n",
              "      <th>Household.Id</th>\n",
              "      <th>Desexed</th>\n",
              "      <th>Microchipped</th>\n",
              "      <th>Overall.Bark.points</th>\n",
              "      <th>kms</th>\n",
              "      <th>Activity.Index</th>\n",
              "      <th>Play</th>\n",
              "      <th>Active</th>\n",
              "      <th>Rest</th>\n",
              "      <th>Target</th>\n",
              "    </tr>\n",
              "  </thead>\n",
              "  <tbody>\n",
              "    <tr>\n",
              "      <th>0</th>\n",
              "      <td>1</td>\n",
              "      <td>1</td>\n",
              "      <td>1</td>\n",
              "      <td>1.0</td>\n",
              "      <td>6595</td>\n",
              "      <td>4.39</td>\n",
              "      <td>124.0</td>\n",
              "      <td>43</td>\n",
              "      <td>591</td>\n",
              "      <td>806</td>\n",
              "      <td>0</td>\n",
              "    </tr>\n",
              "    <tr>\n",
              "      <th>1</th>\n",
              "      <td>1</td>\n",
              "      <td>1</td>\n",
              "      <td>1</td>\n",
              "      <td>1.0</td>\n",
              "      <td>5707</td>\n",
              "      <td>3.80</td>\n",
              "      <td>101.0</td>\n",
              "      <td>40</td>\n",
              "      <td>603</td>\n",
              "      <td>797</td>\n",
              "      <td>0</td>\n",
              "    </tr>\n",
              "    <tr>\n",
              "      <th>2</th>\n",
              "      <td>1</td>\n",
              "      <td>1</td>\n",
              "      <td>1</td>\n",
              "      <td>1.0</td>\n",
              "      <td>5761</td>\n",
              "      <td>3.83</td>\n",
              "      <td>102.0</td>\n",
              "      <td>25</td>\n",
              "      <td>647</td>\n",
              "      <td>768</td>\n",
              "      <td>0</td>\n",
              "    </tr>\n",
              "    <tr>\n",
              "      <th>3</th>\n",
              "      <td>1</td>\n",
              "      <td>1</td>\n",
              "      <td>1</td>\n",
              "      <td>1.0</td>\n",
              "      <td>5650</td>\n",
              "      <td>3.77</td>\n",
              "      <td>99.0</td>\n",
              "      <td>30</td>\n",
              "      <td>637</td>\n",
              "      <td>773</td>\n",
              "      <td>0</td>\n",
              "    </tr>\n",
              "    <tr>\n",
              "      <th>4</th>\n",
              "      <td>1</td>\n",
              "      <td>1</td>\n",
              "      <td>1</td>\n",
              "      <td>1.0</td>\n",
              "      <td>6161</td>\n",
              "      <td>4.10</td>\n",
              "      <td>108.0</td>\n",
              "      <td>36</td>\n",
              "      <td>606</td>\n",
              "      <td>798</td>\n",
              "      <td>0</td>\n",
              "    </tr>\n",
              "  </tbody>\n",
              "</table>\n",
              "</div>\n",
              "      <button class=\"colab-df-convert\" onclick=\"convertToInteractive('df-da90f46d-295a-4ba0-a3f5-1b46b6d0c2ae')\"\n",
              "              title=\"Convert this dataframe to an interactive table.\"\n",
              "              style=\"display:none;\">\n",
              "        \n",
              "  <svg xmlns=\"http://www.w3.org/2000/svg\" height=\"24px\"viewBox=\"0 0 24 24\"\n",
              "       width=\"24px\">\n",
              "    <path d=\"M0 0h24v24H0V0z\" fill=\"none\"/>\n",
              "    <path d=\"M18.56 5.44l.94 2.06.94-2.06 2.06-.94-2.06-.94-.94-2.06-.94 2.06-2.06.94zm-11 1L8.5 8.5l.94-2.06 2.06-.94-2.06-.94L8.5 2.5l-.94 2.06-2.06.94zm10 10l.94 2.06.94-2.06 2.06-.94-2.06-.94-.94-2.06-.94 2.06-2.06.94z\"/><path d=\"M17.41 7.96l-1.37-1.37c-.4-.4-.92-.59-1.43-.59-.52 0-1.04.2-1.43.59L10.3 9.45l-7.72 7.72c-.78.78-.78 2.05 0 2.83L4 21.41c.39.39.9.59 1.41.59.51 0 1.02-.2 1.41-.59l7.78-7.78 2.81-2.81c.8-.78.8-2.07 0-2.86zM5.41 20L4 18.59l7.72-7.72 1.47 1.35L5.41 20z\"/>\n",
              "  </svg>\n",
              "      </button>\n",
              "      \n",
              "  <style>\n",
              "    .colab-df-container {\n",
              "      display:flex;\n",
              "      flex-wrap:wrap;\n",
              "      gap: 12px;\n",
              "    }\n",
              "\n",
              "    .colab-df-convert {\n",
              "      background-color: #E8F0FE;\n",
              "      border: none;\n",
              "      border-radius: 50%;\n",
              "      cursor: pointer;\n",
              "      display: none;\n",
              "      fill: #1967D2;\n",
              "      height: 32px;\n",
              "      padding: 0 0 0 0;\n",
              "      width: 32px;\n",
              "    }\n",
              "\n",
              "    .colab-df-convert:hover {\n",
              "      background-color: #E2EBFA;\n",
              "      box-shadow: 0px 1px 2px rgba(60, 64, 67, 0.3), 0px 1px 3px 1px rgba(60, 64, 67, 0.15);\n",
              "      fill: #174EA6;\n",
              "    }\n",
              "\n",
              "    [theme=dark] .colab-df-convert {\n",
              "      background-color: #3B4455;\n",
              "      fill: #D2E3FC;\n",
              "    }\n",
              "\n",
              "    [theme=dark] .colab-df-convert:hover {\n",
              "      background-color: #434B5C;\n",
              "      box-shadow: 0px 1px 3px 1px rgba(0, 0, 0, 0.15);\n",
              "      filter: drop-shadow(0px 1px 2px rgba(0, 0, 0, 0.3));\n",
              "      fill: #FFFFFF;\n",
              "    }\n",
              "  </style>\n",
              "\n",
              "      <script>\n",
              "        const buttonEl =\n",
              "          document.querySelector('#df-da90f46d-295a-4ba0-a3f5-1b46b6d0c2ae button.colab-df-convert');\n",
              "        buttonEl.style.display =\n",
              "          google.colab.kernel.accessAllowed ? 'block' : 'none';\n",
              "\n",
              "        async function convertToInteractive(key) {\n",
              "          const element = document.querySelector('#df-da90f46d-295a-4ba0-a3f5-1b46b6d0c2ae');\n",
              "          const dataTable =\n",
              "            await google.colab.kernel.invokeFunction('convertToInteractive',\n",
              "                                                     [key], {});\n",
              "          if (!dataTable) return;\n",
              "\n",
              "          const docLinkHtml = 'Like what you see? Visit the ' +\n",
              "            '<a target=\"_blank\" href=https://colab.research.google.com/notebooks/data_table.ipynb>data table notebook</a>'\n",
              "            + ' to learn more about interactive tables.';\n",
              "          element.innerHTML = '';\n",
              "          dataTable['output_type'] = 'display_data';\n",
              "          await google.colab.output.renderOutput(dataTable, element);\n",
              "          const docLink = document.createElement('div');\n",
              "          docLink.innerHTML = docLinkHtml;\n",
              "          element.appendChild(docLink);\n",
              "        }\n",
              "      </script>\n",
              "    </div>\n",
              "  </div>\n",
              "  "
            ]
          },
          "metadata": {},
          "execution_count": 63
        }
      ]
    },
    {
      "cell_type": "code",
      "source": [
        "# first separate target variable\n",
        "y = final_data[['Target']]\n",
        "final_data.drop(['Target'],axis=1,inplace=True)\n",
        "X_train,X_test, Y_train, Y_test = train_test_split(final_data, y, test_size = .2, random_state = 10)"
      ],
      "metadata": {
        "colab": {
          "base_uri": "https://localhost:8080/"
        },
        "id": "bU8KyMZcj4Gm",
        "outputId": "9c2a7c2c-aeb1-468b-b3ee-9e12049287b0"
      },
      "execution_count": 64,
      "outputs": [
        {
          "output_type": "stream",
          "name": "stderr",
          "text": [
            "/usr/local/lib/python3.7/dist-packages/pandas/core/frame.py:4913: SettingWithCopyWarning: \n",
            "A value is trying to be set on a copy of a slice from a DataFrame\n",
            "\n",
            "See the caveats in the documentation: https://pandas.pydata.org/pandas-docs/stable/user_guide/indexing.html#returning-a-view-versus-a-copy\n",
            "  errors=errors,\n"
          ]
        }
      ]
    },
    {
      "cell_type": "code",
      "source": [
        "print(X_train.shape)\n",
        "print(X_test.shape)\n",
        "print(Y_train.shape)\n",
        "print(Y_test.shape)"
      ],
      "metadata": {
        "colab": {
          "base_uri": "https://localhost:8080/"
        },
        "id": "RdsaDg-Aygkb",
        "outputId": "c8354b7d-cc80-4bf2-e41d-6d8a3224290f"
      },
      "execution_count": 65,
      "outputs": [
        {
          "output_type": "stream",
          "name": "stdout",
          "text": [
            "(2205, 10)\n",
            "(552, 10)\n",
            "(2205, 1)\n",
            "(552, 1)\n"
          ]
        }
      ]
    },
    {
      "cell_type": "code",
      "source": [
        "# Exploring Targeted Variable \n",
        "data['Target'].value_counts()"
      ],
      "metadata": {
        "colab": {
          "base_uri": "https://localhost:8080/"
        },
        "id": "4Np9avSHlacW",
        "outputId": "9e47415d-54d7-4127-f1bf-cb829a7e2464"
      },
      "execution_count": 67,
      "outputs": [
        {
          "output_type": "execute_result",
          "data": {
            "text/plain": [
              "1    1744\n",
              "0    1013\n",
              "Name: Target, dtype: int64"
            ]
          },
          "metadata": {},
          "execution_count": 67
        }
      ]
    },
    {
      "cell_type": "code",
      "source": [
        "# Exploring Targeted Variable \n",
        "import seaborn as sns\n",
        "sns.countplot(data[\"Target\"])\n",
        "# 0 -- healthy\n",
        "# 1 -- unhealthy"
      ],
      "metadata": {
        "colab": {
          "base_uri": "https://localhost:8080/",
          "height": 351
        },
        "id": "yPt24FLal838",
        "outputId": "df70298f-a581-4128-c77d-2cf421d94400"
      },
      "execution_count": 68,
      "outputs": [
        {
          "output_type": "stream",
          "name": "stderr",
          "text": [
            "/usr/local/lib/python3.7/dist-packages/seaborn/_decorators.py:43: FutureWarning: Pass the following variable as a keyword arg: x. From version 0.12, the only valid positional argument will be `data`, and passing other arguments without an explicit keyword will result in an error or misinterpretation.\n",
            "  FutureWarning\n"
          ]
        },
        {
          "output_type": "execute_result",
          "data": {
            "text/plain": [
              "<matplotlib.axes._subplots.AxesSubplot at 0x7f78c59387d0>"
            ]
          },
          "metadata": {},
          "execution_count": 68
        },
        {
          "output_type": "display_data",
          "data": {
            "text/plain": [
              "<Figure size 432x288 with 1 Axes>"
            ],
            "image/png": "[encoded data removed]"
          },
          "metadata": {
            "needs_background": "light"
          }
        }
      ]
    },
    {
      "cell_type": "markdown",
      "source": [
        "# First Try Linear Regression"
      ],
      "metadata": {
        "id": "KT_dUVVqy99n"
      }
    },
    {
      "cell_type": "code",
      "source": [
        "from sklearn.metrics._plot.precision_recall_curve import precision_recall_curve\n",
        "def evaluate(model):\n",
        "    model.fit(X_train,Y_train)\n",
        "    accuracy=model.score(X_test,Y_test)\n",
        "    # make a prediction\n",
        "    yhat = model.predict(X_test)\n",
        "    f1 = f1_score(Y_test,yhat)\n",
        "    pr = precision_score(Y_test,yhat)\n",
        "    re = recall_score(Y_test,yhat)\n",
        "\n",
        "    re_call.append(re)\n",
        "    precision.append(pr)\n",
        "    f1_sc.append(f1)\n",
        "    acc.append(accuracy)\n",
        "    print('################')\n",
        "    print('model name ',model)\n",
        "    print('accuracy ',accuracy)\n",
        "    print('f1_score',f1)\n",
        "    print('precision',pr)\n",
        "    print('recall',re)\n",
        "    print()"
      ],
      "metadata": {
        "id": "IJngqubIohN2"
      },
      "execution_count": 75,
      "outputs": []
    },
    {
      "cell_type": "code",
      "source": [
        "from sklearn.linear_model import LogisticRegression\n",
        "from sklearn.svm import SVC #### support vector for classifier\n",
        "from sklearn.tree import DecisionTreeClassifier\n",
        "from sklearn.ensemble import RandomForestClassifier\n",
        "from sklearn.neighbors import KNeighborsClassifier\n",
        "from sklearn.naive_bayes import GaussianNB\n",
        "from sklearn.metrics import f1_score\n",
        "from sklearn.metrics import precision_score\n",
        "from sklearn.metrics import recall_score\n",
        "dic = {}\n",
        "re_call = []\n",
        "precision = []\n",
        "acc=[]\n",
        "f1_sc = []\n",
        "gnb = GaussianNB()\n",
        "lr=LogisticRegression()\n",
        "svm=SVC()\n",
        "dt=DecisionTreeClassifier(max_depth=6)\n",
        "rf=RandomForestClassifier(max_samples=0.9)\n",
        "knn=KNeighborsClassifier(n_neighbors=5)\n",
        "\n",
        "models=[lr,dt,rf,knn,svm,gnb]\n",
        "\n",
        "for model in models:\n",
        "    evaluate(model)"
      ],
      "metadata": {
        "colab": {
          "base_uri": "https://localhost:8080/"
        },
        "id": "okHa7feMohKj",
        "outputId": "6e887d39-ea6a-4183-9fe6-d8f42bf87006"
      },
      "execution_count": 76,
      "outputs": [
        {
          "output_type": "stream",
          "name": "stderr",
          "text": [
            "/usr/local/lib/python3.7/dist-packages/sklearn/utils/validation.py:993: DataConversionWarning: A column-vector y was passed when a 1d array was expected. Please change the shape of y to (n_samples, ), for example using ravel().\n",
            "  y = column_or_1d(y, warn=True)\n",
            "/usr/local/lib/python3.7/dist-packages/ipykernel_launcher.py:3: DataConversionWarning: A column-vector y was passed when a 1d array was expected. Please change the shape of y to (n_samples,), for example using ravel().\n",
            "  This is separate from the ipykernel package so we can avoid doing imports until\n"
          ]
        },
        {
          "output_type": "stream",
          "name": "stdout",
          "text": [
            "################\n",
            "model name  LogisticRegression()\n",
            "accuracy  0.855072463768116\n",
            "f1_score 0.8885793871866295\n",
            "precision 0.8715846994535519\n",
            "recall 0.90625\n",
            "\n",
            "################\n",
            "model name  DecisionTreeClassifier(max_depth=6)\n",
            "accuracy  0.8586956521739131\n",
            "f1_score 0.8910614525139665\n",
            "precision 0.8763736263736264\n",
            "recall 0.90625\n",
            "\n",
            "################\n",
            "model name  RandomForestClassifier(max_samples=0.9)\n",
            "accuracy  0.8894927536231884\n",
            "f1_score 0.912981455064194\n",
            "precision 0.9169054441260746\n",
            "recall 0.9090909090909091\n",
            "\n",
            "################\n",
            "model name  KNeighborsClassifier()\n",
            "accuracy  0.8170289855072463\n",
            "f1_score 0.8542568542568543\n",
            "precision 0.8680351906158358\n",
            "recall 0.8409090909090909\n",
            "\n"
          ]
        },
        {
          "output_type": "stream",
          "name": "stderr",
          "text": [
            "/usr/local/lib/python3.7/dist-packages/sklearn/neighbors/_classification.py:198: DataConversionWarning: A column-vector y was passed when a 1d array was expected. Please change the shape of y to (n_samples,), for example using ravel().\n",
            "  return self._fit(X, y)\n",
            "/usr/local/lib/python3.7/dist-packages/sklearn/utils/validation.py:993: DataConversionWarning: A column-vector y was passed when a 1d array was expected. Please change the shape of y to (n_samples, ), for example using ravel().\n",
            "  y = column_or_1d(y, warn=True)\n"
          ]
        },
        {
          "output_type": "stream",
          "name": "stdout",
          "text": [
            "################\n",
            "model name  SVC()\n",
            "accuracy  0.8297101449275363\n",
            "f1_score 0.867231638418079\n",
            "precision 0.8623595505617978\n",
            "recall 0.8721590909090909\n",
            "\n",
            "################\n",
            "model name  GaussianNB()\n",
            "accuracy  0.8170289855072463\n",
            "f1_score 0.8591352859135286\n",
            "precision 0.8438356164383561\n",
            "recall 0.875\n",
            "\n"
          ]
        },
        {
          "output_type": "stream",
          "name": "stderr",
          "text": [
            "/usr/local/lib/python3.7/dist-packages/sklearn/utils/validation.py:993: DataConversionWarning: A column-vector y was passed when a 1d array was expected. Please change the shape of y to (n_samples, ), for example using ravel().\n",
            "  y = column_or_1d(y, warn=True)\n"
          ]
        }
      ]
    },
    {
      "cell_type": "code",
      "source": [
        "algo = ['LogisticRegression','DecisionTreeClassifier','RandomForestClassifier','KNeighborsClassifier','SVC','GaussianNB']"
      ],
      "metadata": {
        "id": "-OHgzvSXohAz"
      },
      "execution_count": 78,
      "outputs": []
    },
    {
      "cell_type": "code",
      "source": [
        "dic = {'Algorithm Name':algo,'Accuracy':acc,'F1_Score':f1_sc,'Precision':precision,'Recall':re_call}"
      ],
      "metadata": {
        "id": "etGAfarcog9h"
      },
      "execution_count": 79,
      "outputs": []
    },
    {
      "cell_type": "code",
      "source": [
        "new_df  = pd.DataFrame(dic)\n",
        "new_df"
      ],
      "metadata": {
        "colab": {
          "base_uri": "https://localhost:8080/",
          "height": 237
        },
        "id": "XW5OWCArog68",
        "outputId": "8bde7d1b-7bed-40e8-a539-e3c92b784b9a"
      },
      "execution_count": 81,
      "outputs": [
        {
          "output_type": "execute_result",
          "data": {
            "text/plain": [
              "           Algorithm Name  Accuracy  F1_Score  Precision    Recall\n",
              "0      LogisticRegression  0.855072  0.888579   0.871585  0.906250\n",
              "1  DecisionTreeClassifier  0.858696  0.891061   0.876374  0.906250\n",
              "2  RandomForestClassifier  0.889493  0.912981   0.916905  0.909091\n",
              "3    KNeighborsClassifier  0.817029  0.854257   0.868035  0.840909\n",
              "4                     SVC  0.829710  0.867232   0.862360  0.872159\n",
              "5              GaussianNB  0.817029  0.859135   0.843836  0.875000"
            ],
            "text/html": [
              "\n",
              "  <div id=\"df-eefb67e5-b736-43bb-a293-2bccde1f74d9\">\n",
              "    <div class=\"colab-df-container\">\n",
              "      <div>\n",
              "<style scoped>\n",
              "    .dataframe tbody tr th:only-of-type {\n",
              "        vertical-align: middle;\n",
              "    }\n",
              "\n",
              "    .dataframe tbody tr th {\n",
              "        vertical-align: top;\n",
              "    }\n",
              "\n",
              "    .dataframe thead th {\n",
              "        text-align: right;\n",
              "    }\n",
              "</style>\n",
              "<table border=\"1\" class=\"dataframe\">\n",
              "  <thead>\n",
              "    <tr style=\"text-align: right;\">\n",
              "      <th></th>\n",
              "      <th>Algorithm Name</th>\n",
              "      <th>Accuracy</th>\n",
              "      <th>F1_Score</th>\n",
              "      <th>Precision</th>\n",
              "      <th>Recall</th>\n",
              "    </tr>\n",
              "  </thead>\n",
              "  <tbody>\n",
              "    <tr>\n",
              "      <th>0</th>\n",
              "      <td>LogisticRegression</td>\n",
              "      <td>0.855072</td>\n",
              "      <td>0.888579</td>\n",
              "      <td>0.871585</td>\n",
              "      <td>0.906250</td>\n",
              "    </tr>\n",
              "    <tr>\n",
              "      <th>1</th>\n",
              "      <td>DecisionTreeClassifier</td>\n",
              "      <td>0.858696</td>\n",
              "      <td>0.891061</td>\n",
              "      <td>0.876374</td>\n",
              "      <td>0.906250</td>\n",
              "    </tr>\n",
              "    <tr>\n",
              "      <th>2</th>\n",
              "      <td>RandomForestClassifier</td>\n",
              "      <td>0.889493</td>\n",
              "      <td>0.912981</td>\n",
              "      <td>0.916905</td>\n",
              "      <td>0.909091</td>\n",
              "    </tr>\n",
              "    <tr>\n",
              "      <th>3</th>\n",
              "      <td>KNeighborsClassifier</td>\n",
              "      <td>0.817029</td>\n",
              "      <td>0.854257</td>\n",
              "      <td>0.868035</td>\n",
              "      <td>0.840909</td>\n",
              "    </tr>\n",
              "    <tr>\n",
              "      <th>4</th>\n",
              "      <td>SVC</td>\n",
              "      <td>0.829710</td>\n",
              "      <td>0.867232</td>\n",
              "      <td>0.862360</td>\n",
              "      <td>0.872159</td>\n",
              "    </tr>\n",
              "    <tr>\n",
              "      <th>5</th>\n",
              "      <td>GaussianNB</td>\n",
              "      <td>0.817029</td>\n",
              "      <td>0.859135</td>\n",
              "      <td>0.843836</td>\n",
              "      <td>0.875000</td>\n",
              "    </tr>\n",
              "  </tbody>\n",
              "</table>\n",
              "</div>\n",
              "      <button class=\"colab-df-convert\" onclick=\"convertToInteractive('df-eefb67e5-b736-43bb-a293-2bccde1f74d9')\"\n",
              "              title=\"Convert this dataframe to an interactive table.\"\n",
              "              style=\"display:none;\">\n",
              "        \n",
              "  <svg xmlns=\"http://www.w3.org/2000/svg\" height=\"24px\"viewBox=\"0 0 24 24\"\n",
              "       width=\"24px\">\n",
              "    <path d=\"M0 0h24v24H0V0z\" fill=\"none\"/>\n",
              "    <path d=\"M18.56 5.44l.94 2.06.94-2.06 2.06-.94-2.06-.94-.94-2.06-.94 2.06-2.06.94zm-11 1L8.5 8.5l.94-2.06 2.06-.94-2.06-.94L8.5 2.5l-.94 2.06-2.06.94zm10 10l.94 2.06.94-2.06 2.06-.94-2.06-.94-.94-2.06-.94 2.06-2.06.94z\"/><path d=\"M17.41 7.96l-1.37-1.37c-.4-.4-.92-.59-1.43-.59-.52 0-1.04.2-1.43.59L10.3 9.45l-7.72 7.72c-.78.78-.78 2.05 0 2.83L4 21.41c.39.39.9.59 1.41.59.51 0 1.02-.2 1.41-.59l7.78-7.78 2.81-2.81c.8-.78.8-2.07 0-2.86zM5.41 20L4 18.59l7.72-7.72 1.47 1.35L5.41 20z\"/>\n",
              "  </svg>\n",
              "      </button>\n",
              "      \n",
              "  <style>\n",
              "    .colab-df-container {\n",
              "      display:flex;\n",
              "      flex-wrap:wrap;\n",
              "      gap: 12px;\n",
              "    }\n",
              "\n",
              "    .colab-df-convert {\n",
              "      background-color: #E8F0FE;\n",
              "      border: none;\n",
              "      border-radius: 50%;\n",
              "      cursor: pointer;\n",
              "      display: none;\n",
              "      fill: #1967D2;\n",
              "      height: 32px;\n",
              "      padding: 0 0 0 0;\n",
              "      width: 32px;\n",
              "    }\n",
              "\n",
              "    .colab-df-convert:hover {\n",
              "      background-color: #E2EBFA;\n",
              "      box-shadow: 0px 1px 2px rgba(60, 64, 67, 0.3), 0px 1px 3px 1px rgba(60, 64, 67, 0.15);\n",
              "      fill: #174EA6;\n",
              "    }\n",
              "\n",
              "    [theme=dark] .colab-df-convert {\n",
              "      background-color: #3B4455;\n",
              "      fill: #D2E3FC;\n",
              "    }\n",
              "\n",
              "    [theme=dark] .colab-df-convert:hover {\n",
              "      background-color: #434B5C;\n",
              "      box-shadow: 0px 1px 3px 1px rgba(0, 0, 0, 0.15);\n",
              "      filter: drop-shadow(0px 1px 2px rgba(0, 0, 0, 0.3));\n",
              "      fill: #FFFFFF;\n",
              "    }\n",
              "  </style>\n",
              "\n",
              "      <script>\n",
              "        const buttonEl =\n",
              "          document.querySelector('#df-eefb67e5-b736-43bb-a293-2bccde1f74d9 button.colab-df-convert');\n",
              "        buttonEl.style.display =\n",
              "          google.colab.kernel.accessAllowed ? 'block' : 'none';\n",
              "\n",
              "        async function convertToInteractive(key) {\n",
              "          const element = document.querySelector('#df-eefb67e5-b736-43bb-a293-2bccde1f74d9');\n",
              "          const dataTable =\n",
              "            await google.colab.kernel.invokeFunction('convertToInteractive',\n",
              "                                                     [key], {});\n",
              "          if (!dataTable) return;\n",
              "\n",
              "          const docLinkHtml = 'Like what you see? Visit the ' +\n",
              "            '<a target=\"_blank\" href=https://colab.research.google.com/notebooks/data_table.ipynb>data table notebook</a>'\n",
              "            + ' to learn more about interactive tables.';\n",
              "          element.innerHTML = '';\n",
              "          dataTable['output_type'] = 'display_data';\n",
              "          await google.colab.output.renderOutput(dataTable, element);\n",
              "          const docLink = document.createElement('div');\n",
              "          docLink.innerHTML = docLinkHtml;\n",
              "          element.appendChild(docLink);\n",
              "        }\n",
              "      </script>\n",
              "    </div>\n",
              "  </div>\n",
              "  "
            ]
          },
          "metadata": {},
          "execution_count": 81
        }
      ]
    },
    {
      "cell_type": "code",
      "source": [],
      "metadata": {
        "id": "XH8txn7jog15"
      },
      "execution_count": null,
      "outputs": []
    },
    {
      "cell_type": "code",
      "source": [],
      "metadata": {
        "id": "ELni-qUm1BHu"
      },
      "execution_count": null,
      "outputs": []
    }
  ]
}