{
  "cells": [
    {
      "cell_type": "markdown",
      "metadata": {
        "id": "view-in-github",
        "colab_type": "text"
      },
      "source": [
        "<a href=\"https://colab.research.google.com/github/Hani1-2/DeepLearningAssignmnt/blob/master/CustomerSentiments.ipynb\" target=\"_parent\"><img src=\"https://colab.research.google.com/assets/colab-badge.svg\" alt=\"Open In Colab\"/></a>"
      ]
    },
    {
      "cell_type": "code",
      "execution_count": null,
      "metadata": {
        "id": "dKwvVMkVI7bd"
      },
      "outputs": [],
      "source": [
        "import numpy as np\n",
        "import pandas as pd\n",
        "import matplotlib.pyplot as plt\n",
        "import seaborn as sns\n",
        "from sklearn.preprocessing import LabelEncoder\n",
        "from sklearn.metrics import confusion_matrix,plot_confusion_matrix,classification_report\n",
        "from sklearn.model_selection import train_test_split,cross_val_score\n",
        "from sklearn.preprocessing import StandardScaler\n",
        "from sklearn.linear_model import LogisticRegression"
      ]
    },
    {
      "cell_type": "code",
      "execution_count": null,
      "metadata": {
        "colab": {
          "base_uri": "https://localhost:8080/"
        },
        "id": "AvKDSZRiYs5G",
        "outputId": "3409d5d1-191b-4f97-e56c-7ae20c452b32"
      },
      "outputs": [
        {
          "name": "stderr",
          "output_type": "stream",
          "text": [
            "/usr/local/lib/python3.7/dist-packages/IPython/core/interactiveshell.py:2882: DtypeWarning: Columns (5,11) have mixed types.Specify dtype option on import or set low_memory=False.\n",
            "  exec(code_obj, self.user_global_ns, self.user_ns)\n"
          ]
        }
      ],
      "source": [
        "data1 = pd.read_csv(\"/content/drive/MyDrive/UBL/Consumer_Complaints.csv\")\n",
        "data2 = pd.read_csv(\"/content/drive/MyDrive/UBL/consumer_complaints.csv\")"
      ]
    },
    {
      "cell_type": "code",
      "execution_count": null,
      "metadata": {
        "colab": {
          "base_uri": "https://localhost:8080/"
        },
        "id": "x_P3GtqlbYNT",
        "outputId": "55378158-c0a4-4d09-eb24-822fe93ed7d2"
      },
      "outputs": [
        {
          "data": {
            "text/plain": [
              "Index(['Date received', 'Product', 'Sub-product', 'Issue', 'Sub-issue',\n",
              "       'Consumer Complaint', 'Company Public Response', 'Company', 'State',\n",
              "       'ZIP code', 'Tags', 'Consumer consent provided?', 'Submitted via',\n",
              "       'Date Sent to Company', 'Company Response to Consumer',\n",
              "       'Timely response?', 'Consumer disputed?', 'Complaint ID',\n",
              "       'Unnamed: 18'],\n",
              "      dtype='object')"
            ]
          },
          "execution_count": 5,
          "metadata": {},
          "output_type": "execute_result"
        }
      ],
      "source": [
        "data1.columns"
      ]
    },
    {
      "cell_type": "code",
      "execution_count": null,
      "metadata": {
        "id": "y7IXjbzGYzX2"
      },
      "outputs": [],
      "source": [
        "data1.rename(columns = {'Date received' : 'date_received','Product':'product','Sub-product':'sub_product','Issue':'issue','Sub-issue':'sub_issue','Consumer Complaint':'consumer_complaint_narrative','Company Public Response':'company_public_response','Company':'company','State':'state','ZIP code':'zipcode','Tags':'tags','Consumer consent provided?':'consumer_consent_provided','Submitted via':'submitted_via','Date Sent to Company':'date_sent_to_company','Company Response to Consumer':'company_response_to_consumer','Timely response?':'timely_response','Consumer disputed?':'consumer_disputed','Complaint ID':'complaint_id'}, inplace = True)"
      ]
    },
    {
      "cell_type": "code",
      "execution_count": null,
      "metadata": {
        "id": "CKLMPKc7c6ZN"
      },
      "outputs": [],
      "source": [
        "data1.drop(['Unnamed: 18'], axis=1, inplace = True)"
      ]
    },
    {
      "cell_type": "code",
      "execution_count": null,
      "metadata": {
        "id": "DiiaR2kKZDbw"
      },
      "outputs": [],
      "source": [
        "data2.rename(columns = {'consumer_disputed?':'consumer_disputed'}, inplace = True)"
      ]
    },
    {
      "cell_type": "code",
      "execution_count": null,
      "metadata": {
        "colab": {
          "base_uri": "https://localhost:8080/"
        },
        "id": "yDXPcxw_bOG4",
        "outputId": "9964e2c5-3b91-4224-8fd0-6cf9729d8e95"
      },
      "outputs": [
        {
          "data": {
            "text/plain": [
              "(1025010, 18)"
            ]
          },
          "execution_count": 9,
          "metadata": {},
          "output_type": "execute_result"
        }
      ],
      "source": [
        "data1.shape  # data from kaggle"
      ]
    },
    {
      "cell_type": "code",
      "execution_count": null,
      "metadata": {
        "colab": {
          "base_uri": "https://localhost:8080/"
        },
        "id": "iQklXjjTbUtI",
        "outputId": "4115c996-991d-4c57-b37c-feee192454f0"
      },
      "outputs": [
        {
          "data": {
            "text/plain": [
              "(555957, 18)"
            ]
          },
          "execution_count": 10,
          "metadata": {},
          "output_type": "execute_result"
        }
      ],
      "source": [
        "data2.shape    #datafromUBL"
      ]
    },
    {
      "cell_type": "code",
      "execution_count": null,
      "metadata": {
        "id": "qDy-LQZkZNDY"
      },
      "outputs": [],
      "source": [
        "data =pd.concat([data1,data2])"
      ]
    },
    {
      "cell_type": "code",
      "execution_count": null,
      "metadata": {
        "colab": {
          "base_uri": "https://localhost:8080/"
        },
        "id": "ruQ--aYF8Dop",
        "outputId": "3db7a0ef-bd53-4825-b30a-2ae816d319f2"
      },
      "outputs": [
        {
          "data": {
            "text/plain": [
              "(1580967, 18)"
            ]
          },
          "execution_count": 12,
          "metadata": {},
          "output_type": "execute_result"
        }
      ],
      "source": [
        "data.shape"
      ]
    },
    {
      "cell_type": "code",
      "execution_count": null,
      "metadata": {
        "id": "nXovNf748WRb"
      },
      "outputs": [],
      "source": [
        "#data.to_csv('combined_data.csv')"
      ]
    },
    {
      "cell_type": "code",
      "execution_count": null,
      "metadata": {
        "id": "rwvQgGH57riV"
      },
      "outputs": [],
      "source": [
        "# data = pd.read_csv('combined_customer_sentiments.csv')"
      ]
    },
    {
      "cell_type": "markdown",
      "metadata": {
        "id": "BQGVagOpJ6_n"
      },
      "source": [
        "# Data Pre-Processing"
      ]
    },
    {
      "cell_type": "code",
      "execution_count": null,
      "metadata": {
        "colab": {
          "base_uri": "https://localhost:8080/"
        },
        "id": "qDlkNFDEJYeS",
        "outputId": "aaec3cca-9ac9-4d43-c146-df7aa0f8ca91"
      },
      "outputs": [
        {
          "name": "stdout",
          "output_type": "stream",
          "text": [
            "<class 'pandas.core.frame.DataFrame'>\n",
            "Int64Index: 1580967 entries, 0 to 555956\n",
            "Data columns (total 18 columns):\n",
            " #   Column                        Non-Null Count    Dtype \n",
            "---  ------                        --------------    ----- \n",
            " 0   date_received                 1580967 non-null  object\n",
            " 1   product                       1580967 non-null  object\n",
            " 2   sub_product                   1187475 non-null  object\n",
            " 3   issue                         1580967 non-null  object\n",
            " 4   sub_issue                     741475 non-null   object\n",
            " 5   consumer_complaint_narrative  344620 non-null   object\n",
            " 6   company_public_response       403488 non-null   object\n",
            " 7   company                       1580967 non-null  object\n",
            " 8   state                         1563720 non-null  object\n",
            " 9   zipcode                       1559744 non-null  object\n",
            " 10  tags                          219547 non-null   object\n",
            " 11  consumer_consent_provided     615369 non-null   object\n",
            " 12  submitted_via                 1580967 non-null  object\n",
            " 13  date_sent_to_company          1580967 non-null  object\n",
            " 14  company_response_to_consumer  1580964 non-null  object\n",
            " 15  timely_response               1580967 non-null  object\n",
            " 16  consumer_disputed             1324511 non-null  object\n",
            " 17  complaint_id                  1580967 non-null  int64 \n",
            "dtypes: int64(1), object(17)\n",
            "memory usage: 229.2+ MB\n"
          ]
        }
      ],
      "source": [
        "data.info()"
      ]
    },
    {
      "cell_type": "code",
      "execution_count": null,
      "metadata": {
        "colab": {
          "base_uri": "https://localhost:8080/"
        },
        "id": "qVVdKykSe1gS",
        "outputId": "1eda1d5e-a231-431a-e497-a37271f2a520"
      },
      "outputs": [
        {
          "data": {
            "text/plain": [
              "(1580967, 18)"
            ]
          },
          "execution_count": 16,
          "metadata": {},
          "output_type": "execute_result"
        }
      ],
      "source": [
        "data.shape"
      ]
    },
    {
      "cell_type": "code",
      "execution_count": null,
      "metadata": {
        "colab": {
          "base_uri": "https://localhost:8080/"
        },
        "id": "eNpLP-60SI1r",
        "outputId": "9bbb34e4-9b46-465f-859f-0e9d8dc53aac"
      },
      "outputs": [
        {
          "data": {
            "text/plain": [
              "10"
            ]
          },
          "execution_count": 17,
          "metadata": {},
          "output_type": "execute_result"
        }
      ],
      "source": [
        "data.isnull().any().sum() # 10 features have null values"
      ]
    },
    {
      "cell_type": "code",
      "execution_count": null,
      "metadata": {
        "colab": {
          "base_uri": "https://localhost:8080/"
        },
        "id": "GWbPYSaPKQ-a",
        "outputId": "917fbdca-0d75-4026-a57c-4904540e855b"
      },
      "outputs": [
        {
          "data": {
            "text/plain": [
              "date_received                         0\n",
              "product                               0\n",
              "sub_product                      393492\n",
              "issue                                 0\n",
              "sub_issue                        839492\n",
              "consumer_complaint_narrative    1236347\n",
              "company_public_response         1177479\n",
              "company                               0\n",
              "state                             17247\n",
              "zipcode                           21223\n",
              "tags                            1361420\n",
              "consumer_consent_provided        965598\n",
              "submitted_via                         0\n",
              "date_sent_to_company                  0\n",
              "company_response_to_consumer          3\n",
              "timely_response                       0\n",
              "consumer_disputed                256456\n",
              "complaint_id                          0\n",
              "dtype: int64"
            ]
          },
          "execution_count": 18,
          "metadata": {},
          "output_type": "execute_result"
        }
      ],
      "source": [
        "data.isnull().sum()  # since consumer_consent_provided and consumer_complaint_narrative mostly have null values but we have imp feature aS WELL"
      ]
    },
    {
      "cell_type": "code",
      "execution_count": null,
      "metadata": {
        "id": "3F8cFLnmi7OR"
      },
      "outputs": [],
      "source": [
        "missing_val = data.isnull().sum() "
      ]
    },
    {
      "cell_type": "code",
      "execution_count": null,
      "metadata": {
        "colab": {
          "base_uri": "https://localhost:8080/",
          "height": 568
        },
        "id": "qPg6kOsqi2-9",
        "outputId": "69f627fb-478f-46f7-ed23-fc699b8af4e7"
      },
      "outputs": [
        {
          "data": {
            "text/plain": [
              "([0, 1, 2, 3, 4, 5, 6, 7, 8, 9, 10, 11, 12, 13, 14, 15, 16, 17],\n",
              " <a list of 18 Text major ticklabel objects>)"
            ]
          },
          "execution_count": 20,
          "metadata": {},
          "output_type": "execute_result"
        },
        {
          "data": {
            "image/png": "[encoded data removed]",
            "text/plain": [
              "<Figure size 1008x432 with 1 Axes>"
            ]
          },
          "metadata": {},
          "output_type": "display_data"
        }
      ],
      "source": [
        "plt.figure(figsize=(14,6))\n",
        "plt.bar(missing_val.index,missing_val.values)    # ploting missing values \n",
        "plt.xticks(rotation=70)"
      ]
    },
    {
      "cell_type": "code",
      "execution_count": null,
      "metadata": {
        "colab": {
          "base_uri": "https://localhost:8080/"
        },
        "id": "chsHoa6NKRYK",
        "outputId": "3fc05468-a6e6-47c2-efce-8b9f259c23a6"
      },
      "outputs": [
        {
          "data": {
            "text/plain": [
              "(1580967, 18)"
            ]
          },
          "execution_count": 21,
          "metadata": {},
          "output_type": "execute_result"
        }
      ],
      "source": [
        "data.shape"
      ]
    },
    {
      "cell_type": "code",
      "execution_count": null,
      "metadata": {
        "colab": {
          "base_uri": "https://localhost:8080/"
        },
        "id": "0deMKxWP2unr",
        "outputId": "d139dd82-e372-4930-8794-631615a10114"
      },
      "outputs": [
        {
          "name": "stdout",
          "output_type": "stream",
          "text": [
            "Drive already mounted at /content/drive; to attempt to forcibly remount, call drive.mount(\"/content/drive\", force_remount=True).\n"
          ]
        }
      ],
      "source": [
        "from google.colab import drive\n",
        "drive.mount('/content/drive')"
      ]
    },
    {
      "cell_type": "code",
      "execution_count": null,
      "metadata": {
        "id": "KeZVGZ2TbAvs"
      },
      "outputs": [],
      "source": [
        "# since sub_issue and tags have higher null values. we will replace them by using median or mean after label encoding"
      ]
    },
    {
      "cell_type": "markdown",
      "metadata": {
        "id": "HJI16PzVm-fy"
      },
      "source": [
        "#### Converting Categorical Values into Numeric using label encoding or defined method"
      ]
    },
    {
      "cell_type": "code",
      "execution_count": null,
      "metadata": {
        "colab": {
          "base_uri": "https://localhost:8080/"
        },
        "id": "uk6CavginMxs",
        "outputId": "f48a0467-0c05-406e-b853-4354280deb3c"
      },
      "outputs": [
        {
          "data": {
            "text/plain": [
              "['date_received',\n",
              " 'product',\n",
              " 'sub_product',\n",
              " 'issue',\n",
              " 'sub_issue',\n",
              " 'consumer_complaint_narrative',\n",
              " 'company_public_response',\n",
              " 'company',\n",
              " 'state',\n",
              " 'zipcode',\n",
              " 'tags',\n",
              " 'consumer_consent_provided',\n",
              " 'submitted_via',\n",
              " 'date_sent_to_company',\n",
              " 'company_response_to_consumer',\n",
              " 'timely_response',\n",
              " 'consumer_disputed']"
            ]
          },
          "execution_count": 24,
          "metadata": {},
          "output_type": "execute_result"
        }
      ],
      "source": [
        "cat_fea = [i for i in data.columns if data[i].dtype == \"O\"]\n",
        "cat_fea   # Finding final categorical features that is need to be turned into Numericals Encoding means numerical values "
      ]
    },
    {
      "cell_type": "code",
      "execution_count": null,
      "metadata": {
        "id": "EzDk_ZITMgTL"
      },
      "outputs": [],
      "source": [
        "new_data = data[data['consumer_complaint_narrative'].notna()]"
      ]
    },
    {
      "cell_type": "code",
      "execution_count": null,
      "metadata": {
        "colab": {
          "base_uri": "https://localhost:8080/"
        },
        "id": "TubQW3q_8-mB",
        "outputId": "bf32bfee-2fe3-4d38-bc93-7f7ef7d0a5d3"
      },
      "outputs": [
        {
          "name": "stderr",
          "output_type": "stream",
          "text": [
            "/usr/local/lib/python3.7/dist-packages/ipykernel_launcher.py:2: SettingWithCopyWarning: \n",
            "A value is trying to be set on a copy of a slice from a DataFrame.\n",
            "Try using .loc[row_indexer,col_indexer] = value instead\n",
            "\n",
            "See the caveats in the documentation: https://pandas.pydata.org/pandas-docs/stable/user_guide/indexing.html#returning-a-view-versus-a-copy\n",
            "  \n",
            "/usr/local/lib/python3.7/dist-packages/ipykernel_launcher.py:3: SettingWithCopyWarning: \n",
            "A value is trying to be set on a copy of a slice from a DataFrame.\n",
            "Try using .loc[row_indexer,col_indexer] = value instead\n",
            "\n",
            "See the caveats in the documentation: https://pandas.pydata.org/pandas-docs/stable/user_guide/indexing.html#returning-a-view-versus-a-copy\n",
            "  This is separate from the ipykernel package so we can avoid doing imports until\n",
            "/usr/local/lib/python3.7/dist-packages/ipykernel_launcher.py:4: SettingWithCopyWarning: \n",
            "A value is trying to be set on a copy of a slice from a DataFrame.\n",
            "Try using .loc[row_indexer,col_indexer] = value instead\n",
            "\n",
            "See the caveats in the documentation: https://pandas.pydata.org/pandas-docs/stable/user_guide/indexing.html#returning-a-view-versus-a-copy\n",
            "  after removing the cwd from sys.path.\n",
            "/usr/local/lib/python3.7/dist-packages/ipykernel_launcher.py:5: SettingWithCopyWarning: \n",
            "A value is trying to be set on a copy of a slice from a DataFrame.\n",
            "Try using .loc[row_indexer,col_indexer] = value instead\n",
            "\n",
            "See the caveats in the documentation: https://pandas.pydata.org/pandas-docs/stable/user_guide/indexing.html#returning-a-view-versus-a-copy\n",
            "  \"\"\"\n",
            "/usr/local/lib/python3.7/dist-packages/ipykernel_launcher.py:6: SettingWithCopyWarning: \n",
            "A value is trying to be set on a copy of a slice from a DataFrame.\n",
            "Try using .loc[row_indexer,col_indexer] = value instead\n",
            "\n",
            "See the caveats in the documentation: https://pandas.pydata.org/pandas-docs/stable/user_guide/indexing.html#returning-a-view-versus-a-copy\n",
            "  \n"
          ]
        }
      ],
      "source": [
        "# remove NaN values from sub_issue, tags, state, zipcode, timely_response, complaint_id, consumer_disputed?\n",
        "new_data[\"consumer_disputed\"] = new_data[\"consumer_disputed\"].fillna(new_data[\"consumer_disputed\"].mode()[0])\n",
        "new_data[\"complaint_id\"]= new_data[\"complaint_id\"].fillna(new_data[\"complaint_id\"].mode()[0])\n",
        "new_data[\"timely_response\"]= new_data[\"timely_response\"].fillna(new_data[\"timely_response\"].mode()[0])\n",
        "new_data[\"zipcode\"]= new_data[\"zipcode\"].fillna(new_data[\"zipcode\"].mode()[0])\n",
        "new_data[\"state\"]= new_data[\"state\"].fillna(new_data[\"state\"].mode()[0])"
      ]
    },
    {
      "cell_type": "code",
      "execution_count": null,
      "metadata": {
        "id": "FVV8AJJy-TlF"
      },
      "outputs": [],
      "source": [
        "#new_data.corrwith(new_data[\"product\"])"
      ]
    },
    {
      "cell_type": "code",
      "execution_count": null,
      "metadata": {
        "colab": {
          "base_uri": "https://localhost:8080/"
        },
        "id": "wRzqf3-xMqti",
        "outputId": "06695f9b-e0bb-49f4-de55-8adfc2692a0d"
      },
      "outputs": [
        {
          "name": "stdout",
          "output_type": "stream",
          "text": [
            "<class 'pandas.core.frame.DataFrame'>\n",
            "Int64Index: 344620 entries, 1 to 553096\n",
            "Data columns (total 18 columns):\n",
            " #   Column                        Non-Null Count   Dtype \n",
            "---  ------                        --------------   ----- \n",
            " 0   date_received                 344620 non-null  object\n",
            " 1   product                       344620 non-null  object\n",
            " 2   sub_product                   271982 non-null  object\n",
            " 3   issue                         344620 non-null  object\n",
            " 4   sub_issue                     211806 non-null  object\n",
            " 5   consumer_complaint_narrative  344620 non-null  object\n",
            " 6   company_public_response       168099 non-null  object\n",
            " 7   company                       344620 non-null  object\n",
            " 8   state                         344620 non-null  object\n",
            " 9   zipcode                       344620 non-null  object\n",
            " 10  tags                          58955 non-null   object\n",
            " 11  consumer_consent_provided     344620 non-null  object\n",
            " 12  submitted_via                 344620 non-null  object\n",
            " 13  date_sent_to_company          344620 non-null  object\n",
            " 14  company_response_to_consumer  344619 non-null  object\n",
            " 15  timely_response               344620 non-null  object\n",
            " 16  consumer_disputed             344620 non-null  object\n",
            " 17  complaint_id                  344620 non-null  int64 \n",
            "dtypes: int64(1), object(17)\n",
            "memory usage: 50.0+ MB\n"
          ]
        }
      ],
      "source": [
        "new_data.info()"
      ]
    },
    {
      "cell_type": "code",
      "execution_count": null,
      "metadata": {
        "colab": {
          "base_uri": "https://localhost:8080/"
        },
        "id": "6DQZ1mMk7hNY",
        "outputId": "841c1ccb-7043-437f-cf80-23bdd64039e0"
      },
      "outputs": [
        {
          "name": "stdout",
          "output_type": "stream",
          "text": [
            "The Cardinality of each column date_received : 1289 \n",
            "The Cardinality of each column product : 18 \n",
            "The Cardinality of each column sub_product : 76 \n",
            "The Cardinality of each column issue : 161 \n",
            "The Cardinality of each column sub_issue : 222 \n",
            "The Cardinality of each column consumer_complaint_narrative : 333606 \n",
            "The Cardinality of each column company_public_response : 11 \n",
            "The Cardinality of each column company : 4226 \n",
            "The Cardinality of each column state : 62 \n",
            "The Cardinality of each column zipcode : 947 \n",
            "The Cardinality of each column tags : 4 \n",
            "The Cardinality of each column consumer_consent_provided : 1 \n",
            "The Cardinality of each column submitted_via : 1 \n",
            "The Cardinality of each column date_sent_to_company : 1289 \n",
            "The Cardinality of each column company_response_to_consumer : 7 \n",
            "The Cardinality of each column timely_response : 2 \n",
            "The Cardinality of each column consumer_disputed : 2 \n"
          ]
        }
      ],
      "source": [
        "for i  in cat_fea:\n",
        "  count = len(new_data[i].unique())\n",
        "  print(\"The Cardinality of each column {} : {} \".format(i,count))\n",
        "\n",
        "# hence the unqiue value in  date column is very large, Thus\n",
        "# Cardinality of Data is high which poses several problem to the model in terms of efficiency \n",
        "# because we need to do numerical encoding or create dummies "
      ]
    },
    {
      "cell_type": "code",
      "execution_count": null,
      "metadata": {
        "colab": {
          "base_uri": "https://localhost:8080/"
        },
        "id": "WjaFhvFWPnRb",
        "outputId": "b746b2db-07a1-46c2-cb36-a8a680bc4188"
      },
      "outputs": [
        {
          "data": {
            "text/plain": [
              "(344620, 18)"
            ]
          },
          "execution_count": 30,
          "metadata": {},
          "output_type": "execute_result"
        }
      ],
      "source": [
        "new_data.shape"
      ]
    },
    {
      "cell_type": "markdown",
      "metadata": {
        "id": "0EhloZFcNAgk"
      },
      "source": [
        "## Applying NLP on customer complaint"
      ]
    },
    {
      "cell_type": "code",
      "execution_count": null,
      "metadata": {
        "colab": {
          "base_uri": "https://localhost:8080/"
        },
        "id": "lrB-0PL_No_Q",
        "outputId": "881c6b92-a262-4e1f-8f45-90ef6162f618"
      },
      "outputs": [
        {
          "name": "stdout",
          "output_type": "stream",
          "text": [
            "Collecting neattext\n",
            "  Downloading neattext-0.1.2-py3-none-any.whl (114 kB)\n",
            "\u001b[?25l\r\u001b[K     |██▉                             | 10 kB 9.1 MB/s eta 0:00:01\r\u001b[K     |█████▊                          | 20 kB 11.8 MB/s eta 0:00:01\r\u001b[K     |████████▋                       | 30 kB 10.1 MB/s eta 0:00:01\r\u001b[K     |███████████▌                    | 40 kB 8.7 MB/s eta 0:00:01\r\u001b[K     |██████████████▍                 | 51 kB 4.1 MB/s eta 0:00:01\r\u001b[K     |█████████████████▏              | 61 kB 4.8 MB/s eta 0:00:01\r\u001b[K     |████████████████████            | 71 kB 5.5 MB/s eta 0:00:01\r\u001b[K     |███████████████████████         | 81 kB 4.3 MB/s eta 0:00:01\r\u001b[K     |█████████████████████████▉      | 92 kB 4.7 MB/s eta 0:00:01\r\u001b[K     |████████████████████████████▊   | 102 kB 5.2 MB/s eta 0:00:01\r\u001b[K     |███████████████████████████████▋| 112 kB 5.2 MB/s eta 0:00:01\r\u001b[K     |████████████████████████████████| 114 kB 5.2 MB/s \n",
            "\u001b[?25hInstalling collected packages: neattext\n",
            "Successfully installed neattext-0.1.2\n"
          ]
        }
      ],
      "source": [
        "!pip install neattext"
      ]
    },
    {
      "cell_type": "code",
      "execution_count": null,
      "metadata": {
        "id": "vszOSidmM8LB"
      },
      "outputs": [],
      "source": [
        "#lets apply NLP\n",
        "import neattext.functions as nfx"
      ]
    },
    {
      "cell_type": "code",
      "execution_count": null,
      "metadata": {
        "colab": {
          "base_uri": "https://localhost:8080/"
        },
        "id": "ah4eOxI4NNzw",
        "outputId": "13787336-3b5c-407c-d2cc-09984f05e215"
      },
      "outputs": [
        {
          "name": "stderr",
          "output_type": "stream",
          "text": [
            "/usr/local/lib/python3.7/dist-packages/ipykernel_launcher.py:6: SettingWithCopyWarning: \n",
            "A value is trying to be set on a copy of a slice from a DataFrame.\n",
            "Try using .loc[row_indexer,col_indexer] = value instead\n",
            "\n",
            "See the caveats in the documentation: https://pandas.pydata.org/pandas-docs/stable/user_guide/indexing.html#returning-a-view-versus-a-copy\n",
            "  \n",
            "/usr/local/lib/python3.7/dist-packages/ipykernel_launcher.py:7: SettingWithCopyWarning: \n",
            "A value is trying to be set on a copy of a slice from a DataFrame.\n",
            "Try using .loc[row_indexer,col_indexer] = value instead\n",
            "\n",
            "See the caveats in the documentation: https://pandas.pydata.org/pandas-docs/stable/user_guide/indexing.html#returning-a-view-versus-a-copy\n",
            "  import sys\n",
            "/usr/local/lib/python3.7/dist-packages/ipykernel_launcher.py:8: SettingWithCopyWarning: \n",
            "A value is trying to be set on a copy of a slice from a DataFrame.\n",
            "Try using .loc[row_indexer,col_indexer] = value instead\n",
            "\n",
            "See the caveats in the documentation: https://pandas.pydata.org/pandas-docs/stable/user_guide/indexing.html#returning-a-view-versus-a-copy\n",
            "  \n",
            "/usr/local/lib/python3.7/dist-packages/ipykernel_launcher.py:9: SettingWithCopyWarning: \n",
            "A value is trying to be set on a copy of a slice from a DataFrame.\n",
            "Try using .loc[row_indexer,col_indexer] = value instead\n",
            "\n",
            "See the caveats in the documentation: https://pandas.pydata.org/pandas-docs/stable/user_guide/indexing.html#returning-a-view-versus-a-copy\n",
            "  if __name__ == '__main__':\n",
            "/usr/local/lib/python3.7/dist-packages/ipykernel_launcher.py:10: SettingWithCopyWarning: \n",
            "A value is trying to be set on a copy of a slice from a DataFrame.\n",
            "Try using .loc[row_indexer,col_indexer] = value instead\n",
            "\n",
            "See the caveats in the documentation: https://pandas.pydata.org/pandas-docs/stable/user_guide/indexing.html#returning-a-view-versus-a-copy\n",
            "  # Remove the CWD from sys.path while we load stuff.\n",
            "/usr/local/lib/python3.7/dist-packages/ipykernel_launcher.py:11: SettingWithCopyWarning: \n",
            "A value is trying to be set on a copy of a slice from a DataFrame.\n",
            "Try using .loc[row_indexer,col_indexer] = value instead\n",
            "\n",
            "See the caveats in the documentation: https://pandas.pydata.org/pandas-docs/stable/user_guide/indexing.html#returning-a-view-versus-a-copy\n",
            "  # This is added back by InteractiveShellApp.init_path()\n",
            "/usr/local/lib/python3.7/dist-packages/ipykernel_launcher.py:12: SettingWithCopyWarning: \n",
            "A value is trying to be set on a copy of a slice from a DataFrame.\n",
            "Try using .loc[row_indexer,col_indexer] = value instead\n",
            "\n",
            "See the caveats in the documentation: https://pandas.pydata.org/pandas-docs/stable/user_guide/indexing.html#returning-a-view-versus-a-copy\n",
            "  if sys.path[0] == '':\n",
            "/usr/local/lib/python3.7/dist-packages/ipykernel_launcher.py:13: SettingWithCopyWarning: \n",
            "A value is trying to be set on a copy of a slice from a DataFrame.\n",
            "Try using .loc[row_indexer,col_indexer] = value instead\n",
            "\n",
            "See the caveats in the documentation: https://pandas.pydata.org/pandas-docs/stable/user_guide/indexing.html#returning-a-view-versus-a-copy\n",
            "  del sys.path[0]\n",
            "/usr/local/lib/python3.7/dist-packages/ipykernel_launcher.py:14: SettingWithCopyWarning: \n",
            "A value is trying to be set on a copy of a slice from a DataFrame.\n",
            "Try using .loc[row_indexer,col_indexer] = value instead\n",
            "\n",
            "See the caveats in the documentation: https://pandas.pydata.org/pandas-docs/stable/user_guide/indexing.html#returning-a-view-versus-a-copy\n",
            "  \n",
            "/usr/local/lib/python3.7/dist-packages/ipykernel_launcher.py:15: SettingWithCopyWarning: \n",
            "A value is trying to be set on a copy of a slice from a DataFrame.\n",
            "Try using .loc[row_indexer,col_indexer] = value instead\n",
            "\n",
            "See the caveats in the documentation: https://pandas.pydata.org/pandas-docs/stable/user_guide/indexing.html#returning-a-view-versus-a-copy\n",
            "  from ipykernel import kernelapp as app\n",
            "/usr/local/lib/python3.7/dist-packages/ipykernel_launcher.py:16: SettingWithCopyWarning: \n",
            "A value is trying to be set on a copy of a slice from a DataFrame.\n",
            "Try using .loc[row_indexer,col_indexer] = value instead\n",
            "\n",
            "See the caveats in the documentation: https://pandas.pydata.org/pandas-docs/stable/user_guide/indexing.html#returning-a-view-versus-a-copy\n",
            "  app.launch_new_instance()\n",
            "/usr/local/lib/python3.7/dist-packages/ipykernel_launcher.py:17: SettingWithCopyWarning: \n",
            "A value is trying to be set on a copy of a slice from a DataFrame.\n",
            "Try using .loc[row_indexer,col_indexer] = value instead\n",
            "\n",
            "See the caveats in the documentation: https://pandas.pydata.org/pandas-docs/stable/user_guide/indexing.html#returning-a-view-versus-a-copy\n"
          ]
        }
      ],
      "source": [
        "# to clean the text\n",
        "import neattext.functions as nfx\n",
        "dir(nfx)\n",
        "pd.set_option('display.max_rows', new_data.shape[0]+1)\n",
        "Edited_Review = new_data['consumer_complaint_narrative'].copy()\n",
        "new_data['clean_text'] = Edited_Review\n",
        "new_data['clean_text'] = new_data['consumer_complaint_narrative'].apply(str).apply(nfx.fix_contractions)\n",
        "new_data['clean_text'] = new_data['consumer_complaint_narrative'].apply(str).apply(nfx.remove_hashtags)\n",
        "new_data['clean_text'] = new_data['clean_text'].apply(lambda x: nfx.remove_userhandles(x))\n",
        "new_data['clean_text'] = new_data['clean_text'].apply(nfx.remove_multiple_spaces)\n",
        "new_data['clean_text'] = new_data['clean_text'].apply(nfx.remove_urls)\n",
        "new_data['clean_text'] = new_data['clean_text'].apply(nfx.remove_stopwords)\n",
        "new_data['clean_text'] = new_data['clean_text'].apply(nfx.remove_special_characters)\n",
        "new_data['clean_text'] = new_data['clean_text'].apply(nfx.remove_puncts)\n",
        "new_data['clean_text'] = new_data['clean_text'].apply(nfx.remove_html_tags)\n",
        "new_data['clean_text'] = new_data['clean_text'].apply(nfx.remove_numbers)\n",
        "new_data['clean_text'] = new_data['clean_text'].apply(nfx.remove_shortwords)"
      ]
    },
    {
      "cell_type": "code",
      "execution_count": null,
      "metadata": {
        "id": "uhIBQdRKPxYZ"
      },
      "outputs": [],
      "source": [
        "# since our clean_text is our customer reviews after tokenization "
      ]
    },
    {
      "cell_type": "code",
      "execution_count": null,
      "metadata": {
        "colab": {
          "base_uri": "https://localhost:8080/"
        },
        "id": "Jgm3k4vaRjYe",
        "outputId": "2b01a099-dcbf-410b-ffd2-955cfc50433f"
      },
      "outputs": [
        {
          "data": {
            "text/plain": [
              "['date_received',\n",
              " 'product',\n",
              " 'sub_product',\n",
              " 'issue',\n",
              " 'sub_issue',\n",
              " 'consumer_complaint_narrative',\n",
              " 'company_public_response',\n",
              " 'company',\n",
              " 'state',\n",
              " 'zipcode',\n",
              " 'tags',\n",
              " 'consumer_consent_provided',\n",
              " 'submitted_via',\n",
              " 'date_sent_to_company',\n",
              " 'company_response_to_consumer',\n",
              " 'timely_response',\n",
              " 'consumer_disputed',\n",
              " 'clean_text']"
            ]
          },
          "execution_count": 34,
          "metadata": {},
          "output_type": "execute_result"
        }
      ],
      "source": [
        "cat_fea = [i for i in new_data.columns if new_data[i].dtype == \"O\"]\n",
        "cat_fea "
      ]
    },
    {
      "cell_type": "code",
      "execution_count": null,
      "metadata": {
        "colab": {
          "base_uri": "https://localhost:8080/"
        },
        "id": "rydL8KIjQYgX",
        "outputId": "ed10e5ee-e09a-4d25-f69b-f87218ac0042"
      },
      "outputs": [
        {
          "name": "stdout",
          "output_type": "stream",
          "text": [
            "The Cardinality of each column date_received : 1289 \n",
            "The Cardinality of each column product : 18 \n",
            "The Cardinality of each column sub_product : 76 \n",
            "The Cardinality of each column issue : 161 \n",
            "The Cardinality of each column sub_issue : 222 \n",
            "The Cardinality of each column consumer_complaint_narrative : 333606 \n",
            "The Cardinality of each column company_public_response : 11 \n",
            "The Cardinality of each column company : 4226 \n",
            "The Cardinality of each column state : 62 \n",
            "The Cardinality of each column zipcode : 947 \n",
            "The Cardinality of each column tags : 4 \n",
            "The Cardinality of each column consumer_consent_provided : 1 \n",
            "The Cardinality of each column submitted_via : 1 \n",
            "The Cardinality of each column date_sent_to_company : 1289 \n",
            "The Cardinality of each column company_response_to_consumer : 7 \n",
            "The Cardinality of each column timely_response : 2 \n",
            "The Cardinality of each column consumer_disputed : 2 \n",
            "The Cardinality of each column clean_text : 266442 \n"
          ]
        }
      ],
      "source": [
        "for i  in cat_fea:\n",
        "  count = len(new_data[i].unique())\n",
        "  print(\"The Cardinality of each column {} : {} \".format(i,count))"
      ]
    },
    {
      "cell_type": "code",
      "execution_count": null,
      "metadata": {
        "colab": {
          "base_uri": "https://localhost:8080/",
          "height": 669
        },
        "id": "EE3gZPM-Pc9L",
        "outputId": "50a719fc-c7f0-476e-ea1c-b449424d4d8a"
      },
      "outputs": [
        {
          "data": {
            "text/html": [
              "\n",
              "  <div id=\"df-17ee15d9-8eef-4561-989f-ab863ba7f00e\">\n",
              "    <div class=\"colab-df-container\">\n",
              "      <div>\n",
              "<style scoped>\n",
              "    .dataframe tbody tr th:only-of-type {\n",
              "        vertical-align: middle;\n",
              "    }\n",
              "\n",
              "    .dataframe tbody tr th {\n",
              "        vertical-align: top;\n",
              "    }\n",
              "\n",
              "    .dataframe thead th {\n",
              "        text-align: right;\n",
              "    }\n",
              "</style>\n",
              "<table border=\"1\" class=\"dataframe\">\n",
              "  <thead>\n",
              "    <tr style=\"text-align: right;\">\n",
              "      <th></th>\n",
              "      <th>date_received</th>\n",
              "      <th>product</th>\n",
              "      <th>sub_product</th>\n",
              "      <th>issue</th>\n",
              "      <th>sub_issue</th>\n",
              "      <th>consumer_complaint_narrative</th>\n",
              "      <th>company_public_response</th>\n",
              "      <th>company</th>\n",
              "      <th>state</th>\n",
              "      <th>zipcode</th>\n",
              "      <th>tags</th>\n",
              "      <th>consumer_consent_provided</th>\n",
              "      <th>submitted_via</th>\n",
              "      <th>date_sent_to_company</th>\n",
              "      <th>company_response_to_consumer</th>\n",
              "      <th>timely_response</th>\n",
              "      <th>consumer_disputed</th>\n",
              "      <th>complaint_id</th>\n",
              "      <th>clean_text</th>\n",
              "    </tr>\n",
              "  </thead>\n",
              "  <tbody>\n",
              "    <tr>\n",
              "      <th>1</th>\n",
              "      <td>10-01-2016</td>\n",
              "      <td>Credit reporting</td>\n",
              "      <td>NaN</td>\n",
              "      <td>Incorrect information on credit report</td>\n",
              "      <td>Account status</td>\n",
              "      <td>I have outdated information on my credit repor...</td>\n",
              "      <td>Company has responded to the consumer and the ...</td>\n",
              "      <td>TRANSUNION INTERMEDIATE HOLDINGS, INC.</td>\n",
              "      <td>AL</td>\n",
              "      <td>352XX</td>\n",
              "      <td>NaN</td>\n",
              "      <td>Consent provided</td>\n",
              "      <td>Web</td>\n",
              "      <td>10-05-2016</td>\n",
              "      <td>Closed with explanation</td>\n",
              "      <td>Yes</td>\n",
              "      <td>No</td>\n",
              "      <td>2141773</td>\n",
              "      <td>outdated information credit report previously ...</td>\n",
              "    </tr>\n",
              "    <tr>\n",
              "      <th>2</th>\n",
              "      <td>10/17/2016</td>\n",
              "      <td>Consumer Loan</td>\n",
              "      <td>Vehicle loan</td>\n",
              "      <td>Managing the loan or lease</td>\n",
              "      <td>NaN</td>\n",
              "      <td>I purchased a new car on XXXX XXXX. The car de...</td>\n",
              "      <td>NaN</td>\n",
              "      <td>CITIZENS FINANCIAL GROUP, INC.</td>\n",
              "      <td>PA</td>\n",
              "      <td>177XX</td>\n",
              "      <td>Older American</td>\n",
              "      <td>Consent provided</td>\n",
              "      <td>Web</td>\n",
              "      <td>10/20/2016</td>\n",
              "      <td>Closed with explanation</td>\n",
              "      <td>Yes</td>\n",
              "      <td>No</td>\n",
              "      <td>2163100</td>\n",
              "      <td>purchased XXXX XXXX dealer called Citizens Ban...</td>\n",
              "    </tr>\n",
              "    <tr>\n",
              "      <th>7</th>\n",
              "      <td>06/15/2015</td>\n",
              "      <td>Credit reporting</td>\n",
              "      <td>NaN</td>\n",
              "      <td>Credit reporting company's investigation</td>\n",
              "      <td>Inadequate help over the phone</td>\n",
              "      <td>An account on my credit report has a mistaken ...</td>\n",
              "      <td>Company chooses not to provide a public response</td>\n",
              "      <td>Experian Information Solutions Inc.</td>\n",
              "      <td>VA</td>\n",
              "      <td>224XX</td>\n",
              "      <td>NaN</td>\n",
              "      <td>Consent provided</td>\n",
              "      <td>Web</td>\n",
              "      <td>06/15/2015</td>\n",
              "      <td>Closed with explanation</td>\n",
              "      <td>Yes</td>\n",
              "      <td>No</td>\n",
              "      <td>1420702</td>\n",
              "      <td>account credit report mistaken date mailed deb...</td>\n",
              "    </tr>\n",
              "    <tr>\n",
              "      <th>12</th>\n",
              "      <td>02-03-2016</td>\n",
              "      <td>Debt collection</td>\n",
              "      <td>Other (i.e. phone, health club, etc.)</td>\n",
              "      <td>Disclosure verification of debt</td>\n",
              "      <td>Not given enough info to verify debt</td>\n",
              "      <td>This company refuses to provide me verificatio...</td>\n",
              "      <td>NaN</td>\n",
              "      <td>The CBE Group, Inc.</td>\n",
              "      <td>TX</td>\n",
              "      <td>752XX</td>\n",
              "      <td>NaN</td>\n",
              "      <td>Consent provided</td>\n",
              "      <td>Web</td>\n",
              "      <td>02-03-2016</td>\n",
              "      <td>Closed with explanation</td>\n",
              "      <td>Yes</td>\n",
              "      <td>Yes</td>\n",
              "      <td>1772196</td>\n",
              "      <td>company refuses provide verification validatio...</td>\n",
              "    </tr>\n",
              "    <tr>\n",
              "      <th>16</th>\n",
              "      <td>02/17/2016</td>\n",
              "      <td>Debt collection</td>\n",
              "      <td>Credit card</td>\n",
              "      <td>Improper contact or sharing of info</td>\n",
              "      <td>Talked to a third party about my debt</td>\n",
              "      <td>This complaint is in regards to Square Two Fin...</td>\n",
              "      <td>Company has responded to the consumer and the ...</td>\n",
              "      <td>SQUARETWO FINANCIAL CORPORATION</td>\n",
              "      <td>NE</td>\n",
              "      <td>693XX</td>\n",
              "      <td>NaN</td>\n",
              "      <td>Consent provided</td>\n",
              "      <td>Web</td>\n",
              "      <td>03-04-2016</td>\n",
              "      <td>Closed with explanation</td>\n",
              "      <td>Yes</td>\n",
              "      <td>Yes</td>\n",
              "      <td>1790634</td>\n",
              "      <td>complaint regards Square Financial Refer CFPB ...</td>\n",
              "    </tr>\n",
              "  </tbody>\n",
              "</table>\n",
              "</div>\n",
              "      <button class=\"colab-df-convert\" onclick=\"convertToInteractive('df-17ee15d9-8eef-4561-989f-ab863ba7f00e')\"\n",
              "              title=\"Convert this dataframe to an interactive table.\"\n",
              "              style=\"display:none;\">\n",
              "        \n",
              "  <svg xmlns=\"http://www.w3.org/2000/svg\" height=\"24px\"viewBox=\"0 0 24 24\"\n",
              "       width=\"24px\">\n",
              "    <path d=\"M0 0h24v24H0V0z\" fill=\"none\"/>\n",
              "    <path d=\"M18.56 5.44l.94 2.06.94-2.06 2.06-.94-2.06-.94-.94-2.06-.94 2.06-2.06.94zm-11 1L8.5 8.5l.94-2.06 2.06-.94-2.06-.94L8.5 2.5l-.94 2.06-2.06.94zm10 10l.94 2.06.94-2.06 2.06-.94-2.06-.94-.94-2.06-.94 2.06-2.06.94z\"/><path d=\"M17.41 7.96l-1.37-1.37c-.4-.4-.92-.59-1.43-.59-.52 0-1.04.2-1.43.59L10.3 9.45l-7.72 7.72c-.78.78-.78 2.05 0 2.83L4 21.41c.39.39.9.59 1.41.59.51 0 1.02-.2 1.41-.59l7.78-7.78 2.81-2.81c.8-.78.8-2.07 0-2.86zM5.41 20L4 18.59l7.72-7.72 1.47 1.35L5.41 20z\"/>\n",
              "  </svg>\n",
              "      </button>\n",
              "      \n",
              "  <style>\n",
              "    .colab-df-container {\n",
              "      display:flex;\n",
              "      flex-wrap:wrap;\n",
              "      gap: 12px;\n",
              "    }\n",
              "\n",
              "    .colab-df-convert {\n",
              "      background-color: #E8F0FE;\n",
              "      border: none;\n",
              "      border-radius: 50%;\n",
              "      cursor: pointer;\n",
              "      display: none;\n",
              "      fill: #1967D2;\n",
              "      height: 32px;\n",
              "      padding: 0 0 0 0;\n",
              "      width: 32px;\n",
              "    }\n",
              "\n",
              "    .colab-df-convert:hover {\n",
              "      background-color: #E2EBFA;\n",
              "      box-shadow: 0px 1px 2px rgba(60, 64, 67, 0.3), 0px 1px 3px 1px rgba(60, 64, 67, 0.15);\n",
              "      fill: #174EA6;\n",
              "    }\n",
              "\n",
              "    [theme=dark] .colab-df-convert {\n",
              "      background-color: #3B4455;\n",
              "      fill: #D2E3FC;\n",
              "    }\n",
              "\n",
              "    [theme=dark] .colab-df-convert:hover {\n",
              "      background-color: #434B5C;\n",
              "      box-shadow: 0px 1px 3px 1px rgba(0, 0, 0, 0.15);\n",
              "      filter: drop-shadow(0px 1px 2px rgba(0, 0, 0, 0.3));\n",
              "      fill: #FFFFFF;\n",
              "    }\n",
              "  </style>\n",
              "\n",
              "      <script>\n",
              "        const buttonEl =\n",
              "          document.querySelector('#df-17ee15d9-8eef-4561-989f-ab863ba7f00e button.colab-df-convert');\n",
              "        buttonEl.style.display =\n",
              "          google.colab.kernel.accessAllowed ? 'block' : 'none';\n",
              "\n",
              "        async function convertToInteractive(key) {\n",
              "          const element = document.querySelector('#df-17ee15d9-8eef-4561-989f-ab863ba7f00e');\n",
              "          const dataTable =\n",
              "            await google.colab.kernel.invokeFunction('convertToInteractive',\n",
              "                                                     [key], {});\n",
              "          if (!dataTable) return;\n",
              "\n",
              "          const docLinkHtml = 'Like what you see? Visit the ' +\n",
              "            '<a target=\"_blank\" href=https://colab.research.google.com/notebooks/data_table.ipynb>data table notebook</a>'\n",
              "            + ' to learn more about interactive tables.';\n",
              "          element.innerHTML = '';\n",
              "          dataTable['output_type'] = 'display_data';\n",
              "          await google.colab.output.renderOutput(dataTable, element);\n",
              "          const docLink = document.createElement('div');\n",
              "          docLink.innerHTML = docLinkHtml;\n",
              "          element.appendChild(docLink);\n",
              "        }\n",
              "      </script>\n",
              "    </div>\n",
              "  </div>\n",
              "  "
            ],
            "text/plain": [
              "   date_received           product                            sub_product  \\\n",
              "1     10-01-2016  Credit reporting                                    NaN   \n",
              "2     10/17/2016     Consumer Loan                           Vehicle loan   \n",
              "7     06/15/2015  Credit reporting                                    NaN   \n",
              "12    02-03-2016   Debt collection  Other (i.e. phone, health club, etc.)   \n",
              "16    02/17/2016   Debt collection                            Credit card   \n",
              "\n",
              "                                       issue  \\\n",
              "1     Incorrect information on credit report   \n",
              "2                 Managing the loan or lease   \n",
              "7   Credit reporting company's investigation   \n",
              "12           Disclosure verification of debt   \n",
              "16       Improper contact or sharing of info   \n",
              "\n",
              "                                sub_issue  \\\n",
              "1                          Account status   \n",
              "2                                     NaN   \n",
              "7          Inadequate help over the phone   \n",
              "12   Not given enough info to verify debt   \n",
              "16  Talked to a third party about my debt   \n",
              "\n",
              "                         consumer_complaint_narrative  \\\n",
              "1   I have outdated information on my credit repor...   \n",
              "2   I purchased a new car on XXXX XXXX. The car de...   \n",
              "7   An account on my credit report has a mistaken ...   \n",
              "12  This company refuses to provide me verificatio...   \n",
              "16  This complaint is in regards to Square Two Fin...   \n",
              "\n",
              "                              company_public_response  \\\n",
              "1   Company has responded to the consumer and the ...   \n",
              "2                                                 NaN   \n",
              "7    Company chooses not to provide a public response   \n",
              "12                                                NaN   \n",
              "16  Company has responded to the consumer and the ...   \n",
              "\n",
              "                                   company state zipcode            tags  \\\n",
              "1   TRANSUNION INTERMEDIATE HOLDINGS, INC.    AL   352XX             NaN   \n",
              "2           CITIZENS FINANCIAL GROUP, INC.    PA   177XX  Older American   \n",
              "7      Experian Information Solutions Inc.    VA   224XX             NaN   \n",
              "12                     The CBE Group, Inc.    TX   752XX             NaN   \n",
              "16         SQUARETWO FINANCIAL CORPORATION    NE   693XX             NaN   \n",
              "\n",
              "   consumer_consent_provided submitted_via date_sent_to_company  \\\n",
              "1           Consent provided           Web           10-05-2016   \n",
              "2           Consent provided           Web           10/20/2016   \n",
              "7           Consent provided           Web           06/15/2015   \n",
              "12          Consent provided           Web           02-03-2016   \n",
              "16          Consent provided           Web           03-04-2016   \n",
              "\n",
              "   company_response_to_consumer timely_response consumer_disputed  \\\n",
              "1       Closed with explanation             Yes                No   \n",
              "2       Closed with explanation             Yes                No   \n",
              "7       Closed with explanation             Yes                No   \n",
              "12      Closed with explanation             Yes               Yes   \n",
              "16      Closed with explanation             Yes               Yes   \n",
              "\n",
              "    complaint_id                                         clean_text  \n",
              "1        2141773  outdated information credit report previously ...  \n",
              "2        2163100  purchased XXXX XXXX dealer called Citizens Ban...  \n",
              "7        1420702  account credit report mistaken date mailed deb...  \n",
              "12       1772196  company refuses provide verification validatio...  \n",
              "16       1790634  complaint regards Square Financial Refer CFPB ...  "
            ]
          },
          "execution_count": 36,
          "metadata": {},
          "output_type": "execute_result"
        }
      ],
      "source": [
        "new_data.head()"
      ]
    },
    {
      "cell_type": "code",
      "execution_count": null,
      "metadata": {
        "colab": {
          "base_uri": "https://localhost:8080/"
        },
        "id": "DR7L5GloV-Z8",
        "outputId": "f099bab1-d239-4afe-acb0-3a337c09b9ad"
      },
      "outputs": [
        {
          "name": "stderr",
          "output_type": "stream",
          "text": [
            "/usr/local/lib/python3.7/dist-packages/ipykernel_launcher.py:2: SettingWithCopyWarning: \n",
            "A value is trying to be set on a copy of a slice from a DataFrame.\n",
            "Try using .loc[row_indexer,col_indexer] = value instead\n",
            "\n",
            "See the caveats in the documentation: https://pandas.pydata.org/pandas-docs/stable/user_guide/indexing.html#returning-a-view-versus-a-copy\n",
            "  \n",
            "/usr/local/lib/python3.7/dist-packages/ipykernel_launcher.py:3: SettingWithCopyWarning: \n",
            "A value is trying to be set on a copy of a slice from a DataFrame.\n",
            "Try using .loc[row_indexer,col_indexer] = value instead\n",
            "\n",
            "See the caveats in the documentation: https://pandas.pydata.org/pandas-docs/stable/user_guide/indexing.html#returning-a-view-versus-a-copy\n",
            "  This is separate from the ipykernel package so we can avoid doing imports until\n",
            "/usr/local/lib/python3.7/dist-packages/ipykernel_launcher.py:4: SettingWithCopyWarning: \n",
            "A value is trying to be set on a copy of a slice from a DataFrame.\n",
            "Try using .loc[row_indexer,col_indexer] = value instead\n",
            "\n",
            "See the caveats in the documentation: https://pandas.pydata.org/pandas-docs/stable/user_guide/indexing.html#returning-a-view-versus-a-copy\n",
            "  after removing the cwd from sys.path.\n",
            "/usr/local/lib/python3.7/dist-packages/ipykernel_launcher.py:5: SettingWithCopyWarning: \n",
            "A value is trying to be set on a copy of a slice from a DataFrame.\n",
            "Try using .loc[row_indexer,col_indexer] = value instead\n",
            "\n",
            "See the caveats in the documentation: https://pandas.pydata.org/pandas-docs/stable/user_guide/indexing.html#returning-a-view-versus-a-copy\n",
            "  \"\"\"\n",
            "/usr/local/lib/python3.7/dist-packages/ipykernel_launcher.py:6: SettingWithCopyWarning: \n",
            "A value is trying to be set on a copy of a slice from a DataFrame.\n",
            "Try using .loc[row_indexer,col_indexer] = value instead\n",
            "\n",
            "See the caveats in the documentation: https://pandas.pydata.org/pandas-docs/stable/user_guide/indexing.html#returning-a-view-versus-a-copy\n",
            "  \n"
          ]
        }
      ],
      "source": [
        "# remove NaN values from sub_issue, tags, state, zipcode, timely_response, complaint_id, consumer_disputed?\n",
        "new_data[\"consumer_disputed\"] = new_data[\"consumer_disputed\"].fillna(new_data[\"consumer_disputed\"].mode()[0])\n",
        "new_data[\"complaint_id\"]= new_data[\"complaint_id\"].fillna(new_data[\"complaint_id\"].mode()[0])\n",
        "new_data[\"timely_response\"]= new_data[\"timely_response\"].fillna(new_data[\"timely_response\"].mode()[0])\n",
        "new_data[\"zipcode\"]= new_data[\"zipcode\"].fillna(new_data[\"zipcode\"].mode()[0])\n",
        "new_data[\"state\"]= new_data[\"state\"].fillna(new_data[\"state\"].mode()[0])"
      ]
    },
    {
      "cell_type": "code",
      "execution_count": null,
      "metadata": {
        "colab": {
          "base_uri": "https://localhost:8080/"
        },
        "id": "vkPvaWGrQ8E4",
        "outputId": "abb72dc6-8de5-4bca-cb45-bccdf75b0e97"
      },
      "outputs": [
        {
          "name": "stderr",
          "output_type": "stream",
          "text": [
            "/usr/local/lib/python3.7/dist-packages/ipykernel_launcher.py:1: SettingWithCopyWarning: \n",
            "A value is trying to be set on a copy of a slice from a DataFrame.\n",
            "Try using .loc[row_indexer,col_indexer] = value instead\n",
            "\n",
            "See the caveats in the documentation: https://pandas.pydata.org/pandas-docs/stable/user_guide/indexing.html#returning-a-view-versus-a-copy\n",
            "  \"\"\"Entry point for launching an IPython kernel.\n",
            "/usr/local/lib/python3.7/dist-packages/ipykernel_launcher.py:2: SettingWithCopyWarning: \n",
            "A value is trying to be set on a copy of a slice from a DataFrame.\n",
            "Try using .loc[row_indexer,col_indexer] = value instead\n",
            "\n",
            "See the caveats in the documentation: https://pandas.pydata.org/pandas-docs/stable/user_guide/indexing.html#returning-a-view-versus-a-copy\n",
            "  \n",
            "/usr/local/lib/python3.7/dist-packages/ipykernel_launcher.py:3: SettingWithCopyWarning: \n",
            "A value is trying to be set on a copy of a slice from a DataFrame.\n",
            "Try using .loc[row_indexer,col_indexer] = value instead\n",
            "\n",
            "See the caveats in the documentation: https://pandas.pydata.org/pandas-docs/stable/user_guide/indexing.html#returning-a-view-versus-a-copy\n",
            "  This is separate from the ipykernel package so we can avoid doing imports until\n",
            "/usr/local/lib/python3.7/dist-packages/ipykernel_launcher.py:4: SettingWithCopyWarning: \n",
            "A value is trying to be set on a copy of a slice from a DataFrame.\n",
            "Try using .loc[row_indexer,col_indexer] = value instead\n",
            "\n",
            "See the caveats in the documentation: https://pandas.pydata.org/pandas-docs/stable/user_guide/indexing.html#returning-a-view-versus-a-copy\n",
            "  after removing the cwd from sys.path.\n"
          ]
        }
      ],
      "source": [
        "new_data['date_received'] = new_data['date_received'].astype('datetime64[ns]')\n",
        "new_data['date_sent_to_company'] = new_data['date_sent_to_company'].astype('datetime64[ns]')\n",
        "new_data['nb_days'] = ((new_data.date_sent_to_company - new_data.date_received)/np.timedelta64(1, 'D'))\n",
        "new_data['nb_days'] = new_data['nb_days'].astype(int)"
      ]
    },
    {
      "cell_type": "code",
      "execution_count": null,
      "metadata": {
        "colab": {
          "base_uri": "https://localhost:8080/"
        },
        "id": "JZP_D5UPRFnG",
        "outputId": "188d71d2-8059-4488-91a6-04231792d7ee"
      },
      "outputs": [
        {
          "name": "stderr",
          "output_type": "stream",
          "text": [
            "/usr/local/lib/python3.7/dist-packages/pandas/core/frame.py:4913: SettingWithCopyWarning: \n",
            "A value is trying to be set on a copy of a slice from a DataFrame\n",
            "\n",
            "See the caveats in the documentation: https://pandas.pydata.org/pandas-docs/stable/user_guide/indexing.html#returning-a-view-versus-a-copy\n",
            "  errors=errors,\n"
          ]
        }
      ],
      "source": [
        "#new_data.drop(['consumer_complaint_narrative','zipcode','date_received','date_sent_to_company','complaint_id'], axis=1, inplace = True)\n",
        "new_data.drop(['complaint_id'], axis=1, inplace = True)"
      ]
    },
    {
      "cell_type": "code",
      "execution_count": null,
      "metadata": {
        "id": "367K_6rvB6Hd"
      },
      "outputs": [],
      "source": []
    },
    {
      "cell_type": "code",
      "execution_count": null,
      "metadata": {
        "id": "LUIR6WaiRNpi"
      },
      "outputs": [],
      "source": []
    },
    {
      "cell_type": "code",
      "execution_count": null,
      "metadata": {
        "colab": {
          "base_uri": "https://localhost:8080/"
        },
        "id": "VObOnvIkX9Hw",
        "outputId": "97e08177-86d0-4ea1-bc63-6f98cd4c03df"
      },
      "outputs": [
        {
          "name": "stdout",
          "output_type": "stream",
          "text": [
            "[nltk_data] Downloading package vader_lexicon to /root/nltk_data...\n"
          ]
        },
        {
          "name": "stderr",
          "output_type": "stream",
          "text": [
            "/usr/local/lib/python3.7/dist-packages/nltk/twitter/__init__.py:20: UserWarning: The twython library has not been installed. Some functionality from the twitter package will not be available.\n",
            "  warnings.warn(\"The twython library has not been installed. \"\n"
          ]
        }
      ],
      "source": [
        "import nltk\n",
        "nltk.download('vader_lexicon')\n",
        "from nltk.sentiment.vader import SentimentIntensityAnalyzer"
      ]
    },
    {
      "cell_type": "code",
      "execution_count": null,
      "metadata": {
        "colab": {
          "background_save": true
        },
        "id": "V4sLEGY_WR1r",
        "outputId": "382d23bf-e1d9-4fe1-effe-8e619afda12d"
      },
      "outputs": [
        {
          "name": "stderr",
          "output_type": "stream",
          "text": [
            "/usr/local/lib/python3.7/dist-packages/ipykernel_launcher.py:13: SettingWithCopyWarning: \n",
            "A value is trying to be set on a copy of a slice from a DataFrame.\n",
            "Try using .loc[row_indexer,col_indexer] = value instead\n",
            "\n",
            "See the caveats in the documentation: https://pandas.pydata.org/pandas-docs/stable/user_guide/indexing.html#returning-a-view-versus-a-copy\n",
            "  del sys.path[0]\n",
            "/usr/local/lib/python3.7/dist-packages/ipykernel_launcher.py:14: SettingWithCopyWarning: \n",
            "A value is trying to be set on a copy of a slice from a DataFrame.\n",
            "Try using .loc[row_indexer,col_indexer] = value instead\n",
            "\n",
            "See the caveats in the documentation: https://pandas.pydata.org/pandas-docs/stable/user_guide/indexing.html#returning-a-view-versus-a-copy\n",
            "  \n",
            "/usr/local/lib/python3.7/dist-packages/ipykernel_launcher.py:15: SettingWithCopyWarning: \n",
            "A value is trying to be set on a copy of a slice from a DataFrame.\n",
            "Try using .loc[row_indexer,col_indexer] = value instead\n",
            "\n",
            "See the caveats in the documentation: https://pandas.pydata.org/pandas-docs/stable/user_guide/indexing.html#returning-a-view-versus-a-copy\n",
            "  from ipykernel import kernelapp as app\n"
          ]
        }
      ],
      "source": [
        "# this part can be removed , only try to analyze the correlation between the features\n",
        "# since issue has 74 unique values lets classify them as pos, neg, or neutral\n",
        "def parse_values(x):\n",
        "    if x < 0:\n",
        "        return 'negative'\n",
        "    elif x == 0:\n",
        "        return 'neutral'\n",
        "    else:\n",
        "        return 'positive'\n",
        "sid = SentimentIntensityAnalyzer()\n",
        "new_data['clean_text'].isnull().sum()\n",
        "new_data['scores'] = new_data['issue'].apply(\n",
        "    lambda review: sid.polarity_scores(review))\n",
        "new_data['compound'] = new_data['scores'].apply(lambda score_dict: score_dict['compound'])\n",
        "new_data['sentiments'] = new_data['compound'].apply(parse_values)"
      ]
    },
    {
      "cell_type": "code",
      "execution_count": null,
      "metadata": {
        "colab": {
          "base_uri": "https://localhost:8080/"
        },
        "id": "RKMAprnQZXAJ",
        "outputId": "1cb42bcb-26c7-4bcf-ed82-ce9ce0be742a"
      },
      "outputs": [
        {
          "name": "stderr",
          "output_type": "stream",
          "text": [
            "/usr/local/lib/python3.7/dist-packages/pandas/core/frame.py:4913: SettingWithCopyWarning: \n",
            "A value is trying to be set on a copy of a slice from a DataFrame\n",
            "\n",
            "See the caveats in the documentation: https://pandas.pydata.org/pandas-docs/stable/user_guide/indexing.html#returning-a-view-versus-a-copy\n",
            "  errors=errors,\n"
          ]
        }
      ],
      "source": [
        "new_data.drop(['scores','compound'], axis=1, inplace = True)"
      ]
    },
    {
      "cell_type": "code",
      "execution_count": null,
      "metadata": {
        "colab": {
          "base_uri": "https://localhost:8080/"
        },
        "id": "ZdbfCjbrDgvS",
        "outputId": "e527f3b4-b5c2-478b-c921-0eab80b0bd7a"
      },
      "outputs": [
        {
          "name": "stderr",
          "output_type": "stream",
          "text": [
            "/usr/local/lib/python3.7/dist-packages/pandas/core/frame.py:4913: SettingWithCopyWarning: \n",
            "A value is trying to be set on a copy of a slice from a DataFrame\n",
            "\n",
            "See the caveats in the documentation: https://pandas.pydata.org/pandas-docs/stable/user_guide/indexing.html#returning-a-view-versus-a-copy\n",
            "  errors=errors,\n"
          ]
        }
      ],
      "source": [
        "new_data.drop(['date_received','consumer_complaint_narrative','zipcode','date_sent_to_company'], axis=1, inplace = True)"
      ]
    },
    {
      "cell_type": "code",
      "execution_count": null,
      "metadata": {
        "colab": {
          "base_uri": "https://localhost:8080/",
          "height": 669
        },
        "id": "WNVT7op7EDTz",
        "outputId": "b5ed2f41-6bae-4096-a7a6-7b9a831c7843"
      },
      "outputs": [
        {
          "data": {
            "text/html": [
              "\n",
              "  <div id=\"df-8b79393b-3da5-41d4-9ecf-cd7c63538eba\">\n",
              "    <div class=\"colab-df-container\">\n",
              "      <div>\n",
              "<style scoped>\n",
              "    .dataframe tbody tr th:only-of-type {\n",
              "        vertical-align: middle;\n",
              "    }\n",
              "\n",
              "    .dataframe tbody tr th {\n",
              "        vertical-align: top;\n",
              "    }\n",
              "\n",
              "    .dataframe thead th {\n",
              "        text-align: right;\n",
              "    }\n",
              "</style>\n",
              "<table border=\"1\" class=\"dataframe\">\n",
              "  <thead>\n",
              "    <tr style=\"text-align: right;\">\n",
              "      <th></th>\n",
              "      <th>product</th>\n",
              "      <th>sub_product</th>\n",
              "      <th>issue</th>\n",
              "      <th>sub_issue</th>\n",
              "      <th>company_public_response</th>\n",
              "      <th>company</th>\n",
              "      <th>state</th>\n",
              "      <th>tags</th>\n",
              "      <th>consumer_consent_provided</th>\n",
              "      <th>submitted_via</th>\n",
              "      <th>company_response_to_consumer</th>\n",
              "      <th>timely_response</th>\n",
              "      <th>consumer_disputed</th>\n",
              "      <th>clean_text</th>\n",
              "      <th>nb_days</th>\n",
              "      <th>sentiments</th>\n",
              "    </tr>\n",
              "  </thead>\n",
              "  <tbody>\n",
              "    <tr>\n",
              "      <th>1</th>\n",
              "      <td>Credit reporting</td>\n",
              "      <td>NaN</td>\n",
              "      <td>Incorrect information on credit report</td>\n",
              "      <td>Account status</td>\n",
              "      <td>Company has responded to the consumer and the ...</td>\n",
              "      <td>TRANSUNION INTERMEDIATE HOLDINGS, INC.</td>\n",
              "      <td>AL</td>\n",
              "      <td>NaN</td>\n",
              "      <td>Consent provided</td>\n",
              "      <td>Web</td>\n",
              "      <td>Closed with explanation</td>\n",
              "      <td>Yes</td>\n",
              "      <td>No</td>\n",
              "      <td>outdated information credit report previously ...</td>\n",
              "      <td>4</td>\n",
              "      <td>positive</td>\n",
              "    </tr>\n",
              "    <tr>\n",
              "      <th>2</th>\n",
              "      <td>Consumer Loan</td>\n",
              "      <td>Vehicle loan</td>\n",
              "      <td>Managing the loan or lease</td>\n",
              "      <td>NaN</td>\n",
              "      <td>NaN</td>\n",
              "      <td>CITIZENS FINANCIAL GROUP, INC.</td>\n",
              "      <td>PA</td>\n",
              "      <td>Older American</td>\n",
              "      <td>Consent provided</td>\n",
              "      <td>Web</td>\n",
              "      <td>Closed with explanation</td>\n",
              "      <td>Yes</td>\n",
              "      <td>No</td>\n",
              "      <td>purchased XXXX XXXX dealer called Citizens Ban...</td>\n",
              "      <td>3</td>\n",
              "      <td>neutral</td>\n",
              "    </tr>\n",
              "    <tr>\n",
              "      <th>7</th>\n",
              "      <td>Credit reporting</td>\n",
              "      <td>NaN</td>\n",
              "      <td>Credit reporting company's investigation</td>\n",
              "      <td>Inadequate help over the phone</td>\n",
              "      <td>Company chooses not to provide a public response</td>\n",
              "      <td>Experian Information Solutions Inc.</td>\n",
              "      <td>VA</td>\n",
              "      <td>NaN</td>\n",
              "      <td>Consent provided</td>\n",
              "      <td>Web</td>\n",
              "      <td>Closed with explanation</td>\n",
              "      <td>Yes</td>\n",
              "      <td>No</td>\n",
              "      <td>account credit report mistaken date mailed deb...</td>\n",
              "      <td>0</td>\n",
              "      <td>positive</td>\n",
              "    </tr>\n",
              "    <tr>\n",
              "      <th>12</th>\n",
              "      <td>Debt collection</td>\n",
              "      <td>Other (i.e. phone, health club, etc.)</td>\n",
              "      <td>Disclosure verification of debt</td>\n",
              "      <td>Not given enough info to verify debt</td>\n",
              "      <td>NaN</td>\n",
              "      <td>The CBE Group, Inc.</td>\n",
              "      <td>TX</td>\n",
              "      <td>NaN</td>\n",
              "      <td>Consent provided</td>\n",
              "      <td>Web</td>\n",
              "      <td>Closed with explanation</td>\n",
              "      <td>Yes</td>\n",
              "      <td>Yes</td>\n",
              "      <td>company refuses provide verification validatio...</td>\n",
              "      <td>0</td>\n",
              "      <td>negative</td>\n",
              "    </tr>\n",
              "    <tr>\n",
              "      <th>16</th>\n",
              "      <td>Debt collection</td>\n",
              "      <td>Credit card</td>\n",
              "      <td>Improper contact or sharing of info</td>\n",
              "      <td>Talked to a third party about my debt</td>\n",
              "      <td>Company has responded to the consumer and the ...</td>\n",
              "      <td>SQUARETWO FINANCIAL CORPORATION</td>\n",
              "      <td>NE</td>\n",
              "      <td>NaN</td>\n",
              "      <td>Consent provided</td>\n",
              "      <td>Web</td>\n",
              "      <td>Closed with explanation</td>\n",
              "      <td>Yes</td>\n",
              "      <td>Yes</td>\n",
              "      <td>complaint regards Square Financial Refer CFPB ...</td>\n",
              "      <td>16</td>\n",
              "      <td>positive</td>\n",
              "    </tr>\n",
              "  </tbody>\n",
              "</table>\n",
              "</div>\n",
              "      <button class=\"colab-df-convert\" onclick=\"convertToInteractive('df-8b79393b-3da5-41d4-9ecf-cd7c63538eba')\"\n",
              "              title=\"Convert this dataframe to an interactive table.\"\n",
              "              style=\"display:none;\">\n",
              "        \n",
              "  <svg xmlns=\"http://www.w3.org/2000/svg\" height=\"24px\"viewBox=\"0 0 24 24\"\n",
              "       width=\"24px\">\n",
              "    <path d=\"M0 0h24v24H0V0z\" fill=\"none\"/>\n",
              "    <path d=\"M18.56 5.44l.94 2.06.94-2.06 2.06-.94-2.06-.94-.94-2.06-.94 2.06-2.06.94zm-11 1L8.5 8.5l.94-2.06 2.06-.94-2.06-.94L8.5 2.5l-.94 2.06-2.06.94zm10 10l.94 2.06.94-2.06 2.06-.94-2.06-.94-.94-2.06-.94 2.06-2.06.94z\"/><path d=\"M17.41 7.96l-1.37-1.37c-.4-.4-.92-.59-1.43-.59-.52 0-1.04.2-1.43.59L10.3 9.45l-7.72 7.72c-.78.78-.78 2.05 0 2.83L4 21.41c.39.39.9.59 1.41.59.51 0 1.02-.2 1.41-.59l7.78-7.78 2.81-2.81c.8-.78.8-2.07 0-2.86zM5.41 20L4 18.59l7.72-7.72 1.47 1.35L5.41 20z\"/>\n",
              "  </svg>\n",
              "      </button>\n",
              "      \n",
              "  <style>\n",
              "    .colab-df-container {\n",
              "      display:flex;\n",
              "      flex-wrap:wrap;\n",
              "      gap: 12px;\n",
              "    }\n",
              "\n",
              "    .colab-df-convert {\n",
              "      background-color: #E8F0FE;\n",
              "      border: none;\n",
              "      border-radius: 50%;\n",
              "      cursor: pointer;\n",
              "      display: none;\n",
              "      fill: #1967D2;\n",
              "      height: 32px;\n",
              "      padding: 0 0 0 0;\n",
              "      width: 32px;\n",
              "    }\n",
              "\n",
              "    .colab-df-convert:hover {\n",
              "      background-color: #E2EBFA;\n",
              "      box-shadow: 0px 1px 2px rgba(60, 64, 67, 0.3), 0px 1px 3px 1px rgba(60, 64, 67, 0.15);\n",
              "      fill: #174EA6;\n",
              "    }\n",
              "\n",
              "    [theme=dark] .colab-df-convert {\n",
              "      background-color: #3B4455;\n",
              "      fill: #D2E3FC;\n",
              "    }\n",
              "\n",
              "    [theme=dark] .colab-df-convert:hover {\n",
              "      background-color: #434B5C;\n",
              "      box-shadow: 0px 1px 3px 1px rgba(0, 0, 0, 0.15);\n",
              "      filter: drop-shadow(0px 1px 2px rgba(0, 0, 0, 0.3));\n",
              "      fill: #FFFFFF;\n",
              "    }\n",
              "  </style>\n",
              "\n",
              "      <script>\n",
              "        const buttonEl =\n",
              "          document.querySelector('#df-8b79393b-3da5-41d4-9ecf-cd7c63538eba button.colab-df-convert');\n",
              "        buttonEl.style.display =\n",
              "          google.colab.kernel.accessAllowed ? 'block' : 'none';\n",
              "\n",
              "        async function convertToInteractive(key) {\n",
              "          const element = document.querySelector('#df-8b79393b-3da5-41d4-9ecf-cd7c63538eba');\n",
              "          const dataTable =\n",
              "            await google.colab.kernel.invokeFunction('convertToInteractive',\n",
              "                                                     [key], {});\n",
              "          if (!dataTable) return;\n",
              "\n",
              "          const docLinkHtml = 'Like what you see? Visit the ' +\n",
              "            '<a target=\"_blank\" href=https://colab.research.google.com/notebooks/data_table.ipynb>data table notebook</a>'\n",
              "            + ' to learn more about interactive tables.';\n",
              "          element.innerHTML = '';\n",
              "          dataTable['output_type'] = 'display_data';\n",
              "          await google.colab.output.renderOutput(dataTable, element);\n",
              "          const docLink = document.createElement('div');\n",
              "          docLink.innerHTML = docLinkHtml;\n",
              "          element.appendChild(docLink);\n",
              "        }\n",
              "      </script>\n",
              "    </div>\n",
              "  </div>\n",
              "  "
            ],
            "text/plain": [
              "             product                            sub_product  \\\n",
              "1   Credit reporting                                    NaN   \n",
              "2      Consumer Loan                           Vehicle loan   \n",
              "7   Credit reporting                                    NaN   \n",
              "12   Debt collection  Other (i.e. phone, health club, etc.)   \n",
              "16   Debt collection                            Credit card   \n",
              "\n",
              "                                       issue  \\\n",
              "1     Incorrect information on credit report   \n",
              "2                 Managing the loan or lease   \n",
              "7   Credit reporting company's investigation   \n",
              "12           Disclosure verification of debt   \n",
              "16       Improper contact or sharing of info   \n",
              "\n",
              "                                sub_issue  \\\n",
              "1                          Account status   \n",
              "2                                     NaN   \n",
              "7          Inadequate help over the phone   \n",
              "12   Not given enough info to verify debt   \n",
              "16  Talked to a third party about my debt   \n",
              "\n",
              "                              company_public_response  \\\n",
              "1   Company has responded to the consumer and the ...   \n",
              "2                                                 NaN   \n",
              "7    Company chooses not to provide a public response   \n",
              "12                                                NaN   \n",
              "16  Company has responded to the consumer and the ...   \n",
              "\n",
              "                                   company state            tags  \\\n",
              "1   TRANSUNION INTERMEDIATE HOLDINGS, INC.    AL             NaN   \n",
              "2           CITIZENS FINANCIAL GROUP, INC.    PA  Older American   \n",
              "7      Experian Information Solutions Inc.    VA             NaN   \n",
              "12                     The CBE Group, Inc.    TX             NaN   \n",
              "16         SQUARETWO FINANCIAL CORPORATION    NE             NaN   \n",
              "\n",
              "   consumer_consent_provided submitted_via company_response_to_consumer  \\\n",
              "1           Consent provided           Web      Closed with explanation   \n",
              "2           Consent provided           Web      Closed with explanation   \n",
              "7           Consent provided           Web      Closed with explanation   \n",
              "12          Consent provided           Web      Closed with explanation   \n",
              "16          Consent provided           Web      Closed with explanation   \n",
              "\n",
              "   timely_response consumer_disputed  \\\n",
              "1              Yes                No   \n",
              "2              Yes                No   \n",
              "7              Yes                No   \n",
              "12             Yes               Yes   \n",
              "16             Yes               Yes   \n",
              "\n",
              "                                           clean_text  nb_days sentiments  \n",
              "1   outdated information credit report previously ...        4   positive  \n",
              "2   purchased XXXX XXXX dealer called Citizens Ban...        3    neutral  \n",
              "7   account credit report mistaken date mailed deb...        0   positive  \n",
              "12  company refuses provide verification validatio...        0   negative  \n",
              "16  complaint regards Square Financial Refer CFPB ...       16   positive  "
            ]
          },
          "execution_count": 109,
          "metadata": {},
          "output_type": "execute_result"
        }
      ],
      "source": [
        "new_data.head()"
      ]
    },
    {
      "cell_type": "code",
      "execution_count": null,
      "metadata": {
        "id": "iu36uis6qERM"
      },
      "outputs": [],
      "source": [
        "# we use label encoder to encode categorical values into numerical values\n",
        "from sklearn.preprocessing import LabelEncoder\n",
        "le = LabelEncoder()"
      ]
    },
    {
      "cell_type": "code",
      "execution_count": null,
      "metadata": {
        "colab": {
          "base_uri": "https://localhost:8080/"
        },
        "id": "e5_Yfn3TqOQR",
        "outputId": "98c74a42-8db3-4caa-f25b-c941ff2f189c"
      },
      "outputs": [
        {
          "name": "stderr",
          "output_type": "stream",
          "text": [
            "/usr/local/lib/python3.7/dist-packages/ipykernel_launcher.py:3: SettingWithCopyWarning: \n",
            "A value is trying to be set on a copy of a slice from a DataFrame.\n",
            "Try using .loc[row_indexer,col_indexer] = value instead\n",
            "\n",
            "See the caveats in the documentation: https://pandas.pydata.org/pandas-docs/stable/user_guide/indexing.html#returning-a-view-versus-a-copy\n",
            "  This is separate from the ipykernel package so we can avoid doing imports until\n"
          ]
        }
      ],
      "source": [
        "object_col = new_data.select_dtypes(\"object\").columns\n",
        "for col in object_col:\n",
        "    new_data[col]=le.fit_transform(new_data[col])"
      ]
    },
    {
      "cell_type": "code",
      "execution_count": null,
      "metadata": {
        "colab": {
          "base_uri": "https://localhost:8080/"
        },
        "id": "rSab24olqUy_",
        "outputId": "a4cac3a0-616c-4706-be97-a7cd4fb62f29"
      },
      "outputs": [
        {
          "data": {
            "text/plain": [
              "product                         int64\n",
              "sub_product                     int64\n",
              "issue                           int64\n",
              "sub_issue                       int64\n",
              "company_public_response         int64\n",
              "company                         int64\n",
              "state                           int64\n",
              "tags                            int64\n",
              "consumer_consent_provided       int64\n",
              "submitted_via                   int64\n",
              "company_response_to_consumer    int64\n",
              "timely_response                 int64\n",
              "consumer_disputed               int64\n",
              "clean_text                      int64\n",
              "nb_days                         int64\n",
              "sentiments                      int64\n",
              "dtype: object"
            ]
          },
          "execution_count": 112,
          "metadata": {},
          "output_type": "execute_result"
        }
      ],
      "source": [
        "new_data.dtypes"
      ]
    },
    {
      "cell_type": "code",
      "execution_count": null,
      "metadata": {
        "colab": {
          "base_uri": "https://localhost:8080/",
          "height": 270
        },
        "id": "Jer2GTaCqXAT",
        "outputId": "fda0aea0-2880-45be-ffde-3bbe1bbe1683"
      },
      "outputs": [
        {
          "data": {
            "text/html": [
              "\n",
              "  <div id=\"df-f19bfd6b-5c35-4643-ae30-f0642828747e\">\n",
              "    <div class=\"colab-df-container\">\n",
              "      <div>\n",
              "<style scoped>\n",
              "    .dataframe tbody tr th:only-of-type {\n",
              "        vertical-align: middle;\n",
              "    }\n",
              "\n",
              "    .dataframe tbody tr th {\n",
              "        vertical-align: top;\n",
              "    }\n",
              "\n",
              "    .dataframe thead th {\n",
              "        text-align: right;\n",
              "    }\n",
              "</style>\n",
              "<table border=\"1\" class=\"dataframe\">\n",
              "  <thead>\n",
              "    <tr style=\"text-align: right;\">\n",
              "      <th></th>\n",
              "      <th>product</th>\n",
              "      <th>sub_product</th>\n",
              "      <th>issue</th>\n",
              "      <th>sub_issue</th>\n",
              "      <th>company_public_response</th>\n",
              "      <th>company</th>\n",
              "      <th>state</th>\n",
              "      <th>tags</th>\n",
              "      <th>consumer_consent_provided</th>\n",
              "      <th>submitted_via</th>\n",
              "      <th>company_response_to_consumer</th>\n",
              "      <th>timely_response</th>\n",
              "      <th>consumer_disputed</th>\n",
              "      <th>clean_text</th>\n",
              "      <th>nb_days</th>\n",
              "      <th>sentiments</th>\n",
              "    </tr>\n",
              "  </thead>\n",
              "  <tbody>\n",
              "    <tr>\n",
              "      <th>1</th>\n",
              "      <td>5</td>\n",
              "      <td>75</td>\n",
              "      <td>72</td>\n",
              "      <td>3</td>\n",
              "      <td>9</td>\n",
              "      <td>3744</td>\n",
              "      <td>3</td>\n",
              "      <td>3</td>\n",
              "      <td>0</td>\n",
              "      <td>0</td>\n",
              "      <td>1</td>\n",
              "      <td>1</td>\n",
              "      <td>0</td>\n",
              "      <td>204381</td>\n",
              "      <td>4</td>\n",
              "      <td>2</td>\n",
              "    </tr>\n",
              "    <tr>\n",
              "      <th>2</th>\n",
              "      <td>2</td>\n",
              "      <td>73</td>\n",
              "      <td>88</td>\n",
              "      <td>221</td>\n",
              "      <td>10</td>\n",
              "      <td>722</td>\n",
              "      <td>46</td>\n",
              "      <td>0</td>\n",
              "      <td>0</td>\n",
              "      <td>0</td>\n",
              "      <td>1</td>\n",
              "      <td>1</td>\n",
              "      <td>0</td>\n",
              "      <td>214089</td>\n",
              "      <td>3</td>\n",
              "      <td>1</td>\n",
              "    </tr>\n",
              "    <tr>\n",
              "      <th>7</th>\n",
              "      <td>5</td>\n",
              "      <td>75</td>\n",
              "      <td>46</td>\n",
              "      <td>93</td>\n",
              "      <td>7</td>\n",
              "      <td>1423</td>\n",
              "      <td>55</td>\n",
              "      <td>3</td>\n",
              "      <td>0</td>\n",
              "      <td>0</td>\n",
              "      <td>1</td>\n",
              "      <td>1</td>\n",
              "      <td>0</td>\n",
              "      <td>114566</td>\n",
              "      <td>0</td>\n",
              "      <td>2</td>\n",
              "    </tr>\n",
              "    <tr>\n",
              "      <th>12</th>\n",
              "      <td>7</td>\n",
              "      <td>47</td>\n",
              "      <td>53</td>\n",
              "      <td>116</td>\n",
              "      <td>10</td>\n",
              "      <td>3783</td>\n",
              "      <td>53</td>\n",
              "      <td>3</td>\n",
              "      <td>0</td>\n",
              "      <td>0</td>\n",
              "      <td>1</td>\n",
              "      <td>1</td>\n",
              "      <td>1</td>\n",
              "      <td>140404</td>\n",
              "      <td>0</td>\n",
              "      <td>0</td>\n",
              "    </tr>\n",
              "    <tr>\n",
              "      <th>16</th>\n",
              "      <td>7</td>\n",
              "      <td>11</td>\n",
              "      <td>68</td>\n",
              "      <td>191</td>\n",
              "      <td>9</td>\n",
              "      <td>3435</td>\n",
              "      <td>37</td>\n",
              "      <td>3</td>\n",
              "      <td>0</td>\n",
              "      <td>0</td>\n",
              "      <td>1</td>\n",
              "      <td>1</td>\n",
              "      <td>1</td>\n",
              "      <td>142979</td>\n",
              "      <td>16</td>\n",
              "      <td>2</td>\n",
              "    </tr>\n",
              "  </tbody>\n",
              "</table>\n",
              "</div>\n",
              "      <button class=\"colab-df-convert\" onclick=\"convertToInteractive('df-f19bfd6b-5c35-4643-ae30-f0642828747e')\"\n",
              "              title=\"Convert this dataframe to an interactive table.\"\n",
              "              style=\"display:none;\">\n",
              "        \n",
              "  <svg xmlns=\"http://www.w3.org/2000/svg\" height=\"24px\"viewBox=\"0 0 24 24\"\n",
              "       width=\"24px\">\n",
              "    <path d=\"M0 0h24v24H0V0z\" fill=\"none\"/>\n",
              "    <path d=\"M18.56 5.44l.94 2.06.94-2.06 2.06-.94-2.06-.94-.94-2.06-.94 2.06-2.06.94zm-11 1L8.5 8.5l.94-2.06 2.06-.94-2.06-.94L8.5 2.5l-.94 2.06-2.06.94zm10 10l.94 2.06.94-2.06 2.06-.94-2.06-.94-.94-2.06-.94 2.06-2.06.94z\"/><path d=\"M17.41 7.96l-1.37-1.37c-.4-.4-.92-.59-1.43-.59-.52 0-1.04.2-1.43.59L10.3 9.45l-7.72 7.72c-.78.78-.78 2.05 0 2.83L4 21.41c.39.39.9.59 1.41.59.51 0 1.02-.2 1.41-.59l7.78-7.78 2.81-2.81c.8-.78.8-2.07 0-2.86zM5.41 20L4 18.59l7.72-7.72 1.47 1.35L5.41 20z\"/>\n",
              "  </svg>\n",
              "      </button>\n",
              "      \n",
              "  <style>\n",
              "    .colab-df-container {\n",
              "      display:flex;\n",
              "      flex-wrap:wrap;\n",
              "      gap: 12px;\n",
              "    }\n",
              "\n",
              "    .colab-df-convert {\n",
              "      background-color: #E8F0FE;\n",
              "      border: none;\n",
              "      border-radius: 50%;\n",
              "      cursor: pointer;\n",
              "      display: none;\n",
              "      fill: #1967D2;\n",
              "      height: 32px;\n",
              "      padding: 0 0 0 0;\n",
              "      width: 32px;\n",
              "    }\n",
              "\n",
              "    .colab-df-convert:hover {\n",
              "      background-color: #E2EBFA;\n",
              "      box-shadow: 0px 1px 2px rgba(60, 64, 67, 0.3), 0px 1px 3px 1px rgba(60, 64, 67, 0.15);\n",
              "      fill: #174EA6;\n",
              "    }\n",
              "\n",
              "    [theme=dark] .colab-df-convert {\n",
              "      background-color: #3B4455;\n",
              "      fill: #D2E3FC;\n",
              "    }\n",
              "\n",
              "    [theme=dark] .colab-df-convert:hover {\n",
              "      background-color: #434B5C;\n",
              "      box-shadow: 0px 1px 3px 1px rgba(0, 0, 0, 0.15);\n",
              "      filter: drop-shadow(0px 1px 2px rgba(0, 0, 0, 0.3));\n",
              "      fill: #FFFFFF;\n",
              "    }\n",
              "  </style>\n",
              "\n",
              "      <script>\n",
              "        const buttonEl =\n",
              "          document.querySelector('#df-f19bfd6b-5c35-4643-ae30-f0642828747e button.colab-df-convert');\n",
              "        buttonEl.style.display =\n",
              "          google.colab.kernel.accessAllowed ? 'block' : 'none';\n",
              "\n",
              "        async function convertToInteractive(key) {\n",
              "          const element = document.querySelector('#df-f19bfd6b-5c35-4643-ae30-f0642828747e');\n",
              "          const dataTable =\n",
              "            await google.colab.kernel.invokeFunction('convertToInteractive',\n",
              "                                                     [key], {});\n",
              "          if (!dataTable) return;\n",
              "\n",
              "          const docLinkHtml = 'Like what you see? Visit the ' +\n",
              "            '<a target=\"_blank\" href=https://colab.research.google.com/notebooks/data_table.ipynb>data table notebook</a>'\n",
              "            + ' to learn more about interactive tables.';\n",
              "          element.innerHTML = '';\n",
              "          dataTable['output_type'] = 'display_data';\n",
              "          await google.colab.output.renderOutput(dataTable, element);\n",
              "          const docLink = document.createElement('div');\n",
              "          docLink.innerHTML = docLinkHtml;\n",
              "          element.appendChild(docLink);\n",
              "        }\n",
              "      </script>\n",
              "    </div>\n",
              "  </div>\n",
              "  "
            ],
            "text/plain": [
              "    product  sub_product  issue  sub_issue  company_public_response  company  \\\n",
              "1         5           75     72          3                        9     3744   \n",
              "2         2           73     88        221                       10      722   \n",
              "7         5           75     46         93                        7     1423   \n",
              "12        7           47     53        116                       10     3783   \n",
              "16        7           11     68        191                        9     3435   \n",
              "\n",
              "    state  tags  consumer_consent_provided  submitted_via  \\\n",
              "1       3     3                          0              0   \n",
              "2      46     0                          0              0   \n",
              "7      55     3                          0              0   \n",
              "12     53     3                          0              0   \n",
              "16     37     3                          0              0   \n",
              "\n",
              "    company_response_to_consumer  timely_response  consumer_disputed  \\\n",
              "1                              1                1                  0   \n",
              "2                              1                1                  0   \n",
              "7                              1                1                  0   \n",
              "12                             1                1                  1   \n",
              "16                             1                1                  1   \n",
              "\n",
              "    clean_text  nb_days  sentiments  \n",
              "1       204381        4           2  \n",
              "2       214089        3           1  \n",
              "7       114566        0           2  \n",
              "12      140404        0           0  \n",
              "16      142979       16           2  "
            ]
          },
          "execution_count": 113,
          "metadata": {},
          "output_type": "execute_result"
        }
      ],
      "source": [
        "new_data.head()"
      ]
    },
    {
      "cell_type": "markdown",
      "metadata": {
        "id": "Qvr19uR2gn6a"
      },
      "source": [
        "Outliers"
      ]
    },
    {
      "cell_type": "code",
      "execution_count": null,
      "metadata": {
        "colab": {
          "base_uri": "https://localhost:8080/"
        },
        "id": "07SjVxWMn0Uy",
        "outputId": "1608b35f-e386-472e-d766-89e6c76182ed"
      },
      "outputs": [
        {
          "name": "stdout",
          "output_type": "stream",
          "text": [
            "Number of Numerical Features we have in data is : 16  \n",
            "Here is the Listed Numerical features ['product', 'sub_product', 'issue', 'sub_issue', 'company_public_response', 'company', 'state', 'tags', 'consumer_consent_provided', 'submitted_via', 'company_response_to_consumer', 'timely_response', 'consumer_disputed', 'clean_text', 'nb_days', 'sentiments'] \n"
          ]
        }
      ],
      "source": [
        "# Checking Numerical Features in dataset and counting it \n",
        "\n",
        "num_features = [columns_name for columns_name in new_data.columns if new_data[columns_name].dtype != \"O\"]\n",
        "print(\"Number of Numerical Features we have in data is : {}  \".format(len(num_features)))\n",
        "print(\"Here is the Listed Numerical features {} \".format(num_features))\n"
      ]
    },
    {
      "cell_type": "code",
      "execution_count": null,
      "metadata": {
        "id": "Bf5VDJeY7oVK"
      },
      "outputs": [],
      "source": [
        "# # to scale the value\n",
        "# from sklearn.preprocessing import StandardScaler \n",
        "# cols = ['product', 'sub_product', 'issue', 'sub_issue', 'company_public_response', 'company', 'state', 'tags', 'consumer_consent_provided', 'submitted_via', 'company_response_to_consumer', 'timely_response', 'consumer_disputed', 'clean_text', 'nb_days']\n",
        "# sc=StandardScaler()\n",
        "# for col in cols:\n",
        "# #     new_data[col]=sc.fit_transform(new_data[col].values.reshape(-1,1))\n",
        "# new_data.head()"
      ]
    },
    {
      "cell_type": "markdown",
      "metadata": {
        "id": "v4WOnCLmc9_x"
      },
      "source": [
        "# Find Coorelation"
      ]
    },
    {
      "cell_type": "code",
      "execution_count": null,
      "metadata": {
        "colab": {
          "base_uri": "https://localhost:8080/",
          "height": 636
        },
        "id": "aObU3SICdAxA",
        "outputId": "0b4b0929-21c2-48f4-e032-21d5328764a8"
      },
      "outputs": [
        {
          "data": {
            "text/plain": [
              "<matplotlib.axes._subplots.AxesSubplot at 0x7fcefe773590>"
            ]
          },
          "execution_count": 116,
          "metadata": {},
          "output_type": "execute_result"
        },
        {
          "data": {
            "image/png": "[encoded data removed]",
            "text/plain": [
              "<Figure size 1728x864 with 2 Axes>"
            ]
          },
          "metadata": {},
          "output_type": "display_data"
        }
      ],
      "source": [
        "plt.figure(figsize =(24,12))\n",
        "sns.heatmap(new_data.corr(), annot = True)\n"
      ]
    },
    {
      "cell_type": "markdown",
      "metadata": {
        "id": "KTPTT-fzcnCn"
      },
      "source": [
        "# Data Visualization"
      ]
    },
    {
      "cell_type": "markdown",
      "metadata": {
        "id": "Frac_lyFeFDL"
      },
      "source": [
        "## Univariate Analysis"
      ]
    },
    {
      "cell_type": "code",
      "execution_count": null,
      "metadata": {
        "colab": {
          "base_uri": "https://localhost:8080/"
        },
        "id": "0KCfdpSZexeB",
        "outputId": "81d18388-cef3-42bd-e987-56dbfb750ddc"
      },
      "outputs": [
        {
          "data": {
            "text/plain": [
              "Mortgage                                                                        440640\n",
              "Debt collection                                                                 297264\n",
              "Credit reporting                                                                232287\n",
              "Credit card                                                                     155659\n",
              "Bank account or service                                                         148769\n",
              "Credit reporting, credit repair services, or other personal consumer reports    110756\n",
              "Student loan                                                                     58808\n",
              "Consumer Loan                                                                    52596\n",
              "Credit card or prepaid card                                                      22913\n",
              "Checking or savings account                                                      18982\n",
              "Payday loan                                                                       9423\n",
              "Money transfers                                                                   9166\n",
              "Prepaid card                                                                      6289\n",
              "Money transfer, virtual currency, or money service                                5785\n",
              "Vehicle loan or lease                                                             5628\n",
              "Payday loan, title loan, or personal loan                                         4367\n",
              "Other financial service                                                           1617\n",
              "Virtual currency                                                                    18\n",
              "Name: product, dtype: int64"
            ]
          },
          "execution_count": 117,
          "metadata": {},
          "output_type": "execute_result"
        }
      ],
      "source": [
        "data[\"product\"].value_counts()"
      ]
    },
    {
      "cell_type": "code",
      "execution_count": null,
      "metadata": {
        "colab": {
          "base_uri": "https://localhost:8080/"
        },
        "id": "bHmPAXK9omls",
        "outputId": "09b086a6-76be-4dc9-987c-d027f4744aef"
      },
      "outputs": [
        {
          "data": {
            "text/plain": [
              "array([ 5,  2,  7, 10,  3, 11,  0, 15,  9, 12, 14,  8,  6,  1, 16,  4, 17,\n",
              "       13])"
            ]
          },
          "execution_count": 118,
          "metadata": {},
          "output_type": "execute_result"
        }
      ],
      "source": [
        "new_data['product'].unique()"
      ]
    },
    {
      "cell_type": "code",
      "execution_count": null,
      "metadata": {
        "id": "koyZgi2kXVKz"
      },
      "outputs": [],
      "source": [
        "new_data=new_data.drop_duplicates()"
      ]
    },
    {
      "cell_type": "code",
      "execution_count": null,
      "metadata": {
        "id": "6nxSLdzae12c"
      },
      "outputs": [],
      "source": [
        "# yes =(new_data.consumer_disputed.value_counts()[0]/data.shape[0])*100\n",
        "# no =(data.consumer_disputed.value_counts()[1]/data.shape[0])*100\n",
        "# print(yes)\n",
        "# print(no)"
      ]
    },
    {
      "cell_type": "code",
      "execution_count": null,
      "metadata": {
        "id": "9tQFm9lzbjfo"
      },
      "outputs": [],
      "source": [
        "# plt.figure(figsize=(8,6)) # data is biased, maybe it will overfit on training\n",
        "# sns.countplot(data=data, x = \"consumer_disputed\")\n",
        "# print(\"people who has been disputed:\", yes)\n",
        "# print(\"people who has not been disputed:\", no)"
      ]
    },
    {
      "cell_type": "markdown",
      "metadata": {
        "id": "8sf3ynDikhuz"
      },
      "source": [
        "## Bivariate Analysis"
      ]
    },
    {
      "cell_type": "code",
      "execution_count": null,
      "metadata": {
        "id": "eMjASJtselvP"
      },
      "outputs": [],
      "source": [
        "#sns.lineplot(data= new_data,x=\"clean_text\",y=\"product\",color = \"green\")"
      ]
    },
    {
      "cell_type": "code",
      "execution_count": null,
      "metadata": {
        "id": "5vxkM7BnmybO"
      },
      "outputs": [],
      "source": [
        "# sns.lineplot(data= new_data,x=\"clean_text\",y=\"consumer_disputed\",color = \"green\") \n",
        "# sentiments 1 - neutral , 2 - positive , 0 -negative\n",
        "# we can see as long as the customer sentiments are positive the rate of customer disputed is also decrease"
      ]
    },
    {
      "cell_type": "code",
      "execution_count": null,
      "metadata": {
        "id": "IwFPlk35yKWf"
      },
      "outputs": [],
      "source": [
        "#sns.lineplot(data= data,x=\"nb_days\",y=\"consumer_disputed\",color = \"red\")"
      ]
    },
    {
      "cell_type": "code",
      "execution_count": null,
      "metadata": {
        "id": "blBUcaIsSnh8"
      },
      "outputs": [],
      "source": [
        "x = new_data.drop(\"product\", axis = 1)\n",
        "y = new_data[\"product\"]"
      ]
    },
    {
      "cell_type": "code",
      "execution_count": null,
      "metadata": {
        "id": "JEX2REBUSS36"
      },
      "outputs": [],
      "source": [
        "# from imblearn.over_sampling import SMOTE\n",
        "# smote=SMOTE()\n",
        "# x,y=smote.fit_resample(x,y)\n",
        "\n",
        "# print(x.shape,y.shape)"
      ]
    },
    {
      "cell_type": "code",
      "execution_count": null,
      "metadata": {
        "colab": {
          "base_uri": "https://localhost:8080/",
          "height": 350
        },
        "id": "ktPR2cs2TawG",
        "outputId": "583e4bc6-91ee-43f9-a7da-5907ecad1cf6"
      },
      "outputs": [
        {
          "name": "stderr",
          "output_type": "stream",
          "text": [
            "/usr/local/lib/python3.7/dist-packages/seaborn/_decorators.py:43: FutureWarning: Pass the following variable as a keyword arg: x. From version 0.12, the only valid positional argument will be `data`, and passing other arguments without an explicit keyword will result in an error or misinterpretation.\n",
            "  FutureWarning\n"
          ]
        },
        {
          "data": {
            "text/plain": [
              "<matplotlib.axes._subplots.AxesSubplot at 0x7fcefca3c490>"
            ]
          },
          "execution_count": 127,
          "metadata": {},
          "output_type": "execute_result"
        },
        {
          "data": {
            "image/png": "[encoded data removed]",
            "text/plain": [
              "<Figure size 432x288 with 1 Axes>"
            ]
          },
          "metadata": {},
          "output_type": "display_data"
        }
      ],
      "source": [
        "sns.countplot(y)"
      ]
    },
    {
      "cell_type": "code",
      "execution_count": null,
      "metadata": {
        "id": "if00uU4GJcn9"
      },
      "outputs": [],
      "source": [
        "# from imblearn.over_sampling import SMOTE\n",
        "# oversample = SMOTE()\n",
        "# X, y = oversample.fit_resample(x, y)"
      ]
    },
    {
      "cell_type": "markdown",
      "metadata": {
        "id": "sSsvUYUkA8WC"
      },
      "source": []
    },
    {
      "cell_type": "code",
      "execution_count": null,
      "metadata": {
        "colab": {
          "base_uri": "https://localhost:8080/",
          "height": 327
        },
        "id": "0WPyh1DJBLrQ",
        "outputId": "c053ac6f-c8ab-46f9-f35a-7f98eec2a589"
      },
      "outputs": [
        {
          "ename": "ValueError",
          "evalue": "ignored",
          "output_type": "error",
          "traceback": [
            "\u001b[0;31m---------------------------------------------------------------------------\u001b[0m",
            "\u001b[0;31mValueError\u001b[0m                                Traceback (most recent call last)",
            "\u001b[0;32m<ipython-input-131-14ddbbf5aeb7>\u001b[0m in \u001b[0;36m<module>\u001b[0;34m()\u001b[0m\n\u001b[1;32m      1\u001b[0m \u001b[0;32mfrom\u001b[0m \u001b[0msklearn\u001b[0m\u001b[0;34m.\u001b[0m\u001b[0mmodel_selection\u001b[0m \u001b[0;32mimport\u001b[0m \u001b[0mtrain_test_split\u001b[0m   \u001b[0;31m# testing and splitting\u001b[0m\u001b[0;34m\u001b[0m\u001b[0;34m\u001b[0m\u001b[0m\n\u001b[0;32m----> 2\u001b[0;31m \u001b[0mx_train\u001b[0m\u001b[0;34m,\u001b[0m \u001b[0mx_test\u001b[0m\u001b[0;34m,\u001b[0m \u001b[0my_train\u001b[0m\u001b[0;34m,\u001b[0m\u001b[0my_test\u001b[0m \u001b[0;34m=\u001b[0m \u001b[0mtrain_test_split\u001b[0m\u001b[0;34m(\u001b[0m\u001b[0mx\u001b[0m\u001b[0;34m,\u001b[0m\u001b[0my\u001b[0m\u001b[0;34m,\u001b[0m\u001b[0mtest_size\u001b[0m \u001b[0;34m=\u001b[0m \u001b[0;36m0.2\u001b[0m\u001b[0;34m,\u001b[0m\u001b[0mrandom_state\u001b[0m \u001b[0;34m=\u001b[0m \u001b[0;36m0\u001b[0m \u001b[0;34m)\u001b[0m\u001b[0;34m\u001b[0m\u001b[0;34m\u001b[0m\u001b[0m\n\u001b[0m",
            "\u001b[0;32m/usr/local/lib/python3.7/dist-packages/sklearn/model_selection/_split.py\u001b[0m in \u001b[0;36mtrain_test_split\u001b[0;34m(test_size, train_size, random_state, shuffle, stratify, *arrays)\u001b[0m\n\u001b[1;32m   2415\u001b[0m         \u001b[0;32mraise\u001b[0m \u001b[0mValueError\u001b[0m\u001b[0;34m(\u001b[0m\u001b[0;34m\"At least one array required as input\"\u001b[0m\u001b[0;34m)\u001b[0m\u001b[0;34m\u001b[0m\u001b[0;34m\u001b[0m\u001b[0m\n\u001b[1;32m   2416\u001b[0m \u001b[0;34m\u001b[0m\u001b[0m\n\u001b[0;32m-> 2417\u001b[0;31m     \u001b[0marrays\u001b[0m \u001b[0;34m=\u001b[0m \u001b[0mindexable\u001b[0m\u001b[0;34m(\u001b[0m\u001b[0;34m*\u001b[0m\u001b[0marrays\u001b[0m\u001b[0;34m)\u001b[0m\u001b[0;34m\u001b[0m\u001b[0;34m\u001b[0m\u001b[0m\n\u001b[0m\u001b[1;32m   2418\u001b[0m \u001b[0;34m\u001b[0m\u001b[0m\n\u001b[1;32m   2419\u001b[0m     \u001b[0mn_samples\u001b[0m \u001b[0;34m=\u001b[0m \u001b[0m_num_samples\u001b[0m\u001b[0;34m(\u001b[0m\u001b[0marrays\u001b[0m\u001b[0;34m[\u001b[0m\u001b[0;36m0\u001b[0m\u001b[0;34m]\u001b[0m\u001b[0;34m)\u001b[0m\u001b[0;34m\u001b[0m\u001b[0;34m\u001b[0m\u001b[0m\n",
            "\u001b[0;32m/usr/local/lib/python3.7/dist-packages/sklearn/utils/validation.py\u001b[0m in \u001b[0;36mindexable\u001b[0;34m(*iterables)\u001b[0m\n\u001b[1;32m    376\u001b[0m \u001b[0;34m\u001b[0m\u001b[0m\n\u001b[1;32m    377\u001b[0m     \u001b[0mresult\u001b[0m \u001b[0;34m=\u001b[0m \u001b[0;34m[\u001b[0m\u001b[0m_make_indexable\u001b[0m\u001b[0;34m(\u001b[0m\u001b[0mX\u001b[0m\u001b[0;34m)\u001b[0m \u001b[0;32mfor\u001b[0m \u001b[0mX\u001b[0m \u001b[0;32min\u001b[0m \u001b[0miterables\u001b[0m\u001b[0;34m]\u001b[0m\u001b[0;34m\u001b[0m\u001b[0;34m\u001b[0m\u001b[0m\n\u001b[0;32m--> 378\u001b[0;31m     \u001b[0mcheck_consistent_length\u001b[0m\u001b[0;34m(\u001b[0m\u001b[0;34m*\u001b[0m\u001b[0mresult\u001b[0m\u001b[0;34m)\u001b[0m\u001b[0;34m\u001b[0m\u001b[0;34m\u001b[0m\u001b[0m\n\u001b[0m\u001b[1;32m    379\u001b[0m     \u001b[0;32mreturn\u001b[0m \u001b[0mresult\u001b[0m\u001b[0;34m\u001b[0m\u001b[0;34m\u001b[0m\u001b[0m\n\u001b[1;32m    380\u001b[0m \u001b[0;34m\u001b[0m\u001b[0m\n",
            "\u001b[0;32m/usr/local/lib/python3.7/dist-packages/sklearn/utils/validation.py\u001b[0m in \u001b[0;36mcheck_consistent_length\u001b[0;34m(*arrays)\u001b[0m\n\u001b[1;32m    332\u001b[0m         raise ValueError(\n\u001b[1;32m    333\u001b[0m             \u001b[0;34m\"Found input variables with inconsistent numbers of samples: %r\"\u001b[0m\u001b[0;34m\u001b[0m\u001b[0;34m\u001b[0m\u001b[0m\n\u001b[0;32m--> 334\u001b[0;31m             \u001b[0;34m%\u001b[0m \u001b[0;34m[\u001b[0m\u001b[0mint\u001b[0m\u001b[0;34m(\u001b[0m\u001b[0ml\u001b[0m\u001b[0;34m)\u001b[0m \u001b[0;32mfor\u001b[0m \u001b[0ml\u001b[0m \u001b[0;32min\u001b[0m \u001b[0mlengths\u001b[0m\u001b[0;34m]\u001b[0m\u001b[0;34m\u001b[0m\u001b[0;34m\u001b[0m\u001b[0m\n\u001b[0m\u001b[1;32m    335\u001b[0m         )\n\u001b[1;32m    336\u001b[0m \u001b[0;34m\u001b[0m\u001b[0m\n",
            "\u001b[0;31mValueError\u001b[0m: Found input variables with inconsistent numbers of samples: [325875, 1252440]"
          ]
        }
      ],
      "source": [
        "from sklearn.model_selection import train_test_split   # testing and splitting \n",
        "x_train, x_test, y_train,y_test = train_test_split(x,y,test_size = 0.2,random_state = 0 )"
      ]
    },
    {
      "cell_type": "code",
      "execution_count": null,
      "metadata": {
        "id": "_B6U05Cky4cj"
      },
      "outputs": [],
      "source": [
        "from sklearn.linear_model import LogisticRegression\n",
        "classifier_logreg = LogisticRegression(solver='liblinear', random_state=0)\n",
        "classifier_logreg.fit(x_train, y_train)       # model training "
      ]
    },
    {
      "cell_type": "code",
      "execution_count": null,
      "metadata": {
        "id": "UxyietdyTh-6"
      },
      "outputs": [],
      "source": [
        "\n",
        "\n",
        "y_pred = classifier_logreg.predict(x_test)\n",
        "y_pred "
      ]
    },
    {
      "cell_type": "code",
      "execution_count": null,
      "metadata": {
        "id": "B9EETR3tTrnB"
      },
      "outputs": [],
      "source": [
        "from sklearn.metrics import accuracy_score\n",
        "print(\"Accuracy Score: {}\".format(accuracy_score(y_test,y_pred)))   # model accuracy "
      ]
    },
    {
      "cell_type": "markdown",
      "metadata": {
        "id": "zGoo7M5JTzav"
      },
      "source": [
        "### Lets try another algorithms (otherwise we will consider our removed column too )"
      ]
    },
    {
      "cell_type": "code",
      "execution_count": null,
      "metadata": {
        "id": "NLiPW2_tTuCw"
      },
      "outputs": [],
      "source": [
        "def evaluate(model):\n",
        "    model.fit(x_train,y_train)\n",
        "    accuracy=model.score(x_test,y_test)\n",
        "    \n",
        "    print('model name ',model)\n",
        "    print('accuracy ',accuracy)"
      ]
    },
    {
      "cell_type": "code",
      "execution_count": null,
      "metadata": {
        "id": "l76CNpxgUBrN"
      },
      "outputs": [],
      "source": [
        "from sklearn.linear_model import LogisticRegression\n",
        "from sklearn.svm import SVC\n",
        "from sklearn.tree import DecisionTreeClassifier\n",
        "from sklearn.ensemble import RandomForestClassifier\n",
        "from sklearn.neighbors import KNeighborsClassifier\n",
        "\n",
        "lr=LogisticRegression()\n",
        "svm=SVC()\n",
        "dt=DecisionTreeClassifier(max_depth=6)\n",
        "rf=RandomForestClassifier(max_samples=0.9)\n",
        "knn=KNeighborsClassifier(n_neighbors=5)\n",
        "\n",
        "models=[lr,dt,rf,knn]\n",
        "\n",
        "for model in models:\n",
        "    evaluate(model)"
      ]
    },
    {
      "cell_type": "code",
      "execution_count": null,
      "metadata": {
        "id": "dgFTEdZaUQbk"
      },
      "outputs": [],
      "source": [
        "## since random forest gives us the highest accuracy"
      ]
    },
    {
      "cell_type": "code",
      "execution_count": null,
      "metadata": {
        "id": "OAgEHEMXUEAt"
      },
      "outputs": [],
      "source": [
        "import xgboost as xgb\n",
        "\n",
        "xgb = xgb.XGBClassifier(base_score=0.5, booster='gbtree', colsample_bylevel=0.9,\n",
        "              colsample_bynode=0.9, colsample_bytree=0.5, gamma=0,\n",
        "              grow_policy='lossguide', learning_rate=0.4, max_bin=512,\n",
        "              max_delta_step=0, max_depth=8, min_child_weight=0.8, missing=None,\n",
        "              n_estimators=100, n_jobs=1, nthread=None, num_parallel_tree=9,\n",
        "              objective='binary:hinge', random_state=0, reg_alpha=2,\n",
        "              reg_lambda=3, sampling_method='uniform', scale_pos_weight=1,\n",
        "              seed=None, silent=None, subsample=0.8, tree_method='hist',\n",
        "              verbosity=1)\n",
        "\n",
        "xgb.fit(x_train, y_train)"
      ]
    },
    {
      "cell_type": "code",
      "execution_count": null,
      "metadata": {
        "id": "GYR-n5WjUWTM"
      },
      "outputs": [],
      "source": [
        "from sklearn.metrics import plot_confusion_matrix\n",
        "plot_confusion_matrix(classifier_logreg, x_test,y_test)"
      ]
    },
    {
      "cell_type": "code",
      "execution_count": null,
      "metadata": {
        "id": "LAfwIXkVUPoA"
      },
      "outputs": [],
      "source": [
        "from sklearn.ensemble import RandomForestClassifier     # initilize \n",
        "classifier = RandomForestClassifier(max_samples=0.9, satisfy = y)\n",
        "classifier.fit(x_train,y_train)"
      ]
    },
    {
      "cell_type": "code",
      "execution_count": null,
      "metadata": {
        "id": "tRPKdYAdUeDF"
      },
      "outputs": [],
      "source": [
        "y_pred = classifier.predict(x_test)\n",
        "y_pred "
      ]
    },
    {
      "cell_type": "code",
      "execution_count": null,
      "metadata": {
        "id": "NvOuJMufUjIO"
      },
      "outputs": [],
      "source": [
        "from sklearn.metrics import accuracy_score\n",
        "print(\"Accuracy Score: {}\".format(accuracy_score(y_test,y_pred)))   # accuracy "
      ]
    },
    {
      "cell_type": "code",
      "execution_count": null,
      "metadata": {
        "id": "tLGarnK1v3AM"
      },
      "outputs": [],
      "source": [
        "from sklearn.metrics import classification_report,confusion_matrix,accuracy_score,roc_curve,auc,recall_score"
      ]
    },
    {
      "cell_type": "code",
      "execution_count": null,
      "metadata": {
        "id": "lDTasOzHUljQ"
      },
      "outputs": [],
      "source": [
        "from sklearn import metrics\n",
        "pred = xgb.predict(x_test)\n",
        "print('acc',accuracy_score(y_test,pred))\n",
        "print('c_R',classification_report(y_test,pred))\n",
        "print('matrix',confusion_matrix(y_test,pred))"
      ]
    },
    {
      "cell_type": "code",
      "execution_count": null,
      "metadata": {
        "id": "5oPNiW0tUvmG"
      },
      "outputs": [],
      "source": []
    }
  ],
  "metadata": {
    "accelerator": "TPU",
    "colab": {
      "collapsed_sections": [
        "zGoo7M5JTzav"
      ],
      "provenance": [],
      "include_colab_link": true
    },
    "kernelspec": {
      "display_name": "Python 3",
      "name": "python3"
    },
    "language_info": {
      "name": "python"
    }
  },
  "nbformat": 4,
  "nbformat_minor": 0
}