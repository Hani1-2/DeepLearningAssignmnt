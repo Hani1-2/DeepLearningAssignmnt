{
  "nbformat": 4,
  "nbformat_minor": 0,
  "metadata": {
    "colab": {
      "provenance": [],
      "authorship_tag": "ABX9TyP9okVTlfxvcpJzaAm6RPe9",
      "include_colab_link": true
    },
    "kernelspec": {
      "name": "python3",
      "display_name": "Python 3"
    },
    "language_info": {
      "name": "python"
    },
    "accelerator": "GPU",
    "gpuClass": "standard"
  },
  "cells": [
    {
      "cell_type": "markdown",
      "metadata": {
        "id": "view-in-github",
        "colab_type": "text"
      },
      "source": [
        "<a href=\"https://colab.research.google.com/github/Hani1-2/DeepLearningAssignmnt/blob/master/Audio_Classification_Using_MFCC_CNN.ipynb\" target=\"_parent\"><img src=\"https://colab.research.google.com/assets/colab-badge.svg\" alt=\"Open In Colab\"/></a>"
      ]
    },
    {
      "cell_type": "markdown",
      "source": [
        "## Load Data"
      ],
      "metadata": {
        "id": "OamN8IBktMWV"
      }
    },
    {
      "cell_type": "code",
      "source": [
        "import json\n",
        "import numpy as np\n",
        "from sklearn.model_selection import train_test_split\n",
        "import matplotlib.pyplot as plt\n",
        "import tensorflow.keras as keras\n",
        "\n",
        "# path to json file that stores MFCCs and genre labels for each processed segment\n",
        "DATA_PATH = \"/content/drive/MyDrive/surah_fatiha/data_surah_1.json\"\n",
        "\n",
        "def load_data(data_path):\n",
        "    \"\"\"Loads training dataset from json file.\n",
        "        :param data_path (str): Path to json file containing data\n",
        "        :return X (ndarray): Inputs\n",
        "        :return y (ndarray): Targets\n",
        "    \"\"\"\n",
        "\n",
        "    with open(data_path, \"r\") as fp:\n",
        "        data = json.load(fp)\n",
        "\n",
        "    # convert lists to numpy arrays\n",
        "    X = np.array(data[\"mfcc\"])\n",
        "    y = np.array(data[\"labels\"])\n",
        "\n",
        "    print(\"Data succesfully loaded!\")\n",
        "\n",
        "    return  X, y\n"
      ],
      "metadata": {
        "id": "1unMn2N0tQoC"
      },
      "execution_count": 27,
      "outputs": []
    },
    {
      "cell_type": "markdown",
      "source": [
        "# Plot History"
      ],
      "metadata": {
        "id": "VwHjSamytRI5"
      }
    },
    {
      "cell_type": "code",
      "source": [
        "def plot_history(history):\n",
        "    \"\"\"Plots accuracy/loss for training/validation set as a function of the epochs\n",
        "        :param history: Training history of model\n",
        "        :return:\n",
        "    \"\"\"\n",
        "\n",
        "    fig, axs = plt.subplots(2)\n",
        "\n",
        "    # create accuracy sublpot\n",
        "    axs[0].plot(history.history[\"accuracy\"], label=\"train accuracy\")\n",
        "    axs[0].plot(history.history[\"val_accuracy\"], label=\"test accuracy\")\n",
        "    axs[0].set_ylabel(\"Accuracy\")\n",
        "    axs[0].legend(loc=\"lower right\")\n",
        "    axs[0].set_title(\"Accuracy eval\")\n",
        "\n",
        "    # create error sublpot\n",
        "    axs[1].plot(history.history[\"loss\"], label=\"train error\")\n",
        "    axs[1].plot(history.history[\"val_loss\"], label=\"test error\")\n",
        "    axs[1].set_ylabel(\"Error\")\n",
        "    axs[1].set_xlabel(\"Epoch\")\n",
        "    axs[1].legend(loc=\"upper right\")\n",
        "    axs[1].set_title(\"Error eval\")\n",
        "\n",
        "    plt.show()"
      ],
      "metadata": {
        "id": "oKL4Uj0gtU9I"
      },
      "execution_count": 28,
      "outputs": []
    },
    {
      "cell_type": "markdown",
      "source": [
        "# Prepare Dataset"
      ],
      "metadata": {
        "id": "tOyNPDr89Etk"
      }
    },
    {
      "cell_type": "code",
      "source": [
        "def prepare_datasets(test_size, validation_size):\n",
        "    \"\"\"Loads data and splits it into train, validation and test sets.\n",
        "    :param test_size (float): Value in [0, 1] indicating percentage of data set to allocate to test split\n",
        "    :param validation_size (float): Value in [0, 1] indicating percentage of train set to allocate to validation split\n",
        "    :return X_train (ndarray): Input training set\n",
        "    :return X_validation (ndarray): Input validation set\n",
        "    :return X_test (ndarray): Input test set\n",
        "    :return y_train (ndarray): Target training set\n",
        "    :return y_validation (ndarray): Target validation set\n",
        "    :return y_test (ndarray): Target test set\n",
        "    \"\"\"\n",
        "\n",
        "    # load data\n",
        "    X, y = load_data(DATA_PATH)\n",
        "\n",
        "    # create train, validation and test split\n",
        "    X_train, X_test, y_train, y_test = train_test_split(X, y, test_size=test_size)\n",
        "    X_train, X_validation, y_train, y_validation = train_test_split(X_train, y_train, test_size=validation_size)\n",
        "\n",
        "    # add an axis to input sets\n",
        "    X_train = X_train[..., np.newaxis]\n",
        "    X_validation = X_validation[..., np.newaxis]\n",
        "    X_test = X_test[..., np.newaxis]\n",
        "\n",
        "    return X_train, X_validation, X_test, y_train, y_validation, y_test\n"
      ],
      "metadata": {
        "id": "I98RRteJ3kCt"
      },
      "execution_count": 29,
      "outputs": []
    },
    {
      "cell_type": "markdown",
      "source": [
        "# Build Model"
      ],
      "metadata": {
        "id": "9T6b2ia29OGX"
      }
    },
    {
      "cell_type": "code",
      "source": [
        "def build_model(input_shape):\n",
        "    \"\"\"Generates CNN model\n",
        "    :param input_shape (tuple): Shape of input set\n",
        "    :return model: CNN model\n",
        "    \"\"\"\n",
        "\n",
        "    # build network topology\n",
        "    model = keras.Sequential()\n",
        "\n",
        "    # 1st conv layer\n",
        "    model.add(keras.layers.Conv2D(32, (3, 3), activation='relu', input_shape=input_shape))\n",
        "    model.add(keras.layers.MaxPooling2D((3, 3), strides=(2, 2), padding='same'))\n",
        "    model.add(keras.layers.BatchNormalization())\n",
        "\n",
        "    # 2nd conv layer\n",
        "    model.add(keras.layers.Conv2D(64, (3, 3), activation='relu'))\n",
        "    model.add(keras.layers.MaxPooling2D((3, 3), strides=(2, 2), padding='same'))\n",
        "    model.add(keras.layers.BatchNormalization())\n",
        "\n",
        "    # # 3rd conv layer\n",
        "    # model.add(keras.layers.Conv2D(128, (2, 2), activation='relu'))\n",
        "    # model.add(keras.layers.MaxPooling2D((2, 2), strides=(2, 2), padding='same'))\n",
        "    # model.add(keras.layers.BatchNormalization())\n",
        "\n",
        "    # flatten output and feed it into dense layer\n",
        "    model.add(keras.layers.Flatten())\n",
        "    model.add(keras.layers.Dense(256, activation='relu'))\n",
        "    model.add(keras.layers.Dropout(0.2))\n",
        "\n",
        "    # output layer\n",
        "    model.add(keras.layers.Dense(28, activation='softmax'))\n",
        "\n",
        "    return model"
      ],
      "metadata": {
        "id": "D4mdf_k36O_V"
      },
      "execution_count": 30,
      "outputs": []
    },
    {
      "cell_type": "code",
      "source": [
        "def predict(model, X, y):\n",
        "    \"\"\"Predict a single sample using the trained model\n",
        "    :param model: Trained classifier\n",
        "    :param X: Input data\n",
        "    :param y (int): Target\n",
        "    \"\"\"\n",
        "\n",
        "    # add a dimension to input data for sample - model.predict() expects a 4d array in this case\n",
        "    X = X[np.newaxis, ...] # array shape (1, 130, 13, 1)\n",
        "\n",
        "    # perform prediction\n",
        "    prediction = model.predict(X)\n",
        "\n",
        "    # get index with max value\n",
        "    predicted_index = np.argmax(prediction, axis=1)\n",
        "\n",
        "    print(\"Target: {}, Predicted label: {}\".format(y, predicted_index))\n"
      ],
      "metadata": {
        "id": "XvcSJBv59S7z"
      },
      "execution_count": 31,
      "outputs": []
    },
    {
      "cell_type": "code",
      "source": [
        "if __name__ == \"__main__\":\n",
        "\n",
        "    # get train, validation, test splits\n",
        "    X_train, X_validation, X_test, y_train, y_validation, y_test = prepare_datasets(0.25, 0.2)\n",
        "    # create network\n",
        "    input_shape = (X_train.shape[1], X_train.shape[2], 1)\n",
        "    model = build_model(input_shape)\n",
        "\n",
        "    # compile model\n",
        "    optimiser = keras.optimizers.Adam(learning_rate=0.0001)\n",
        "    model.compile(optimizer=optimiser,\n",
        "                  loss='sparse_categorical_crossentropy',\n",
        "                  metrics=['accuracy'])\n",
        "\n",
        "    model.summary()\n",
        "\n",
        "    # train model\n",
        "    history = model.fit(X_train, y_train, validation_data=(X_validation, y_validation), batch_size=32, epochs=40)\n",
        "\n",
        "    # plot accuracy/error for training and validation\n",
        "    plot_history(history)\n",
        "\n",
        "    # evaluate model on test set\n",
        "    test_loss, test_acc = model.evaluate(X_test, y_test, verbose=2)\n",
        "    print('\\nTest accuracy:', test_acc)"
      ],
      "metadata": {
        "colab": {
          "base_uri": "https://localhost:8080/",
          "height": 1000
        },
        "id": "SFPlVTH-9Vce",
        "outputId": "d5008484-1cee-4a2c-d1be-17661943ca93"
      },
      "execution_count": 32,
      "outputs": [
        {
          "output_type": "stream",
          "name": "stdout",
          "text": [
            "Data succesfully loaded!\n",
            "Model: \"sequential_2\"\n",
            "_________________________________________________________________\n",
            " Layer (type)                Output Shape              Param #   \n",
            "=================================================================\n",
            " conv2d_4 (Conv2D)           (None, 7, 11, 32)         320       \n",
            "                                                                 \n",
            " max_pooling2d_4 (MaxPooling  (None, 4, 6, 32)         0         \n",
            " 2D)                                                             \n",
            "                                                                 \n",
            " batch_normalization_4 (Batc  (None, 4, 6, 32)         128       \n",
            " hNormalization)                                                 \n",
            "                                                                 \n",
            " conv2d_5 (Conv2D)           (None, 2, 4, 64)          18496     \n",
            "                                                                 \n",
            " max_pooling2d_5 (MaxPooling  (None, 1, 2, 64)         0         \n",
            " 2D)                                                             \n",
            "                                                                 \n",
            " batch_normalization_5 (Batc  (None, 1, 2, 64)         256       \n",
            " hNormalization)                                                 \n",
            "                                                                 \n",
            " flatten_2 (Flatten)         (None, 128)               0         \n",
            "                                                                 \n",
            " dense_4 (Dense)             (None, 256)               33024     \n",
            "                                                                 \n",
            " dropout_2 (Dropout)         (None, 256)               0         \n",
            "                                                                 \n",
            " dense_5 (Dense)             (None, 28)                7196      \n",
            "                                                                 \n",
            "=================================================================\n",
            "Total params: 59,420\n",
            "Trainable params: 59,228\n",
            "Non-trainable params: 192\n",
            "_________________________________________________________________\n",
            "Epoch 1/40\n",
            "2102/2102 [==============================] - 13s 5ms/step - loss: 2.6717 - accuracy: 0.1985 - val_loss: 2.2462 - val_accuracy: 0.3213\n",
            "Epoch 2/40\n",
            "2102/2102 [==============================] - 11s 5ms/step - loss: 2.1406 - accuracy: 0.3337 - val_loss: 1.8801 - val_accuracy: 0.4313\n",
            "Epoch 3/40\n",
            "2102/2102 [==============================] - 11s 5ms/step - loss: 1.8556 - accuracy: 0.4141 - val_loss: 1.6324 - val_accuracy: 0.5059\n",
            "Epoch 4/40\n",
            "2102/2102 [==============================] - 11s 5ms/step - loss: 1.6537 - accuracy: 0.4741 - val_loss: 1.4569 - val_accuracy: 0.5565\n",
            "Epoch 5/40\n",
            "2102/2102 [==============================] - 12s 6ms/step - loss: 1.4998 - accuracy: 0.5185 - val_loss: 1.3205 - val_accuracy: 0.5976\n",
            "Epoch 6/40\n",
            "2102/2102 [==============================] - 11s 5ms/step - loss: 1.3756 - accuracy: 0.5573 - val_loss: 1.2013 - val_accuracy: 0.6334\n",
            "Epoch 7/40\n",
            "2102/2102 [==============================] - 10s 5ms/step - loss: 1.2655 - accuracy: 0.5900 - val_loss: 1.0948 - val_accuracy: 0.6701\n",
            "Epoch 8/40\n",
            "2102/2102 [==============================] - 11s 5ms/step - loss: 1.1776 - accuracy: 0.6178 - val_loss: 1.0271 - val_accuracy: 0.6909\n",
            "Epoch 9/40\n",
            "2102/2102 [==============================] - 12s 6ms/step - loss: 1.0962 - accuracy: 0.6444 - val_loss: 0.9432 - val_accuracy: 0.7177\n",
            "Epoch 10/40\n",
            "2102/2102 [==============================] - 11s 5ms/step - loss: 1.0297 - accuracy: 0.6651 - val_loss: 0.8754 - val_accuracy: 0.7363\n",
            "Epoch 11/40\n",
            "2102/2102 [==============================] - 11s 5ms/step - loss: 0.9690 - accuracy: 0.6829 - val_loss: 0.8254 - val_accuracy: 0.7508\n",
            "Epoch 12/40\n",
            "2102/2102 [==============================] - 11s 5ms/step - loss: 0.9180 - accuracy: 0.7001 - val_loss: 0.7732 - val_accuracy: 0.7724\n",
            "Epoch 13/40\n",
            "2102/2102 [==============================] - 11s 5ms/step - loss: 0.8670 - accuracy: 0.7160 - val_loss: 0.7256 - val_accuracy: 0.7831\n",
            "Epoch 14/40\n",
            "2102/2102 [==============================] - 10s 5ms/step - loss: 0.8259 - accuracy: 0.7311 - val_loss: 0.6917 - val_accuracy: 0.7939\n",
            "Epoch 15/40\n",
            "2102/2102 [==============================] - 11s 5ms/step - loss: 0.7883 - accuracy: 0.7428 - val_loss: 0.6439 - val_accuracy: 0.8095\n",
            "Epoch 16/40\n",
            "2102/2102 [==============================] - 11s 5ms/step - loss: 0.7541 - accuracy: 0.7524 - val_loss: 0.6178 - val_accuracy: 0.8181\n",
            "Epoch 17/40\n",
            "2102/2102 [==============================] - 11s 5ms/step - loss: 0.7253 - accuracy: 0.7616 - val_loss: 0.5866 - val_accuracy: 0.8236\n",
            "Epoch 18/40\n",
            "2102/2102 [==============================] - 11s 5ms/step - loss: 0.6865 - accuracy: 0.7762 - val_loss: 0.5711 - val_accuracy: 0.8311\n",
            "Epoch 19/40\n",
            "2102/2102 [==============================] - 11s 5ms/step - loss: 0.6652 - accuracy: 0.7829 - val_loss: 0.5397 - val_accuracy: 0.8414\n",
            "Epoch 20/40\n",
            "2102/2102 [==============================] - 10s 5ms/step - loss: 0.6403 - accuracy: 0.7905 - val_loss: 0.5241 - val_accuracy: 0.8424\n",
            "Epoch 21/40\n",
            "2102/2102 [==============================] - 11s 5ms/step - loss: 0.6222 - accuracy: 0.7955 - val_loss: 0.4893 - val_accuracy: 0.8589\n",
            "Epoch 22/40\n",
            "2102/2102 [==============================] - 11s 5ms/step - loss: 0.5980 - accuracy: 0.8037 - val_loss: 0.4652 - val_accuracy: 0.8641\n",
            "Epoch 23/40\n",
            "2102/2102 [==============================] - 11s 5ms/step - loss: 0.5778 - accuracy: 0.8117 - val_loss: 0.4492 - val_accuracy: 0.8705\n",
            "Epoch 24/40\n",
            "2102/2102 [==============================] - 11s 5ms/step - loss: 0.5622 - accuracy: 0.8162 - val_loss: 0.4286 - val_accuracy: 0.8778\n",
            "Epoch 25/40\n",
            "2102/2102 [==============================] - 11s 5ms/step - loss: 0.5407 - accuracy: 0.8234 - val_loss: 0.4173 - val_accuracy: 0.8769\n",
            "Epoch 26/40\n",
            "2102/2102 [==============================] - 12s 6ms/step - loss: 0.5240 - accuracy: 0.8288 - val_loss: 0.4090 - val_accuracy: 0.8787\n",
            "Epoch 27/40\n",
            "2102/2102 [==============================] - 10s 5ms/step - loss: 0.5122 - accuracy: 0.8315 - val_loss: 0.3945 - val_accuracy: 0.8850\n",
            "Epoch 28/40\n",
            "2102/2102 [==============================] - 11s 5ms/step - loss: 0.4980 - accuracy: 0.8377 - val_loss: 0.3881 - val_accuracy: 0.8885\n",
            "Epoch 29/40\n",
            "2102/2102 [==============================] - 11s 5ms/step - loss: 0.4791 - accuracy: 0.8422 - val_loss: 0.3671 - val_accuracy: 0.8953\n",
            "Epoch 30/40\n",
            "2102/2102 [==============================] - 11s 5ms/step - loss: 0.4720 - accuracy: 0.8444 - val_loss: 0.3571 - val_accuracy: 0.8976\n",
            "Epoch 31/40\n",
            "2102/2102 [==============================] - 11s 5ms/step - loss: 0.4601 - accuracy: 0.8481 - val_loss: 0.3561 - val_accuracy: 0.8945\n",
            "Epoch 32/40\n",
            "2102/2102 [==============================] - 12s 6ms/step - loss: 0.4514 - accuracy: 0.8530 - val_loss: 0.3415 - val_accuracy: 0.9016\n",
            "Epoch 33/40\n",
            "2102/2102 [==============================] - 11s 5ms/step - loss: 0.4382 - accuracy: 0.8564 - val_loss: 0.3323 - val_accuracy: 0.9011\n",
            "Epoch 34/40\n",
            "2102/2102 [==============================] - 10s 5ms/step - loss: 0.4292 - accuracy: 0.8582 - val_loss: 0.3248 - val_accuracy: 0.9072\n",
            "Epoch 35/40\n",
            "2102/2102 [==============================] - 11s 5ms/step - loss: 0.4223 - accuracy: 0.8602 - val_loss: 0.3184 - val_accuracy: 0.9080\n",
            "Epoch 36/40\n",
            "2102/2102 [==============================] - 11s 5ms/step - loss: 0.4087 - accuracy: 0.8656 - val_loss: 0.3124 - val_accuracy: 0.9087\n",
            "Epoch 37/40\n",
            "2102/2102 [==============================] - 11s 5ms/step - loss: 0.4057 - accuracy: 0.8674 - val_loss: 0.3019 - val_accuracy: 0.9134\n",
            "Epoch 38/40\n",
            "2102/2102 [==============================] - 11s 5ms/step - loss: 0.3966 - accuracy: 0.8696 - val_loss: 0.2949 - val_accuracy: 0.9156\n",
            "Epoch 39/40\n",
            "2102/2102 [==============================] - 12s 6ms/step - loss: 0.3828 - accuracy: 0.8732 - val_loss: 0.2884 - val_accuracy: 0.9130\n",
            "Epoch 40/40\n",
            "2102/2102 [==============================] - 11s 5ms/step - loss: 0.3789 - accuracy: 0.8747 - val_loss: 0.2806 - val_accuracy: 0.9186\n"
          ]
        },
        {
          "output_type": "display_data",
          "data": {
            "text/plain": [
              "<Figure size 432x288 with 2 Axes>"
            ],
            "image/png": "[encoded data removed]"
          },
          "metadata": {
            "needs_background": "light"
          }
        },
        {
          "output_type": "stream",
          "name": "stdout",
          "text": [
            "876/876 - 2s - loss: 0.2790 - accuracy: 0.9186 - 2s/epoch - 2ms/step\n",
            "\n",
            "Test accuracy: 0.9185967445373535\n"
          ]
        }
      ]
    },
    {
      "cell_type": "code",
      "source": [
        "SAVED_MODEL_PATH = \"model.h5\"\n",
        "model.save(SAVED_MODEL_PATH)\n"
      ],
      "metadata": {
        "id": "BTD9uMSvNR9a"
      },
      "execution_count": 15,
      "outputs": []
    },
    {
      "cell_type": "code",
      "source": [
        "import pandas as pd"
      ],
      "metadata": {
        "id": "OV5zC4cn9apU"
      },
      "execution_count": 8,
      "outputs": []
    },
    {
      "cell_type": "code",
      "source": [
        "from google.colab import drive\n",
        "drive.mount('/content/drive')"
      ],
      "metadata": {
        "colab": {
          "base_uri": "https://localhost:8080/"
        },
        "id": "fz_KerExDf6h",
        "outputId": "4958b899-056e-4689-e256-28a9d15ab153"
      },
      "execution_count": 1,
      "outputs": [
        {
          "output_type": "stream",
          "name": "stdout",
          "text": [
            "Mounted at /content/drive\n"
          ]
        }
      ]
    },
    {
      "cell_type": "code",
      "source": [],
      "metadata": {
        "id": "Be0D-fewPUFg"
      },
      "execution_count": null,
      "outputs": []
    }
  ]
}