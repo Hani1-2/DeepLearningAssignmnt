{
  "metadata": {
    "kernelspec": {
      "language": "python",
      "display_name": "Python 3",
      "name": "python3"
    },
    "language_info": {
      "name": "python",
      "version": "3.7.12",
      "mimetype": "text/x-python",
      "codemirror_mode": {
        "name": "ipython",
        "version": 3
      },
      "pygments_lexer": "ipython3",
      "nbconvert_exporter": "python",
      "file_extension": ".py"
    },
    "colab": {
      "provenance": [],
      "include_colab_link": true
    }
  },
  "nbformat_minor": 0,
  "nbformat": 4,
  "cells": [
    {
      "cell_type": "markdown",
      "metadata": {
        "id": "view-in-github",
        "colab_type": "text"
      },
      "source": [
        "<a href=\"https://colab.research.google.com/github/Hani1-2/DeepLearningAssignmnt/blob/master/alpha404_(1).ipynb\" target=\"_parent\"><img src=\"https://colab.research.google.com/assets/colab-badge.svg\" alt=\"Open In Colab\"/></a>"
      ]
    },
    {
      "cell_type": "code",
      "source": [
        "# This Python 3 environment comes with many helpful analytics libraries installed\n",
        "# It is defined by the kaggle/python Docker image: https://github.com/kaggle/docker-python\n",
        "# For example, here's several helpful packages to load\n",
        "\n",
        "import numpy as np # linear algebra\n",
        "import pandas as pd # data processing, CSV file I/O (e.g. pd.read_csv)\n",
        "\n",
        "# Input data files are available in the read-only \"../input/\" directory\n",
        "# For example, running this (by clicking run or pressing Shift+Enter) will list all files under the input directory\n",
        "\n",
        "import os\n",
        "for dirname, _, filenames in os.walk('/kaggle/input'):\n",
        "    for filename in filenames:\n",
        "        print(os.path.join(dirname, filename))\n",
        "\n",
        "# You can write up to 20GB to the current directory (/kaggle/working/) that gets preserved as output when you create a version using \"Save & Run All\" \n",
        "# You can also write temporary files to /kaggle/temp/, but they won't be saved outside of the current session"
      ],
      "metadata": {
        "_uuid": "8f2839f25d086af736a60e9eeb907d3b93b6e0e5",
        "_cell_guid": "b1076dfc-b9ad-4769-8c92-a6c4dae69d19",
        "execution": {
          "iopub.status.busy": "2022-05-11T00:41:20.619175Z",
          "iopub.execute_input": "2022-05-11T00:41:20.619487Z",
          "iopub.status.idle": "2022-05-11T00:41:20.631284Z",
          "shell.execute_reply.started": "2022-05-11T00:41:20.619455Z",
          "shell.execute_reply": "2022-05-11T00:41:20.630451Z"
        },
        "trusted": true,
        "id": "bswE0c4aBDG4"
      },
      "execution_count": null,
      "outputs": []
    },
    {
      "cell_type": "markdown",
      "source": [
        "# Problem Statement "
      ],
      "metadata": {
        "id": "egWFzl3JBDG8"
      }
    },
    {
      "cell_type": "markdown",
      "source": [
        "A mutation is a change in a small section of a genome's nucleotide sequence. Many mutations are point mutations, in which one nucleotide is replaced by another, while others involve the insertion or deletion of one or more nucleotides. Mutations are caused by errors in DNA replication or the adverse impacts of mutagens, such as chemicals and radiation, which react with DNA and alter the structures of individual nucleotides.\n",
        "Your task is to predict the probability of a genome sequence undergoing mutation, given certain environmental conditions, and a genome sequence divided into 9 sub-sequences."
      ],
      "metadata": {
        "id": "S-Zy2VFIBDHB"
      }
    },
    {
      "cell_type": "markdown",
      "source": [
        "# Imports"
      ],
      "metadata": {
        "id": "ebfxew-pBDHD"
      }
    },
    {
      "cell_type": "code",
      "source": [
        "import numpy as np\n",
        "import pandas as pd\n",
        "import matplotlib.pyplot as plt\n",
        "from sklearn.naive_bayes import GaussianNB\n",
        "from sklearn.preprocessing import LabelEncoder\n",
        "from matplotlib import ticker\n",
        "import seaborn as sns\n",
        "import warnings\n",
        "\n",
        "# options\n",
        "warnings.filterwarnings('ignore')"
      ],
      "metadata": {
        "execution": {
          "iopub.status.busy": "2022-05-11T00:41:20.648356Z",
          "iopub.execute_input": "2022-05-11T00:41:20.649303Z",
          "iopub.status.idle": "2022-05-11T00:41:20.750288Z",
          "shell.execute_reply.started": "2022-05-11T00:41:20.649188Z",
          "shell.execute_reply": "2022-05-11T00:41:20.748910Z"
        },
        "trusted": true,
        "id": "IzAauWMsBDHE"
      },
      "execution_count": null,
      "outputs": []
    },
    {
      "cell_type": "markdown",
      "source": [
        "# Loading the Dataset"
      ],
      "metadata": {
        "id": "aorKbGDoBDHE"
      }
    },
    {
      "cell_type": "code",
      "source": [
        "train = pd.read_csv('../input/devday22-competition-datascience/train.csv')\n",
        "test = pd.read_csv('../input/devday22-competition-datascience/test.csv')\n",
        "submission = pd.read_csv('../input/devday22-competition-datascience/sample_submission.csv')"
      ],
      "metadata": {
        "execution": {
          "iopub.status.busy": "2022-05-11T00:41:20.753315Z",
          "iopub.execute_input": "2022-05-11T00:41:20.753847Z",
          "iopub.status.idle": "2022-05-11T00:41:23.302506Z",
          "shell.execute_reply.started": "2022-05-11T00:41:20.753799Z",
          "shell.execute_reply": "2022-05-11T00:41:23.301425Z"
        },
        "trusted": true,
        "id": "PbMXjg6FBDHF"
      },
      "execution_count": null,
      "outputs": []
    },
    {
      "cell_type": "markdown",
      "source": [
        "# Exploratory Data Analysis"
      ],
      "metadata": {
        "id": "Jg-MEiJHBDHG"
      }
    },
    {
      "cell_type": "code",
      "source": [
        "train.head()"
      ],
      "metadata": {
        "execution": {
          "iopub.status.busy": "2022-05-11T00:41:23.306075Z",
          "iopub.execute_input": "2022-05-11T00:41:23.306777Z",
          "iopub.status.idle": "2022-05-11T00:41:23.342629Z",
          "shell.execute_reply.started": "2022-05-11T00:41:23.306727Z",
          "shell.execute_reply": "2022-05-11T00:41:23.341662Z"
        },
        "trusted": true,
        "id": "86TVNiWcBDHG"
      },
      "execution_count": null,
      "outputs": []
    },
    {
      "cell_type": "code",
      "source": [
        "train.columns"
      ],
      "metadata": {
        "execution": {
          "iopub.status.busy": "2022-05-11T00:41:23.345111Z",
          "iopub.execute_input": "2022-05-11T00:41:23.345947Z",
          "iopub.status.idle": "2022-05-11T00:41:23.353981Z",
          "shell.execute_reply.started": "2022-05-11T00:41:23.345873Z",
          "shell.execute_reply": "2022-05-11T00:41:23.353072Z"
        },
        "trusted": true,
        "id": "QxdYmHjnBDHI"
      },
      "execution_count": null,
      "outputs": []
    },
    {
      "cell_type": "markdown",
      "source": [
        "## Columns\n",
        "* ID - A unique ID column specifying a sample.\n",
        "* sequence1 - sequence9 - sub-sequences of a larger genome sequence.\n",
        "* A - U - Environmental values depicting various measurements within certain conditions.\n",
        "* mutation - Binary target label."
      ],
      "metadata": {
        "id": "bz0yPEQcBDHJ"
      }
    },
    {
      "cell_type": "code",
      "source": [
        "print(f\"\"\"\n",
        "Training Data\n",
        "* {train.shape[0]} Rows \n",
        "* {train.shape[1]} Columns \n",
        "\"\"\")\n",
        "\n",
        "print(f\"\"\"\n",
        "Testing Data\n",
        "* {test.shape[0]} Rows \n",
        "* {test.shape[1]} Columns \n",
        "\"\"\")"
      ],
      "metadata": {
        "execution": {
          "iopub.status.busy": "2022-05-11T00:41:23.355401Z",
          "iopub.execute_input": "2022-05-11T00:41:23.355968Z",
          "iopub.status.idle": "2022-05-11T00:41:23.367711Z",
          "shell.execute_reply.started": "2022-05-11T00:41:23.355909Z",
          "shell.execute_reply": "2022-05-11T00:41:23.366755Z"
        },
        "trusted": true,
        "id": "R08uzCISBDHJ"
      },
      "execution_count": null,
      "outputs": []
    },
    {
      "cell_type": "code",
      "source": [
        "# Deleting ID Column as it is not going to be used in training\n",
        "train = train.drop(columns=['ID'])\n",
        "test = test.drop(columns=['ID'])"
      ],
      "metadata": {
        "execution": {
          "iopub.status.busy": "2022-05-11T00:41:23.369487Z",
          "iopub.execute_input": "2022-05-11T00:41:23.370087Z",
          "iopub.status.idle": "2022-05-11T00:41:23.439696Z",
          "shell.execute_reply.started": "2022-05-11T00:41:23.370042Z",
          "shell.execute_reply": "2022-05-11T00:41:23.438417Z"
        },
        "trusted": true,
        "id": "gLSjYA7eBDHK"
      },
      "execution_count": null,
      "outputs": []
    },
    {
      "cell_type": "code",
      "source": [
        "train.describe()"
      ],
      "metadata": {
        "execution": {
          "iopub.status.busy": "2022-05-11T00:41:23.443103Z",
          "iopub.execute_input": "2022-05-11T00:41:23.443424Z",
          "iopub.status.idle": "2022-05-11T00:41:23.737093Z",
          "shell.execute_reply.started": "2022-05-11T00:41:23.443389Z",
          "shell.execute_reply": "2022-05-11T00:41:23.735657Z"
        },
        "trusted": true,
        "id": "yhoy3N-0BDHL"
      },
      "execution_count": null,
      "outputs": []
    },
    {
      "cell_type": "code",
      "source": [
        "train.describe(include= \"object\")  # checking description including object "
      ],
      "metadata": {
        "execution": {
          "iopub.status.busy": "2022-05-11T00:41:23.738684Z",
          "iopub.execute_input": "2022-05-11T00:41:23.739057Z",
          "iopub.status.idle": "2022-05-11T00:41:24.220241Z",
          "shell.execute_reply.started": "2022-05-11T00:41:23.739003Z",
          "shell.execute_reply": "2022-05-11T00:41:24.218716Z"
        },
        "trusted": true,
        "id": "NP9-6u_wBDHM"
      },
      "execution_count": null,
      "outputs": []
    },
    {
      "cell_type": "code",
      "source": [
        "# Numerical Features\n",
        "\n",
        "num_features = [columns_name for columns_name in train.columns if train[columns_name].dtype != \"O\"]\n",
        "print(\"Here is the Listed Numerical features {} \".format(num_features))"
      ],
      "metadata": {
        "execution": {
          "iopub.status.busy": "2022-05-11T00:41:24.222027Z",
          "iopub.execute_input": "2022-05-11T00:41:24.222352Z",
          "iopub.status.idle": "2022-05-11T00:41:24.233396Z",
          "shell.execute_reply.started": "2022-05-11T00:41:24.222314Z",
          "shell.execute_reply": "2022-05-11T00:41:24.231255Z"
        },
        "trusted": true,
        "id": "1MZjE9jNBDHM"
      },
      "execution_count": null,
      "outputs": []
    },
    {
      "cell_type": "code",
      "source": [
        "# Categorical Features\n",
        "\n",
        "cat_features = [columns_name for columns_name in train.columns if train[columns_name].dtype == \"O\"]\n",
        "print(\"Here is the Listed Categorical features {} \".format(cat_features))"
      ],
      "metadata": {
        "execution": {
          "iopub.status.busy": "2022-05-11T00:41:24.236638Z",
          "iopub.execute_input": "2022-05-11T00:41:24.236967Z",
          "iopub.status.idle": "2022-05-11T00:41:24.258386Z",
          "shell.execute_reply.started": "2022-05-11T00:41:24.236927Z",
          "shell.execute_reply": "2022-05-11T00:41:24.257429Z"
        },
        "trusted": true,
        "id": "GohdEJ8wBDHN"
      },
      "execution_count": null,
      "outputs": []
    },
    {
      "cell_type": "code",
      "source": [
        "print('There are {} categorical variables\\n'.format(len(cat_features)))\n",
        "print('There are {} numerical variables\\n'.format(len(num_features)))"
      ],
      "metadata": {
        "execution": {
          "iopub.status.busy": "2022-05-11T00:41:24.260132Z",
          "iopub.execute_input": "2022-05-11T00:41:24.260478Z",
          "iopub.status.idle": "2022-05-11T00:41:24.278675Z",
          "shell.execute_reply.started": "2022-05-11T00:41:24.260430Z",
          "shell.execute_reply": "2022-05-11T00:41:24.277593Z"
        },
        "trusted": true,
        "id": "fdnL_dMZBDHN"
      },
      "execution_count": null,
      "outputs": []
    },
    {
      "cell_type": "code",
      "source": [
        "# check for cardinality in categorical variables\n",
        "\n",
        "for i  in cat_features:\n",
        "  count = len(train[i].unique())\n",
        "  print(\"The Cardinality of column {} is : {} \".format(i,count))"
      ],
      "metadata": {
        "execution": {
          "iopub.status.busy": "2022-05-11T00:41:24.280425Z",
          "iopub.execute_input": "2022-05-11T00:41:24.280759Z",
          "iopub.status.idle": "2022-05-11T00:41:24.428337Z",
          "shell.execute_reply.started": "2022-05-11T00:41:24.280714Z",
          "shell.execute_reply": "2022-05-11T00:41:24.426109Z"
        },
        "trusted": true,
        "id": "OzvXoxwkBDHO"
      },
      "execution_count": null,
      "outputs": []
    },
    {
      "cell_type": "code",
      "source": [
        "# check missing values in categorical variables\n",
        "train[cat_features].isnull().sum()"
      ],
      "metadata": {
        "execution": {
          "iopub.status.busy": "2022-05-11T00:41:24.432640Z",
          "iopub.execute_input": "2022-05-11T00:41:24.432971Z",
          "iopub.status.idle": "2022-05-11T00:41:24.639750Z",
          "shell.execute_reply.started": "2022-05-11T00:41:24.432934Z",
          "shell.execute_reply": "2022-05-11T00:41:24.638700Z"
        },
        "trusted": true,
        "id": "ukAN36fVBDHP"
      },
      "execution_count": null,
      "outputs": []
    },
    {
      "cell_type": "code",
      "source": [
        "plt.figure(figsize=(15,10))\n",
        "c = 1\n",
        "for i in cat_features:\n",
        "    sns.countplot(train[i])\n",
        "    plt.subplot(3, 3, c)\n",
        "    c += 1"
      ],
      "metadata": {
        "execution": {
          "iopub.status.busy": "2022-05-11T00:41:24.644096Z",
          "iopub.execute_input": "2022-05-11T00:41:24.644823Z",
          "iopub.status.idle": "2022-05-11T00:41:27.894355Z",
          "shell.execute_reply.started": "2022-05-11T00:41:24.644778Z",
          "shell.execute_reply": "2022-05-11T00:41:27.893444Z"
        },
        "trusted": true,
        "id": "GegmM6isBDHQ"
      },
      "execution_count": null,
      "outputs": []
    },
    {
      "cell_type": "code",
      "source": [
        "sns.countplot(train['sequence1'])\n",
        "train['sequence4'].value_counts()"
      ],
      "metadata": {
        "execution": {
          "iopub.status.busy": "2022-05-11T00:41:27.896295Z",
          "iopub.execute_input": "2022-05-11T00:41:27.896692Z",
          "iopub.status.idle": "2022-05-11T00:41:28.490316Z",
          "shell.execute_reply.started": "2022-05-11T00:41:27.896646Z",
          "shell.execute_reply": "2022-05-11T00:41:28.489318Z"
        },
        "trusted": true,
        "id": "UQCNC8bTBDHR"
      },
      "execution_count": null,
      "outputs": []
    },
    {
      "cell_type": "code",
      "source": [
        "# Explore outliers in numerical variables\n",
        "\n",
        "plt.figure(figsize=(15,10))\n",
        "c = 1\n",
        "for i in num_features:\n",
        "  plt.subplot(3, 8, c)\n",
        "  fig = train.boxplot(column=i)\n",
        "  fig.set_title('')\n",
        "  fig.set_ylabel(i)\n",
        "  c += 1"
      ],
      "metadata": {
        "execution": {
          "iopub.status.busy": "2022-05-11T00:41:28.491772Z",
          "iopub.execute_input": "2022-05-11T00:41:28.492119Z",
          "iopub.status.idle": "2022-05-11T00:41:38.682848Z",
          "shell.execute_reply.started": "2022-05-11T00:41:28.492073Z",
          "shell.execute_reply": "2022-05-11T00:41:38.681514Z"
        },
        "trusted": true,
        "id": "G8sXjJBrBDHR"
      },
      "execution_count": null,
      "outputs": []
    },
    {
      "cell_type": "code",
      "source": [
        "features_with_outliers = num_features\n",
        "for feature in features_with_outliers:\n",
        "  q1 = train[feature].quantile(0.25)\n",
        "  q3 = train[feature].quantile(0.75)\n",
        "  IQR = q3-q1\n",
        "  lower_limit = q1 - (IQR*1.5)\n",
        "  upper_limit = q3 + (IQR*1.5)\n",
        "  train.loc[train[feature]<lower_limit, feature] = lower_limit\n",
        "  train.loc[train[feature]>upper_limit, feature] = upper_limit"
      ],
      "metadata": {
        "execution": {
          "iopub.status.busy": "2022-05-11T00:41:38.684688Z",
          "iopub.execute_input": "2022-05-11T00:41:38.686080Z",
          "iopub.status.idle": "2022-05-11T00:41:38.991002Z",
          "shell.execute_reply.started": "2022-05-11T00:41:38.686006Z",
          "shell.execute_reply": "2022-05-11T00:41:38.989882Z"
        },
        "trusted": true,
        "id": "x7zp5S-lBDHR"
      },
      "execution_count": null,
      "outputs": []
    },
    {
      "cell_type": "code",
      "source": [
        "#Heat Map\n",
        "\n",
        "plt.figure(figsize=(16,12))\n",
        "plt.title('Correlation Heatmap')\n",
        "ax = sns.heatmap(train.corr(), square=True, annot=True, fmt='.2f', linecolor='white')\n",
        "ax.set_xticklabels(ax.get_xticklabels(), rotation=90)\n",
        "ax.set_yticklabels(ax.get_yticklabels(), rotation=30)           \n",
        "plt.show()"
      ],
      "metadata": {
        "execution": {
          "iopub.status.busy": "2022-05-11T00:41:38.993447Z",
          "iopub.execute_input": "2022-05-11T00:41:38.994536Z",
          "iopub.status.idle": "2022-05-11T00:41:41.874601Z",
          "shell.execute_reply.started": "2022-05-11T00:41:38.994450Z",
          "shell.execute_reply": "2022-05-11T00:41:41.872982Z"
        },
        "trusted": true,
        "id": "eGuFaLREBDHS"
      },
      "execution_count": null,
      "outputs": []
    },
    {
      "cell_type": "code",
      "source": [
        "# Deleting E Column as it is not an actual feature\n",
        "\n",
        "train = train.drop(columns=['E'])\n",
        "test = test.drop(columns=['E'])\n"
      ],
      "metadata": {
        "execution": {
          "iopub.status.busy": "2022-05-11T00:41:41.875946Z",
          "iopub.execute_input": "2022-05-11T00:41:41.876433Z",
          "iopub.status.idle": "2022-05-11T00:41:41.945447Z",
          "shell.execute_reply.started": "2022-05-11T00:41:41.876384Z",
          "shell.execute_reply": "2022-05-11T00:41:41.944383Z"
        },
        "trusted": true,
        "id": "5nzGzHKWBDHS"
      },
      "execution_count": null,
      "outputs": []
    },
    {
      "cell_type": "code",
      "source": [
        "train.head()"
      ],
      "metadata": {
        "execution": {
          "iopub.status.busy": "2022-05-11T00:41:41.947881Z",
          "iopub.execute_input": "2022-05-11T00:41:41.949111Z",
          "iopub.status.idle": "2022-05-11T00:41:41.986055Z",
          "shell.execute_reply.started": "2022-05-11T00:41:41.948920Z",
          "shell.execute_reply": "2022-05-11T00:41:41.985266Z"
        },
        "trusted": true,
        "id": "xlWegzQWBDHT"
      },
      "execution_count": null,
      "outputs": []
    },
    {
      "cell_type": "markdown",
      "source": [
        "## Data Distribution"
      ],
      "metadata": {
        "id": "IWdabLcdBDHT"
      }
    },
    {
      "cell_type": "code",
      "source": [
        "plt.rcParams['figure.dpi'] = 100\n",
        "fig = plt.figure(figsize=(5, 5), facecolor='#f6f5f5')\n",
        "background_color = \"#dcdada\"\n",
        "fig = sns.catplot(x=\"mutation\",data=train, kind=\"count\")"
      ],
      "metadata": {
        "execution": {
          "iopub.status.busy": "2022-05-11T00:41:41.989918Z",
          "iopub.execute_input": "2022-05-11T00:41:41.991827Z",
          "iopub.status.idle": "2022-05-11T00:41:42.874216Z",
          "shell.execute_reply.started": "2022-05-11T00:41:41.991783Z",
          "shell.execute_reply": "2022-05-11T00:41:42.873328Z"
        },
        "trusted": true,
        "id": "0xo5YT90BDHT"
      },
      "execution_count": null,
      "outputs": []
    },
    {
      "cell_type": "code",
      "source": [
        "features_cat = [col for col in train.columns if col in train.select_dtypes(include=object).columns]\n",
        "features = [col for col in train.columns if col not in ['mutation']]\n",
        "print(f'total features: {len(features)}')\n",
        "print(features)"
      ],
      "metadata": {
        "execution": {
          "iopub.status.busy": "2022-05-11T00:41:42.876017Z",
          "iopub.execute_input": "2022-05-11T00:41:42.876600Z",
          "iopub.status.idle": "2022-05-11T00:41:43.342934Z",
          "shell.execute_reply.started": "2022-05-11T00:41:42.876553Z",
          "shell.execute_reply": "2022-05-11T00:41:43.341971Z"
        },
        "trusted": true,
        "id": "euMcCLZlBDHU"
      },
      "execution_count": null,
      "outputs": []
    },
    {
      "cell_type": "code",
      "source": [
        "# Features and Target Variable\n",
        "X, y = train.loc[:, features], train.loc[:, 'mutation']\n",
        "print(X.shape)\n",
        "print(y.shape)"
      ],
      "metadata": {
        "execution": {
          "iopub.status.busy": "2022-05-11T00:41:43.344538Z",
          "iopub.execute_input": "2022-05-11T00:41:43.345066Z",
          "iopub.status.idle": "2022-05-11T00:41:43.374645Z",
          "shell.execute_reply.started": "2022-05-11T00:41:43.345020Z",
          "shell.execute_reply": "2022-05-11T00:41:43.373732Z"
        },
        "trusted": true,
        "id": "-m4JcQyIBDHU"
      },
      "execution_count": null,
      "outputs": []
    },
    {
      "cell_type": "code",
      "source": [
        "def encoder(x_train, x_test):\n",
        "    le = LabelEncoder()\n",
        "    r = le.fit_transform(x_train)\n",
        "    r2 = le.transform(x_test)\n",
        "    return r, r2"
      ],
      "metadata": {
        "execution": {
          "iopub.status.busy": "2022-05-11T00:41:43.376250Z",
          "iopub.execute_input": "2022-05-11T00:41:43.376738Z",
          "iopub.status.idle": "2022-05-11T00:41:43.382336Z",
          "shell.execute_reply.started": "2022-05-11T00:41:43.376696Z",
          "shell.execute_reply": "2022-05-11T00:41:43.381603Z"
        },
        "trusted": true,
        "id": "lLXZYy5uBDHU"
      },
      "execution_count": null,
      "outputs": []
    },
    {
      "cell_type": "code",
      "source": [
        "# encoding categorical features\n",
        "for col in features_cat:\n",
        "    X.loc[:, col], test.loc[:, col] = encoder(X.loc[:, col], test.loc[:, col])"
      ],
      "metadata": {
        "execution": {
          "iopub.status.busy": "2022-05-11T00:41:43.383761Z",
          "iopub.execute_input": "2022-05-11T00:41:43.384305Z",
          "iopub.status.idle": "2022-05-11T00:41:44.283172Z",
          "shell.execute_reply.started": "2022-05-11T00:41:43.384261Z",
          "shell.execute_reply": "2022-05-11T00:41:44.282307Z"
        },
        "trusted": true,
        "id": "fYeH2xvuBDHW"
      },
      "execution_count": null,
      "outputs": []
    },
    {
      "cell_type": "code",
      "source": [],
      "metadata": {
        "trusted": true,
        "id": "ebriQV9rBDHa"
      },
      "execution_count": null,
      "outputs": []
    },
    {
      "cell_type": "code",
      "source": [
        "# OverSampling\n",
        "from imblearn.over_sampling import SMOTE\n",
        "smote=SMOTE()\n",
        "X,y=smote.fit_resample(X,y)\n",
        "\n",
        "print(X.shape,y.shape)"
      ],
      "metadata": {
        "execution": {
          "iopub.status.busy": "2022-05-11T00:41:44.285273Z",
          "iopub.execute_input": "2022-05-11T00:41:44.285651Z",
          "iopub.status.idle": "2022-05-11T00:42:37.748590Z",
          "shell.execute_reply.started": "2022-05-11T00:41:44.285610Z",
          "shell.execute_reply": "2022-05-11T00:42:37.747519Z"
        },
        "trusted": true,
        "id": "8aaxQ9EFBDHa"
      },
      "execution_count": null,
      "outputs": []
    },
    {
      "cell_type": "markdown",
      "source": [
        "## Splitting Data into Training and Validation"
      ],
      "metadata": {
        "id": "72Be0jWeBDHb"
      }
    },
    {
      "cell_type": "code",
      "source": [
        "from sklearn.model_selection import train_test_split   # testing and splitting \n",
        "x_train, x_test, y_train,y_test = train_test_split(X,y,test_size = 0.2,random_state = 0 )"
      ],
      "metadata": {
        "execution": {
          "iopub.status.busy": "2022-05-11T00:42:37.750948Z",
          "iopub.execute_input": "2022-05-11T00:42:37.752081Z",
          "iopub.status.idle": "2022-05-11T00:42:37.929527Z",
          "shell.execute_reply.started": "2022-05-11T00:42:37.752018Z",
          "shell.execute_reply": "2022-05-11T00:42:37.928683Z"
        },
        "trusted": true,
        "id": "t7mvzMm0BDHb"
      },
      "execution_count": null,
      "outputs": []
    },
    {
      "cell_type": "code",
      "source": [
        "print(\"Length of Training Data: {}\".format(len(x_train)))\n",
        "print(\"Length of Testing Data: {}\".format(len(x_test)))"
      ],
      "metadata": {
        "execution": {
          "iopub.status.busy": "2022-05-11T00:42:37.935148Z",
          "iopub.execute_input": "2022-05-11T00:42:37.935729Z",
          "iopub.status.idle": "2022-05-11T00:42:37.944703Z",
          "shell.execute_reply.started": "2022-05-11T00:42:37.935691Z",
          "shell.execute_reply": "2022-05-11T00:42:37.943027Z"
        },
        "trusted": true,
        "id": "JRyZTUehBDHc"
      },
      "execution_count": null,
      "outputs": []
    },
    {
      "cell_type": "markdown",
      "source": [
        "## Model Fitting"
      ],
      "metadata": {
        "id": "DxOlUuxJBDHd"
      }
    },
    {
      "cell_type": "code",
      "source": [],
      "metadata": {
        "id": "EGZRfycLBDHd"
      },
      "execution_count": null,
      "outputs": []
    },
    {
      "cell_type": "code",
      "source": [
        "import xgboost as xgb\n",
        "\n",
        "\n",
        "model = xgb.XGBClassifier(\n",
        " learning_rate =0.01,\n",
        " n_estimators=2000,\n",
        " max_depth=4,\n",
        " min_child_weight=6,\n",
        " gamma=0,\n",
        " subsample=0.8,\n",
        " colsample_bytree=0.8,\n",
        " reg_alpha=0.005,\n",
        " objective= 'binary:logistic',\n",
        " nthread=4,\n",
        " scale_pos_weight=1,\n",
        " seed=27)\n",
        "\n",
        "model.fit(x_train, y_train, eval_metric='auc')"
      ],
      "metadata": {
        "execution": {
          "iopub.status.busy": "2022-05-11T01:01:34.176998Z",
          "iopub.execute_input": "2022-05-11T01:01:34.177479Z"
        },
        "trusted": true,
        "id": "Ri_oNzqLBDHd"
      },
      "execution_count": null,
      "outputs": []
    },
    {
      "cell_type": "markdown",
      "source": [
        "## Model Testing"
      ],
      "metadata": {
        "id": "2l-k3drQBDHe"
      }
    },
    {
      "cell_type": "code",
      "source": [
        "y_pred = model.predict(x_test)\n",
        "y_pred"
      ],
      "metadata": {
        "execution": {
          "iopub.status.busy": "2022-05-11T01:01:27.856257Z",
          "iopub.status.idle": "2022-05-11T01:01:27.857151Z",
          "shell.execute_reply.started": "2022-05-11T01:01:27.856827Z",
          "shell.execute_reply": "2022-05-11T01:01:27.856861Z"
        },
        "trusted": true,
        "id": "o2yPFZ7pBDHh"
      },
      "execution_count": null,
      "outputs": []
    },
    {
      "cell_type": "markdown",
      "source": [
        "## Model Accuracy"
      ],
      "metadata": {
        "id": "W6EHU9eDBDHh"
      }
    },
    {
      "cell_type": "code",
      "source": [
        "from sklearn.metrics import accuracy_score\n",
        "print(\"Accuracy Score: {}\".format(accuracy_score(y_test,y_pred)))"
      ],
      "metadata": {
        "execution": {
          "iopub.status.busy": "2022-05-11T01:01:27.860369Z",
          "iopub.status.idle": "2022-05-11T01:01:27.861114Z",
          "shell.execute_reply.started": "2022-05-11T01:01:27.860803Z",
          "shell.execute_reply": "2022-05-11T01:01:27.860832Z"
        },
        "trusted": true,
        "id": "5O280yxkBDHh"
      },
      "execution_count": null,
      "outputs": []
    },
    {
      "cell_type": "markdown",
      "source": [
        "## Confusion Matrix"
      ],
      "metadata": {
        "id": "z1WpndC4BDHi"
      }
    },
    {
      "cell_type": "code",
      "source": [
        "from sklearn.metrics import plot_confusion_matrix\n",
        "plot_confusion_matrix(model, x_test,y_test)"
      ],
      "metadata": {
        "execution": {
          "iopub.status.busy": "2022-05-11T01:01:27.862622Z",
          "iopub.status.idle": "2022-05-11T01:01:27.863310Z",
          "shell.execute_reply.started": "2022-05-11T01:01:27.863043Z",
          "shell.execute_reply": "2022-05-11T01:01:27.863071Z"
        },
        "trusted": true,
        "id": "3ryqwQl6BDHi"
      },
      "execution_count": null,
      "outputs": []
    },
    {
      "cell_type": "markdown",
      "source": [
        "## ROC Curve"
      ],
      "metadata": {
        "id": "aU7q4uMHBDHi"
      }
    },
    {
      "cell_type": "code",
      "source": [
        "y_pred_proba = model.predict_proba(x_test)\n",
        "from sklearn.metrics import roc_curve\n",
        "from sklearn .metrics import roc_auc_score\n",
        "\n",
        "fpr, tpr, thresholds = roc_curve(y_test, y_pred_proba[:,1])\n",
        "plt.figure(figsize=(6,4))\n",
        "plt.plot(fpr,tpr,'-g',linewidth=1)\n",
        "plt.plot([0,1], [0,1], 'k--' )\n",
        "plt.title('ROC Curve')\n",
        "plt.xlabel(\"False Positive Rate\")\n",
        "plt.ylabel('True Positive Rate')\n",
        "plt.show()\n",
        "print(roc_auc_score(y_test, y_pred))"
      ],
      "metadata": {
        "execution": {
          "iopub.status.busy": "2022-05-11T01:01:27.864773Z",
          "iopub.status.idle": "2022-05-11T01:01:27.865514Z",
          "shell.execute_reply.started": "2022-05-11T01:01:27.865224Z",
          "shell.execute_reply": "2022-05-11T01:01:27.865254Z"
        },
        "trusted": true,
        "id": "c1hADGSZBDHj"
      },
      "execution_count": null,
      "outputs": []
    },
    {
      "cell_type": "markdown",
      "source": [
        "## Cross Validation Score"
      ],
      "metadata": {
        "id": "YKvcAAq9BDHk"
      }
    },
    {
      "cell_type": "code",
      "source": [
        "# from sklearn.model_selection import cross_val_score\n",
        "# scores = cross_val_score(model, x_train, y_train, cv = 5, scoring='accuracy')\n",
        "# print('Cross-validation scores:{}'.format(scores))\n",
        "# print('Average cross-validation score: {}'.format(scores.mean()))"
      ],
      "metadata": {
        "execution": {
          "iopub.status.busy": "2022-05-11T01:01:27.867054Z",
          "iopub.status.idle": "2022-05-11T01:01:27.867729Z",
          "shell.execute_reply.started": "2022-05-11T01:01:27.867440Z",
          "shell.execute_reply": "2022-05-11T01:01:27.867477Z"
        },
        "trusted": true,
        "id": "ocojcUh_BDHk"
      },
      "execution_count": null,
      "outputs": []
    },
    {
      "cell_type": "code",
      "source": [],
      "metadata": {
        "trusted": true,
        "id": "uttCM58ZBDHl"
      },
      "execution_count": null,
      "outputs": []
    },
    {
      "cell_type": "markdown",
      "source": [
        "## Predictions on Testing Set"
      ],
      "metadata": {
        "id": "F8YLAGEHBDHl"
      }
    },
    {
      "cell_type": "code",
      "source": [
        "pred = model.predict_proba(test[features])\n",
        "pred = pred[:, 1]"
      ],
      "metadata": {
        "execution": {
          "iopub.status.busy": "2022-05-11T01:01:27.869190Z",
          "iopub.status.idle": "2022-05-11T01:01:27.869882Z",
          "shell.execute_reply.started": "2022-05-11T01:01:27.869606Z",
          "shell.execute_reply": "2022-05-11T01:01:27.869634Z"
        },
        "trusted": true,
        "id": "0W7_VaKTBDHq"
      },
      "execution_count": null,
      "outputs": []
    },
    {
      "cell_type": "markdown",
      "source": [
        "## Submission"
      ],
      "metadata": {
        "id": "Ilnod7c1BDHr"
      }
    },
    {
      "cell_type": "code",
      "source": [
        "submission['mutation'] = pred\n",
        "submission.to_csv('submission4.csv', index=False)"
      ],
      "metadata": {
        "execution": {
          "iopub.status.busy": "2022-05-11T01:01:27.871567Z",
          "iopub.status.idle": "2022-05-11T01:01:27.872330Z",
          "shell.execute_reply.started": "2022-05-11T01:01:27.872025Z",
          "shell.execute_reply": "2022-05-11T01:01:27.872056Z"
        },
        "trusted": true,
        "id": "T7bXywmxBDHr"
      },
      "execution_count": null,
      "outputs": []
    },
    {
      "cell_type": "code",
      "source": [],
      "metadata": {
        "trusted": true,
        "id": "gK4uOjEtBDHs"
      },
      "execution_count": null,
      "outputs": []
    },
    {
      "cell_type": "code",
      "source": [],
      "metadata": {
        "id": "o7KeIEVcBDHt"
      },
      "execution_count": null,
      "outputs": []
    }
  ]
}