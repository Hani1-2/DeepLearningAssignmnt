{
  "nbformat": 4,
  "nbformat_minor": 0,
  "metadata": {
    "colab": {
      "name": "Mnist_Fashion Dataset.ipynb",
      "provenance": [],
      "authorship_tag": "ABX9TyNeBvuXZKTMup0/wUtoOyR2",
      "include_colab_link": true
    },
    "kernelspec": {
      "name": "python3",
      "display_name": "Python 3"
    }
  },
  "cells": [
    {
      "cell_type": "markdown",
      "metadata": {
        "id": "view-in-github",
        "colab_type": "text"
      },
      "source": [
        "<a href=\"https://colab.research.google.com/github/Hani1-2/DeepLearningAssignmnt/blob/master/Mnist_Fashion_Dataset.ipynb\" target=\"_parent\"><img src=\"https://colab.research.google.com/assets/colab-badge.svg\" alt=\"Open In Colab\"/></a>"
      ]
    },
    {
      "cell_type": "code",
      "metadata": {
        "colab": {
          "base_uri": "https://localhost:8080/"
        },
        "id": "qxjqTRLhg-QA",
        "outputId": "44fa6142-fc7c-4ebf-9e21-f8f9a8a9aee8"
      },
      "source": [
        "import tensorflow as tf\n",
        "mnist = tf.keras.datasets.fashion_mnist\n",
        "\n",
        "(training_images, training_labels), (test_images, test_labels) = mnist.load_data()\n",
        "training_images = training_images/255.0\n",
        "test_images = test_images/255.0\n",
        "\n",
        "model = tf.keras.models.Sequential([tf.keras.layers.Flatten(),\n",
        "                                  tf.keras.layers.Dense(512, activation=tf.nn.relu),\n",
        "                                   tf.keras.layers.Dense(10, activation =tf.nn.softmax)])\n",
        "model.compile(optimizer=tf.keras.optimizers.Adam(),\n",
        "              loss = 'sparse_categorical_crossentropy',\n",
        "              metrics=['accuracy'])\n",
        "# train ktny kelye fit ka method use krty h\n",
        "model.fit(training_images, training_labels, epochs=5, batch_size=128)\n",
        "\n",
        "model.evaluate(test_images, test_labels)"
      ],
      "execution_count": null,
      "outputs": [
        {
          "output_type": "stream",
          "text": [
            "Epoch 1/5\n",
            "469/469 [==============================] - 4s 8ms/step - loss: 0.6491 - accuracy: 0.7720\n",
            "Epoch 2/5\n",
            "469/469 [==============================] - 4s 8ms/step - loss: 0.3801 - accuracy: 0.8637\n",
            "Epoch 3/5\n",
            "469/469 [==============================] - 4s 7ms/step - loss: 0.3346 - accuracy: 0.8767\n",
            "Epoch 4/5\n",
            "469/469 [==============================] - 4s 8ms/step - loss: 0.3059 - accuracy: 0.8886\n",
            "Epoch 5/5\n",
            "469/469 [==============================] - 4s 8ms/step - loss: 0.2873 - accuracy: 0.8946\n",
            "313/313 [==============================] - 1s 2ms/step - loss: 0.3538 - accuracy: 0.8729\n"
          ],
          "name": "stdout"
        },
        {
          "output_type": "execute_result",
          "data": {
            "text/plain": [
              "[0.3537527918815613, 0.8729000091552734]"
            ]
          },
          "metadata": {
            "tags": []
          },
          "execution_count": 2
        }
      ]
    },
    {
      "cell_type": "code",
      "metadata": {
        "colab": {
          "base_uri": "https://localhost:8080/"
        },
        "id": "8aXQ2bvP23gX",
        "outputId": "15e6c493-1a9a-4390-d7e7-c729302e1627"
      },
      "source": [
        "import tensorflow as tf\n",
        "mnist = tf.keras.datasets.fashion_mnist\n",
        "(train_images, train_labels), (test_images, test_labels) = mnist.load_data()\n",
        "\n",
        "print(train_images.ndim)\n",
        "print(train_images.shape)\n",
        "print(train_images.dtype)"
      ],
      "execution_count": null,
      "outputs": [
        {
          "output_type": "stream",
          "text": [
            "3\n",
            "(60000, 28, 28)\n",
            "uint8\n"
          ],
          "name": "stdout"
        }
      ]
    },
    {
      "cell_type": "code",
      "metadata": {
        "colab": {
          "base_uri": "https://localhost:8080/",
          "height": 265
        },
        "id": "CEHhVyrq3Kui",
        "outputId": "db13f414-294c-410d-b019-0096f585712c"
      },
      "source": [
        "digit = train_images[4]\n",
        "import matplotlib.pyplot as plt\n",
        "plt.imshow(digit, cmap=plt.cm.binary)\n",
        "plt.show()"
      ],
      "execution_count": null,
      "outputs": [
        {
          "output_type": "display_data",
          "data": {
            "image/png": "[encoded data removed]",
            "text/plain": [
              "<Figure size 432x288 with 1 Axes>"
            ]
          },
          "metadata": {
            "tags": [],
            "needs_background": "light"
          }
        }
      ]
    },
    {
      "cell_type": "code",
      "metadata": {
        "colab": {
          "base_uri": "https://localhost:8080/"
        },
        "id": "r_R7GSvq3Y_h",
        "outputId": "d948fd70-7f86-4aa3-8427-0713b00e51e7"
      },
      "source": [
        "print(train_labels[4])"
      ],
      "execution_count": null,
      "outputs": [
        {
          "output_type": "stream",
          "text": [
            "0\n"
          ],
          "name": "stdout"
        }
      ]
    },
    {
      "cell_type": "markdown",
      "metadata": {
        "id": "CRWxlw3azu52"
      },
      "source": [
        "Same as mnist we load data from data set\n",
        "and after making architecture, compilation we set data to training,\n",
        "\n",
        "\n",
        "*   Flatten 3d se 1d me convert krta h\n",
        "*   nn (neural network), humne i/p nhi btaya to 1st layer ka o/p(512) hi i/p bnyga next layer kelye (or uske o/p 10 hongy)\n",
        "\n",
        "\n",
        "*   hum middle ki layers m koi bhi activation function use krskty h, mostly we use relu (ye 0 se bari value p o/p return krta h , otherwise 0 hi return krta h)\n",
        "*   Softmax (ap jitny number dy usko sum krky unki probability return krta h)\n",
        "then jo num ziada hoga wo apki class hogi\n",
        "\n",
        "\n",
        "\n",
        "\n"
      ]
    }
  ]
}