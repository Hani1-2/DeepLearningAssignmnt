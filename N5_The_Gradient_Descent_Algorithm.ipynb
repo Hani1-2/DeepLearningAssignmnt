{
  "cells": [
    {
      "cell_type": "markdown",
      "metadata": {
        "id": "view-in-github",
        "colab_type": "text"
      },
      "source": [
        "<a href=\"https://colab.research.google.com/github/Hani1-2/DeepLearningAssignmnt/blob/master/N5_The_Gradient_Descent_Algorithm.ipynb\" target=\"_parent\"><img src=\"https://colab.research.google.com/assets/colab-badge.svg\" alt=\"Open In Colab\"/></a>"
      ]
    },
    {
      "cell_type": "markdown",
      "metadata": {
        "id": "LLgig2tmY3wd"
      },
      "source": [
        "# Gradient Descent Exercises"
      ]
    },
    {
      "cell_type": "markdown",
      "metadata": {
        "id": "7lb_QCbHY3wk"
      },
      "source": [
        "## Imports"
      ]
    },
    {
      "cell_type": "code",
      "execution_count": null,
      "metadata": {
        "id": "Iu7i4xisY3wl"
      },
      "outputs": [],
      "source": [
        "import matplotlib.pyplot as plt\n",
        "import numpy as np\n",
        "from math import log"
      ]
    },
    {
      "cell_type": "markdown",
      "metadata": {
        "id": "HlrCwDFtY3wn"
      },
      "source": [
        "## Implementing Gradient Descent Algorithm"
      ]
    },
    {
      "cell_type": "code",
      "execution_count": null,
      "metadata": {
        "id": "kJ-33vUOY3wo"
      },
      "outputs": [],
      "source": [
        "def gradient_descent(derivative_func,learning_rate=0.02,initial_value=0.5, precision=0.001,max_iter=300):\n",
        "    x=initial_value\n",
        "    x_list=[]\n",
        "\n",
        "    for i in range(1,max_iter+1):\n",
        "        x_list.append(x)\n",
        "        print(x,derivative_func(x),learning_rate * derivative_func(x))\n",
        "        x = x - learning_rate * derivative_func(x)\n",
        "        \n",
        "        if abs(learning_rate * derivative_func(x))<=precision:\n",
        "        #if derivative_func(x)==0:\n",
        "            break\n",
        "        \n",
        "    return x,x_list,i"
      ]
    },
    {
      "cell_type": "markdown",
      "metadata": {
        "id": "_UC--GoWY3wq"
      },
      "source": [
        "## Problem 1\n",
        "### $$ g(x)=x^4-4x^2+5 $$\n",
        "\n",
        "### $$ \\frac{dg(x)}{dx}=4x^3-8x $$"
      ]
    },
    {
      "cell_type": "code",
      "execution_count": null,
      "metadata": {
        "id": "DWVLzfpNY3wr"
      },
      "outputs": [],
      "source": [
        "#Implementing the function g(x)\n",
        "def g(x):\n",
        "    return x**4-4*x**2+5\n",
        "\n",
        "#Implementing the derivative of the function g(x)\n",
        "def dg(x):\n",
        "    return 4*x**3-8*x"
      ]
    },
    {
      "cell_type": "code",
      "execution_count": null,
      "metadata": {
        "id": "ZvKRsoe1Y3ws"
      },
      "outputs": [],
      "source": [
        "#Making data. \n",
        "#The linspace function returns evenly spaced numbers over a specified interval.\n",
        "x_1=np.linspace(-2,2,1000)\n",
        "#type(x_1)\n",
        "#x_1"
      ]
    },
    {
      "cell_type": "code",
      "execution_count": null,
      "metadata": {
        "id": "KHMPevALY3wu",
        "outputId": "cc098470-bf8d-4dc8-f307-8dcc0e310a0d"
      },
      "outputs": [
        {
          "data": {
            "image/png": "[encoded data removed]",
            "text/plain": [
              "<Figure size 576x360 with 1 Axes>"
            ]
          },
          "metadata": {
            "needs_background": "light"
          },
          "output_type": "display_data"
        }
      ],
      "source": [
        "#Visualizing the function\n",
        "plt.figure(figsize=(8,5))\n",
        "plt.plot(x_1,g(x_1))\n",
        "plt.xlabel('x', fontsize=14)\n",
        "plt.ylabel('g(x)', fontsize=14)\n",
        "plt.title('Cost function')\n",
        "plt.show()"
      ]
    },
    {
      "cell_type": "code",
      "execution_count": null,
      "metadata": {
        "id": "pqG9FYwBY3ww",
        "outputId": "ce1f1882-11d2-4a3e-9803-379327cf1b08"
      },
      "outputs": [
        {
          "name": "stdout",
          "output_type": "stream",
          "text": [
            "0.5 -3.5 -0.07\n",
            "0.5700000000000001 -3.8192280000000003 -0.07638456\n",
            "0.6463845600000001 -4.090804992865673 -0.08181609985731346\n",
            "0.7282006598573135 -4.28101536091076 -0.0856203072182152\n",
            "0.8138209670755288 -4.354578365531026 -0.08709156731062052\n",
            "0.9009125343861493 -4.282421444451021 -0.08564842888902043\n",
            "0.9865609632751697 -4.051598563176713 -0.08103197126353426\n",
            "1.067592934538704 -3.6735673285555963 -0.07347134657111193\n",
            "1.141064281109816 -3.1857250720349457 -0.06371450144069891\n",
            "1.204778782550515 -2.6433236120211516 -0.05286647224042303\n",
            "1.257645254790938 -2.104434974726992 -0.04208869949453984\n",
            "1.2997339542854778 -1.6152659372766287 -0.03230531874553257\n",
            "1.3320392730310104 -1.202412537744527 -0.02404825075489054\n",
            "1.356087523785901 -0.873464804002376 -0.01746929608004752\n",
            "1.3735568198659485 -0.6227248545552868 -0.012454497091105736\n",
            "1.3860113169570543 -0.4378278315755093 -0.008756556631510187\n",
            "1.3947678735885645 -0.3047432723604011 -0.006094865447208022\n",
            "1.4008627390357724 -0.21059778304298504 -0.004211955660859701\n",
            "1.4050746946966322 -0.14480757312219872 -0.0028961514624439746\n",
            "1.407970846159076 -0.09922306419313287 -0.0019844612838626576\n",
            "1.4099553074429387 -0.06782466501976359 -0.0013564933003952717\n",
            "1.411311800743334 -0.04628538792876746 -0.0009257077585753492\n",
            "1.4122375085019094 -0.03155062633818417 -0.0006310125267636835\n",
            "1.412868521028673 -0.021489969184491642 -0.00042979938368983286\n",
            "1.413298320412363 -0.0146296587436332 -0.000292593174872664\n",
            "1.4135909135872358 -0.009955802196223829 -0.00019911604392447657\n",
            "1.4137900296311603 -0.006773479995583642 -0.00013546959991167284\n",
            "Local minima occurs at 1.413925499231072\n",
            "Cost at this point is 1.0000006637077776\n",
            "Slope at this point is -0.0046076021443433035\n",
            "Loop runs this many times: 27\n"
          ]
        }
      ],
      "source": [
        "#Setting parameters: initial_value= 0.5, learning_rate= 0.02, precision= 0.0001, max_iter= 1000\n",
        "local_minima,x_list,runs=gradient_descent(dg, initial_value=0.5, learning_rate=0.02, max_iter=1000, precision=0.0001)\n",
        "print('Local minima occurs at', local_minima)\n",
        "print('Cost at this point is', g(local_minima))\n",
        "print('Slope at this point is', dg(local_minima))\n",
        "print('Loop runs this many times:', runs)"
      ]
    },
    {
      "cell_type": "code",
      "execution_count": null,
      "metadata": {
        "id": "m_OX03CcY3wx"
      },
      "outputs": [],
      "source": [
        "#Plotting search trace on cost function\n",
        "plt.figure(figsize=(8,5))\n",
        "plt.plot(x_1,g(x_1))\n",
        "plt.xlabel('x', fontsize=14)\n",
        "plt.ylabel('g(x)', fontsize=14)\n",
        "plt.title('Cost function')\n",
        "plt.scatter(x_list,g(np.array(x_list)), color='red',alpha=0.4)\n",
        "plt.show()"
      ]
    },
    {
      "cell_type": "markdown",
      "metadata": {
        "id": "fE2uCRJ_Y3wy"
      },
      "source": [
        "### TASK FOR YOU\n",
        "Repeat after making the following changes and observe the results:\n",
        "\n",
        "1. In implementation of gradient descent, replace the statment 'if abs(learning_rate * derivative_func(x))<=precision:' with 'if derivative_func(x_old)==0:'. Now the calling code again and observe the results.\n",
        "2. Change initial value to -0.5, 1.5, 5, 50, 0.\n",
        "3. Change learning rate to 0.002, 0.2, 2."
      ]
    },
    {
      "cell_type": "markdown",
      "metadata": {
        "id": "Q8s6baz_Y3wz"
      },
      "source": [
        "### Max Float Value in Python"
      ]
    },
    {
      "cell_type": "code",
      "execution_count": null,
      "metadata": {
        "id": "Q2RpmXOYY3w1"
      },
      "outputs": [],
      "source": [
        "import sys\n",
        "sys.float_info.max\n",
        "#This is the max value of float that can be habdled by the machine."
      ]
    },
    {
      "cell_type": "code",
      "execution_count": null,
      "metadata": {
        "id": "tdQmsIBxY3w2"
      },
      "outputs": [],
      "source": [
        "#plotting cost function against iterations\n",
        "\n",
        "#Low learning rate (0.0005)\n",
        "low_local_minimum,low_x_list,low_runs=gradient_descent(dg,initial_value=3,precision=0.0001,\n",
        "                                                       max_iter=100,learning_rate=0.0005)\n",
        "n=list(range(1,101))\n",
        "plt.figure(figsize=(15,10))\n",
        "plt.plot(n,g(np.array(low_x_list)),color='lightgreen')\n",
        "plt.xlabel('Iterations', fontsize=18)\n",
        "plt.ylabel('Cost function', fontsize=18)\n",
        "plt.xticks(fontsize=18)\n",
        "plt.yticks(fontsize=18)\n",
        "plt.scatter(n,g(np.array(low_x_list)), color='lightgreen',alpha=0.8)\n",
        "\n",
        "#Medium learning rate (0.001)\n",
        "mid_local_minimum,mid_x_list,mid_runs=gradient_descent(dg,initial_value=3,precision=0.0001,\n",
        "                                                       max_iter=100,learning_rate=0.001)\n",
        "n=list(range(1,101))\n",
        "plt.plot(n,g(np.array(mid_x_list)),color='hotpink')\n",
        "plt.scatter(n,g(np.array(mid_x_list)), color='hotpink',alpha=0.8)\n",
        "\n",
        "#High learning rate (0.002)\n",
        "high_local_minimum,high_x_list,high_runs=gradient_descent(dg,initial_value=3,precision=0.0001,\n",
        "                                                          max_iter=100,learning_rate=0.002)\n",
        "n=list(range(1,101))\n",
        "plt.plot(n,g(np.array(high_x_list)),color='steelblue')\n",
        "plt.scatter(n,g(np.array(high_x_list)), color='steelblue',alpha=0.8)\n",
        "\n",
        "#Very very high learning rate (0.25)\n",
        "insane_local_minimum,insane_x_list,insane_runs=gradient_descent(dg,initial_value=1.9,precision=0.0001,\n",
        "                                                                max_iter=100,learning_rate=0.25)\n",
        "n=list(range(1,101))\n",
        "plt.plot(n,g(np.array(insane_x_list)),color='red')\n",
        "plt.scatter(n,g(np.array(insane_x_list)), color='red',alpha=0.8)\n",
        "\n",
        "plt.legend(['0.0005','0.001','0.002','0.25'],title='Learning Rate',title_fontsize=14, fontsize=18)\n",
        "plt.show()"
      ]
    },
    {
      "cell_type": "markdown",
      "metadata": {
        "id": "pfY195uHY3w3"
      },
      "source": [
        "## Problem 2\n",
        "### $$ h(x)=x^5-2x^4+2 $$\n",
        "### $$ \\frac{dh(x)}{dx}=5x^4-8x $$"
      ]
    },
    {
      "cell_type": "code",
      "execution_count": null,
      "metadata": {
        "id": "0cKqH77OY3w4"
      },
      "outputs": [],
      "source": [
        "#Implementing the function h(x)\n",
        "def h(x):\n",
        "    return x**5-2*x**4+2\n",
        "\n",
        "#Implementing the derivative of the function h(x)\n",
        "def dh(x):\n",
        "    return 5*x**4-8*x**3\n",
        "\n",
        "#Making data\n",
        "x_2=np.linspace(-2.5,2.5,1000)\n",
        "\n",
        "#Visualizing the function\n",
        "plt.figure(figsize=(8,5))\n",
        "plt.xlim(-1.2, 2.5)\n",
        "plt.ylim(-1, 4)\n",
        "plt.plot(x_2,h(x_2))\n",
        "plt.xlabel('x', fontsize=14)\n",
        "plt.ylabel('h(x)', fontsize=14)\n",
        "plt.title('Cost function')\n",
        "plt.show()"
      ]
    },
    {
      "cell_type": "code",
      "execution_count": null,
      "metadata": {
        "id": "pG_9GDysY3w4"
      },
      "outputs": [],
      "source": [
        "#Running gradient descent and plotting the results\n",
        "local_minima,x_list,runs=gradient_descent(dh,initial_value= 1, learning_rate= 0.02, precision= 0.001,max_iter= 20)\n",
        "    \n",
        "print('Local minima occures at ', local_minima)\n",
        "print('Cost at this point is ', h(local_minima))\n",
        "print('Slope at this point is ', dh(local_minima))\n",
        "print('Loop runs this many times: ', runs)\n",
        "\n",
        "plt.figure(figsize=(8,5))\n",
        "plt.xlim(-1.2, 2.5)\n",
        "plt.ylim(-1, 4)\n",
        "plt.plot(x_2,h(x_2))\n",
        "plt.xlabel('x', fontsize=14)\n",
        "plt.ylabel('h(x)', fontsize=14)\n",
        "plt.title('Cost function')\n",
        "plt.scatter(x_list,h(np.array(x_list)), color='red',alpha=0.4)\n",
        "plt.show()"
      ]
    },
    {
      "cell_type": "markdown",
      "metadata": {
        "id": "LxICXMcTY3w5"
      },
      "source": [
        "### TASK FOR YOU\n",
        "Repeat after making the following changes and observe the results:\n",
        "1. initial_value= -0.8, max_iter= 8\n",
        "2. initial_value= -0.8, learning_rate= 0.02, precision= 0.001,max_iter= 9"
      ]
    },
    {
      "cell_type": "markdown",
      "metadata": {
        "id": "loFy5BrpY3w5"
      },
      "source": [
        "## Problem 3\n",
        "The following cost function has 2 parameters.\n",
        "### $$ f(x,y)=\\frac{1}{3^{-x^2-y^2}+1} $$"
      ]
    },
    {
      "cell_type": "code",
      "execution_count": null,
      "metadata": {
        "id": "E8pq93x1Y3w6"
      },
      "outputs": [],
      "source": [
        "#Implementing the function h(x)\n",
        "def f(x,y):\n",
        "    return 1/(3**(-x**2-y**2)+1)\n",
        "\n",
        "#Making data for x and y\n",
        "x_3=np.linspace(-2,2,200)\n",
        "y_3=np.linspace(-2,2,200)\n",
        "x_3,y_3=np.meshgrid(x_3,y_3) \n",
        "#meshgrid converts x_3 and y_3 into 2D arrays, as required by the plotting function plot_surface."
      ]
    },
    {
      "cell_type": "code",
      "execution_count": null,
      "metadata": {
        "id": "0O5UPfjGY3w6"
      },
      "outputs": [],
      "source": [
        "#Plotting a 3D graph\n",
        "fig=plt.figure(figsize=[16,12])\n",
        "ax=plt.axes(projection='3d')\n",
        "ax.set_xlabel('x', fontsize=16)\n",
        "ax.set_ylabel('y', fontsize=16)\n",
        "ax.set_zlabel('Cost - f(x,y)', fontsize=16)\n",
        "ax.plot_surface(x_3,y_3,f(x_3,y_3), alpha=0.4, cmap='summer') \n",
        "#Explore other colormaps\n",
        "#Website for color choices: materialpalette.com\n",
        "plt.show()"
      ]
    },
    {
      "cell_type": "markdown",
      "metadata": {
        "id": "EmmlHtRcY3w7"
      },
      "source": [
        "### Partial derivatives for $$ f(x,y)=\\frac{1}{3^{-x^2-y^2}+1} $$ w.r.t. x and y\n",
        "\n",
        "$$ \\frac{\\partial f(x,y)}{\\partial dx} = \\frac{2x.ln(3).3^{-x^2-y^2}}{({3^{-x^2-y^2}}+1)^2} $$\n",
        "$$ \\frac{\\partial f(x,y)}{\\partial dy} = \\frac{2y.ln(3).3^{-x^2-y^2}}{({3^{-x^2-y^2}}+1)^2} $$\n",
        "\n",
        "Use online tools for finsing derivatives.\n",
        "One website is https://www.symbolab.com/solver/derivative-calculator"
      ]
    },
    {
      "cell_type": "code",
      "execution_count": null,
      "metadata": {
        "id": "s7d5dzOwY3w8"
      },
      "outputs": [],
      "source": [
        "#Implementing partial derivatives\n",
        "def pdfx(x,y):\n",
        "    return 2*x*log(3)*(3**(-x**2-y**2))/(3**(-x**2-y**2)+1)**2\n",
        "def pdfy(x,y):\n",
        "    return 2*y*log(3)*(3**(-x**2-y**2))/(3**(-x**2-y**2)+1)**2"
      ]
    },
    {
      "cell_type": "code",
      "execution_count": null,
      "metadata": {
        "id": "YtIqiDv2Y3w8"
      },
      "outputs": [],
      "source": [
        "#Custom implementation of gradient descent for two parameters\n",
        "learning_rate = 0.1\n",
        "max_iter = 2000\n",
        "initial_x = 1.8\n",
        "initial_y=1.0\n",
        "\n",
        "x_old=initial_x\n",
        "y_old=initial_y\n",
        "\n",
        "x_list=[]\n",
        "y_list=[]\n",
        "for i in range (1,max_iter+1):\n",
        "    x_new = x_old - learning_rate * pdfx(x_old,y_old)\n",
        "    y_new = y_old - learning_rate * pdfy(x_old,y_old)\n",
        "    \n",
        "    x_list.append(x_old)\n",
        "    y_list.append(y_old)\n",
        "\n",
        "    x_old=x_new\n",
        "    y_old=y_new"
      ]
    },
    {
      "cell_type": "code",
      "execution_count": null,
      "metadata": {
        "id": "PlRGqwmLY3w8"
      },
      "outputs": [],
      "source": [
        "#Plotting the 3D graph\n",
        "fig=plt.figure(figsize=[16,12])\n",
        "ax=plt.axes(projection='3d')\n",
        "ax.set_xlabel('x', fontsize=16)\n",
        "ax.set_ylabel('y', fontsize=16)\n",
        "ax.set_zlabel('Cost - f(x,y)', fontsize=16)\n",
        "ax.plot_surface(x_3,y_3,f(x_3,y_3), alpha=0.4, cmap='summer')\n",
        "x_list=np.array(x_list)\n",
        "y_list=np.array(y_list)\n",
        "ax.scatter(x_list,y_list,f(x_list,y_list), alpha=0.4, s=50, color='red')\n",
        "plt.show()"
      ]
    },
    {
      "cell_type": "code",
      "execution_count": null,
      "metadata": {
        "id": "ambKetudY3w9"
      },
      "outputs": [],
      "source": [
        ""
      ]
    }
  ],
  "metadata": {
    "kernelspec": {
      "display_name": "Python 3",
      "language": "python",
      "name": "python3"
    },
    "language_info": {
      "codemirror_mode": {
        "name": "ipython",
        "version": 3
      },
      "file_extension": ".py",
      "mimetype": "text/x-python",
      "name": "python",
      "nbconvert_exporter": "python",
      "pygments_lexer": "ipython3",
      "version": "3.8.5"
    },
    "colab": {
      "name": "N5_The Gradient Descent Algorithm.ipynb",
      "provenance": [],
      "include_colab_link": true
    }
  },
  "nbformat": 4,
  "nbformat_minor": 0
}