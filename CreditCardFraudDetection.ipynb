{
  "nbformat": 4,
  "nbformat_minor": 0,
  "metadata": {
    "colab": {
      "name": "CreditCardFraudDetection.ipynb",
      "provenance": [],
      "collapsed_sections": [],
      "authorship_tag": "ABX9TyO4Jv9yoV37kSssuAahuPJ6",
      "include_colab_link": true
    },
    "kernelspec": {
      "name": "python3",
      "display_name": "Python 3"
    },
    "accelerator": "GPU"
  },
  "cells": [
    {
      "cell_type": "markdown",
      "metadata": {
        "id": "view-in-github",
        "colab_type": "text"
      },
      "source": [
        "<a href=\"https://colab.research.google.com/github/Hani1-2/DeepLearningAssignmnt/blob/master/CreditCardFraudDetection.ipynb\" target=\"_parent\"><img src=\"https://colab.research.google.com/assets/colab-badge.svg\" alt=\"Open In Colab\"/></a>"
      ]
    },
    {
      "cell_type": "code",
      "metadata": {
        "id": "byQN2sCxsV34"
      },
      "source": [
        "%matplotlib inline\n",
        "import matplotlib.pyplot as plt\n",
        "import numpy as np\n",
        "import pandas as pd\n",
        "import seaborn as sns\n",
        "from sklearn.model_selection import train_test_split\n",
        "from sklearn.preprocessing import StandardScaler"
      ],
      "execution_count": null,
      "outputs": []
    },
    {
      "cell_type": "code",
      "metadata": {
        "colab": {
          "base_uri": "https://localhost:8080/"
        },
        "id": "9N8iAkOa6IVx",
        "outputId": "31228caf-fa3a-4c78-eb7f-34f51c66a474"
      },
      "source": [
        "import tensorflow as tf\n",
        "from tensorflow import keras\n",
        "from tensorflow.keras import Sequential\n",
        "from tensorflow.keras.optimizers import Adam\n",
        "from tensorflow.keras.layers import Flatten, Dense, Dropout, BatchNormalization\n",
        "from tensorflow.keras.layers import Conv1D, MaxPool1D\n",
        "\n",
        "print(tf.__version__)"
      ],
      "execution_count": null,
      "outputs": [
        {
          "output_type": "stream",
          "text": [
            "2.4.1\n"
          ],
          "name": "stdout"
        }
      ]
    },
    {
      "cell_type": "markdown",
      "metadata": {
        "id": "B0erQWgu4oJI"
      },
      "source": [
        "# Loading Dataset"
      ]
    },
    {
      "cell_type": "code",
      "metadata": {
        "colab": {
          "resources": {
            "http://localhost:8080/nbextensions/google.colab/files.js": {
              "data": "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",
              "ok": true,
              "headers": [
                [
                  "content-type",
                  "application/javascript"
                ]
              ],
              "status": 200,
              "status_text": ""
            }
          },
          "base_uri": "https://localhost:8080/",
          "height": 73
        },
        "id": "cIzJjlql31V5",
        "outputId": "58585c04-0ac7-44f1-91f6-ede3f3a50e5d"
      },
      "source": [
        "import io\n",
        "from google.colab import files\n",
        "uploaded = files.upload()"
      ],
      "execution_count": null,
      "outputs": [
        {
          "output_type": "display_data",
          "data": {
            "text/html": [
              "\n",
              "     <input type=\"file\" id=\"files-9eaca4eb-f252-4ebb-8cce-4119ad70021c\" name=\"files[]\" multiple disabled\n",
              "        style=\"border:none\" />\n",
              "     <output id=\"result-9eaca4eb-f252-4ebb-8cce-4119ad70021c\">\n",
              "      Upload widget is only available when the cell has been executed in the\n",
              "      current browser session. Please rerun this cell to enable.\n",
              "      </output>\n",
              "      <script src=\"/nbextensions/google.colab/files.js\"></script> "
            ],
            "text/plain": [
              "<IPython.core.display.HTML object>"
            ]
          },
          "metadata": {
            "tags": []
          }
        },
        {
          "output_type": "stream",
          "text": [
            "Saving creditcard.csv to creditcard.csv\n"
          ],
          "name": "stdout"
        }
      ]
    },
    {
      "cell_type": "code",
      "metadata": {
        "colab": {
          "base_uri": "https://localhost:8080/",
          "height": 214
        },
        "id": "7-nKcL6f4G_t",
        "outputId": "b307234d-7240-46b6-fb12-bb91fe51bebb"
      },
      "source": [
        "creditcard = pd.read_csv(io.BytesIO(uploaded['creditcard.csv']))\n",
        "creditcard.head()"
      ],
      "execution_count": null,
      "outputs": [
        {
          "output_type": "execute_result",
          "data": {
            "text/html": [
              "<div>\n",
              "<style scoped>\n",
              "    .dataframe tbody tr th:only-of-type {\n",
              "        vertical-align: middle;\n",
              "    }\n",
              "\n",
              "    .dataframe tbody tr th {\n",
              "        vertical-align: top;\n",
              "    }\n",
              "\n",
              "    .dataframe thead th {\n",
              "        text-align: right;\n",
              "    }\n",
              "</style>\n",
              "<table border=\"1\" class=\"dataframe\">\n",
              "  <thead>\n",
              "    <tr style=\"text-align: right;\">\n",
              "      <th></th>\n",
              "      <th>Time</th>\n",
              "      <th>V1</th>\n",
              "      <th>V2</th>\n",
              "      <th>V3</th>\n",
              "      <th>V4</th>\n",
              "      <th>V5</th>\n",
              "      <th>V6</th>\n",
              "      <th>V7</th>\n",
              "      <th>V8</th>\n",
              "      <th>V9</th>\n",
              "      <th>V10</th>\n",
              "      <th>V11</th>\n",
              "      <th>V12</th>\n",
              "      <th>V13</th>\n",
              "      <th>V14</th>\n",
              "      <th>V15</th>\n",
              "      <th>V16</th>\n",
              "      <th>V17</th>\n",
              "      <th>V18</th>\n",
              "      <th>V19</th>\n",
              "      <th>V20</th>\n",
              "      <th>V21</th>\n",
              "      <th>V22</th>\n",
              "      <th>V23</th>\n",
              "      <th>V24</th>\n",
              "      <th>V25</th>\n",
              "      <th>V26</th>\n",
              "      <th>V27</th>\n",
              "      <th>V28</th>\n",
              "      <th>Amount</th>\n",
              "      <th>Class</th>\n",
              "    </tr>\n",
              "  </thead>\n",
              "  <tbody>\n",
              "    <tr>\n",
              "      <th>0</th>\n",
              "      <td>0.0</td>\n",
              "      <td>-1.359807</td>\n",
              "      <td>-0.072781</td>\n",
              "      <td>2.536347</td>\n",
              "      <td>1.378155</td>\n",
              "      <td>-0.338321</td>\n",
              "      <td>0.462388</td>\n",
              "      <td>0.239599</td>\n",
              "      <td>0.098698</td>\n",
              "      <td>0.363787</td>\n",
              "      <td>0.090794</td>\n",
              "      <td>-0.551600</td>\n",
              "      <td>-0.617801</td>\n",
              "      <td>-0.991390</td>\n",
              "      <td>-0.311169</td>\n",
              "      <td>1.468177</td>\n",
              "      <td>-0.470401</td>\n",
              "      <td>0.207971</td>\n",
              "      <td>0.025791</td>\n",
              "      <td>0.403993</td>\n",
              "      <td>0.251412</td>\n",
              "      <td>-0.018307</td>\n",
              "      <td>0.277838</td>\n",
              "      <td>-0.110474</td>\n",
              "      <td>0.066928</td>\n",
              "      <td>0.128539</td>\n",
              "      <td>-0.189115</td>\n",
              "      <td>0.133558</td>\n",
              "      <td>-0.021053</td>\n",
              "      <td>149.62</td>\n",
              "      <td>0</td>\n",
              "    </tr>\n",
              "    <tr>\n",
              "      <th>1</th>\n",
              "      <td>0.0</td>\n",
              "      <td>1.191857</td>\n",
              "      <td>0.266151</td>\n",
              "      <td>0.166480</td>\n",
              "      <td>0.448154</td>\n",
              "      <td>0.060018</td>\n",
              "      <td>-0.082361</td>\n",
              "      <td>-0.078803</td>\n",
              "      <td>0.085102</td>\n",
              "      <td>-0.255425</td>\n",
              "      <td>-0.166974</td>\n",
              "      <td>1.612727</td>\n",
              "      <td>1.065235</td>\n",
              "      <td>0.489095</td>\n",
              "      <td>-0.143772</td>\n",
              "      <td>0.635558</td>\n",
              "      <td>0.463917</td>\n",
              "      <td>-0.114805</td>\n",
              "      <td>-0.183361</td>\n",
              "      <td>-0.145783</td>\n",
              "      <td>-0.069083</td>\n",
              "      <td>-0.225775</td>\n",
              "      <td>-0.638672</td>\n",
              "      <td>0.101288</td>\n",
              "      <td>-0.339846</td>\n",
              "      <td>0.167170</td>\n",
              "      <td>0.125895</td>\n",
              "      <td>-0.008983</td>\n",
              "      <td>0.014724</td>\n",
              "      <td>2.69</td>\n",
              "      <td>0</td>\n",
              "    </tr>\n",
              "    <tr>\n",
              "      <th>2</th>\n",
              "      <td>1.0</td>\n",
              "      <td>-1.358354</td>\n",
              "      <td>-1.340163</td>\n",
              "      <td>1.773209</td>\n",
              "      <td>0.379780</td>\n",
              "      <td>-0.503198</td>\n",
              "      <td>1.800499</td>\n",
              "      <td>0.791461</td>\n",
              "      <td>0.247676</td>\n",
              "      <td>-1.514654</td>\n",
              "      <td>0.207643</td>\n",
              "      <td>0.624501</td>\n",
              "      <td>0.066084</td>\n",
              "      <td>0.717293</td>\n",
              "      <td>-0.165946</td>\n",
              "      <td>2.345865</td>\n",
              "      <td>-2.890083</td>\n",
              "      <td>1.109969</td>\n",
              "      <td>-0.121359</td>\n",
              "      <td>-2.261857</td>\n",
              "      <td>0.524980</td>\n",
              "      <td>0.247998</td>\n",
              "      <td>0.771679</td>\n",
              "      <td>0.909412</td>\n",
              "      <td>-0.689281</td>\n",
              "      <td>-0.327642</td>\n",
              "      <td>-0.139097</td>\n",
              "      <td>-0.055353</td>\n",
              "      <td>-0.059752</td>\n",
              "      <td>378.66</td>\n",
              "      <td>0</td>\n",
              "    </tr>\n",
              "    <tr>\n",
              "      <th>3</th>\n",
              "      <td>1.0</td>\n",
              "      <td>-0.966272</td>\n",
              "      <td>-0.185226</td>\n",
              "      <td>1.792993</td>\n",
              "      <td>-0.863291</td>\n",
              "      <td>-0.010309</td>\n",
              "      <td>1.247203</td>\n",
              "      <td>0.237609</td>\n",
              "      <td>0.377436</td>\n",
              "      <td>-1.387024</td>\n",
              "      <td>-0.054952</td>\n",
              "      <td>-0.226487</td>\n",
              "      <td>0.178228</td>\n",
              "      <td>0.507757</td>\n",
              "      <td>-0.287924</td>\n",
              "      <td>-0.631418</td>\n",
              "      <td>-1.059647</td>\n",
              "      <td>-0.684093</td>\n",
              "      <td>1.965775</td>\n",
              "      <td>-1.232622</td>\n",
              "      <td>-0.208038</td>\n",
              "      <td>-0.108300</td>\n",
              "      <td>0.005274</td>\n",
              "      <td>-0.190321</td>\n",
              "      <td>-1.175575</td>\n",
              "      <td>0.647376</td>\n",
              "      <td>-0.221929</td>\n",
              "      <td>0.062723</td>\n",
              "      <td>0.061458</td>\n",
              "      <td>123.50</td>\n",
              "      <td>0</td>\n",
              "    </tr>\n",
              "    <tr>\n",
              "      <th>4</th>\n",
              "      <td>2.0</td>\n",
              "      <td>-1.158233</td>\n",
              "      <td>0.877737</td>\n",
              "      <td>1.548718</td>\n",
              "      <td>0.403034</td>\n",
              "      <td>-0.407193</td>\n",
              "      <td>0.095921</td>\n",
              "      <td>0.592941</td>\n",
              "      <td>-0.270533</td>\n",
              "      <td>0.817739</td>\n",
              "      <td>0.753074</td>\n",
              "      <td>-0.822843</td>\n",
              "      <td>0.538196</td>\n",
              "      <td>1.345852</td>\n",
              "      <td>-1.119670</td>\n",
              "      <td>0.175121</td>\n",
              "      <td>-0.451449</td>\n",
              "      <td>-0.237033</td>\n",
              "      <td>-0.038195</td>\n",
              "      <td>0.803487</td>\n",
              "      <td>0.408542</td>\n",
              "      <td>-0.009431</td>\n",
              "      <td>0.798278</td>\n",
              "      <td>-0.137458</td>\n",
              "      <td>0.141267</td>\n",
              "      <td>-0.206010</td>\n",
              "      <td>0.502292</td>\n",
              "      <td>0.219422</td>\n",
              "      <td>0.215153</td>\n",
              "      <td>69.99</td>\n",
              "      <td>0</td>\n",
              "    </tr>\n",
              "  </tbody>\n",
              "</table>\n",
              "</div>"
            ],
            "text/plain": [
              "   Time        V1        V2        V3  ...       V27       V28  Amount  Class\n",
              "0   0.0 -1.359807 -0.072781  2.536347  ...  0.133558 -0.021053  149.62      0\n",
              "1   0.0  1.191857  0.266151  0.166480  ... -0.008983  0.014724    2.69      0\n",
              "2   1.0 -1.358354 -1.340163  1.773209  ... -0.055353 -0.059752  378.66      0\n",
              "3   1.0 -0.966272 -0.185226  1.792993  ...  0.062723  0.061458  123.50      0\n",
              "4   2.0 -1.158233  0.877737  1.548718  ...  0.219422  0.215153   69.99      0\n",
              "\n",
              "[5 rows x 31 columns]"
            ]
          },
          "metadata": {
            "tags": []
          },
          "execution_count": 4
        }
      ]
    },
    {
      "cell_type": "code",
      "metadata": {
        "colab": {
          "base_uri": "https://localhost:8080/"
        },
        "id": "eA7i-3354Phv",
        "outputId": "ab0330cc-0018-4df9-9723-13b706db3475"
      },
      "source": [
        "creditcard.isna().sum()"
      ],
      "execution_count": null,
      "outputs": [
        {
          "output_type": "execute_result",
          "data": {
            "text/plain": [
              "Time      0\n",
              "V1        0\n",
              "V2        0\n",
              "V3        0\n",
              "V4        0\n",
              "V5        0\n",
              "V6        0\n",
              "V7        0\n",
              "V8        0\n",
              "V9        0\n",
              "V10       0\n",
              "V11       0\n",
              "V12       0\n",
              "V13       0\n",
              "V14       0\n",
              "V15       0\n",
              "V16       0\n",
              "V17       0\n",
              "V18       0\n",
              "V19       0\n",
              "V20       0\n",
              "V21       0\n",
              "V22       0\n",
              "V23       0\n",
              "V24       0\n",
              "V25       0\n",
              "V26       0\n",
              "V27       0\n",
              "V28       0\n",
              "Amount    0\n",
              "Class     0\n",
              "dtype: int64"
            ]
          },
          "metadata": {
            "tags": []
          },
          "execution_count": 5
        }
      ]
    },
    {
      "cell_type": "code",
      "metadata": {
        "colab": {
          "base_uri": "https://localhost:8080/"
        },
        "id": "kkcuTxOb4WVu",
        "outputId": "c307136d-1e94-4bb2-d3fd-7c6e7e9091c5"
      },
      "source": [
        "creditcard.shape"
      ],
      "execution_count": null,
      "outputs": [
        {
          "output_type": "execute_result",
          "data": {
            "text/plain": [
              "(284807, 31)"
            ]
          },
          "metadata": {
            "tags": []
          },
          "execution_count": 6
        }
      ]
    },
    {
      "cell_type": "code",
      "metadata": {
        "colab": {
          "base_uri": "https://localhost:8080/"
        },
        "id": "4xjCtnAT4dDu",
        "outputId": "d74c59c5-17d0-43a7-95ce-9a29a97edff6"
      },
      "source": [
        "creditcard.isna().any()"
      ],
      "execution_count": null,
      "outputs": [
        {
          "output_type": "execute_result",
          "data": {
            "text/plain": [
              "Time      False\n",
              "V1        False\n",
              "V2        False\n",
              "V3        False\n",
              "V4        False\n",
              "V5        False\n",
              "V6        False\n",
              "V7        False\n",
              "V8        False\n",
              "V9        False\n",
              "V10       False\n",
              "V11       False\n",
              "V12       False\n",
              "V13       False\n",
              "V14       False\n",
              "V15       False\n",
              "V16       False\n",
              "V17       False\n",
              "V18       False\n",
              "V19       False\n",
              "V20       False\n",
              "V21       False\n",
              "V22       False\n",
              "V23       False\n",
              "V24       False\n",
              "V25       False\n",
              "V26       False\n",
              "V27       False\n",
              "V28       False\n",
              "Amount    False\n",
              "Class     False\n",
              "dtype: bool"
            ]
          },
          "metadata": {
            "tags": []
          },
          "execution_count": 8
        }
      ]
    },
    {
      "cell_type": "markdown",
      "metadata": {
        "id": "1XtxvtBzPRmN"
      },
      "source": [
        "Since there is no none values we are ready to proceed"
      ]
    },
    {
      "cell_type": "code",
      "metadata": {
        "colab": {
          "base_uri": "https://localhost:8080/"
        },
        "id": "lxSxVuKEPd36",
        "outputId": "2c66d9a4-8778-416f-c54e-1eb61a844956"
      },
      "source": [
        "creditcard.info()"
      ],
      "execution_count": null,
      "outputs": [
        {
          "output_type": "stream",
          "text": [
            "<class 'pandas.core.frame.DataFrame'>\n",
            "RangeIndex: 284807 entries, 0 to 284806\n",
            "Data columns (total 31 columns):\n",
            " #   Column  Non-Null Count   Dtype  \n",
            "---  ------  --------------   -----  \n",
            " 0   Time    284807 non-null  float64\n",
            " 1   V1      284807 non-null  float64\n",
            " 2   V2      284807 non-null  float64\n",
            " 3   V3      284807 non-null  float64\n",
            " 4   V4      284807 non-null  float64\n",
            " 5   V5      284807 non-null  float64\n",
            " 6   V6      284807 non-null  float64\n",
            " 7   V7      284807 non-null  float64\n",
            " 8   V8      284807 non-null  float64\n",
            " 9   V9      284807 non-null  float64\n",
            " 10  V10     284807 non-null  float64\n",
            " 11  V11     284807 non-null  float64\n",
            " 12  V12     284807 non-null  float64\n",
            " 13  V13     284807 non-null  float64\n",
            " 14  V14     284807 non-null  float64\n",
            " 15  V15     284807 non-null  float64\n",
            " 16  V16     284807 non-null  float64\n",
            " 17  V17     284807 non-null  float64\n",
            " 18  V18     284807 non-null  float64\n",
            " 19  V19     284807 non-null  float64\n",
            " 20  V20     284807 non-null  float64\n",
            " 21  V21     284807 non-null  float64\n",
            " 22  V22     284807 non-null  float64\n",
            " 23  V23     284807 non-null  float64\n",
            " 24  V24     284807 non-null  float64\n",
            " 25  V25     284807 non-null  float64\n",
            " 26  V26     284807 non-null  float64\n",
            " 27  V27     284807 non-null  float64\n",
            " 28  V28     284807 non-null  float64\n",
            " 29  Amount  284807 non-null  float64\n",
            " 30  Class   284807 non-null  int64  \n",
            "dtypes: float64(30), int64(1)\n",
            "memory usage: 67.4 MB\n"
          ],
          "name": "stdout"
        }
      ]
    },
    {
      "cell_type": "code",
      "metadata": {
        "colab": {
          "base_uri": "https://localhost:8080/"
        },
        "id": "AUbzMw5ZPkm7",
        "outputId": "68e64076-0ba9-4ffe-ff9f-3a8283aea4d5"
      },
      "source": [
        "creditcard['Class'].value_counts()"
      ],
      "execution_count": null,
      "outputs": [
        {
          "output_type": "execute_result",
          "data": {
            "text/plain": [
              "0    284315\n",
              "1       492\n",
              "Name: Class, dtype: int64"
            ]
          },
          "metadata": {
            "tags": []
          },
          "execution_count": 11
        }
      ]
    },
    {
      "cell_type": "markdown",
      "metadata": {
        "id": "XlWxZoZDP7PI"
      },
      "source": [
        "# Balanced Data"
      ]
    },
    {
      "cell_type": "code",
      "metadata": {
        "id": "_4nSolAuP5qe"
      },
      "source": [
        "non_fraud = creditcard[creditcard['Class']==0]\n",
        "fraud = creditcard[creditcard['Class']==1]"
      ],
      "execution_count": null,
      "outputs": []
    },
    {
      "cell_type": "code",
      "metadata": {
        "colab": {
          "base_uri": "https://localhost:8080/"
        },
        "id": "UPSea7ymQMNw",
        "outputId": "42f1785f-febb-44bc-e244-d1f77523e05f"
      },
      "source": [
        "non_fraud.shape, fraud.shape "
      ],
      "execution_count": null,
      "outputs": [
        {
          "output_type": "execute_result",
          "data": {
            "text/plain": [
              "((284315, 31), (492, 31))"
            ]
          },
          "metadata": {
            "tags": []
          },
          "execution_count": 15
        }
      ]
    },
    {
      "cell_type": "code",
      "metadata": {
        "colab": {
          "base_uri": "https://localhost:8080/"
        },
        "id": "-rt4ClUfR82x",
        "outputId": "8acab8d6-fc49-445b-f3d9-420829057644"
      },
      "source": [
        "non_fraud = non_fraud.sample(fraud.shape[0])\n",
        "non_fraud.shape"
      ],
      "execution_count": null,
      "outputs": [
        {
          "output_type": "execute_result",
          "data": {
            "text/plain": [
              "(492, 31)"
            ]
          },
          "metadata": {
            "tags": []
          },
          "execution_count": 17
        }
      ]
    },
    {
      "cell_type": "code",
      "metadata": {
        "colab": {
          "base_uri": "https://localhost:8080/",
          "height": 419
        },
        "id": "pU6b5_a0R9h_",
        "outputId": "e9e9ffa4-c089-4b1a-e562-ef90b5dd6126"
      },
      "source": [
        "creditcard = fraud.append(non_fraud, ignore_index=True)\n",
        "creditcard"
      ],
      "execution_count": null,
      "outputs": [
        {
          "output_type": "execute_result",
          "data": {
            "text/html": [
              "<div>\n",
              "<style scoped>\n",
              "    .dataframe tbody tr th:only-of-type {\n",
              "        vertical-align: middle;\n",
              "    }\n",
              "\n",
              "    .dataframe tbody tr th {\n",
              "        vertical-align: top;\n",
              "    }\n",
              "\n",
              "    .dataframe thead th {\n",
              "        text-align: right;\n",
              "    }\n",
              "</style>\n",
              "<table border=\"1\" class=\"dataframe\">\n",
              "  <thead>\n",
              "    <tr style=\"text-align: right;\">\n",
              "      <th></th>\n",
              "      <th>Time</th>\n",
              "      <th>V1</th>\n",
              "      <th>V2</th>\n",
              "      <th>V3</th>\n",
              "      <th>V4</th>\n",
              "      <th>V5</th>\n",
              "      <th>V6</th>\n",
              "      <th>V7</th>\n",
              "      <th>V8</th>\n",
              "      <th>V9</th>\n",
              "      <th>V10</th>\n",
              "      <th>V11</th>\n",
              "      <th>V12</th>\n",
              "      <th>V13</th>\n",
              "      <th>V14</th>\n",
              "      <th>V15</th>\n",
              "      <th>V16</th>\n",
              "      <th>V17</th>\n",
              "      <th>V18</th>\n",
              "      <th>V19</th>\n",
              "      <th>V20</th>\n",
              "      <th>V21</th>\n",
              "      <th>V22</th>\n",
              "      <th>V23</th>\n",
              "      <th>V24</th>\n",
              "      <th>V25</th>\n",
              "      <th>V26</th>\n",
              "      <th>V27</th>\n",
              "      <th>V28</th>\n",
              "      <th>Amount</th>\n",
              "      <th>Class</th>\n",
              "    </tr>\n",
              "  </thead>\n",
              "  <tbody>\n",
              "    <tr>\n",
              "      <th>0</th>\n",
              "      <td>406.0</td>\n",
              "      <td>-2.312227</td>\n",
              "      <td>1.951992</td>\n",
              "      <td>-1.609851</td>\n",
              "      <td>3.997906</td>\n",
              "      <td>-0.522188</td>\n",
              "      <td>-1.426545</td>\n",
              "      <td>-2.537387</td>\n",
              "      <td>1.391657</td>\n",
              "      <td>-2.770089</td>\n",
              "      <td>-2.772272</td>\n",
              "      <td>3.202033</td>\n",
              "      <td>-2.899907</td>\n",
              "      <td>-0.595222</td>\n",
              "      <td>-4.289254</td>\n",
              "      <td>0.389724</td>\n",
              "      <td>-1.140747</td>\n",
              "      <td>-2.830056</td>\n",
              "      <td>-0.016822</td>\n",
              "      <td>0.416956</td>\n",
              "      <td>0.126911</td>\n",
              "      <td>0.517232</td>\n",
              "      <td>-0.035049</td>\n",
              "      <td>-0.465211</td>\n",
              "      <td>0.320198</td>\n",
              "      <td>0.044519</td>\n",
              "      <td>0.177840</td>\n",
              "      <td>0.261145</td>\n",
              "      <td>-0.143276</td>\n",
              "      <td>0.00</td>\n",
              "      <td>1</td>\n",
              "    </tr>\n",
              "    <tr>\n",
              "      <th>1</th>\n",
              "      <td>472.0</td>\n",
              "      <td>-3.043541</td>\n",
              "      <td>-3.157307</td>\n",
              "      <td>1.088463</td>\n",
              "      <td>2.288644</td>\n",
              "      <td>1.359805</td>\n",
              "      <td>-1.064823</td>\n",
              "      <td>0.325574</td>\n",
              "      <td>-0.067794</td>\n",
              "      <td>-0.270953</td>\n",
              "      <td>-0.838587</td>\n",
              "      <td>-0.414575</td>\n",
              "      <td>-0.503141</td>\n",
              "      <td>0.676502</td>\n",
              "      <td>-1.692029</td>\n",
              "      <td>2.000635</td>\n",
              "      <td>0.666780</td>\n",
              "      <td>0.599717</td>\n",
              "      <td>1.725321</td>\n",
              "      <td>0.283345</td>\n",
              "      <td>2.102339</td>\n",
              "      <td>0.661696</td>\n",
              "      <td>0.435477</td>\n",
              "      <td>1.375966</td>\n",
              "      <td>-0.293803</td>\n",
              "      <td>0.279798</td>\n",
              "      <td>-0.145362</td>\n",
              "      <td>-0.252773</td>\n",
              "      <td>0.035764</td>\n",
              "      <td>529.00</td>\n",
              "      <td>1</td>\n",
              "    </tr>\n",
              "    <tr>\n",
              "      <th>2</th>\n",
              "      <td>4462.0</td>\n",
              "      <td>-2.303350</td>\n",
              "      <td>1.759247</td>\n",
              "      <td>-0.359745</td>\n",
              "      <td>2.330243</td>\n",
              "      <td>-0.821628</td>\n",
              "      <td>-0.075788</td>\n",
              "      <td>0.562320</td>\n",
              "      <td>-0.399147</td>\n",
              "      <td>-0.238253</td>\n",
              "      <td>-1.525412</td>\n",
              "      <td>2.032912</td>\n",
              "      <td>-6.560124</td>\n",
              "      <td>0.022937</td>\n",
              "      <td>-1.470102</td>\n",
              "      <td>-0.698826</td>\n",
              "      <td>-2.282194</td>\n",
              "      <td>-4.781831</td>\n",
              "      <td>-2.615665</td>\n",
              "      <td>-1.334441</td>\n",
              "      <td>-0.430022</td>\n",
              "      <td>-0.294166</td>\n",
              "      <td>-0.932391</td>\n",
              "      <td>0.172726</td>\n",
              "      <td>-0.087330</td>\n",
              "      <td>-0.156114</td>\n",
              "      <td>-0.542628</td>\n",
              "      <td>0.039566</td>\n",
              "      <td>-0.153029</td>\n",
              "      <td>239.93</td>\n",
              "      <td>1</td>\n",
              "    </tr>\n",
              "    <tr>\n",
              "      <th>3</th>\n",
              "      <td>6986.0</td>\n",
              "      <td>-4.397974</td>\n",
              "      <td>1.358367</td>\n",
              "      <td>-2.592844</td>\n",
              "      <td>2.679787</td>\n",
              "      <td>-1.128131</td>\n",
              "      <td>-1.706536</td>\n",
              "      <td>-3.496197</td>\n",
              "      <td>-0.248778</td>\n",
              "      <td>-0.247768</td>\n",
              "      <td>-4.801637</td>\n",
              "      <td>4.895844</td>\n",
              "      <td>-10.912819</td>\n",
              "      <td>0.184372</td>\n",
              "      <td>-6.771097</td>\n",
              "      <td>-0.007326</td>\n",
              "      <td>-7.358083</td>\n",
              "      <td>-12.598419</td>\n",
              "      <td>-5.131549</td>\n",
              "      <td>0.308334</td>\n",
              "      <td>-0.171608</td>\n",
              "      <td>0.573574</td>\n",
              "      <td>0.176968</td>\n",
              "      <td>-0.436207</td>\n",
              "      <td>-0.053502</td>\n",
              "      <td>0.252405</td>\n",
              "      <td>-0.657488</td>\n",
              "      <td>-0.827136</td>\n",
              "      <td>0.849573</td>\n",
              "      <td>59.00</td>\n",
              "      <td>1</td>\n",
              "    </tr>\n",
              "    <tr>\n",
              "      <th>4</th>\n",
              "      <td>7519.0</td>\n",
              "      <td>1.234235</td>\n",
              "      <td>3.019740</td>\n",
              "      <td>-4.304597</td>\n",
              "      <td>4.732795</td>\n",
              "      <td>3.624201</td>\n",
              "      <td>-1.357746</td>\n",
              "      <td>1.713445</td>\n",
              "      <td>-0.496358</td>\n",
              "      <td>-1.282858</td>\n",
              "      <td>-2.447469</td>\n",
              "      <td>2.101344</td>\n",
              "      <td>-4.609628</td>\n",
              "      <td>1.464378</td>\n",
              "      <td>-6.079337</td>\n",
              "      <td>-0.339237</td>\n",
              "      <td>2.581851</td>\n",
              "      <td>6.739384</td>\n",
              "      <td>3.042493</td>\n",
              "      <td>-2.721853</td>\n",
              "      <td>0.009061</td>\n",
              "      <td>-0.379068</td>\n",
              "      <td>-0.704181</td>\n",
              "      <td>-0.656805</td>\n",
              "      <td>-1.632653</td>\n",
              "      <td>1.488901</td>\n",
              "      <td>0.566797</td>\n",
              "      <td>-0.010016</td>\n",
              "      <td>0.146793</td>\n",
              "      <td>1.00</td>\n",
              "      <td>1</td>\n",
              "    </tr>\n",
              "    <tr>\n",
              "      <th>...</th>\n",
              "      <td>...</td>\n",
              "      <td>...</td>\n",
              "      <td>...</td>\n",
              "      <td>...</td>\n",
              "      <td>...</td>\n",
              "      <td>...</td>\n",
              "      <td>...</td>\n",
              "      <td>...</td>\n",
              "      <td>...</td>\n",
              "      <td>...</td>\n",
              "      <td>...</td>\n",
              "      <td>...</td>\n",
              "      <td>...</td>\n",
              "      <td>...</td>\n",
              "      <td>...</td>\n",
              "      <td>...</td>\n",
              "      <td>...</td>\n",
              "      <td>...</td>\n",
              "      <td>...</td>\n",
              "      <td>...</td>\n",
              "      <td>...</td>\n",
              "      <td>...</td>\n",
              "      <td>...</td>\n",
              "      <td>...</td>\n",
              "      <td>...</td>\n",
              "      <td>...</td>\n",
              "      <td>...</td>\n",
              "      <td>...</td>\n",
              "      <td>...</td>\n",
              "      <td>...</td>\n",
              "      <td>...</td>\n",
              "    </tr>\n",
              "    <tr>\n",
              "      <th>979</th>\n",
              "      <td>68863.0</td>\n",
              "      <td>1.337213</td>\n",
              "      <td>-0.470240</td>\n",
              "      <td>-0.098994</td>\n",
              "      <td>-0.689787</td>\n",
              "      <td>-0.610266</td>\n",
              "      <td>-0.902042</td>\n",
              "      <td>-0.158655</td>\n",
              "      <td>-0.186481</td>\n",
              "      <td>-1.011213</td>\n",
              "      <td>0.614610</td>\n",
              "      <td>-0.076691</td>\n",
              "      <td>-0.895915</td>\n",
              "      <td>-0.762936</td>\n",
              "      <td>0.311341</td>\n",
              "      <td>0.798670</td>\n",
              "      <td>0.598662</td>\n",
              "      <td>0.724808</td>\n",
              "      <td>-2.245999</td>\n",
              "      <td>0.432178</td>\n",
              "      <td>0.036160</td>\n",
              "      <td>-0.109026</td>\n",
              "      <td>-0.513884</td>\n",
              "      <td>0.086152</td>\n",
              "      <td>0.046890</td>\n",
              "      <td>0.338763</td>\n",
              "      <td>-0.421968</td>\n",
              "      <td>-0.017295</td>\n",
              "      <td>0.010518</td>\n",
              "      <td>42.01</td>\n",
              "      <td>0</td>\n",
              "    </tr>\n",
              "    <tr>\n",
              "      <th>980</th>\n",
              "      <td>54276.0</td>\n",
              "      <td>-0.105433</td>\n",
              "      <td>-0.426803</td>\n",
              "      <td>1.159064</td>\n",
              "      <td>-2.832184</td>\n",
              "      <td>-0.226770</td>\n",
              "      <td>-0.036423</td>\n",
              "      <td>0.139560</td>\n",
              "      <td>-0.184711</td>\n",
              "      <td>-2.432449</td>\n",
              "      <td>1.142453</td>\n",
              "      <td>-0.036270</td>\n",
              "      <td>-1.168377</td>\n",
              "      <td>-0.011675</td>\n",
              "      <td>-0.371654</td>\n",
              "      <td>-0.706766</td>\n",
              "      <td>0.200838</td>\n",
              "      <td>-0.482875</td>\n",
              "      <td>0.784495</td>\n",
              "      <td>0.020019</td>\n",
              "      <td>-0.227920</td>\n",
              "      <td>-0.315891</td>\n",
              "      <td>-0.520845</td>\n",
              "      <td>-0.154955</td>\n",
              "      <td>-0.910880</td>\n",
              "      <td>-0.192250</td>\n",
              "      <td>-0.504857</td>\n",
              "      <td>-0.058699</td>\n",
              "      <td>-0.113167</td>\n",
              "      <td>34.94</td>\n",
              "      <td>0</td>\n",
              "    </tr>\n",
              "    <tr>\n",
              "      <th>981</th>\n",
              "      <td>158231.0</td>\n",
              "      <td>-0.797577</td>\n",
              "      <td>1.069423</td>\n",
              "      <td>-0.691324</td>\n",
              "      <td>-0.425867</td>\n",
              "      <td>0.366414</td>\n",
              "      <td>-0.428505</td>\n",
              "      <td>0.869214</td>\n",
              "      <td>0.440865</td>\n",
              "      <td>-0.272659</td>\n",
              "      <td>-1.373496</td>\n",
              "      <td>0.233115</td>\n",
              "      <td>0.118027</td>\n",
              "      <td>-0.722681</td>\n",
              "      <td>-1.218635</td>\n",
              "      <td>-1.512127</td>\n",
              "      <td>0.562635</td>\n",
              "      <td>0.916207</td>\n",
              "      <td>1.123844</td>\n",
              "      <td>0.193941</td>\n",
              "      <td>0.115730</td>\n",
              "      <td>0.135160</td>\n",
              "      <td>0.403563</td>\n",
              "      <td>-0.085938</td>\n",
              "      <td>-0.588485</td>\n",
              "      <td>-0.107814</td>\n",
              "      <td>0.592324</td>\n",
              "      <td>0.214164</td>\n",
              "      <td>0.191973</td>\n",
              "      <td>99.00</td>\n",
              "      <td>0</td>\n",
              "    </tr>\n",
              "    <tr>\n",
              "      <th>982</th>\n",
              "      <td>169815.0</td>\n",
              "      <td>2.082280</td>\n",
              "      <td>0.508316</td>\n",
              "      <td>-2.615466</td>\n",
              "      <td>1.318233</td>\n",
              "      <td>1.330873</td>\n",
              "      <td>-0.570512</td>\n",
              "      <td>0.644487</td>\n",
              "      <td>-0.280705</td>\n",
              "      <td>0.194771</td>\n",
              "      <td>-0.355290</td>\n",
              "      <td>-1.192293</td>\n",
              "      <td>-0.293991</td>\n",
              "      <td>-0.312334</td>\n",
              "      <td>-1.008191</td>\n",
              "      <td>-0.257869</td>\n",
              "      <td>-0.018734</td>\n",
              "      <td>0.758661</td>\n",
              "      <td>0.276818</td>\n",
              "      <td>-0.167986</td>\n",
              "      <td>-0.216680</td>\n",
              "      <td>-0.087369</td>\n",
              "      <td>-0.042892</td>\n",
              "      <td>-0.073356</td>\n",
              "      <td>-0.102808</td>\n",
              "      <td>0.569283</td>\n",
              "      <td>-0.478532</td>\n",
              "      <td>-0.002685</td>\n",
              "      <td>-0.029833</td>\n",
              "      <td>5.88</td>\n",
              "      <td>0</td>\n",
              "    </tr>\n",
              "    <tr>\n",
              "      <th>983</th>\n",
              "      <td>126631.0</td>\n",
              "      <td>-0.774602</td>\n",
              "      <td>-0.988419</td>\n",
              "      <td>-0.664368</td>\n",
              "      <td>1.001981</td>\n",
              "      <td>-0.601821</td>\n",
              "      <td>-0.117035</td>\n",
              "      <td>2.450352</td>\n",
              "      <td>-0.264879</td>\n",
              "      <td>-0.807809</td>\n",
              "      <td>-0.398344</td>\n",
              "      <td>0.777586</td>\n",
              "      <td>0.333781</td>\n",
              "      <td>-0.257820</td>\n",
              "      <td>0.717370</td>\n",
              "      <td>-0.283685</td>\n",
              "      <td>0.121241</td>\n",
              "      <td>-0.816240</td>\n",
              "      <td>0.888302</td>\n",
              "      <td>-0.269635</td>\n",
              "      <td>1.064857</td>\n",
              "      <td>0.729175</td>\n",
              "      <td>1.094233</td>\n",
              "      <td>1.125699</td>\n",
              "      <td>0.009571</td>\n",
              "      <td>0.138553</td>\n",
              "      <td>-0.484109</td>\n",
              "      <td>-0.157245</td>\n",
              "      <td>0.020708</td>\n",
              "      <td>537.60</td>\n",
              "      <td>0</td>\n",
              "    </tr>\n",
              "  </tbody>\n",
              "</table>\n",
              "<p>984 rows × 31 columns</p>\n",
              "</div>"
            ],
            "text/plain": [
              "         Time        V1        V2        V3  ...       V27       V28  Amount  Class\n",
              "0       406.0 -2.312227  1.951992 -1.609851  ...  0.261145 -0.143276    0.00      1\n",
              "1       472.0 -3.043541 -3.157307  1.088463  ... -0.252773  0.035764  529.00      1\n",
              "2      4462.0 -2.303350  1.759247 -0.359745  ...  0.039566 -0.153029  239.93      1\n",
              "3      6986.0 -4.397974  1.358367 -2.592844  ... -0.827136  0.849573   59.00      1\n",
              "4      7519.0  1.234235  3.019740 -4.304597  ... -0.010016  0.146793    1.00      1\n",
              "..        ...       ...       ...       ...  ...       ...       ...     ...    ...\n",
              "979   68863.0  1.337213 -0.470240 -0.098994  ... -0.017295  0.010518   42.01      0\n",
              "980   54276.0 -0.105433 -0.426803  1.159064  ... -0.058699 -0.113167   34.94      0\n",
              "981  158231.0 -0.797577  1.069423 -0.691324  ...  0.214164  0.191973   99.00      0\n",
              "982  169815.0  2.082280  0.508316 -2.615466  ... -0.002685 -0.029833    5.88      0\n",
              "983  126631.0 -0.774602 -0.988419 -0.664368  ... -0.157245  0.020708  537.60      0\n",
              "\n",
              "[984 rows x 31 columns]"
            ]
          },
          "metadata": {
            "tags": []
          },
          "execution_count": 18
        }
      ]
    },
    {
      "cell_type": "code",
      "metadata": {
        "colab": {
          "base_uri": "https://localhost:8080/"
        },
        "id": "7N0oEciET6SX",
        "outputId": "36c23b9f-f29d-411d-cad8-46ad11684241"
      },
      "source": [
        "creditcard['Class'].value_counts()"
      ],
      "execution_count": null,
      "outputs": [
        {
          "output_type": "execute_result",
          "data": {
            "text/plain": [
              "1    492\n",
              "0    492\n",
              "Name: Class, dtype: int64"
            ]
          },
          "metadata": {
            "tags": []
          },
          "execution_count": 20
        }
      ]
    },
    {
      "cell_type": "markdown",
      "metadata": {
        "id": "0j-Y0hRfPvcA"
      },
      "source": [
        "SO we have 492 fraud dataset, data is imbalanced"
      ]
    },
    {
      "cell_type": "code",
      "metadata": {
        "id": "uRTke6zoUPes"
      },
      "source": [
        "x = creditcard.drop('Class', axis=1)\n",
        "y = creditcard['Class']"
      ],
      "execution_count": null,
      "outputs": []
    },
    {
      "cell_type": "code",
      "metadata": {
        "id": "VeczTaIiUPg3"
      },
      "source": [
        "x_train, x_test, y_train, y_test = train_test_split(x,y,test_size= 0.2, random_state = 0, stratify = y)"
      ],
      "execution_count": null,
      "outputs": []
    },
    {
      "cell_type": "code",
      "metadata": {
        "colab": {
          "base_uri": "https://localhost:8080/"
        },
        "id": "DtKq0ZDqXNJM",
        "outputId": "d64f20ed-f225-439b-d472-3213aa1150c2"
      },
      "source": [
        "x_train.shape, x_test.shape"
      ],
      "execution_count": null,
      "outputs": [
        {
          "output_type": "execute_result",
          "data": {
            "text/plain": [
              "((787, 30), (197, 30))"
            ]
          },
          "metadata": {
            "tags": []
          },
          "execution_count": 26
        }
      ]
    },
    {
      "cell_type": "code",
      "metadata": {
        "colab": {
          "base_uri": "https://localhost:8080/",
          "height": 419
        },
        "id": "5gapmjuNXdz6",
        "outputId": "3b6e8e95-bfc2-4498-8097-c632dae716df"
      },
      "source": [
        "x_train"
      ],
      "execution_count": null,
      "outputs": [
        {
          "output_type": "execute_result",
          "data": {
            "text/html": [
              "<div>\n",
              "<style scoped>\n",
              "    .dataframe tbody tr th:only-of-type {\n",
              "        vertical-align: middle;\n",
              "    }\n",
              "\n",
              "    .dataframe tbody tr th {\n",
              "        vertical-align: top;\n",
              "    }\n",
              "\n",
              "    .dataframe thead th {\n",
              "        text-align: right;\n",
              "    }\n",
              "</style>\n",
              "<table border=\"1\" class=\"dataframe\">\n",
              "  <thead>\n",
              "    <tr style=\"text-align: right;\">\n",
              "      <th></th>\n",
              "      <th>Time</th>\n",
              "      <th>V1</th>\n",
              "      <th>V2</th>\n",
              "      <th>V3</th>\n",
              "      <th>V4</th>\n",
              "      <th>V5</th>\n",
              "      <th>V6</th>\n",
              "      <th>V7</th>\n",
              "      <th>V8</th>\n",
              "      <th>V9</th>\n",
              "      <th>V10</th>\n",
              "      <th>V11</th>\n",
              "      <th>V12</th>\n",
              "      <th>V13</th>\n",
              "      <th>V14</th>\n",
              "      <th>V15</th>\n",
              "      <th>V16</th>\n",
              "      <th>V17</th>\n",
              "      <th>V18</th>\n",
              "      <th>V19</th>\n",
              "      <th>V20</th>\n",
              "      <th>V21</th>\n",
              "      <th>V22</th>\n",
              "      <th>V23</th>\n",
              "      <th>V24</th>\n",
              "      <th>V25</th>\n",
              "      <th>V26</th>\n",
              "      <th>V27</th>\n",
              "      <th>V28</th>\n",
              "      <th>Amount</th>\n",
              "    </tr>\n",
              "  </thead>\n",
              "  <tbody>\n",
              "    <tr>\n",
              "      <th>845</th>\n",
              "      <td>42156.0</td>\n",
              "      <td>-0.202546</td>\n",
              "      <td>-0.880241</td>\n",
              "      <td>1.313761</td>\n",
              "      <td>-1.890034</td>\n",
              "      <td>0.972917</td>\n",
              "      <td>4.735698</td>\n",
              "      <td>-1.131050</td>\n",
              "      <td>1.096684</td>\n",
              "      <td>0.266995</td>\n",
              "      <td>-0.021690</td>\n",
              "      <td>-1.152102</td>\n",
              "      <td>-0.598124</td>\n",
              "      <td>-0.188403</td>\n",
              "      <td>-1.695451</td>\n",
              "      <td>-1.837221</td>\n",
              "      <td>0.507171</td>\n",
              "      <td>0.469954</td>\n",
              "      <td>-0.877766</td>\n",
              "      <td>1.671463</td>\n",
              "      <td>0.394670</td>\n",
              "      <td>0.096070</td>\n",
              "      <td>0.593071</td>\n",
              "      <td>-0.205095</td>\n",
              "      <td>1.067097</td>\n",
              "      <td>0.197070</td>\n",
              "      <td>-0.101697</td>\n",
              "      <td>-0.036639</td>\n",
              "      <td>-0.158892</td>\n",
              "      <td>58.00</td>\n",
              "    </tr>\n",
              "    <tr>\n",
              "      <th>898</th>\n",
              "      <td>87296.0</td>\n",
              "      <td>-0.658540</td>\n",
              "      <td>1.576872</td>\n",
              "      <td>-0.114859</td>\n",
              "      <td>0.795463</td>\n",
              "      <td>1.803102</td>\n",
              "      <td>0.023253</td>\n",
              "      <td>1.372267</td>\n",
              "      <td>-0.063105</td>\n",
              "      <td>-1.289087</td>\n",
              "      <td>-0.753884</td>\n",
              "      <td>0.771490</td>\n",
              "      <td>-0.014044</td>\n",
              "      <td>-0.443632</td>\n",
              "      <td>-0.868292</td>\n",
              "      <td>-0.582953</td>\n",
              "      <td>-0.409372</td>\n",
              "      <td>1.035673</td>\n",
              "      <td>0.951200</td>\n",
              "      <td>1.151934</td>\n",
              "      <td>0.061873</td>\n",
              "      <td>0.008539</td>\n",
              "      <td>0.079707</td>\n",
              "      <td>-0.631570</td>\n",
              "      <td>0.182604</td>\n",
              "      <td>1.143040</td>\n",
              "      <td>-0.223580</td>\n",
              "      <td>-0.080647</td>\n",
              "      <td>0.077976</td>\n",
              "      <td>3.24</td>\n",
              "    </tr>\n",
              "    <tr>\n",
              "      <th>45</th>\n",
              "      <td>18399.0</td>\n",
              "      <td>-14.474437</td>\n",
              "      <td>6.503185</td>\n",
              "      <td>-17.712632</td>\n",
              "      <td>11.270352</td>\n",
              "      <td>-4.150142</td>\n",
              "      <td>-3.372098</td>\n",
              "      <td>-16.535807</td>\n",
              "      <td>-1.443947</td>\n",
              "      <td>-6.815273</td>\n",
              "      <td>-13.670545</td>\n",
              "      <td>10.545263</td>\n",
              "      <td>-15.022700</td>\n",
              "      <td>0.171633</td>\n",
              "      <td>-15.066374</td>\n",
              "      <td>-0.259576</td>\n",
              "      <td>-8.668739</td>\n",
              "      <td>-12.804141</td>\n",
              "      <td>-5.116620</td>\n",
              "      <td>0.579200</td>\n",
              "      <td>1.101250</td>\n",
              "      <td>-2.475962</td>\n",
              "      <td>0.342391</td>\n",
              "      <td>-3.564508</td>\n",
              "      <td>-0.818140</td>\n",
              "      <td>0.153408</td>\n",
              "      <td>0.755079</td>\n",
              "      <td>2.706566</td>\n",
              "      <td>-0.992916</td>\n",
              "      <td>1.00</td>\n",
              "    </tr>\n",
              "    <tr>\n",
              "      <th>536</th>\n",
              "      <td>145680.0</td>\n",
              "      <td>-1.570818</td>\n",
              "      <td>0.273738</td>\n",
              "      <td>1.986327</td>\n",
              "      <td>-3.591481</td>\n",
              "      <td>-0.765840</td>\n",
              "      <td>1.311050</td>\n",
              "      <td>-1.844790</td>\n",
              "      <td>-3.038908</td>\n",
              "      <td>-0.020819</td>\n",
              "      <td>-0.829514</td>\n",
              "      <td>-0.132629</td>\n",
              "      <td>0.036566</td>\n",
              "      <td>-0.829516</td>\n",
              "      <td>-0.283362</td>\n",
              "      <td>-0.422123</td>\n",
              "      <td>-0.160748</td>\n",
              "      <td>-1.018655</td>\n",
              "      <td>2.429256</td>\n",
              "      <td>-1.751329</td>\n",
              "      <td>0.088155</td>\n",
              "      <td>-0.749522</td>\n",
              "      <td>0.112403</td>\n",
              "      <td>-0.079986</td>\n",
              "      <td>0.175299</td>\n",
              "      <td>0.275886</td>\n",
              "      <td>0.585267</td>\n",
              "      <td>0.098004</td>\n",
              "      <td>-0.077142</td>\n",
              "      <td>10.00</td>\n",
              "    </tr>\n",
              "    <tr>\n",
              "      <th>739</th>\n",
              "      <td>7689.0</td>\n",
              "      <td>-0.515859</td>\n",
              "      <td>1.199603</td>\n",
              "      <td>1.568964</td>\n",
              "      <td>-0.233186</td>\n",
              "      <td>0.593782</td>\n",
              "      <td>-0.540135</td>\n",
              "      <td>0.784834</td>\n",
              "      <td>-0.135750</td>\n",
              "      <td>0.622424</td>\n",
              "      <td>-1.383385</td>\n",
              "      <td>1.015197</td>\n",
              "      <td>-1.915965</td>\n",
              "      <td>2.763625</td>\n",
              "      <td>0.835993</td>\n",
              "      <td>-0.176116</td>\n",
              "      <td>0.250686</td>\n",
              "      <td>0.691265</td>\n",
              "      <td>-0.502009</td>\n",
              "      <td>-1.299585</td>\n",
              "      <td>-0.116354</td>\n",
              "      <td>-0.291385</td>\n",
              "      <td>-0.580845</td>\n",
              "      <td>0.000781</td>\n",
              "      <td>-0.009816</td>\n",
              "      <td>-0.454402</td>\n",
              "      <td>-0.108661</td>\n",
              "      <td>0.072285</td>\n",
              "      <td>0.135729</td>\n",
              "      <td>1.98</td>\n",
              "    </tr>\n",
              "    <tr>\n",
              "      <th>...</th>\n",
              "      <td>...</td>\n",
              "      <td>...</td>\n",
              "      <td>...</td>\n",
              "      <td>...</td>\n",
              "      <td>...</td>\n",
              "      <td>...</td>\n",
              "      <td>...</td>\n",
              "      <td>...</td>\n",
              "      <td>...</td>\n",
              "      <td>...</td>\n",
              "      <td>...</td>\n",
              "      <td>...</td>\n",
              "      <td>...</td>\n",
              "      <td>...</td>\n",
              "      <td>...</td>\n",
              "      <td>...</td>\n",
              "      <td>...</td>\n",
              "      <td>...</td>\n",
              "      <td>...</td>\n",
              "      <td>...</td>\n",
              "      <td>...</td>\n",
              "      <td>...</td>\n",
              "      <td>...</td>\n",
              "      <td>...</td>\n",
              "      <td>...</td>\n",
              "      <td>...</td>\n",
              "      <td>...</td>\n",
              "      <td>...</td>\n",
              "      <td>...</td>\n",
              "      <td>...</td>\n",
              "    </tr>\n",
              "    <tr>\n",
              "      <th>202</th>\n",
              "      <td>59840.0</td>\n",
              "      <td>-3.215382</td>\n",
              "      <td>-0.364223</td>\n",
              "      <td>-1.261883</td>\n",
              "      <td>3.794949</td>\n",
              "      <td>0.711206</td>\n",
              "      <td>-1.316476</td>\n",
              "      <td>-5.165141</td>\n",
              "      <td>0.625278</td>\n",
              "      <td>-1.582301</td>\n",
              "      <td>-3.252634</td>\n",
              "      <td>5.040751</td>\n",
              "      <td>-5.314442</td>\n",
              "      <td>-0.656471</td>\n",
              "      <td>-6.233044</td>\n",
              "      <td>0.974771</td>\n",
              "      <td>-6.890318</td>\n",
              "      <td>-9.516411</td>\n",
              "      <td>-4.364128</td>\n",
              "      <td>2.598578</td>\n",
              "      <td>0.019626</td>\n",
              "      <td>0.401341</td>\n",
              "      <td>0.152191</td>\n",
              "      <td>-0.934675</td>\n",
              "      <td>-0.256148</td>\n",
              "      <td>-0.469403</td>\n",
              "      <td>-0.282496</td>\n",
              "      <td>0.866077</td>\n",
              "      <td>-0.433466</td>\n",
              "      <td>5.91</td>\n",
              "    </tr>\n",
              "    <tr>\n",
              "      <th>711</th>\n",
              "      <td>75558.0</td>\n",
              "      <td>-1.373316</td>\n",
              "      <td>0.935575</td>\n",
              "      <td>1.948506</td>\n",
              "      <td>0.809954</td>\n",
              "      <td>-1.442374</td>\n",
              "      <td>-0.023349</td>\n",
              "      <td>-0.888863</td>\n",
              "      <td>1.107659</td>\n",
              "      <td>-0.064684</td>\n",
              "      <td>-0.944197</td>\n",
              "      <td>-0.419472</td>\n",
              "      <td>0.519898</td>\n",
              "      <td>-0.220238</td>\n",
              "      <td>0.229046</td>\n",
              "      <td>0.615759</td>\n",
              "      <td>-0.374587</td>\n",
              "      <td>0.934279</td>\n",
              "      <td>-0.516808</td>\n",
              "      <td>0.223385</td>\n",
              "      <td>-0.207280</td>\n",
              "      <td>0.114455</td>\n",
              "      <td>0.160286</td>\n",
              "      <td>-0.028903</td>\n",
              "      <td>0.638704</td>\n",
              "      <td>0.029438</td>\n",
              "      <td>0.440767</td>\n",
              "      <td>-0.356261</td>\n",
              "      <td>-0.160586</td>\n",
              "      <td>13.86</td>\n",
              "    </tr>\n",
              "    <tr>\n",
              "      <th>31</th>\n",
              "      <td>12095.0</td>\n",
              "      <td>-4.727713</td>\n",
              "      <td>3.044469</td>\n",
              "      <td>-5.598354</td>\n",
              "      <td>5.928191</td>\n",
              "      <td>-2.190770</td>\n",
              "      <td>-1.529323</td>\n",
              "      <td>-4.487422</td>\n",
              "      <td>0.916392</td>\n",
              "      <td>-1.307010</td>\n",
              "      <td>-4.138891</td>\n",
              "      <td>5.149409</td>\n",
              "      <td>-11.124019</td>\n",
              "      <td>0.543068</td>\n",
              "      <td>-7.840942</td>\n",
              "      <td>0.743634</td>\n",
              "      <td>-6.777069</td>\n",
              "      <td>-9.931765</td>\n",
              "      <td>-4.093021</td>\n",
              "      <td>1.504925</td>\n",
              "      <td>-0.207759</td>\n",
              "      <td>0.650988</td>\n",
              "      <td>0.254983</td>\n",
              "      <td>0.628843</td>\n",
              "      <td>-0.238128</td>\n",
              "      <td>-0.671332</td>\n",
              "      <td>-0.033590</td>\n",
              "      <td>-1.331777</td>\n",
              "      <td>0.705698</td>\n",
              "      <td>30.39</td>\n",
              "    </tr>\n",
              "    <tr>\n",
              "      <th>882</th>\n",
              "      <td>125030.0</td>\n",
              "      <td>1.737900</td>\n",
              "      <td>-0.367856</td>\n",
              "      <td>-2.421560</td>\n",
              "      <td>0.010330</td>\n",
              "      <td>1.234209</td>\n",
              "      <td>0.316419</td>\n",
              "      <td>0.661483</td>\n",
              "      <td>-0.028873</td>\n",
              "      <td>0.011897</td>\n",
              "      <td>-0.065324</td>\n",
              "      <td>1.423600</td>\n",
              "      <td>1.191218</td>\n",
              "      <td>-0.144285</td>\n",
              "      <td>1.147570</td>\n",
              "      <td>0.572422</td>\n",
              "      <td>-1.413526</td>\n",
              "      <td>0.221009</td>\n",
              "      <td>-1.199110</td>\n",
              "      <td>-0.716173</td>\n",
              "      <td>-0.116097</td>\n",
              "      <td>0.360456</td>\n",
              "      <td>1.029830</td>\n",
              "      <td>-0.143870</td>\n",
              "      <td>-1.380418</td>\n",
              "      <td>0.334150</td>\n",
              "      <td>-0.327202</td>\n",
              "      <td>-0.007622</td>\n",
              "      <td>-0.074626</td>\n",
              "      <td>118.58</td>\n",
              "    </tr>\n",
              "    <tr>\n",
              "      <th>563</th>\n",
              "      <td>77166.0</td>\n",
              "      <td>-0.628179</td>\n",
              "      <td>0.896262</td>\n",
              "      <td>1.327444</td>\n",
              "      <td>1.765041</td>\n",
              "      <td>0.184451</td>\n",
              "      <td>0.223966</td>\n",
              "      <td>1.343033</td>\n",
              "      <td>0.035962</td>\n",
              "      <td>-1.728348</td>\n",
              "      <td>0.286027</td>\n",
              "      <td>0.716995</td>\n",
              "      <td>0.097679</td>\n",
              "      <td>-0.138140</td>\n",
              "      <td>0.474373</td>\n",
              "      <td>-0.435316</td>\n",
              "      <td>0.832214</td>\n",
              "      <td>-0.947045</td>\n",
              "      <td>0.391003</td>\n",
              "      <td>-0.381369</td>\n",
              "      <td>0.248333</td>\n",
              "      <td>0.058863</td>\n",
              "      <td>-0.228885</td>\n",
              "      <td>0.171589</td>\n",
              "      <td>-0.061492</td>\n",
              "      <td>0.051048</td>\n",
              "      <td>-0.160287</td>\n",
              "      <td>-0.023333</td>\n",
              "      <td>0.059190</td>\n",
              "      <td>152.84</td>\n",
              "    </tr>\n",
              "  </tbody>\n",
              "</table>\n",
              "<p>787 rows × 30 columns</p>\n",
              "</div>"
            ],
            "text/plain": [
              "         Time         V1        V2  ...       V27       V28  Amount\n",
              "845   42156.0  -0.202546 -0.880241  ... -0.036639 -0.158892   58.00\n",
              "898   87296.0  -0.658540  1.576872  ... -0.080647  0.077976    3.24\n",
              "45    18399.0 -14.474437  6.503185  ...  2.706566 -0.992916    1.00\n",
              "536  145680.0  -1.570818  0.273738  ...  0.098004 -0.077142   10.00\n",
              "739    7689.0  -0.515859  1.199603  ...  0.072285  0.135729    1.98\n",
              "..        ...        ...       ...  ...       ...       ...     ...\n",
              "202   59840.0  -3.215382 -0.364223  ...  0.866077 -0.433466    5.91\n",
              "711   75558.0  -1.373316  0.935575  ... -0.356261 -0.160586   13.86\n",
              "31    12095.0  -4.727713  3.044469  ... -1.331777  0.705698   30.39\n",
              "882  125030.0   1.737900 -0.367856  ... -0.007622 -0.074626  118.58\n",
              "563   77166.0  -0.628179  0.896262  ... -0.023333  0.059190  152.84\n",
              "\n",
              "[787 rows x 30 columns]"
            ]
          },
          "metadata": {
            "tags": []
          },
          "execution_count": 27
        }
      ]
    },
    {
      "cell_type": "code",
      "metadata": {
        "id": "M8-0T5wpXgQw"
      },
      "source": [
        "scaler = StandardScaler()\n",
        "x_train = scaler.fit_transform(x_train)\n",
        "x_test = scaler.transform(x_test)"
      ],
      "execution_count": null,
      "outputs": []
    },
    {
      "cell_type": "code",
      "metadata": {
        "id": "kmocijQrZKIl"
      },
      "source": [
        "x_train = x_train.reshape(x_train.shape[0], x_train.shape[1],1)\n",
        "x_test = x_test.reshape(x_test.shape[0], x_test.shape[1],1)"
      ],
      "execution_count": null,
      "outputs": []
    },
    {
      "cell_type": "code",
      "metadata": {
        "colab": {
          "base_uri": "https://localhost:8080/"
        },
        "id": "tbcXCMQNZkDk",
        "outputId": "1111b428-8d42-4cd5-9ec3-aab1682887f3"
      },
      "source": [
        "x_train.shape, x_test.shape"
      ],
      "execution_count": null,
      "outputs": [
        {
          "output_type": "execute_result",
          "data": {
            "text/plain": [
              "((787, 30, 1), (197, 30, 1))"
            ]
          },
          "metadata": {
            "tags": []
          },
          "execution_count": 37
        }
      ]
    },
    {
      "cell_type": "markdown",
      "metadata": {
        "id": "gtlolNAr4s67"
      },
      "source": [
        "# Build CNN"
      ]
    },
    {
      "cell_type": "code",
      "metadata": {
        "id": "s49amY0m40iy"
      },
      "source": [
        "epochs = 20\n",
        "model = Sequential()\n",
        "model.add(Conv1D(10,2, activation='relu', input_shape = x_train[0].shape))\n",
        "model.add(BatchNormalization())\n",
        "model.add(Dropout(0.2))\n",
        "\n",
        "\n",
        "model.add(Conv1D(8,2, activation='relu'))\n",
        "model.add(BatchNormalization())\n",
        "model.add(Dropout(0.5))\n",
        "\n",
        "model.add(Flatten())\n",
        "model.add(Dense(6, activation='relu'))\n",
        "model.add(Dropout(0.5))\n",
        "\n",
        "model.add(Dense(1, activation='sigmoid')) # Binary Classification\n"
      ],
      "execution_count": null,
      "outputs": []
    },
    {
      "cell_type": "code",
      "metadata": {
        "id": "H38sSUlLcTN9"
      },
      "source": [
        "model.compile(optimizer='rmsprop', loss='binary_crossentropy', metrics=['acc'])"
      ],
      "execution_count": null,
      "outputs": []
    },
    {
      "cell_type": "code",
      "metadata": {
        "colab": {
          "base_uri": "https://localhost:8080/"
        },
        "id": "_lvPszKPatgB",
        "outputId": "5a924d6f-dc58-477b-bae5-3450c89ec1f9"
      },
      "source": [
        "model.summary()"
      ],
      "execution_count": null,
      "outputs": [
        {
          "output_type": "stream",
          "text": [
            "Model: \"sequential_5\"\n",
            "_________________________________________________________________\n",
            "Layer (type)                 Output Shape              Param #   \n",
            "=================================================================\n",
            "conv1d_5 (Conv1D)            (None, 29, 10)            30        \n",
            "_________________________________________________________________\n",
            "batch_normalization_5 (Batch (None, 29, 10)            40        \n",
            "_________________________________________________________________\n",
            "dropout_6 (Dropout)          (None, 29, 10)            0         \n",
            "_________________________________________________________________\n",
            "conv1d_6 (Conv1D)            (None, 28, 8)             168       \n",
            "_________________________________________________________________\n",
            "batch_normalization_6 (Batch (None, 28, 8)             32        \n",
            "_________________________________________________________________\n",
            "dropout_7 (Dropout)          (None, 28, 8)             0         \n",
            "_________________________________________________________________\n",
            "flatten_2 (Flatten)          (None, 224)               0         \n",
            "_________________________________________________________________\n",
            "dense_4 (Dense)              (None, 6)                 1350      \n",
            "_________________________________________________________________\n",
            "dropout_8 (Dropout)          (None, 6)                 0         \n",
            "_________________________________________________________________\n",
            "dense_5 (Dense)              (None, 1)                 7         \n",
            "=================================================================\n",
            "Total params: 1,627\n",
            "Trainable params: 1,591\n",
            "Non-trainable params: 36\n",
            "_________________________________________________________________\n"
          ],
          "name": "stdout"
        }
      ]
    },
    {
      "cell_type": "code",
      "metadata": {
        "colab": {
          "base_uri": "https://localhost:8080/"
        },
        "id": "ry-CjXS-cn2Z",
        "outputId": "3fc1405d-fc37-45bc-8cc2-7de7b13f6c39"
      },
      "source": [
        "history = model.fit(x_train, y_train, epochs=epochs, validation_data=(x_test, y_test), verbose=1)"
      ],
      "execution_count": null,
      "outputs": [
        {
          "output_type": "stream",
          "text": [
            "Epoch 1/20\n",
            "25/25 [==============================] - 0s 10ms/step - loss: 0.2212 - acc: 0.8831 - val_loss: 0.2003 - val_acc: 0.9086\n",
            "Epoch 2/20\n",
            "25/25 [==============================] - 0s 8ms/step - loss: 0.2187 - acc: 0.8856 - val_loss: 0.2004 - val_acc: 0.9137\n",
            "Epoch 3/20\n",
            "25/25 [==============================] - 0s 8ms/step - loss: 0.2377 - acc: 0.8869 - val_loss: 0.2048 - val_acc: 0.9137\n",
            "Epoch 4/20\n",
            "25/25 [==============================] - 0s 8ms/step - loss: 0.2434 - acc: 0.8793 - val_loss: 0.2063 - val_acc: 0.9137\n",
            "Epoch 5/20\n",
            "25/25 [==============================] - 0s 8ms/step - loss: 0.2189 - acc: 0.8895 - val_loss: 0.2048 - val_acc: 0.9137\n",
            "Epoch 6/20\n",
            "25/25 [==============================] - 0s 8ms/step - loss: 0.2010 - acc: 0.8895 - val_loss: 0.2028 - val_acc: 0.9137\n",
            "Epoch 7/20\n",
            "25/25 [==============================] - 0s 8ms/step - loss: 0.2257 - acc: 0.8856 - val_loss: 0.2046 - val_acc: 0.9086\n",
            "Epoch 8/20\n",
            "25/25 [==============================] - 0s 8ms/step - loss: 0.2151 - acc: 0.8920 - val_loss: 0.2095 - val_acc: 0.9137\n",
            "Epoch 9/20\n",
            "25/25 [==============================] - 0s 8ms/step - loss: 0.2315 - acc: 0.8640 - val_loss: 0.2078 - val_acc: 0.9137\n",
            "Epoch 10/20\n",
            "25/25 [==============================] - 0s 8ms/step - loss: 0.2219 - acc: 0.8945 - val_loss: 0.2070 - val_acc: 0.9137\n",
            "Epoch 11/20\n",
            "25/25 [==============================] - 0s 8ms/step - loss: 0.2081 - acc: 0.8869 - val_loss: 0.2001 - val_acc: 0.9137\n",
            "Epoch 12/20\n",
            "25/25 [==============================] - 0s 8ms/step - loss: 0.2361 - acc: 0.8945 - val_loss: 0.2028 - val_acc: 0.9137\n",
            "Epoch 13/20\n",
            "25/25 [==============================] - 0s 8ms/step - loss: 0.2336 - acc: 0.8742 - val_loss: 0.2010 - val_acc: 0.9137\n",
            "Epoch 14/20\n",
            "25/25 [==============================] - 0s 8ms/step - loss: 0.2276 - acc: 0.8869 - val_loss: 0.2058 - val_acc: 0.9137\n",
            "Epoch 15/20\n",
            "25/25 [==============================] - 0s 8ms/step - loss: 0.2341 - acc: 0.8717 - val_loss: 0.2017 - val_acc: 0.9137\n",
            "Epoch 16/20\n",
            "25/25 [==============================] - 0s 8ms/step - loss: 0.2244 - acc: 0.8869 - val_loss: 0.2010 - val_acc: 0.9137\n",
            "Epoch 17/20\n",
            "25/25 [==============================] - 0s 8ms/step - loss: 0.2189 - acc: 0.8958 - val_loss: 0.2015 - val_acc: 0.9137\n",
            "Epoch 18/20\n",
            "25/25 [==============================] - 0s 8ms/step - loss: 0.2326 - acc: 0.8831 - val_loss: 0.2010 - val_acc: 0.9086\n",
            "Epoch 19/20\n",
            "25/25 [==============================] - 0s 8ms/step - loss: 0.2316 - acc: 0.8793 - val_loss: 0.2030 - val_acc: 0.9137\n",
            "Epoch 20/20\n",
            "25/25 [==============================] - 0s 8ms/step - loss: 0.2577 - acc: 0.8767 - val_loss: 0.2012 - val_acc: 0.9137\n"
          ],
          "name": "stdout"
        }
      ]
    },
    {
      "cell_type": "code",
      "metadata": {
        "id": "tKFueQ5ldGMu"
      },
      "source": [
        "def plot_learning(history, epoch):\n",
        "  epoch_range = range(1, epoch+1)\n",
        "  plt.plot(epoch_range, history.history['acc'])\n",
        "  plt.plot(epoch_range, history.history['val_acc'])\n",
        "  plt.title('Model Accuracy')\n",
        "  plt.ylabel('Accuracy')\n",
        "  plt.xlabel('Epoch')\n",
        "  plt.legend(['train', 'val'], loc='upper left')\n",
        "  plt.show()\n",
        "\n",
        "  plt.plot(epoch_range, history.history['loss'])\n",
        "  plt.plot(epoch_range, history.history['val_loss'])\n",
        "  plt.title('Model loss')\n",
        "  plt.ylabel('loss')\n",
        "  plt.xlabel('Epoch')\n",
        "  plt.legend(['train', 'val'], loc='upper left')\n",
        "  plt.show()"
      ],
      "execution_count": null,
      "outputs": []
    },
    {
      "cell_type": "code",
      "metadata": {
        "colab": {
          "base_uri": "https://localhost:8080/",
          "height": 573
        },
        "id": "Y3mwgjbqd-Q5",
        "outputId": "7778319e-aba2-45a3-d199-a29f4544400a"
      },
      "source": [
        "plot_learning(history,epochs)"
      ],
      "execution_count": null,
      "outputs": [
        {
          "output_type": "display_data",
          "data": {
            "image/png": "[encoded data removed]",
            "text/plain": [
              "<Figure size 432x288 with 1 Axes>"
            ]
          },
          "metadata": {
            "tags": [],
            "needs_background": "light"
          }
        },
        {
          "output_type": "display_data",
          "data": {
            "image/png": "[encoded data removed]",
            "text/plain": [
              "<Figure size 432x288 with 1 Axes>"
            ]
          },
          "metadata": {
            "tags": [],
            "needs_background": "light"
          }
        }
      ]
    },
    {
      "cell_type": "code",
      "metadata": {
        "id": "0s6SHRYgezkZ"
      },
      "source": [
        ""
      ],
      "execution_count": null,
      "outputs": []
    }
  ]
}