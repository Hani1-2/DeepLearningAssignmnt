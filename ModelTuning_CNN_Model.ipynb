{
  "cells": [
    {
      "cell_type": "markdown",
      "metadata": {
        "id": "view-in-github",
        "colab_type": "text"
      },
      "source": [
        "<a href=\"https://colab.research.google.com/github/Hani1-2/DeepLearningAssignmnt/blob/master/ModelTuning_CNN_Model.ipynb\" target=\"_parent\"><img src=\"https://colab.research.google.com/assets/colab-badge.svg\" alt=\"Open In Colab\"/></a>"
      ]
    },
    {
      "cell_type": "markdown",
      "metadata": {
        "id": "OamN8IBktMWV"
      },
      "source": [
        "## Load Data"
      ]
    },
    {
      "cell_type": "code",
      "execution_count": 2,
      "metadata": {
        "id": "1unMn2N0tQoC"
      },
      "outputs": [],
      "source": [
        "import json\n",
        "import numpy as np\n",
        "from sklearn.model_selection import train_test_split\n",
        "import matplotlib.pyplot as plt\n",
        "import tensorflow.keras as keras\n",
        "\n",
        "# path to json file that stores MFCCs and genre labels for each processed segment\n",
        "DATA_PATH = \"/content/drive/MyDrive/FYP/Modelling_folder/data_surah_1_spect_40.json\"\n",
        "\n",
        "def load_data(data_path):\n",
        "    \"\"\"Loads training dataset from json file.\n",
        "        :param data_path (str): Path to json file containing data\n",
        "        :return X (ndarray): Inputs\n",
        "        :return y (ndarray): Targets\n",
        "    \"\"\"\n",
        "\n",
        "    with open(data_path, \"r\") as fp:\n",
        "        data = json.load(fp)\n",
        "\n",
        "    # convert lists to numpy arrays\n",
        "    X = np.array(data[\"mfcc\"])\n",
        "    y = np.array(data[\"labels\"])\n",
        "\n",
        "    print(\"Data succesfully loaded!\")\n",
        "\n",
        "    return  X, y\n"
      ]
    },
    {
      "cell_type": "code",
      "source": [
        "from google.colab import drive\n",
        "drive.mount('/content/drive')"
      ],
      "metadata": {
        "colab": {
          "base_uri": "https://localhost:8080/"
        },
        "id": "Z_W5crZ_DKQe",
        "outputId": "519b4d71-b04e-4f5a-c5a6-a13a54fa7e19"
      },
      "execution_count": 1,
      "outputs": [
        {
          "output_type": "stream",
          "name": "stdout",
          "text": [
            "Mounted at /content/drive\n"
          ]
        }
      ]
    },
    {
      "cell_type": "markdown",
      "metadata": {
        "id": "VwHjSamytRI5"
      },
      "source": [
        "# Plot History"
      ]
    },
    {
      "cell_type": "code",
      "execution_count": 3,
      "metadata": {
        "id": "oKL4Uj0gtU9I"
      },
      "outputs": [],
      "source": [
        "def plot_history(history):\n",
        "    \"\"\"Plots accuracy/loss for training/validation set as a function of the epochs\n",
        "        :param history: Training history of model\n",
        "        :return:\n",
        "    \"\"\"\n",
        "\n",
        "    fig, axs = plt.subplots(2)\n",
        "\n",
        "    # create accuracy sublpot\n",
        "    axs[0].plot(history.history[\"accuracy\"], label=\"train accuracy\")\n",
        "    axs[0].plot(history.history[\"val_accuracy\"], label=\"test accuracy\")\n",
        "    axs[0].set_ylabel(\"Accuracy\")\n",
        "    axs[0].legend(loc=\"lower right\")\n",
        "    axs[0].set_title(\"Accuracy eval\")\n",
        "\n",
        "    # create error sublpot\n",
        "    axs[1].plot(history.history[\"loss\"], label=\"train error\")\n",
        "    axs[1].plot(history.history[\"val_loss\"], label=\"test error\")\n",
        "    axs[1].set_ylabel(\"Error\")\n",
        "    axs[1].set_xlabel(\"Epoch\")\n",
        "    axs[1].legend(loc=\"upper right\")\n",
        "    axs[1].set_title(\"Error eval\")\n",
        "\n",
        "    plt.show()"
      ]
    },
    {
      "cell_type": "markdown",
      "metadata": {
        "id": "tOyNPDr89Etk"
      },
      "source": [
        "# Prepare Dataset"
      ]
    },
    {
      "cell_type": "code",
      "execution_count": 4,
      "metadata": {
        "id": "I98RRteJ3kCt"
      },
      "outputs": [],
      "source": [
        "def prepare_datasets(test_size, validation_size):\n",
        "    \"\"\"Loads data and splits it into train, validation and test sets.\n",
        "    :param test_size (float): Value in [0, 1] indicating percentage of data set to allocate to test split\n",
        "    :param validation_size (float): Value in [0, 1] indicating percentage of train set to allocate to validation split\n",
        "    :return X_train (ndarray): Input training set\n",
        "    :return X_validation (ndarray): Input validation set\n",
        "    :return X_test (ndarray): Input test set\n",
        "    :return y_train (ndarray): Target training set\n",
        "    :return y_validation (ndarray): Target validation set\n",
        "    :return y_test (ndarray): Target test set\n",
        "    \"\"\"\n",
        "\n",
        "    # load data\n",
        "    X, y = load_data(DATA_PATH)\n",
        "\n",
        "    # create train, validation and test split\n",
        "    X_train, X_test, y_train, y_test = train_test_split(X, y, test_size=test_size)\n",
        "    X_train, X_validation, y_train, y_validation = train_test_split(X_train, y_train, test_size=validation_size)\n",
        "\n",
        "    # add an axis to input sets\n",
        "    X_train = X_train[..., np.newaxis]\n",
        "    X_validation = X_validation[..., np.newaxis]\n",
        "    X_test = X_test[..., np.newaxis]\n",
        "\n",
        "    return X_train, X_validation, X_test, y_train, y_validation, y_test\n"
      ]
    },
    {
      "cell_type": "markdown",
      "metadata": {
        "id": "9T6b2ia29OGX"
      },
      "source": [
        "# Build Model"
      ]
    },
    {
      "cell_type": "code",
      "execution_count": 12,
      "metadata": {
        "id": "D4mdf_k36O_V"
      },
      "outputs": [],
      "source": [
        "def build_model(input_shape):\n",
        "    \"\"\"Generates CNN model\n",
        "    :param input_shape (tuple): Shape of input set\n",
        "    :return model: CNN model\n",
        "    \"\"\"\n",
        "\n",
        "    # build network topology\n",
        "    model = keras.Sequential()\n",
        "\n",
        "    # 1st conv layer\n",
        "    model.add(keras.layers.Conv2D(32, (2, 2), activation='relu', input_shape=input_shape))\n",
        "    model.add(keras.layers.MaxPooling2D((2, 2), strides=(2, 2), padding='same'))\n",
        "    model.add(keras.layers.Dropout(0.2))\n",
        "    # model.add(keras.layers.BatchNormalization())\n",
        "\n",
        "    # 2nd conv layer\n",
        "    model.add(keras.layers.Conv2D(64, (2, 2), activation='relu'))\n",
        "    model.add(keras.layers.MaxPooling2D((2, 2), strides=(2, 2), padding='same'))\n",
        "    model.add(keras.layers.Dropout(0.2))\n",
        "    # model.add(keras.layers.BatchNormalization())\n",
        "\n",
        "    # # 3rd conv layer\n",
        "    model.add(keras.layers.Conv2D(128, (2, 2), activation='relu'))\n",
        "    model.add(keras.layers.MaxPooling2D((2, 2), strides=(2, 2), padding='same'))\n",
        "    model.add(keras.layers.BatchNormalization())\n",
        "\n",
        "    # flatten output and feed it into dense layer\n",
        "    model.add(keras.layers.Flatten())\n",
        "    model.add(keras.layers.Dense(256, activation='relu'))\n",
        "    model.add(keras.layers.Dropout(0.2))\n",
        "\n",
        "    # output layer\n",
        "    model.add(keras.layers.Dense(28, activation='softmax'))\n",
        "\n",
        "    return model"
      ]
    },
    {
      "cell_type": "code",
      "execution_count": 13,
      "metadata": {
        "id": "XvcSJBv59S7z"
      },
      "outputs": [],
      "source": [
        "def predict(model, X, y):\n",
        "    \"\"\"Predict a single sample using the trained model\n",
        "    :param model: Trained classifier\n",
        "    :param X: Input data\n",
        "    :param y (int): Target\n",
        "    \"\"\"\n",
        "\n",
        "    # add a dimension to input data for sample - model.predict() expects a 4d array in this case\n",
        "    X = X[np.newaxis, ...] # array shape (1, 130, 13, 1)\n",
        "\n",
        "    # perform prediction\n",
        "    prediction = model.predict(X)\n",
        "\n",
        "    # get index with max value\n",
        "    predicted_index = np.argmax(prediction, axis=1)\n",
        "\n",
        "    print(\"Target: {}, Predicted label: {}\".format(y, predicted_index))\n"
      ]
    },
    {
      "cell_type": "code",
      "source": [
        "# get train, validation, test splits\n",
        "X_train, X_validation, X_test, y_train, y_validation, y_test = prepare_datasets(0.25, 0.2)\n",
        "# create network\n",
        "input_shape = (X_train.shape[1], X_train.shape[2], 1)"
      ],
      "metadata": {
        "colab": {
          "base_uri": "https://localhost:8080/"
        },
        "id": "E-09yC_Uc0VO",
        "outputId": "a39fa07a-bf52-4c09-96f2-90cd61562304"
      },
      "execution_count": 14,
      "outputs": [
        {
          "output_type": "stream",
          "name": "stdout",
          "text": [
            "Data succesfully loaded!\n"
          ]
        }
      ]
    },
    {
      "cell_type": "code",
      "source": [
        "X_train.shape"
      ],
      "metadata": {
        "colab": {
          "base_uri": "https://localhost:8080/"
        },
        "id": "plsCBJJUWrUh",
        "outputId": "b2ef573d-970d-455d-bd83-fd8ab51bd66e"
      },
      "execution_count": 15,
      "outputs": [
        {
          "output_type": "execute_result",
          "data": {
            "text/plain": [
              "(67248, 9, 40, 1)"
            ]
          },
          "metadata": {},
          "execution_count": 15
        }
      ]
    },
    {
      "cell_type": "code",
      "execution_count": 16,
      "metadata": {
        "colab": {
          "base_uri": "https://localhost:8080/",
          "height": 1000
        },
        "id": "SFPlVTH-9Vce",
        "outputId": "efeb7878-ba70-4712-ed92-798ae2bd9239"
      },
      "outputs": [
        {
          "output_type": "stream",
          "name": "stdout",
          "text": [
            "(9, 40, 1)\n",
            "Model: \"sequential_1\"\n",
            "_________________________________________________________________\n",
            " Layer (type)                Output Shape              Param #   \n",
            "=================================================================\n",
            " conv2d_3 (Conv2D)           (None, 8, 39, 32)         160       \n",
            "                                                                 \n",
            " max_pooling2d_2 (MaxPooling  (None, 4, 20, 32)        0         \n",
            " 2D)                                                             \n",
            "                                                                 \n",
            " dropout_2 (Dropout)         (None, 4, 20, 32)         0         \n",
            "                                                                 \n",
            " conv2d_4 (Conv2D)           (None, 3, 19, 64)         8256      \n",
            "                                                                 \n",
            " max_pooling2d_3 (MaxPooling  (None, 2, 10, 64)        0         \n",
            " 2D)                                                             \n",
            "                                                                 \n",
            " dropout_3 (Dropout)         (None, 2, 10, 64)         0         \n",
            "                                                                 \n",
            " conv2d_5 (Conv2D)           (None, 1, 9, 128)         32896     \n",
            "                                                                 \n",
            " max_pooling2d_4 (MaxPooling  (None, 1, 5, 128)        0         \n",
            " 2D)                                                             \n",
            "                                                                 \n",
            " batch_normalization (BatchN  (None, 1, 5, 128)        512       \n",
            " ormalization)                                                   \n",
            "                                                                 \n",
            " flatten (Flatten)           (None, 640)               0         \n",
            "                                                                 \n",
            " dense (Dense)               (None, 256)               164096    \n",
            "                                                                 \n",
            " dropout_4 (Dropout)         (None, 256)               0         \n",
            "                                                                 \n",
            " dense_1 (Dense)             (None, 28)                7196      \n",
            "                                                                 \n",
            "=================================================================\n",
            "Total params: 213,116\n",
            "Trainable params: 212,860\n",
            "Non-trainable params: 256\n",
            "_________________________________________________________________\n",
            "Epoch 1/40\n",
            "2102/2102 [==============================] - 25s 6ms/step - loss: 2.4735 - accuracy: 0.2434 - val_loss: 1.5574 - val_accuracy: 0.4990\n",
            "Epoch 2/40\n",
            "2102/2102 [==============================] - 13s 6ms/step - loss: 1.4087 - accuracy: 0.5460 - val_loss: 0.6969 - val_accuracy: 0.7999\n",
            "Epoch 3/40\n",
            "2102/2102 [==============================] - 13s 6ms/step - loss: 0.8988 - accuracy: 0.7072 - val_loss: 0.4093 - val_accuracy: 0.8825\n",
            "Epoch 4/40\n",
            "2102/2102 [==============================] - 12s 6ms/step - loss: 0.6619 - accuracy: 0.7825 - val_loss: 0.2758 - val_accuracy: 0.9225\n",
            "Epoch 5/40\n",
            "2102/2102 [==============================] - 12s 6ms/step - loss: 0.5500 - accuracy: 0.8205 - val_loss: 0.2217 - val_accuracy: 0.9378\n",
            "Epoch 6/40\n",
            "2102/2102 [==============================] - 13s 6ms/step - loss: 0.4765 - accuracy: 0.8458 - val_loss: 0.1845 - val_accuracy: 0.9483\n",
            "Epoch 7/40\n",
            "2102/2102 [==============================] - 13s 6ms/step - loss: 0.4275 - accuracy: 0.8602 - val_loss: 0.1541 - val_accuracy: 0.9544\n",
            "Epoch 8/40\n",
            "2102/2102 [==============================] - 13s 6ms/step - loss: 0.3838 - accuracy: 0.8747 - val_loss: 0.1622 - val_accuracy: 0.9525\n",
            "Epoch 9/40\n",
            "2102/2102 [==============================] - 13s 6ms/step - loss: 0.3595 - accuracy: 0.8825 - val_loss: 0.1345 - val_accuracy: 0.9589\n",
            "Epoch 10/40\n",
            "2102/2102 [==============================] - 13s 6ms/step - loss: 0.3400 - accuracy: 0.8891 - val_loss: 0.1232 - val_accuracy: 0.9642\n",
            "Epoch 11/40\n",
            "2102/2102 [==============================] - 13s 6ms/step - loss: 0.3198 - accuracy: 0.8962 - val_loss: 0.1087 - val_accuracy: 0.9691\n",
            "Epoch 12/40\n",
            "2102/2102 [==============================] - 13s 6ms/step - loss: 0.3039 - accuracy: 0.9000 - val_loss: 0.1015 - val_accuracy: 0.9710\n",
            "Epoch 13/40\n",
            "2102/2102 [==============================] - 13s 6ms/step - loss: 0.2880 - accuracy: 0.9061 - val_loss: 0.0988 - val_accuracy: 0.9702\n",
            "Epoch 14/40\n",
            "2102/2102 [==============================] - 12s 6ms/step - loss: 0.2740 - accuracy: 0.9109 - val_loss: 0.0905 - val_accuracy: 0.9724\n",
            "Epoch 15/40\n",
            "2102/2102 [==============================] - 13s 6ms/step - loss: 0.2657 - accuracy: 0.9133 - val_loss: 0.0928 - val_accuracy: 0.9723\n",
            "Epoch 16/40\n",
            "2102/2102 [==============================] - 12s 6ms/step - loss: 0.2561 - accuracy: 0.9160 - val_loss: 0.0868 - val_accuracy: 0.9726\n",
            "Epoch 17/40\n",
            "2102/2102 [==============================] - 12s 6ms/step - loss: 0.2466 - accuracy: 0.9198 - val_loss: 0.0815 - val_accuracy: 0.9747\n",
            "Epoch 18/40\n",
            "2102/2102 [==============================] - 13s 6ms/step - loss: 0.2372 - accuracy: 0.9228 - val_loss: 0.0768 - val_accuracy: 0.9766\n",
            "Epoch 19/40\n",
            "2102/2102 [==============================] - 13s 6ms/step - loss: 0.2321 - accuracy: 0.9243 - val_loss: 0.0786 - val_accuracy: 0.9775\n",
            "Epoch 20/40\n",
            "2102/2102 [==============================] - 13s 6ms/step - loss: 0.2206 - accuracy: 0.9283 - val_loss: 0.0830 - val_accuracy: 0.9766\n",
            "Epoch 21/40\n",
            "2102/2102 [==============================] - 13s 6ms/step - loss: 0.2221 - accuracy: 0.9274 - val_loss: 0.0778 - val_accuracy: 0.9773\n",
            "Epoch 22/40\n",
            "2102/2102 [==============================] - 13s 6ms/step - loss: 0.2161 - accuracy: 0.9288 - val_loss: 0.0693 - val_accuracy: 0.9795\n",
            "Epoch 23/40\n",
            "2102/2102 [==============================] - 13s 6ms/step - loss: 0.2061 - accuracy: 0.9339 - val_loss: 0.0676 - val_accuracy: 0.9803\n",
            "Epoch 24/40\n",
            "2102/2102 [==============================] - 13s 6ms/step - loss: 0.2019 - accuracy: 0.9342 - val_loss: 0.0647 - val_accuracy: 0.9804\n",
            "Epoch 25/40\n",
            "2102/2102 [==============================] - 14s 6ms/step - loss: 0.1967 - accuracy: 0.9358 - val_loss: 0.0608 - val_accuracy: 0.9820\n",
            "Epoch 26/40\n",
            "2102/2102 [==============================] - 13s 6ms/step - loss: 0.1937 - accuracy: 0.9367 - val_loss: 0.0645 - val_accuracy: 0.9800\n",
            "Epoch 27/40\n",
            "2102/2102 [==============================] - 12s 6ms/step - loss: 0.1911 - accuracy: 0.9379 - val_loss: 0.0618 - val_accuracy: 0.9826\n",
            "Epoch 28/40\n",
            "2102/2102 [==============================] - 12s 6ms/step - loss: 0.1875 - accuracy: 0.9398 - val_loss: 0.0569 - val_accuracy: 0.9838\n",
            "Epoch 29/40\n",
            "2102/2102 [==============================] - 13s 6ms/step - loss: 0.1772 - accuracy: 0.9408 - val_loss: 0.0633 - val_accuracy: 0.9804\n",
            "Epoch 30/40\n",
            "2102/2102 [==============================] - 13s 6ms/step - loss: 0.1791 - accuracy: 0.9418 - val_loss: 0.0613 - val_accuracy: 0.9818\n",
            "Epoch 31/40\n",
            "2102/2102 [==============================] - 13s 6ms/step - loss: 0.1795 - accuracy: 0.9413 - val_loss: 0.0591 - val_accuracy: 0.9825\n",
            "Epoch 32/40\n",
            "2102/2102 [==============================] - 13s 6ms/step - loss: 0.1685 - accuracy: 0.9452 - val_loss: 0.0599 - val_accuracy: 0.9823\n",
            "Epoch 33/40\n",
            "2102/2102 [==============================] - 13s 6ms/step - loss: 0.1710 - accuracy: 0.9445 - val_loss: 0.0536 - val_accuracy: 0.9842\n",
            "Epoch 34/40\n",
            "2102/2102 [==============================] - 13s 6ms/step - loss: 0.1678 - accuracy: 0.9463 - val_loss: 0.0538 - val_accuracy: 0.9849\n",
            "Epoch 35/40\n",
            "2102/2102 [==============================] - 13s 6ms/step - loss: 0.1606 - accuracy: 0.9479 - val_loss: 0.0540 - val_accuracy: 0.9831\n",
            "Epoch 36/40\n",
            "2102/2102 [==============================] - 14s 6ms/step - loss: 0.1551 - accuracy: 0.9488 - val_loss: 0.0548 - val_accuracy: 0.9833\n",
            "Epoch 37/40\n",
            "2102/2102 [==============================] - 13s 6ms/step - loss: 0.1622 - accuracy: 0.9464 - val_loss: 0.0542 - val_accuracy: 0.9850\n",
            "Epoch 38/40\n",
            "2102/2102 [==============================] - 12s 6ms/step - loss: 0.1525 - accuracy: 0.9501 - val_loss: 0.0543 - val_accuracy: 0.9828\n",
            "Epoch 39/40\n",
            "2102/2102 [==============================] - 14s 6ms/step - loss: 0.1519 - accuracy: 0.9498 - val_loss: 0.0557 - val_accuracy: 0.9838\n",
            "Epoch 40/40\n",
            "2102/2102 [==============================] - 14s 6ms/step - loss: 0.1539 - accuracy: 0.9497 - val_loss: 0.0537 - val_accuracy: 0.9845\n"
          ]
        },
        {
          "output_type": "display_data",
          "data": {
            "text/plain": [
              "<Figure size 640x480 with 2 Axes>"
            ],
            "image/png": "[encoded data removed]"
          },
          "metadata": {}
        },
        {
          "output_type": "stream",
          "name": "stdout",
          "text": [
            "876/876 - 2s - loss: 0.0572 - accuracy: 0.9834 - 2s/epoch - 2ms/step\n",
            "\n",
            "Test accuracy: 0.9834052920341492\n",
            "1/1 [==============================] - 0s 181ms/step\n",
            "Target: 19, Predicted label: [19]\n"
          ]
        }
      ],
      "source": [
        "if __name__ == \"__main__\":\n",
        "\n",
        "    \n",
        "    print(input_shape)\n",
        "    model = build_model(input_shape)\n",
        "\n",
        "    # compile model\n",
        "    optimiser = keras.optimizers.Adam(learning_rate=0.001)\n",
        "    model.compile(optimizer=optimiser,\n",
        "                  loss='sparse_categorical_crossentropy',\n",
        "                  metrics=['accuracy'])\n",
        "\n",
        "    model.summary()\n",
        "\n",
        "    # train model\n",
        "    history = model.fit(X_train, y_train, validation_data=(X_validation, y_validation), batch_size=32, epochs=40)\n",
        "\n",
        "    # plot accuracy/error for training and validation\n",
        "    plot_history(history)\n",
        "\n",
        "    # evaluate model on test set\n",
        "    test_loss, test_acc = model.evaluate(X_test, y_test, verbose=2)\n",
        "    print('\\nTest accuracy:', test_acc)\n",
        "\n",
        "    # pick a sample to predict from the test set\n",
        "    X_to_predict = X_test[100]\n",
        "    y_to_predict = y_test[100]\n",
        "\n",
        "    # predict sample\n",
        "    predict(model, X_to_predict, y_to_predict)\n"
      ]
    },
    {
      "cell_type": "code",
      "execution_count": null,
      "metadata": {
        "id": "BTD9uMSvNR9a"
      },
      "outputs": [],
      "source": [
        "SAVED_MODEL_PATH = \"model_spect_cnn.h5\"\n",
        "model.save(SAVED_MODEL_PATH)\n"
      ]
    },
    {
      "cell_type": "code",
      "execution_count": null,
      "metadata": {
        "id": "OV5zC4cn9apU"
      },
      "outputs": [],
      "source": [
        "import pandas as pd"
      ]
    },
    {
      "cell_type": "code",
      "execution_count": null,
      "metadata": {
        "id": "FfMiG8AIm7Zp"
      },
      "outputs": [],
      "source": [
        "_mapping = {\n",
        "    1:\"Bis'mi\",\n",
        "    2:\"Al-lahi\",\n",
        "    3:\"Al-rahmaani\",\n",
        "    4:\"Al-raheemi\",\n",
        "    5:\"Alhamdu\",\n",
        "    6:\"lillaahi\",\n",
        "    7:\"Rabbil\",\n",
        "    8:\"aalameen\",\n",
        "    9:\"Ar-Rahmaan\",\n",
        "    10:\"Ar-Raheem\",\n",
        "    11:\"Maaliki\",\n",
        "    12:\"Yumid\",\n",
        "    13:\"Diin\",\n",
        "    14:\"Iyyaka\",\n",
        "    15:\"Na'abudu\",\n",
        "    16:\"Iyyaka\",\n",
        "    17:\"Nasta'een\",\n",
        "    18:\"Ihdinas\",\n",
        "    19:\"Siraatal\",\n",
        "    20:\"Mustaqeem\",\n",
        "    21:\"Siraatal\",\n",
        "    22:\"Ladheena\",\n",
        "    23:\"An'amta\",\n",
        "    24:\"Alaihim\",\n",
        "    25:\"Ghayril\",\n",
        "    26:\"Maghdubi\",\n",
        "    27:\"Alaihim\",\n",
        "    28:\"Wala al-dalina\"}"
      ]
    },
    {
      "cell_type": "code",
      "execution_count": null,
      "metadata": {
        "id": "Be0D-fewPUFg"
      },
      "outputs": [],
      "source": [
        "SAMPLE_RATE = 22050\n",
        "TRACK_DURATION = 2 # measured in seconds\n",
        "SAMPLES_PER_TRACK = SAMPLE_RATE * TRACK_DURATION\n",
        "file = '/content/003.wav'\n",
        "\n",
        "def save_mfcc(file_path,num_mfcc=13, n_fft=2048, hop_length=512, num_segments=10):\n",
        "    mfcc_lst = []\n",
        "    # we divide the track into 5 segments\n",
        "    # to calculate sample per segment - we need to know the number of samples per track (which is the sample rate * the track duration )\n",
        "    samples_per_segment = int(SAMPLES_PER_TRACK / num_segments)\n",
        "    num_mfcc_vectors_per_segment = math.ceil(samples_per_segment / hop_length)\n",
        "\n",
        "    signal, sample_rate = librosa.load(file_path, sr=SAMPLE_RATE)\n",
        "\n",
        "    # process all segments of audio file\n",
        "    for d in range(num_segments):\n",
        "\n",
        "        # calculate start and finish sample for current segment\n",
        "        start = samples_per_segment * d\n",
        "        finish = start + samples_per_segment\n",
        "\n",
        "        spec = librosa.stft(signal[start:finish], n_fft=2048, hop_length=512)\n",
        "        spec_power = librosa.power_to_db(np.abs(spec)**2, ref=np.max)\n",
        "\n",
        "        # extract mfcc - for each segment of signal\n",
        "        mfcc = librosa.feature.mfcc(S=spec_power, n_mfcc=13)\n",
        "        mfcc = mfcc.T\n",
        "        # store only mfcc feature with expected number of vectors\n",
        "        if len(mfcc) == num_mfcc_vectors_per_segment:\n",
        "            mfcc_lst.append(mfcc.tolist())\n",
        "    return mfcc_lst"
      ]
    },
    {
      "cell_type": "code",
      "source": [
        "mfc = save_mfcc('006.wav')\n",
        "x= mfc[0]\n",
        "y= mfc[1]\n",
        "print(len(mfc))\n",
        "# for i in mfc:\n",
        "  # print(f'Length of one segment extraction {len(i)}')\n",
        "\n",
        "print(len(mfc[0]))\n",
        "print(len(mfc[1][0]))\n"
      ],
      "metadata": {
        "colab": {
          "base_uri": "https://localhost:8080/"
        },
        "id": "72K2E1kLec7W",
        "outputId": "91e7c98a-5061-4445-d4d0-a4a6e6195609"
      },
      "execution_count": null,
      "outputs": [
        {
          "output_type": "stream",
          "name": "stdout",
          "text": [
            "4\n",
            "9\n",
            "13\n"
          ]
        },
        {
          "output_type": "stream",
          "name": "stderr",
          "text": [
            "/usr/local/lib/python3.9/dist-packages/librosa/util/decorators.py:88: UserWarning: n_fft=2048 is too small for input signal of length=1472\n",
            "  return f(*args, **kwargs)\n",
            "/usr/local/lib/python3.9/dist-packages/librosa/util/decorators.py:88: UserWarning: n_fft=2048 is too small for input signal of length=0\n",
            "  return f(*args, **kwargs)\n"
          ]
        }
      ]
    },
    {
      "cell_type": "code",
      "source": [
        "x"
      ],
      "metadata": {
        "colab": {
          "base_uri": "https://localhost:8080/"
        },
        "id": "ab5jAriwiW1S",
        "outputId": "cac416de-1951-4afb-bf81-2be91357fc0e"
      },
      "execution_count": null,
      "outputs": [
        {
          "output_type": "execute_result",
          "data": {
            "text/plain": [
              "[[-2507.055908203125,\n",
              "  58.8436279296875,\n",
              "  42.574241638183594,\n",
              "  48.666358947753906,\n",
              "  42.18589782714844,\n",
              "  29.383399963378906,\n",
              "  31.5981388092041,\n",
              "  27.510051727294922,\n",
              "  17.401960372924805,\n",
              "  19.589622497558594,\n",
              "  16.579408645629883,\n",
              "  6.356538772583008,\n",
              "  9.928887367248535],\n",
              " [-2079.439453125,\n",
              "  384.4190979003906,\n",
              "  121.68710327148438,\n",
              "  199.00088500976562,\n",
              "  60.03031539916992,\n",
              "  -73.20272064208984,\n",
              "  67.14350891113281,\n",
              "  21.89228057861328,\n",
              "  -98.42532348632812,\n",
              "  31.946025848388672,\n",
              "  59.482242584228516,\n",
              "  -63.5679931640625,\n",
              "  -20.09283447265625],\n",
              " [-1867.736328125,\n",
              "  499.57501220703125,\n",
              "  53.550933837890625,\n",
              "  190.71197509765625,\n",
              "  74.42894744873047,\n",
              "  -81.75123596191406,\n",
              "  69.40164184570312,\n",
              "  -17.26337242126465,\n",
              "  -125.25604248046875,\n",
              "  75.84422302246094,\n",
              "  66.09994506835938,\n",
              "  -101.05113220214844,\n",
              "  -20.38248634338379],\n",
              " [-1811.3792724609375,\n",
              "  516.7086791992188,\n",
              "  5.573942184448242,\n",
              "  166.554931640625,\n",
              "  70.55339813232422,\n",
              "  -90.77044677734375,\n",
              "  66.41963195800781,\n",
              "  -21.082809448242188,\n",
              "  -127.74097442626953,\n",
              "  80.56095886230469,\n",
              "  55.699554443359375,\n",
              "  -122.05916595458984,\n",
              "  -25.589927673339844],\n",
              " [-1832.567626953125,\n",
              "  491.1020812988281,\n",
              "  -12.693096160888672,\n",
              "  161.07369995117188,\n",
              "  77.86074829101562,\n",
              "  -80.96417236328125,\n",
              "  90.51803588867188,\n",
              "  12.584928512573242,\n",
              "  -123.37271118164062,\n",
              "  69.72695922851562,\n",
              "  65.01394653320312,\n",
              "  -119.4219741821289,\n",
              "  -41.45520782470703],\n",
              " [-1950.853515625,\n",
              "  429.62078857421875,\n",
              "  24.125545501708984,\n",
              "  157.97296142578125,\n",
              "  67.57699584960938,\n",
              "  -72.69303894042969,\n",
              "  108.39774322509766,\n",
              "  75.68197631835938,\n",
              "  -79.8551254272461,\n",
              "  49.23120880126953,\n",
              "  70.5772705078125,\n",
              "  -89.50054931640625,\n",
              "  -45.585723876953125],\n",
              " [-2071.84814453125,\n",
              "  359.9066467285156,\n",
              "  43.39055252075195,\n",
              "  128.3402557373047,\n",
              "  41.87226867675781,\n",
              "  -64.4056396484375,\n",
              "  91.94569396972656,\n",
              "  84.06343078613281,\n",
              "  -37.826210021972656,\n",
              "  37.24862289428711,\n",
              "  49.74863815307617,\n",
              "  -40.42996597290039,\n",
              "  3.389554500579834],\n",
              " [-2068.259765625,\n",
              "  322.2603454589844,\n",
              "  43.51054382324219,\n",
              "  121.00279235839844,\n",
              "  25.85590362548828,\n",
              "  -52.94184112548828,\n",
              "  101.6606216430664,\n",
              "  78.39775085449219,\n",
              "  -43.26737976074219,\n",
              "  30.7987117767334,\n",
              "  53.21994400024414,\n",
              "  -22.455764770507812,\n",
              "  7.5745625495910645],\n",
              " [-1692.2034912109375,\n",
              "  215.72146606445312,\n",
              "  107.20035552978516,\n",
              "  83.54472351074219,\n",
              "  47.78977966308594,\n",
              "  33.323486328125,\n",
              "  49.141944885253906,\n",
              "  36.60014343261719,\n",
              "  22.721675872802734,\n",
              "  32.11030197143555,\n",
              "  18.50925064086914,\n",
              "  3.273447036743164,\n",
              "  15.62856674194336]]"
            ]
          },
          "metadata": {},
          "execution_count": 18
        }
      ]
    },
    {
      "cell_type": "code",
      "execution_count": null,
      "metadata": {
        "colab": {
          "base_uri": "https://localhost:8080/"
        },
        "id": "q9U0v9aqn0HH",
        "outputId": "1446b145-93a1-42cf-9ace-54e6debdecbf"
      },
      "outputs": [
        {
          "output_type": "stream",
          "name": "stderr",
          "text": [
            "/usr/local/lib/python3.9/dist-packages/librosa/util/decorators.py:88: UserWarning: n_fft=2048 is too small for input signal of length=0\n",
            "  return f(*args, **kwargs)\n",
            "WARNING:tensorflow:6 out of the last 6 calls to <function Model.make_predict_function.<locals>.predict_function at 0x7f76d33623a0> triggered tf.function retracing. Tracing is expensive and the excessive number of tracings could be due to (1) creating @tf.function repeatedly in a loop, (2) passing tensors with different shapes, (3) passing Python objects instead of tensors. For (1), please define your @tf.function outside of the loop. For (2), @tf.function has reduce_retracing=True option that can avoid unnecessary retracing. For (3), please refer to https://www.tensorflow.org/guide/function#controlling_retracing and https://www.tensorflow.org/api_docs/python/tf/function for  more details.\n"
          ]
        },
        {
          "output_type": "stream",
          "name": "stdout",
          "text": [
            "1/1 [==============================] - 0s 101ms/step\n",
            "Alhamdu\n"
          ]
        }
      ],
      "source": [
        "\n",
        "import librosa\n",
        "import tensorflow as tf\n",
        "import numpy as np\n",
        "import math\n",
        "SAVED_MODEL_PATH = \"model_spect_cnn.h5\"\n",
        "SAMPLE_RATE = 22050\n",
        "TRACK_DURATION = 2 # measured in seconds\n",
        "SAMPLES_PER_TRACK = SAMPLE_RATE * TRACK_DURATION\n",
        "\n",
        "class _Keyword_Spotting_Service:\n",
        "    \"\"\"Singleton class for keyword spotting inference with trained models.\n",
        "\n",
        "    :param model: Trained model\n",
        "    \"\"\"\n",
        "    \n",
        "    model = None\n",
        "    _mapping = [\n",
        "    \"Bis'mi\",\n",
        "    \"Al-lahi\",\n",
        "    \"Al-rahmaani\",\n",
        "    \"Al-raheemi\",\n",
        "    \"Alhamdu\",\n",
        "    \"lillaahi\",\n",
        "    \"Rabbil\",\n",
        "    \"aalameen\",\n",
        "    \"Ar-Rahmaan\",\n",
        "    \"Ar-Raheem\",\n",
        "    \"Maaliki\",\n",
        "    \"Yumid\",\n",
        "    \"Diin\",\n",
        "    \"Iyyaka\",\n",
        "    \"Na'abudu\",\n",
        "    \"Iyyaka\",\n",
        "    \"Nasta'een\",\n",
        "    \"Ihdinas\",\n",
        "    \"Siraatal\",\n",
        "    \"Mustaqeem\",\n",
        "    \"Siraatal\",\n",
        "    \"Ladheena\",\n",
        "    \"An'amta\",\n",
        "    \"Alaihim\",\n",
        "    \"Ghayril\",\n",
        "    \"Maghdubi\",\n",
        "    \"Alaihim\",\n",
        "    \"Wala al-dalina\"\n",
        "    ]\n",
        "    _instance = None\n",
        "\n",
        "\n",
        "    def predict(self, file_path):\n",
        "        \"\"\"\n",
        "\n",
        "        :param file_path (str): Path to audio file to predict\n",
        "        :return predicted_keyword (str): Keyword predicted by the model\n",
        "        \"\"\"\n",
        "\n",
        "        # extract MFCC\n",
        "        # MFCCs = np.array([[-208.88369750976562, 173.29107666015625, -13.837435722351074, 14.191682815551758, -63.53321838378906, 9.908905029296875, -34.52302932739258, -7.0630083084106445, -11.072137832641602, 7.897786617279053, 12.635082244873047, -1.260940670967102, -14.440847396850586], [-175.98480224609375, 167.88204956054688, -30.289634704589844, 16.558849334716797, -79.59504699707031, 20.788333892822266, -40.25474548339844, -13.491707801818848, -13.442451477050781, 3.592095375061035, 10.45197868347168, -4.956630706787109, -13.133575439453125], [-177.2965545654297, 140.26446533203125, -42.05194091796875, 15.591264724731445, -79.16682434082031, 35.215572357177734, -48.15814971923828, -7.50286865234375, -7.240591049194336, 2.553539276123047, 9.138029098510742, -3.4423742294311523, -6.37964391708374], [-185.95509338378906, 124.90979766845703, -38.33936309814453, 22.440292358398438, -72.64540100097656, 47.9068717956543, -48.2619514465332, 1.8480926752090454, -3.999704360961914, -0.6501009464263916, 5.425509929656982, -6.084258079528809, -1.652677059173584], [-208.18551635742188, 112.87013244628906, -27.377513885498047, 31.67277717590332, -69.78677368164062, 45.79389953613281, -52.503211975097656, 0.9649603962898254, -7.219353199005127, -0.7659001350402832, 2.2723073959350586, -12.100591659545898, 0.217118501663208], [-190.88275146484375, 135.42083740234375, -31.51664924621582, 30.064231872558594, -69.34258270263672, 30.436262130737305, -56.083526611328125, -15.316060066223145, -16.722349166870117, 1.2809876203536987, -9.884056091308594, -20.502822875976562, -3.5870373249053955], [-207.81170654296875, 148.36880493164062, -37.037811279296875, 37.063602447509766, -56.117095947265625, 16.19550132751465, -35.421043395996094, -21.73065948486328, -18.389490127563477, 2.5057411193847656, -17.75062370300293, -18.73059844970703, -5.083065509796143], [-245.4512939453125, 137.54977416992188, -36.500579833984375, 54.88190841674805, -53.14923095703125, 13.605981826782227, -8.012560844421387, -28.28583526611328, -8.899959564208984, -3.0852625370025635, -13.78553581237793, -14.101425170898438, -10.775411605834961], [-236.1332244873047, 140.26885986328125, -4.87683629989624, 55.43954086303711, -48.025421142578125, 16.675363540649414, 1.0351996421813965, -34.397491455078125, -10.365550994873047, -0.5815303325653076, -10.888479232788086, -3.4156363010406494, -5.683342933654785]])\n",
        "        # MFCCs = np.array(save_mfcc(file_path))\n",
        "        mfc = save_mfcc(file_path)\n",
        "        x= mfc[0]\n",
        "        y= mfc[1]\n",
        "        MFCCs = np.array(y)\n",
        "        # we need a 4-dim array to feed to the model for prediction: (# samples, # time steps, # coefficients, 1)\n",
        "        MFCCs = MFCCs[np.newaxis, ..., np.newaxis]\n",
        "\n",
        "        # get the predicted label\n",
        "        predictions = self.model.predict(MFCCs) # a 2d array [[]]\n",
        "        predicted_index = np.argmax(predictions)\n",
        "        # index return the index which has highest score\n",
        "        predicted_keyword = self._mapping[predicted_index]\n",
        "        # print('prediction',predicted_index,predicted_keyword)\n",
        "        return predicted_keyword\n",
        "\n",
        "\n",
        "    def preprocess(self, file_path, num_mfcc=13, n_fft=2048, hop_length=512,num_segments=5):\n",
        "        mfcc_lst = []\n",
        "        # load audio file and slice it to ensure length consistency among different files\n",
        "        audio, sample_rate = librosa.load(file_path, res_type='kaiser_fast') \n",
        "\n",
        "        # Compute spectrogram\n",
        "        spec = librosa.stft(audio, n_fft=n_fft, hop_length=hop_length)\n",
        "\n",
        "        # Convert to power spectrogram\n",
        "        spec_power = librosa.power_to_db(np.abs(spec)**2, ref=np.max)\n",
        "\n",
        "        mfccs_features = librosa.feature.mfcc(S=spec_power, n_mfcc=13)\n",
        "        mfccs_scaled_features = np.mean(mfccs_features.T,axis=0)\n",
        "        mffccs = mfccs_scaled_features.tolist()\n",
        "        mfcc_lst.append(mffccs)\n",
        "        return mfcc_lst\n",
        "\n",
        "\n",
        "def Keyword_Spotting_Service():\n",
        "    \"\"\"Factory function for Keyword_Spotting_Service class.\n",
        "\n",
        "    :return _Keyword_Spotting_Service._instance (_Keyword_Spotting_Service):\n",
        "    \"\"\"\n",
        "\n",
        "    # ensure an instance is created only the first time the factory function is called\n",
        "    if _Keyword_Spotting_Service._instance is None:\n",
        "        _Keyword_Spotting_Service._instance = _Keyword_Spotting_Service()\n",
        "        _Keyword_Spotting_Service.model = tf.keras.models.load_model(SAVED_MODEL_PATH)\n",
        "    return _Keyword_Spotting_Service._instance\n",
        "\n",
        "\n",
        "if __name__ == \"__main__\":\n",
        "\n",
        "    # create 2 instances of the keyword spotting service\n",
        "    kss = Keyword_Spotting_Service()\n",
        "    kss1 = Keyword_Spotting_Service()\n",
        "\n",
        "    # check that different instances of the keyword spotting service point back to the same object (singleton)\n",
        "    assert kss is kss1\n",
        "\n",
        "    # make a prediction\n",
        "    keyword = kss.predict(\"380.wav\")\n",
        "    print(keyword)"
      ]
    },
    {
      "cell_type": "code",
      "execution_count": null,
      "metadata": {
        "colab": {
          "base_uri": "https://localhost:8080/"
        },
        "id": "-B19MgJooI3F",
        "outputId": "6a8752d7-07bc-4c7a-f1ea-a9b2a06d19fd"
      },
      "outputs": [
        {
          "name": "stdout",
          "output_type": "stream",
          "text": [
            "13\n"
          ]
        }
      ],
      "source": [
        "import json\n",
        "with open(\"/content/drive/MyDrive/FYP-Code/data_surah_1_spect.json\") as fp:\n",
        "    data = json.load(fp)\n",
        "    print(len(data['mfcc'][0][0]))"
      ]
    },
    {
      "cell_type": "code",
      "execution_count": null,
      "metadata": {
        "colab": {
          "base_uri": "https://localhost:8080/"
        },
        "id": "WHjVoJ_k_27r",
        "outputId": "42c82ef3-8794-4731-aca4-0f8255760227"
      },
      "outputs": [
        {
          "name": "stdout",
          "output_type": "stream",
          "text": [
            "[[-1617.0831298828125, 356.81500244140625, 42.20360565185547, 127.14744567871094, 31.06903839111328, 37.66044616699219, 7.930259704589844, 69.84143829345703, 52.040443420410156, 8.817476272583008, 41.67535400390625, 38.18476104736328, 18.2706298828125], [-1344.205078125, 234.70086669921875, -72.42889404296875, 142.79278564453125, 34.36305236816406, 50.02061462402344, -21.355243682861328, 50.469810485839844, 31.13153076171875, 52.41215515136719, 43.89302062988281, 24.152965545654297, 1.8852910995483398], [-1229.3067626953125, 81.13493347167969, -148.42660522460938, 132.7469482421875, 19.93075942993164, 92.7179183959961, -24.369312286376953, 60.66669464111328, 15.434642791748047, 58.215538024902344, 39.374996185302734, 18.01659393310547, -3.4350860118865967], [-1198.5491943359375, 8.428567886352539, -183.18862915039062, 103.76251220703125, 6.750552177429199, 78.76371765136719, -31.91216468811035, 47.861270904541016, -1.6051545143127441, 42.336883544921875, 26.254680633544922, 23.33804702758789, -6.762016296386719], [-1190.636474609375, 22.389301300048828, -170.73422241210938, 106.75518798828125, 0.3240344524383545, 65.45597839355469, -34.216983795166016, 35.934051513671875, -22.98017120361328, 27.82012367248535, 14.872231483459473, 19.079790115356445, -20.077777862548828], [-1205.249267578125, 41.124053955078125, -176.50045776367188, 115.31864929199219, -11.080595016479492, 65.69047546386719, -25.39600372314453, 28.661319732666016, -15.979629516601562, 15.649227142333984, 11.941400527954102, 24.792476654052734, -15.729819297790527], [-1280.296875, 60.816158294677734, -152.48020935058594, 107.89934539794922, -2.1447253227233887, 80.95621490478516, -3.6147427558898926, 23.63401985168457, -17.21059226989746, -6.71693229675293, -2.0096733570098877, 28.13098907470703, 1.1635730266571045], [-1433.1529541015625, 146.5750732421875, -85.93475341796875, 133.07516479492188, 12.925132751464844, 102.44168090820312, 42.792396545410156, 56.703025817871094, -12.419278144836426, -3.6564841270446777, -11.404792785644531, 45.186134338378906, 36.469520568847656], [-1592.81787109375, 219.2447052001953, 80.10247802734375, 95.35132598876953, 60.85993957519531, 57.654205322265625, 67.17015838623047, 51.19758605957031, 24.42287826538086, 5.779135704040527, 6.419221878051758, 23.4683837890625, 16.560575485229492]]\n"
          ]
        }
      ],
      "source": [
        "print(data['mfcc'][0])"
      ]
    },
    {
      "cell_type": "code",
      "execution_count": null,
      "metadata": {
        "colab": {
          "base_uri": "https://localhost:8080/"
        },
        "id": "p3dC21aLSYAM",
        "outputId": "7b2bbabe-678b-44cb-c6f0-1ed39ce58519"
      },
      "outputs": [
        {
          "name": "stdout",
          "output_type": "stream",
          "text": [
            "13\n"
          ]
        }
      ],
      "source": [
        "import json\n",
        "with open(\"/content/drive/MyDrive/FYP-Code/data_spect_mfcc.json\") as fp:\n",
        "    data = json.load(fp)\n",
        "    print(len(data['MFCCs'][0]))"
      ]
    },
    {
      "cell_type": "code",
      "execution_count": null,
      "metadata": {
        "colab": {
          "base_uri": "https://localhost:8080/"
        },
        "id": "qWDNFfMYA49J",
        "outputId": "223bf5cc-1ddf-4790-dda8-c4213ea1fbbe"
      },
      "outputs": [
        {
          "output_type": "stream",
          "name": "stdout",
          "text": [
            "Looking in indexes: https://pypi.org/simple, https://us-python.pkg.dev/colab-wheels/public/simple/\n",
            "Collecting librosa==0.9.1\n",
            "  Downloading librosa-0.9.1-py3-none-any.whl (213 kB)\n",
            "\u001b[2K     \u001b[90m━━━━━━━━━━━━━━━━━━━━━━━━━━━━━━━━━━━━━━━\u001b[0m \u001b[32m213.1/213.1 KB\u001b[0m \u001b[31m8.1 MB/s\u001b[0m eta \u001b[36m0:00:00\u001b[0m\n",
            "\u001b[?25hRequirement already satisfied: packaging>=20.0 in /usr/local/lib/python3.9/dist-packages (from librosa==0.9.1) (23.0)\n",
            "Requirement already satisfied: scipy>=1.2.0 in /usr/local/lib/python3.9/dist-packages (from librosa==0.9.1) (1.10.1)\n",
            "Requirement already satisfied: numba>=0.45.1 in /usr/local/lib/python3.9/dist-packages (from librosa==0.9.1) (0.56.4)\n",
            "Requirement already satisfied: joblib>=0.14 in /usr/local/lib/python3.9/dist-packages (from librosa==0.9.1) (1.1.1)\n",
            "Requirement already satisfied: scikit-learn>=0.19.1 in /usr/local/lib/python3.9/dist-packages (from librosa==0.9.1) (1.2.2)\n",
            "Requirement already satisfied: soundfile>=0.10.2 in /usr/local/lib/python3.9/dist-packages (from librosa==0.9.1) (0.12.1)\n",
            "Requirement already satisfied: pooch>=1.0 in /usr/local/lib/python3.9/dist-packages (from librosa==0.9.1) (1.6.0)\n",
            "Requirement already satisfied: decorator>=4.0.10 in /usr/local/lib/python3.9/dist-packages (from librosa==0.9.1) (4.4.2)\n",
            "Requirement already satisfied: numpy>=1.17.0 in /usr/local/lib/python3.9/dist-packages (from librosa==0.9.1) (1.22.4)\n",
            "Requirement already satisfied: audioread>=2.1.5 in /usr/local/lib/python3.9/dist-packages (from librosa==0.9.1) (3.0.0)\n",
            "Collecting resampy>=0.2.2\n",
            "  Downloading resampy-0.4.2-py3-none-any.whl (3.1 MB)\n",
            "\u001b[2K     \u001b[90m━━━━━━━━━━━━━━━━━━━━━━━━━━━━━━━━━━━━━━━━\u001b[0m \u001b[32m3.1/3.1 MB\u001b[0m \u001b[31m73.5 MB/s\u001b[0m eta \u001b[36m0:00:00\u001b[0m\n",
            "\u001b[?25hRequirement already satisfied: llvmlite<0.40,>=0.39.0dev0 in /usr/local/lib/python3.9/dist-packages (from numba>=0.45.1->librosa==0.9.1) (0.39.1)\n",
            "Requirement already satisfied: setuptools in /usr/local/lib/python3.9/dist-packages (from numba>=0.45.1->librosa==0.9.1) (67.6.1)\n",
            "Requirement already satisfied: appdirs>=1.3.0 in /usr/local/lib/python3.9/dist-packages (from pooch>=1.0->librosa==0.9.1) (1.4.4)\n",
            "Requirement already satisfied: requests>=2.19.0 in /usr/local/lib/python3.9/dist-packages (from pooch>=1.0->librosa==0.9.1) (2.27.1)\n",
            "Requirement already satisfied: threadpoolctl>=2.0.0 in /usr/local/lib/python3.9/dist-packages (from scikit-learn>=0.19.1->librosa==0.9.1) (3.1.0)\n",
            "Requirement already satisfied: cffi>=1.0 in /usr/local/lib/python3.9/dist-packages (from soundfile>=0.10.2->librosa==0.9.1) (1.15.1)\n",
            "Requirement already satisfied: pycparser in /usr/local/lib/python3.9/dist-packages (from cffi>=1.0->soundfile>=0.10.2->librosa==0.9.1) (2.21)\n",
            "Requirement already satisfied: idna<4,>=2.5 in /usr/local/lib/python3.9/dist-packages (from requests>=2.19.0->pooch>=1.0->librosa==0.9.1) (3.4)\n",
            "Requirement already satisfied: certifi>=2017.4.17 in /usr/local/lib/python3.9/dist-packages (from requests>=2.19.0->pooch>=1.0->librosa==0.9.1) (2022.12.7)\n",
            "Requirement already satisfied: urllib3<1.27,>=1.21.1 in /usr/local/lib/python3.9/dist-packages (from requests>=2.19.0->pooch>=1.0->librosa==0.9.1) (1.26.15)\n",
            "Requirement already satisfied: charset-normalizer~=2.0.0 in /usr/local/lib/python3.9/dist-packages (from requests>=2.19.0->pooch>=1.0->librosa==0.9.1) (2.0.12)\n",
            "Installing collected packages: resampy, librosa\n",
            "  Attempting uninstall: librosa\n",
            "    Found existing installation: librosa 0.10.0.post2\n",
            "    Uninstalling librosa-0.10.0.post2:\n",
            "      Successfully uninstalled librosa-0.10.0.post2\n",
            "Successfully installed librosa-0.9.1 resampy-0.4.2\n"
          ]
        }
      ],
      "source": [
        "!pip install librosa==0.9.1"
      ]
    },
    {
      "cell_type": "code",
      "execution_count": null,
      "metadata": {
        "id": "aXkKUYUxA-BL"
      },
      "outputs": [],
      "source": [
        "import librosa\n",
        "import numpy as np"
      ]
    },
    {
      "cell_type": "code",
      "execution_count": null,
      "metadata": {
        "colab": {
          "base_uri": "https://localhost:8080/"
        },
        "id": "CM2o0HJWSwwO",
        "outputId": "aef9011e-1c38-463d-b174-3c7080e840a1"
      },
      "outputs": [
        {
          "name": "stdout",
          "output_type": "stream",
          "text": [
            "[[-2013.4505615234375, 387.5789794921875, -45.34129333496094, 28.32706642150879, 100.4990463256836, 14.555423736572266, 51.982200622558594, 56.059661865234375, -39.0953254699707, -9.492719650268555, 43.04741287231445, -12.159852027893066, -31.889345169067383]]\n"
          ]
        }
      ],
      "source": [
        "def preprocess(file_path, num_mfcc=13, n_fft=2048, hop_length=512,num_segments=5):\n",
        "        mfcc_lst = []\n",
        "        # load audio file and slice it to ensure length consistency among different files\n",
        "        audio, sample_rate = librosa.load(file_path, res_type='kaiser_fast') \n",
        "\n",
        "        # Compute spectrogram\n",
        "        spec = librosa.stft(audio, n_fft=n_fft, hop_length=hop_length)\n",
        "\n",
        "        # Convert to power spectrogram\n",
        "        spec_power = librosa.power_to_db(np.abs(spec)**2, ref=np.max)\n",
        "\n",
        "        mfccs_features = librosa.feature.mfcc(S=spec_power, n_mfcc=13)\n",
        "        mfccs_scaled_features = np.mean(mfccs_features.T,axis=0)\n",
        "        mffccs = mfccs_scaled_features.tolist()\n",
        "        mfcc_lst.append(mffccs)\n",
        "        return mfcc_lst\n",
        "print(preprocess('/content/002.wav'))"
      ]
    },
    {
      "cell_type": "code",
      "execution_count": null,
      "metadata": {
        "id": "4uj-VsBXAqXy"
      },
      "outputs": [],
      "source": []
    }
  ],
  "metadata": {
    "accelerator": "GPU",
    "colab": {
      "provenance": [],
      "include_colab_link": true
    },
    "gpuClass": "standard",
    "kernelspec": {
      "display_name": "Python 3",
      "name": "python3"
    },
    "language_info": {
      "name": "python"
    }
  },
  "nbformat": 4,
  "nbformat_minor": 0
}