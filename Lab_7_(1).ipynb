{
  "cells": [
    {
      "cell_type": "markdown",
      "metadata": {
        "id": "view-in-github",
        "colab_type": "text"
      },
      "source": [
        "<a href=\"https://colab.research.google.com/github/Hani1-2/DeepLearningAssignmnt/blob/master/Lab_7_(1).ipynb\" target=\"_parent\"><img src=\"https://colab.research.google.com/assets/colab-badge.svg\" alt=\"Open In Colab\"/></a>"
      ]
    },
    {
      "cell_type": "markdown",
      "id": "b9a78ab4",
      "metadata": {
        "id": "b9a78ab4"
      },
      "source": [
        "## Example"
      ]
    },
    {
      "cell_type": "code",
      "execution_count": null,
      "id": "a193738f",
      "metadata": {
        "id": "a193738f",
        "outputId": "a1253695-0ba8-4aa9-c2ba-752e81d6cf41"
      },
      "outputs": [
        {
          "data": {
            "text/plain": [
              "dict_keys(['data', 'target', 'frame', 'categories', 'feature_names', 'target_names', 'DESCR', 'details', 'url'])"
            ]
          },
          "execution_count": 88,
          "metadata": {},
          "output_type": "execute_result"
        }
      ],
      "source": [
        "from sklearn.datasets import fetch_openml\n",
        "mnist = fetch_openml('mnist_784',version=1)\n",
        "mnist.keys()"
      ]
    },
    {
      "cell_type": "code",
      "execution_count": null,
      "id": "611bb407",
      "metadata": {
        "id": "611bb407",
        "outputId": "377e66d1-53ad-4e62-d6a7-04909a466917"
      },
      "outputs": [
        {
          "data": {
            "text/plain": [
              "(70000, 784)"
            ]
          },
          "execution_count": 89,
          "metadata": {},
          "output_type": "execute_result"
        }
      ],
      "source": [
        "X,y = mnist[\"data\"],mnist[\"target\"]\n",
        "X.shape"
      ]
    },
    {
      "cell_type": "code",
      "execution_count": null,
      "id": "69d97a9f",
      "metadata": {
        "id": "69d97a9f",
        "outputId": "caea44b3-a27d-4b62-ec85-2034709dd53f"
      },
      "outputs": [
        {
          "data": {
            "text/plain": [
              "pixel1      0.0\n",
              "pixel2      0.0\n",
              "pixel3      0.0\n",
              "pixel4      0.0\n",
              "pixel5      0.0\n",
              "           ... \n",
              "pixel780    0.0\n",
              "pixel781    0.0\n",
              "pixel782    0.0\n",
              "pixel783    0.0\n",
              "pixel784    0.0\n",
              "Name: 0, Length: 784, dtype: float64"
            ]
          },
          "execution_count": 90,
          "metadata": {},
          "output_type": "execute_result"
        }
      ],
      "source": [
        "y.shape\n",
        "X.iloc[0]"
      ]
    },
    {
      "cell_type": "code",
      "execution_count": null,
      "id": "5f442cad",
      "metadata": {
        "id": "5f442cad",
        "outputId": "3010694f-8d47-41a3-bb72-8834e84bb34d"
      },
      "outputs": [
        {
          "data": {
            "image/png": "[encoded data removed]",
            "text/plain": [
              "<Figure size 432x288 with 1 Axes>"
            ]
          },
          "metadata": {
            "needs_background": "light"
          },
          "output_type": "display_data"
        }
      ],
      "source": [
        "import matplotlib as mpl\n",
        "import matplotlib.pyplot as plt\n",
        "some_digit = X.iloc[0]\n",
        "some_digit_image = some_digit.values.reshape(28,28)\n",
        "plt.imshow(some_digit_image,cmap = mpl.cm.binary, interpolation=\"nearest\")\n",
        "plt.axis(\"off\")\n",
        "plt.show()"
      ]
    },
    {
      "cell_type": "code",
      "execution_count": null,
      "id": "95269b47",
      "metadata": {
        "id": "95269b47",
        "outputId": "1ca547cb-b78b-45c3-81a6-5ccf7023455b"
      },
      "outputs": [
        {
          "data": {
            "text/plain": [
              "'5'"
            ]
          },
          "execution_count": 92,
          "metadata": {},
          "output_type": "execute_result"
        }
      ],
      "source": [
        "y[0]"
      ]
    },
    {
      "cell_type": "code",
      "execution_count": null,
      "id": "7bfe0935",
      "metadata": {
        "id": "7bfe0935"
      },
      "outputs": [],
      "source": [
        "X_train,X_test,y_train,y_test=X[:60000],X[60000:],y[:60000],y[60000:]"
      ]
    },
    {
      "cell_type": "code",
      "execution_count": null,
      "id": "7eb98a43",
      "metadata": {
        "id": "7eb98a43"
      },
      "outputs": [],
      "source": [
        "import numpy as np\n",
        "from sklearn.neighbors import KNeighborsClassifier"
      ]
    },
    {
      "cell_type": "code",
      "execution_count": null,
      "id": "646da251",
      "metadata": {
        "id": "646da251",
        "outputId": "438d8b8d-7f80-40d0-8b58-97574552d136"
      },
      "outputs": [
        {
          "data": {
            "text/plain": [
              "0        False\n",
              "1        False\n",
              "2        False\n",
              "3        False\n",
              "4         True\n",
              "         ...  \n",
              "59995     True\n",
              "59996    False\n",
              "59997    False\n",
              "59998    False\n",
              "59999     True\n",
              "Name: class, Length: 60000, dtype: bool"
            ]
          },
          "execution_count": 95,
          "metadata": {},
          "output_type": "execute_result"
        }
      ],
      "source": [
        "y_train.astype('float')>=7"
      ]
    },
    {
      "cell_type": "code",
      "execution_count": null,
      "id": "a9005e9b",
      "metadata": {
        "id": "a9005e9b",
        "outputId": "bff407ea-c178-4dfb-9289-be7886331e0e"
      },
      "outputs": [
        {
          "data": {
            "text/plain": [
              "KNeighborsClassifier()"
            ]
          },
          "execution_count": 96,
          "metadata": {},
          "output_type": "execute_result"
        }
      ],
      "source": [
        "y_train_large=(y_train.astype('float')>=7)\n",
        "y_train_odd=(y_train.astype('float')%2 == 1)\n",
        "y_multilabel = np.c_[y_train_large,y_train_odd]\n",
        "knn_clf = KNeighborsClassifier()\n",
        "knn_clf.fit(X_train,y_multilabel)"
      ]
    },
    {
      "cell_type": "code",
      "execution_count": null,
      "id": "04f5beae",
      "metadata": {
        "id": "04f5beae",
        "outputId": "0f6a98db-abe7-4d33-8824-cfe7f7d85ce7"
      },
      "outputs": [
        {
          "data": {
            "text/plain": [
              "dtype('bool')"
            ]
          },
          "execution_count": 97,
          "metadata": {},
          "output_type": "execute_result"
        }
      ],
      "source": [
        "y_multilabel.dtype"
      ]
    },
    {
      "cell_type": "code",
      "execution_count": null,
      "id": "50c5b02e",
      "metadata": {
        "id": "50c5b02e",
        "outputId": "72cf0c57-a08c-4364-c4e2-8a56a216beb7"
      },
      "outputs": [
        {
          "data": {
            "text/plain": [
              "array([[False,  True]])"
            ]
          },
          "execution_count": 98,
          "metadata": {},
          "output_type": "execute_result"
        }
      ],
      "source": [
        "knn_clf.predict([some_digit])"
      ]
    },
    {
      "cell_type": "code",
      "execution_count": null,
      "id": "51aed366",
      "metadata": {
        "id": "51aed366",
        "outputId": "ad7ab061-17bd-4913-86f8-2c98a00f4dce"
      },
      "outputs": [
        {
          "data": {
            "text/plain": [
              "0.9778357403921755"
            ]
          },
          "execution_count": 99,
          "metadata": {},
          "output_type": "execute_result"
        }
      ],
      "source": [
        "from sklearn.model_selection import cross_val_predict\n",
        "from sklearn.metrics import f1_score\n",
        "y_train_knn_pred = cross_val_predict(knn_clf, X_train, y_multilabel, cv=3)\n",
        "f1_score(y_multilabel, y_train_knn_pred , average=\"weighted\")"
      ]
    },
    {
      "cell_type": "code",
      "execution_count": null,
      "id": "84a22d01",
      "metadata": {
        "id": "84a22d01"
      },
      "outputs": [],
      "source": [
        "noise = np.random.randint(0,100,(len(X_train),784))\n",
        "X_train_mod = X_train + noise\n",
        "noise = np.random.randint(0,100,(len(X_test),784))\n",
        "X_test_mod = X_test + noise\n",
        "y_train_mod = X_train\n",
        "y_test_mod = X_test"
      ]
    },
    {
      "cell_type": "code",
      "execution_count": null,
      "id": "02885d34",
      "metadata": {
        "id": "02885d34",
        "outputId": "37be1a77-826c-4902-da66-30232eb6348d"
      },
      "outputs": [
        {
          "data": {
            "image/png": "[encoded data removed]",
            "text/plain": [
              "<Figure size 432x288 with 2 Axes>"
            ]
          },
          "metadata": {
            "needs_background": "light"
          },
          "output_type": "display_data"
        }
      ],
      "source": [
        "def plot_digit(data):\n",
        "    image=data.reshape(28,28)\n",
        "    plt.imshow(image,cmap=mpl.cm.binary,interpolation=\"nearest\")\n",
        "    plt.axis(\"off\")\n",
        "some_index = 4\n",
        "plt.subplot(121);plot_digit(X_test_mod.iloc[some_index].values)\n",
        "plt.subplot(122);plot_digit(y_test_mod.iloc[some_index].values)\n",
        "plt.show()"
      ]
    },
    {
      "cell_type": "code",
      "execution_count": null,
      "id": "09da6f2d",
      "metadata": {
        "id": "09da6f2d",
        "outputId": "62974df5-853b-41b7-d9c6-730453c94c3f"
      },
      "outputs": [
        {
          "data": {
            "image/png": "[encoded data removed]",
            "text/plain": [
              "<Figure size 432x288 with 1 Axes>"
            ]
          },
          "metadata": {
            "needs_background": "light"
          },
          "output_type": "display_data"
        }
      ],
      "source": [
        "knn_clf.fit(X_train_mod,y_train_mod)\n",
        "clean_digit =knn_clf.predict([X_test_mod.iloc[some_index]])\n",
        "plot_digit(clean_digit)\n",
        "plt.show()"
      ]
    },
    {
      "cell_type": "markdown",
      "id": "0a7b084f",
      "metadata": {
        "id": "0a7b084f"
      },
      "source": [
        "## QUESTION 2"
      ]
    },
    {
      "cell_type": "code",
      "execution_count": null,
      "id": "70a1ec40",
      "metadata": {
        "id": "70a1ec40"
      },
      "outputs": [],
      "source": [
        "X_train,X_test,y_train,y_test=X[:60000],X[60000:],y[:60000],y[60000:]"
      ]
    },
    {
      "cell_type": "code",
      "execution_count": null,
      "id": "05cf1aef",
      "metadata": {
        "id": "05cf1aef"
      },
      "outputs": [],
      "source": [
        "def isprime(num):\n",
        "    if num <=1:\n",
        "        return False\n",
        "    flag = True\n",
        "\n",
        "    # prime numbers are greater than 1\n",
        "    if num >(1):\n",
        "    # check for factors\n",
        "        for i in range(2, num):\n",
        "            if (num % i) == 0:\n",
        "                # if factor is found, set flag to True\n",
        "                flag = False\n",
        "                break\n",
        "        return flag\n",
        "    "
      ]
    },
    {
      "cell_type": "code",
      "execution_count": null,
      "id": "d86a24ae",
      "metadata": {
        "id": "d86a24ae",
        "outputId": "3527a470-2f8a-4a3b-a3f9-7dae2d49d92c"
      },
      "outputs": [
        {
          "data": {
            "text/plain": [
              "0         True\n",
              "1        False\n",
              "2        False\n",
              "3        False\n",
              "4        False\n",
              "         ...  \n",
              "59995    False\n",
              "59996     True\n",
              "59997     True\n",
              "59998    False\n",
              "59999    False\n",
              "Name: class, Length: 60000, dtype: bool"
            ]
          },
          "execution_count": 105,
          "metadata": {},
          "output_type": "execute_result"
        }
      ],
      "source": [
        "#print(isprime(3))\n",
        "y_train.astype('int').apply(isprime)"
      ]
    },
    {
      "cell_type": "code",
      "execution_count": null,
      "id": "40933270",
      "metadata": {
        "id": "40933270",
        "outputId": "29fc239e-08b0-4f37-9284-2741a5b9909c"
      },
      "outputs": [
        {
          "data": {
            "text/plain": [
              "KNeighborsClassifier()"
            ]
          },
          "execution_count": 106,
          "metadata": {},
          "output_type": "execute_result"
        }
      ],
      "source": [
        "y_train_large=(y_train.astype('float')<5)\n",
        "y_train_odd=(y_train.astype('float')%2 == 0)\n",
        "y_train_isprime=(y_train.astype('int').apply(isprime))\n",
        "y_multilabel = np.c_[y_train_large,y_train_odd,y_train_isprime]\n",
        "knn_clf = KNeighborsClassifier()\n",
        "knn_clf.fit(X_train,y_multilabel)"
      ]
    },
    {
      "cell_type": "code",
      "execution_count": null,
      "id": "5920d6df",
      "metadata": {
        "id": "5920d6df"
      },
      "outputs": [],
      "source": [
        "y_test_large=(y_test.astype('float')<5)\n",
        "y_test_odd=(y_test.astype('float')%2 == 0)\n",
        "y_test_isprime=(y_test.astype('int').apply(isprime))\n",
        "y_multilabel_test = np.c_[y_test_large,y_test_odd,y_test_isprime]"
      ]
    },
    {
      "cell_type": "code",
      "execution_count": null,
      "id": "623f798b",
      "metadata": {
        "id": "623f798b"
      },
      "outputs": [],
      "source": [
        "y_pred=knn_clf.predict(X_test)"
      ]
    },
    {
      "cell_type": "code",
      "execution_count": null,
      "id": "3041b79e",
      "metadata": {
        "id": "3041b79e",
        "outputId": "deebdd09-31d3-4b12-8ef8-d5d5ea41972f"
      },
      "outputs": [
        {
          "data": {
            "text/plain": [
              "(60000, 3)"
            ]
          },
          "execution_count": 109,
          "metadata": {},
          "output_type": "execute_result"
        }
      ],
      "source": [
        "y_multilabel.shape"
      ]
    },
    {
      "cell_type": "code",
      "execution_count": null,
      "id": "af709dbf",
      "metadata": {
        "id": "af709dbf",
        "outputId": "fb1382cc-2cc8-4ab8-c2b3-b823d2389e2f"
      },
      "outputs": [
        {
          "data": {
            "text/plain": [
              "(60000, 784)"
            ]
          },
          "execution_count": 110,
          "metadata": {},
          "output_type": "execute_result"
        }
      ],
      "source": [
        "X_train.shape"
      ]
    },
    {
      "cell_type": "code",
      "execution_count": null,
      "id": "6c33a57e",
      "metadata": {
        "id": "6c33a57e",
        "outputId": "c6bb2852-33e2-42b6-aae9-d33b32f0d59b"
      },
      "outputs": [
        {
          "name": "stdout",
          "output_type": "stream",
          "text": [
            "F1 SCORE:  0.963325918514963\n"
          ]
        }
      ],
      "source": [
        "from sklearn.model_selection import cross_val_predict\n",
        "from sklearn.metrics import f1_score\n",
        "y_train_knn_pred = cross_val_predict(knn_clf, X_test, y_multilabel_test, cv=3)\n",
        "print(\"F1 SCORE: \",f1_score(y_multilabel_test, y_train_knn_pred , average=\"macro\"))"
      ]
    },
    {
      "cell_type": "code",
      "execution_count": null,
      "id": "291ec4a2",
      "metadata": {
        "id": "291ec4a2",
        "outputId": "74b1b9ab-28d2-4d72-f9ee-9c443ba460ee"
      },
      "outputs": [
        {
          "name": "stdout",
          "output_type": "stream",
          "text": [
            "ACCURACY:  0.9697\n"
          ]
        }
      ],
      "source": [
        "from sklearn.metrics import accuracy_score\n",
        "print(\"ACCURACY: \",accuracy_score(y_multilabel_test, y_pred))"
      ]
    },
    {
      "cell_type": "markdown",
      "id": "cc031b3d",
      "metadata": {
        "id": "cc031b3d"
      },
      "source": [
        "## QUESTION 3"
      ]
    },
    {
      "cell_type": "code",
      "execution_count": null,
      "id": "70a8017f",
      "metadata": {
        "id": "70a8017f"
      },
      "outputs": [],
      "source": [
        "from skimage.util import random_noise\n",
        "def addnoise(value):\n",
        "    return (random_noise(value,mode='gaussian'))\n",
        "noise_img =X_train.apply(addnoise)"
      ]
    },
    {
      "cell_type": "code",
      "execution_count": null,
      "id": "3f66bd42",
      "metadata": {
        "id": "3f66bd42"
      },
      "outputs": [],
      "source": [
        "noise_image_test=X_test.apply(addnoise)"
      ]
    },
    {
      "cell_type": "code",
      "execution_count": null,
      "id": "7bb9af22",
      "metadata": {
        "id": "7bb9af22"
      },
      "outputs": [],
      "source": [
        "y_train_mod = X_train\n",
        "y_test_mod = X_test"
      ]
    },
    {
      "cell_type": "code",
      "execution_count": null,
      "id": "28dfe827",
      "metadata": {
        "id": "28dfe827",
        "outputId": "db4eb697-ca9f-450b-cd96-6baa48c2d156"
      },
      "outputs": [
        {
          "data": {
            "text/plain": [
              "(60000, 784)"
            ]
          },
          "execution_count": 116,
          "metadata": {},
          "output_type": "execute_result"
        }
      ],
      "source": [
        "y_train_mod.shape"
      ]
    },
    {
      "cell_type": "code",
      "execution_count": null,
      "id": "b9da7d12",
      "metadata": {
        "id": "b9da7d12",
        "outputId": "584b62ef-2a97-4c88-aebb-ffe03828572f"
      },
      "outputs": [
        {
          "data": {
            "image/png": "[encoded data removed]",
            "text/plain": [
              "<Figure size 432x288 with 2 Axes>"
            ]
          },
          "metadata": {
            "needs_background": "light"
          },
          "output_type": "display_data"
        }
      ],
      "source": [
        "def plot_digit(data):\n",
        "    image=data.reshape(28,28)\n",
        "    plt.imshow(image,cmap=mpl.cm.binary,interpolation=\"nearest\")\n",
        "    plt.axis(\"off\")\n",
        "some_index = 4\n",
        "plt.subplot(121);plot_digit(noise_image_test.iloc[some_index].values)\n",
        "plt.subplot(122);plot_digit(y_test_mod.iloc[some_index].values)\n",
        "plt.show()"
      ]
    },
    {
      "cell_type": "code",
      "execution_count": null,
      "id": "02be4202",
      "metadata": {
        "id": "02be4202",
        "outputId": "eadf9639-b1f1-4bcc-be76-d5a65412ba70"
      },
      "outputs": [
        {
          "data": {
            "image/png": "[encoded data removed]",
            "text/plain": [
              "<Figure size 432x288 with 1 Axes>"
            ]
          },
          "metadata": {
            "needs_background": "light"
          },
          "output_type": "display_data"
        }
      ],
      "source": [
        "knn_clf.fit(noise_img,y_train_mod)\n",
        "clean_digit =knn_clf.predict(noise_image_test)\n",
        "plot_digit(clean_digit[0])\n",
        "plt.show()"
      ]
    },
    {
      "cell_type": "markdown",
      "id": "aa8b5145",
      "metadata": {
        "id": "aa8b5145"
      },
      "source": [
        "## QUESTION 4"
      ]
    },
    {
      "cell_type": "code",
      "execution_count": null,
      "id": "279d475c",
      "metadata": {
        "id": "279d475c",
        "outputId": "c9c2ac3a-ec9a-4cf3-be97-0db22a2091f8"
      },
      "outputs": [
        {
          "data": {
            "text/plain": [
              "dict_keys(['data', 'target', 'frame', 'categories', 'feature_names', 'target_names', 'DESCR', 'details', 'url'])"
            ]
          },
          "execution_count": 119,
          "metadata": {},
          "output_type": "execute_result"
        }
      ],
      "source": [
        "letter = fetch_openml('letter',version=1)\n",
        "letter.keys()"
      ]
    },
    {
      "cell_type": "code",
      "execution_count": null,
      "id": "be6c047c",
      "metadata": {
        "id": "be6c047c",
        "outputId": "bdc2f46c-fc2f-441e-aa2d-3ab498e31638"
      },
      "outputs": [
        {
          "name": "stdout",
          "output_type": "stream",
          "text": [
            "(20000, 16)\n",
            "(20000,)\n"
          ]
        }
      ],
      "source": [
        "X,y = letter[\"data\"],letter[\"target\"]\n",
        "print(X.shape)\n",
        "print(y.shape)"
      ]
    },
    {
      "cell_type": "code",
      "execution_count": null,
      "id": "3c0fd707",
      "metadata": {
        "id": "3c0fd707",
        "outputId": "631fedb0-c6c2-45c7-9247-d85bc29e951c"
      },
      "outputs": [
        {
          "data": {
            "text/plain": [
              "x-box     2.0\n",
              "y-box     4.0\n",
              "width     4.0\n",
              "high      3.0\n",
              "onpix     2.0\n",
              "x-bar     7.0\n",
              "y-bar     8.0\n",
              "x2bar     2.0\n",
              "y2bar     9.0\n",
              "xybar    11.0\n",
              "x2ybr     7.0\n",
              "xy2br     7.0\n",
              "x-ege     1.0\n",
              "xegvy     8.0\n",
              "y-ege     5.0\n",
              "yegvx     6.0\n",
              "Name: 0, dtype: float64"
            ]
          },
          "execution_count": 122,
          "metadata": {},
          "output_type": "execute_result"
        }
      ],
      "source": [
        "X.iloc[0]"
      ]
    },
    {
      "cell_type": "code",
      "execution_count": null,
      "id": "84f599cf",
      "metadata": {
        "id": "84f599cf",
        "outputId": "ac46b9bf-3711-461e-d114-cdc982173ab5"
      },
      "outputs": [
        {
          "data": {
            "text/plain": [
              "'Z'"
            ]
          },
          "execution_count": 123,
          "metadata": {},
          "output_type": "execute_result"
        }
      ],
      "source": [
        "y.iloc[0]"
      ]
    },
    {
      "cell_type": "code",
      "execution_count": null,
      "id": "d050134d",
      "metadata": {
        "id": "d050134d",
        "outputId": "ebbb0011-7b0a-45f9-b524-1d182360a8ab"
      },
      "outputs": [
        {
          "data": {
            "image/png": "[encoded data removed]",
            "text/plain": [
              "<Figure size 432x288 with 1 Axes>"
            ]
          },
          "metadata": {
            "needs_background": "light"
          },
          "output_type": "display_data"
        }
      ],
      "source": [
        "import matplotlib as mpl\n",
        "import matplotlib.pyplot as plt\n",
        "some_letter = X.iloc[0]\n",
        "some_letter_image = some_letter.values.reshape(4,4)\n",
        "plt.imshow(some_letter_image,cmap = mpl.cm.binary, interpolation=\"nearest\", aspect= 'auto')\n",
        "plt.axis(\"off\")\n",
        "plt.show()"
      ]
    },
    {
      "cell_type": "code",
      "execution_count": null,
      "id": "28a51a3a",
      "metadata": {
        "scrolled": true,
        "id": "28a51a3a",
        "outputId": "85a18aee-553d-4ed2-b10d-bbe6b8115519"
      },
      "outputs": [
        {
          "data": {
            "text/plain": [
              "['Z', 'P', 'S', 'H', 'F', ..., 'T', 'C', 'G', 'B', 'J']\n",
              "Length: 26\n",
              "Categories (26, object): ['A', 'B', 'C', 'D', ..., 'W', 'X', 'Y', 'Z']"
            ]
          },
          "execution_count": 125,
          "metadata": {},
          "output_type": "execute_result"
        }
      ],
      "source": [
        "y.unique()"
      ]
    },
    {
      "cell_type": "code",
      "execution_count": null,
      "id": "34242ae1",
      "metadata": {
        "id": "34242ae1"
      },
      "outputs": [],
      "source": [
        "def smallAH(value):\n",
        "    if (value>='A') and (value<='H'):\n",
        "        return True\n",
        "    else:\n",
        "        return False\n",
        "def isvowel(value):\n",
        "    vowel=[\"A\",\"E\",\"I\",\"O\",\"U\"]\n",
        "    if value in vowel:\n",
        "        return True\n",
        "    else:\n",
        "        return False"
      ]
    },
    {
      "cell_type": "code",
      "execution_count": null,
      "id": "f8303a35",
      "metadata": {
        "id": "f8303a35"
      },
      "outputs": [],
      "source": [
        "from sklearn.model_selection import train_test_split\n",
        "X_train, X_test, y_train, y_test = train_test_split(X, y, test_size = 0.2, random_state =42)"
      ]
    },
    {
      "cell_type": "code",
      "execution_count": null,
      "id": "d782e27b",
      "metadata": {
        "id": "d782e27b"
      },
      "outputs": [],
      "source": [
        "y_train_AH=y_train.apply(smallAH)\n",
        "y_test_AH=y_test.apply(smallAH)\n",
        "y_train_vowel=y_train.apply(isvowel)\n",
        "y_test_vowel=y_test.apply(isvowel)\n",
        "y_multilabel = np.c_[y_train_AH,y_train_vowel]\n",
        "y_multilabel_test = np.c_[y_test_AH,y_test_vowel]"
      ]
    },
    {
      "cell_type": "code",
      "execution_count": null,
      "id": "9342d35f",
      "metadata": {
        "id": "9342d35f",
        "outputId": "67f4e92a-fb7d-427c-ad8c-98273a3eec2a"
      },
      "outputs": [
        {
          "data": {
            "text/plain": [
              "5894     H\n",
              "3728     V\n",
              "8958     D\n",
              "7671     H\n",
              "5999     F\n",
              "        ..\n",
              "11284    W\n",
              "11964    R\n",
              "5390     X\n",
              "860      I\n",
              "15795    I\n",
              "Name: class, Length: 16000, dtype: category\n",
              "Categories (26, object): ['A', 'B', 'C', 'D', ..., 'W', 'X', 'Y', 'Z']"
            ]
          },
          "execution_count": 130,
          "metadata": {},
          "output_type": "execute_result"
        }
      ],
      "source": [
        "y_train"
      ]
    },
    {
      "cell_type": "code",
      "execution_count": null,
      "id": "b23ec5e4",
      "metadata": {
        "id": "b23ec5e4",
        "outputId": "20ca8b7d-eed7-47e7-9235-0673b7c48fca"
      },
      "outputs": [
        {
          "data": {
            "text/plain": [
              "5894      True\n",
              "3728     False\n",
              "8958      True\n",
              "7671      True\n",
              "5999      True\n",
              "         ...  \n",
              "11284    False\n",
              "11964    False\n",
              "5390     False\n",
              "860      False\n",
              "15795    False\n",
              "Name: class, Length: 16000, dtype: object"
            ]
          },
          "execution_count": 131,
          "metadata": {},
          "output_type": "execute_result"
        }
      ],
      "source": [
        "y_train_AH"
      ]
    },
    {
      "cell_type": "code",
      "execution_count": null,
      "id": "2047023f",
      "metadata": {
        "id": "2047023f"
      },
      "outputs": [],
      "source": [
        "y_multilabel=y_multilabel.astype('bool')\n",
        "y_multilabel_test =y_multilabel_test.astype('bool')"
      ]
    },
    {
      "cell_type": "code",
      "execution_count": null,
      "id": "d6caa4e2",
      "metadata": {
        "id": "d6caa4e2",
        "outputId": "3f6444ab-694d-4556-e46b-51b1de22eabe"
      },
      "outputs": [
        {
          "data": {
            "text/plain": [
              "KNeighborsClassifier()"
            ]
          },
          "execution_count": 133,
          "metadata": {},
          "output_type": "execute_result"
        }
      ],
      "source": [
        "knn_clf = KNeighborsClassifier()\n",
        "knn_clf.fit(X_train,y_multilabel)"
      ]
    },
    {
      "cell_type": "code",
      "execution_count": null,
      "id": "d3e16296",
      "metadata": {
        "id": "d3e16296",
        "outputId": "d0428664-0f1e-4b27-90b5-2d9617f6513b"
      },
      "outputs": [
        {
          "data": {
            "text/plain": [
              "array([[False, False]])"
            ]
          },
          "execution_count": 134,
          "metadata": {},
          "output_type": "execute_result"
        }
      ],
      "source": [
        "knn_clf.predict([some_letter])"
      ]
    },
    {
      "cell_type": "code",
      "execution_count": null,
      "id": "b2a70534",
      "metadata": {
        "id": "b2a70534"
      },
      "outputs": [],
      "source": [
        "y_pred=knn_clf.predict(X_test)"
      ]
    },
    {
      "cell_type": "code",
      "execution_count": null,
      "id": "a8859d03",
      "metadata": {
        "id": "a8859d03",
        "outputId": "253e2091-a10b-4adc-d61a-25e966953712"
      },
      "outputs": [
        {
          "data": {
            "text/plain": [
              "array([[False, False],\n",
              "       [False,  True],\n",
              "       [False,  True],\n",
              "       ...,\n",
              "       [ True, False],\n",
              "       [False, False],\n",
              "       [False, False]])"
            ]
          },
          "execution_count": 136,
          "metadata": {},
          "output_type": "execute_result"
        }
      ],
      "source": [
        "y_pred"
      ]
    },
    {
      "cell_type": "code",
      "execution_count": null,
      "id": "7defd20f",
      "metadata": {
        "id": "7defd20f",
        "outputId": "6790ba6c-4101-46be-f941-87552a7a1fcb"
      },
      "outputs": [
        {
          "name": "stdout",
          "output_type": "stream",
          "text": [
            "F1 SCORE:  0.9602820202257784\n"
          ]
        }
      ],
      "source": [
        "from sklearn.metrics import f1_score\n",
        "print(\"F1 SCORE: \",f1_score(y_multilabel_test, y_pred, average='weighted', zero_division=True))"
      ]
    },
    {
      "cell_type": "code",
      "execution_count": null,
      "id": "9455b599",
      "metadata": {
        "id": "9455b599",
        "outputId": "e5855c03-c2c0-4201-9fd3-8b2939682e67"
      },
      "outputs": [
        {
          "name": "stdout",
          "output_type": "stream",
          "text": [
            "ACCURACY:  0.966\n"
          ]
        }
      ],
      "source": [
        "from sklearn.metrics import accuracy_score\n",
        "print(\"ACCURACY: \",accuracy_score(y_multilabel_test, y_pred))"
      ]
    },
    {
      "cell_type": "code",
      "execution_count": null,
      "id": "ccc5cbef",
      "metadata": {
        "id": "ccc5cbef"
      },
      "outputs": [],
      "source": [
        ""
      ]
    }
  ],
  "metadata": {
    "kernelspec": {
      "display_name": "Python 3 (ipykernel)",
      "language": "python",
      "name": "python3"
    },
    "language_info": {
      "codemirror_mode": {
        "name": "ipython",
        "version": 3
      },
      "file_extension": ".py",
      "mimetype": "text/x-python",
      "name": "python",
      "nbconvert_exporter": "python",
      "pygments_lexer": "ipython3",
      "version": "3.9.7"
    },
    "colab": {
      "name": "Lab 7 (1).ipynb",
      "provenance": [],
      "include_colab_link": true
    }
  },
  "nbformat": 4,
  "nbformat_minor": 5
}